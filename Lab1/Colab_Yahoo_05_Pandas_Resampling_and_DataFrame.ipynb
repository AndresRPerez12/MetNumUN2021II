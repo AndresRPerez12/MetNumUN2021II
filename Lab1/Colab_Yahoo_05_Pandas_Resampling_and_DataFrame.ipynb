{
  "nbformat": 4,
  "nbformat_minor": 0,
  "metadata": {
    "kernelspec": {
      "display_name": "Python 3",
      "language": "python",
      "name": "python3"
    },
    "language_info": {
      "codemirror_mode": {
        "name": "ipython",
        "version": 3
      },
      "file_extension": ".py",
      "mimetype": "text/x-python",
      "name": "python",
      "nbconvert_exporter": "python",
      "pygments_lexer": "ipython3",
      "version": "3.6.4"
    },
    "colab": {
      "name": "Colab_Yahoo_05_Pandas_Resampling_and_DataFrame.ipynb",
      "provenance": [],
      "collapsed_sections": []
    }
  },
  "cells": [
    {
      "cell_type": "markdown",
      "metadata": {
        "id": "OtjOpw6oJp6z"
      },
      "source": [
        "# Introduction\n",
        "In the last chapter we had a glimpse of Pandas. In this chapter we will learn about resampling methods and the DataFrame object, which is a powerful tool for financial data analysis.\n",
        "\n",
        "# Fetching Data\n",
        "Here we use the Yahoo Finance to retrieve data.\n"
      ]
    },
    {
      "cell_type": "code",
      "metadata": {
        "id": "luU8mZTsHW9x",
        "colab": {
          "base_uri": "https://localhost:8080/"
        },
        "outputId": "b472f67d-e421-42f8-f4dc-a174bfdcc4dc"
      },
      "source": [
        "!pip install yfinance"
      ],
      "execution_count": 1,
      "outputs": [
        {
          "output_type": "stream",
          "name": "stdout",
          "text": [
            "Collecting yfinance\n",
            "  Downloading yfinance-0.1.63.tar.gz (26 kB)\n",
            "Requirement already satisfied: pandas>=0.24 in /usr/local/lib/python3.7/dist-packages (from yfinance) (1.1.5)\n",
            "Requirement already satisfied: numpy>=1.15 in /usr/local/lib/python3.7/dist-packages (from yfinance) (1.19.5)\n",
            "Requirement already satisfied: requests>=2.20 in /usr/local/lib/python3.7/dist-packages (from yfinance) (2.23.0)\n",
            "Requirement already satisfied: multitasking>=0.0.7 in /usr/local/lib/python3.7/dist-packages (from yfinance) (0.0.9)\n",
            "Collecting lxml>=4.5.1\n",
            "  Downloading lxml-4.6.3-cp37-cp37m-manylinux2014_x86_64.whl (6.3 MB)\n",
            "\u001b[K     |████████████████████████████████| 6.3 MB 6.5 MB/s \n",
            "\u001b[?25hRequirement already satisfied: python-dateutil>=2.7.3 in /usr/local/lib/python3.7/dist-packages (from pandas>=0.24->yfinance) (2.8.2)\n",
            "Requirement already satisfied: pytz>=2017.2 in /usr/local/lib/python3.7/dist-packages (from pandas>=0.24->yfinance) (2018.9)\n",
            "Requirement already satisfied: six>=1.5 in /usr/local/lib/python3.7/dist-packages (from python-dateutil>=2.7.3->pandas>=0.24->yfinance) (1.15.0)\n",
            "Requirement already satisfied: certifi>=2017.4.17 in /usr/local/lib/python3.7/dist-packages (from requests>=2.20->yfinance) (2021.5.30)\n",
            "Requirement already satisfied: idna<3,>=2.5 in /usr/local/lib/python3.7/dist-packages (from requests>=2.20->yfinance) (2.10)\n",
            "Requirement already satisfied: urllib3!=1.25.0,!=1.25.1,<1.26,>=1.21.1 in /usr/local/lib/python3.7/dist-packages (from requests>=2.20->yfinance) (1.24.3)\n",
            "Requirement already satisfied: chardet<4,>=3.0.2 in /usr/local/lib/python3.7/dist-packages (from requests>=2.20->yfinance) (3.0.4)\n",
            "Building wheels for collected packages: yfinance\n",
            "  Building wheel for yfinance (setup.py) ... \u001b[?25l\u001b[?25hdone\n",
            "  Created wheel for yfinance: filename=yfinance-0.1.63-py2.py3-none-any.whl size=23918 sha256=92c203d84d2b834c8a4642f1ff3039ab56585b779cc353caaa022f40202355d5\n",
            "  Stored in directory: /root/.cache/pip/wheels/fe/87/8b/7ec24486e001d3926537f5f7801f57a74d181be25b11157983\n",
            "Successfully built yfinance\n",
            "Installing collected packages: lxml, yfinance\n",
            "  Attempting uninstall: lxml\n",
            "    Found existing installation: lxml 4.2.6\n",
            "    Uninstalling lxml-4.2.6:\n",
            "      Successfully uninstalled lxml-4.2.6\n",
            "Successfully installed lxml-4.6.3 yfinance-0.1.63\n"
          ]
        }
      ]
    },
    {
      "cell_type": "code",
      "metadata": {
        "colab": {
          "base_uri": "https://localhost:8080/",
          "height": 484
        },
        "id": "mWZ-nirTZHrE",
        "outputId": "38da6ac8-f2b4-44eb-8c1e-f89791508ac5"
      },
      "source": [
        "import yfinance as yf\n",
        "\n",
        "aapl = yf.Ticker(\"AAPL\")\n",
        "\n",
        "# get stock info\n",
        "print(aapl.info)\n",
        "\n",
        "# get historical market data\n",
        "aapl_table = aapl.history(start=\"2016-01-01\",  end=\"2017-12-31\")\n",
        "aapl_table"
      ],
      "execution_count": 2,
      "outputs": [
        {
          "output_type": "stream",
          "name": "stdout",
          "text": [
            "{'zip': '95014', 'sector': 'Technology', 'fullTimeEmployees': 147000, 'longBusinessSummary': 'Apple Inc. designs, manufactures, and markets smartphones, personal computers, tablets, wearables, and accessories worldwide. It also sells various related services. The company offers iPhone, a line of smartphones; Mac, a line of personal computers; iPad, a line of multi-purpose tablets; and wearables, home, and accessories comprising AirPods, Apple TV, Apple Watch, Beats products, HomePod, iPod touch, and other Apple-branded and third-party accessories. It also provides AppleCare support services; cloud services store services; and operates various platforms, including the App Store, that allow customers to discover and download applications and digital content, such as books, music, video, games, and podcasts. In addition, the company offers various services, such as Apple Arcade, a game subscription service; Apple Music, which offers users a curated listening experience with on-demand radio stations; Apple News+, a subscription news and magazine service; Apple TV+, which offers exclusive original content; Apple Card, a co-branded credit card; and Apple Pay, a cashless payment service, as well as licenses its intellectual property. The company serves consumers, and small and mid-sized businesses; and the education, enterprise, and government markets. It sells and delivers third-party applications for its products through the App Store. The company also sells its products through its retail and online stores, and direct sales force; and third-party cellular network carriers, wholesalers, retailers, and resellers. Apple Inc. was founded in 1977 and is headquartered in Cupertino, California.', 'city': 'Cupertino', 'phone': '408-996-1010', 'state': 'CA', 'country': 'United States', 'companyOfficers': [], 'website': 'http://www.apple.com', 'maxAge': 1, 'address1': 'One Apple Park Way', 'industry': 'Consumer Electronics', 'ebitdaMargins': 0.31955, 'profitMargins': 0.25004, 'grossMargins': 0.41005, 'operatingCashflow': 104414003200, 'revenueGrowth': 0.364, 'operatingMargins': 0.28788, 'ebitda': 110934999040, 'targetLowPrice': 132, 'recommendationKey': 'buy', 'grossProfits': 104956000000, 'freeCashflow': 80625876992, 'targetMedianPrice': 169.64, 'currentPrice': 144.84, 'earningsGrowth': 1, 'currentRatio': 1.062, 'returnOnAssets': 0.19302, 'numberOfAnalystOpinions': 42, 'targetMeanPrice': 167.92, 'debtToEquity': 210.782, 'returnOnEquity': 1.27125, 'targetHighPrice': 190, 'totalCash': 61696000000, 'totalDebt': 135491002368, 'totalRevenue': 347155005440, 'totalCashPerShare': 3.732, 'financialCurrency': 'USD', 'revenuePerShare': 20.61, 'quickRatio': 0.887, 'recommendationMean': 1.9, 'exchange': 'NMS', 'shortName': 'Apple Inc.', 'longName': 'Apple Inc.', 'exchangeTimezoneName': 'America/New_York', 'exchangeTimezoneShortName': 'EDT', 'isEsgPopulated': False, 'gmtOffSetMilliseconds': '-14400000', 'quoteType': 'EQUITY', 'symbol': 'AAPL', 'messageBoardId': 'finmb_24937', 'market': 'us_market', 'annualHoldingsTurnover': None, 'enterpriseToRevenue': 7.109, 'beta3Year': None, 'enterpriseToEbitda': 22.247, '52WeekChange': 0.24883604, 'morningStarRiskRating': None, 'forwardEps': 5.68, 'revenueQuarterlyGrowth': None, 'sharesOutstanding': 16530199552, 'fundInceptionDate': None, 'annualReportExpenseRatio': None, 'totalAssets': None, 'bookValue': 3.882, 'sharesShort': 101107412, 'sharesPercentSharesOut': 0.0061000003, 'fundFamily': None, 'lastFiscalYearEnd': 1601078400, 'heldPercentInstitutions': 0.58701, 'netIncomeToCommon': 86801997824, 'trailingEps': 5.108, 'lastDividendValue': 0.22, 'SandP52WeekChange': 0.3047781, 'priceToBook': 37.310665, 'heldPercentInsiders': 0.00072999997, 'nextFiscalYearEnd': 1664150400, 'yield': None, 'mostRecentQuarter': 1624665600, 'shortRatio': 1.18, 'sharesShortPreviousMonthDate': 1630368000, 'floatShares': 16512974627, 'beta': 1.222222, 'enterpriseValue': 2468024156160, 'priceHint': 2, 'threeYearAverageReturn': None, 'lastSplitDate': 1598832000, 'lastSplitFactor': '4:1', 'legalType': None, 'lastDividendDate': 1628208000, 'morningStarOverallRating': None, 'earningsQuarterlyGrowth': 0.932, 'priceToSalesTrailing12Months': 6.896729, 'dateShortInterest': 1632960000, 'pegRatio': 1.38, 'ytdReturn': None, 'forwardPE': 25.5, 'lastCapGain': None, 'shortPercentOfFloat': 0.0061000003, 'sharesShortPriorMonth': 96838699, 'impliedSharesOutstanding': None, 'category': None, 'fiveYearAverageReturn': None, 'previousClose': 143.76, 'regularMarketOpen': 143.77, 'twoHundredDayAverage': 138.64877, 'trailingAnnualDividendYield': 0.0058082915, 'payoutRatio': 0.16309999, 'volume24Hr': None, 'regularMarketDayHigh': 144.895, 'navPrice': None, 'averageDailyVolume10Day': 67784928, 'regularMarketPreviousClose': 143.76, 'fiftyDayAverage': 146.59706, 'trailingAnnualDividendRate': 0.835, 'open': 143.77, 'toCurrency': None, 'averageVolume10days': 67784928, 'expireDate': None, 'algorithm': None, 'dividendRate': 0.88, 'exDividendDate': 1628208000, 'circulatingSupply': None, 'startDate': None, 'regularMarketDayLow': 143.515, 'currency': 'USD', 'trailingPE': 28.35552, 'regularMarketVolume': 65076405, 'lastMarket': None, 'maxSupply': None, 'openInterest': None, 'marketCap': 2394234028032, 'volumeAllCurrencies': None, 'strikePrice': None, 'averageVolume': 77415270, 'dayLow': 143.515, 'ask': 144.97, 'askSize': 1400, 'volume': 65076405, 'fiftyTwoWeekHigh': 157.26, 'fromCurrency': None, 'fiveYearAvgDividendYield': 1.24, 'fiftyTwoWeekLow': 107.32, 'bid': 144.86, 'tradeable': False, 'dividendYield': 0.0061000003, 'bidSize': 1800, 'dayHigh': 144.895, 'regularMarketPrice': 144.84, 'logo_url': 'https://logo.clearbit.com/apple.com'}\n"
          ]
        },
        {
          "output_type": "execute_result",
          "data": {
            "text/html": [
              "<div>\n",
              "<style scoped>\n",
              "    .dataframe tbody tr th:only-of-type {\n",
              "        vertical-align: middle;\n",
              "    }\n",
              "\n",
              "    .dataframe tbody tr th {\n",
              "        vertical-align: top;\n",
              "    }\n",
              "\n",
              "    .dataframe thead th {\n",
              "        text-align: right;\n",
              "    }\n",
              "</style>\n",
              "<table border=\"1\" class=\"dataframe\">\n",
              "  <thead>\n",
              "    <tr style=\"text-align: right;\">\n",
              "      <th></th>\n",
              "      <th>Open</th>\n",
              "      <th>High</th>\n",
              "      <th>Low</th>\n",
              "      <th>Close</th>\n",
              "      <th>Volume</th>\n",
              "      <th>Dividends</th>\n",
              "      <th>Stock Splits</th>\n",
              "    </tr>\n",
              "    <tr>\n",
              "      <th>Date</th>\n",
              "      <th></th>\n",
              "      <th></th>\n",
              "      <th></th>\n",
              "      <th></th>\n",
              "      <th></th>\n",
              "      <th></th>\n",
              "      <th></th>\n",
              "    </tr>\n",
              "  </thead>\n",
              "  <tbody>\n",
              "    <tr>\n",
              "      <th>2016-01-04</th>\n",
              "      <td>23.655166</td>\n",
              "      <td>24.291443</td>\n",
              "      <td>23.514540</td>\n",
              "      <td>24.286831</td>\n",
              "      <td>270597600</td>\n",
              "      <td>0.0</td>\n",
              "      <td>0</td>\n",
              "    </tr>\n",
              "    <tr>\n",
              "      <th>2016-01-05</th>\n",
              "      <td>24.379043</td>\n",
              "      <td>24.402096</td>\n",
              "      <td>23.609058</td>\n",
              "      <td>23.678217</td>\n",
              "      <td>223164000</td>\n",
              "      <td>0.0</td>\n",
              "      <td>0</td>\n",
              "    </tr>\n",
              "    <tr>\n",
              "      <th>2016-01-06</th>\n",
              "      <td>23.182571</td>\n",
              "      <td>23.599840</td>\n",
              "      <td>23.023503</td>\n",
              "      <td>23.214846</td>\n",
              "      <td>273829600</td>\n",
              "      <td>0.0</td>\n",
              "      <td>0</td>\n",
              "    </tr>\n",
              "    <tr>\n",
              "      <th>2016-01-07</th>\n",
              "      <td>22.749162</td>\n",
              "      <td>23.083437</td>\n",
              "      <td>22.230459</td>\n",
              "      <td>22.235069</td>\n",
              "      <td>324377600</td>\n",
              "      <td>0.0</td>\n",
              "      <td>0</td>\n",
              "    </tr>\n",
              "    <tr>\n",
              "      <th>2016-01-08</th>\n",
              "      <td>22.719197</td>\n",
              "      <td>22.848296</td>\n",
              "      <td>22.306540</td>\n",
              "      <td>22.352646</td>\n",
              "      <td>283192000</td>\n",
              "      <td>0.0</td>\n",
              "      <td>0</td>\n",
              "    </tr>\n",
              "    <tr>\n",
              "      <th>...</th>\n",
              "      <td>...</td>\n",
              "      <td>...</td>\n",
              "      <td>...</td>\n",
              "      <td>...</td>\n",
              "      <td>...</td>\n",
              "      <td>...</td>\n",
              "      <td>...</td>\n",
              "    </tr>\n",
              "    <tr>\n",
              "      <th>2017-12-22</th>\n",
              "      <td>41.827749</td>\n",
              "      <td>42.004946</td>\n",
              "      <td>41.784649</td>\n",
              "      <td>41.906769</td>\n",
              "      <td>65397600</td>\n",
              "      <td>0.0</td>\n",
              "      <td>0</td>\n",
              "    </tr>\n",
              "    <tr>\n",
              "      <th>2017-12-26</th>\n",
              "      <td>40.898675</td>\n",
              "      <td>41.059108</td>\n",
              "      <td>40.630484</td>\n",
              "      <td>40.843601</td>\n",
              "      <td>132742000</td>\n",
              "      <td>0.0</td>\n",
              "      <td>0</td>\n",
              "    </tr>\n",
              "    <tr>\n",
              "      <th>2017-12-27</th>\n",
              "      <td>40.731065</td>\n",
              "      <td>40.893892</td>\n",
              "      <td>40.637678</td>\n",
              "      <td>40.850792</td>\n",
              "      <td>85992800</td>\n",
              "      <td>0.0</td>\n",
              "      <td>0</td>\n",
              "    </tr>\n",
              "    <tr>\n",
              "      <th>2017-12-28</th>\n",
              "      <td>40.946576</td>\n",
              "      <td>41.150113</td>\n",
              "      <td>40.822059</td>\n",
              "      <td>40.965733</td>\n",
              "      <td>65920800</td>\n",
              "      <td>0.0</td>\n",
              "      <td>0</td>\n",
              "    </tr>\n",
              "    <tr>\n",
              "      <th>2017-12-29</th>\n",
              "      <td>40.831625</td>\n",
              "      <td>40.848385</td>\n",
              "      <td>40.520335</td>\n",
              "      <td>40.522728</td>\n",
              "      <td>103999600</td>\n",
              "      <td>0.0</td>\n",
              "      <td>0</td>\n",
              "    </tr>\n",
              "  </tbody>\n",
              "</table>\n",
              "<p>503 rows × 7 columns</p>\n",
              "</div>"
            ],
            "text/plain": [
              "                 Open       High        Low  ...     Volume  Dividends  Stock Splits\n",
              "Date                                         ...                                    \n",
              "2016-01-04  23.655166  24.291443  23.514540  ...  270597600        0.0             0\n",
              "2016-01-05  24.379043  24.402096  23.609058  ...  223164000        0.0             0\n",
              "2016-01-06  23.182571  23.599840  23.023503  ...  273829600        0.0             0\n",
              "2016-01-07  22.749162  23.083437  22.230459  ...  324377600        0.0             0\n",
              "2016-01-08  22.719197  22.848296  22.306540  ...  283192000        0.0             0\n",
              "...               ...        ...        ...  ...        ...        ...           ...\n",
              "2017-12-22  41.827749  42.004946  41.784649  ...   65397600        0.0             0\n",
              "2017-12-26  40.898675  41.059108  40.630484  ...  132742000        0.0             0\n",
              "2017-12-27  40.731065  40.893892  40.637678  ...   85992800        0.0             0\n",
              "2017-12-28  40.946576  41.150113  40.822059  ...   65920800        0.0             0\n",
              "2017-12-29  40.831625  40.848385  40.520335  ...  103999600        0.0             0\n",
              "\n",
              "[503 rows x 7 columns]"
            ]
          },
          "metadata": {},
          "execution_count": 2
        }
      ]
    },
    {
      "cell_type": "code",
      "metadata": {
        "colab": {
          "base_uri": "https://localhost:8080/",
          "height": 484
        },
        "id": "0pA4FyOhXYm1",
        "outputId": "275ed424-9e32-4339-bfeb-c250bf005ecd"
      },
      "source": [
        "# my example\n",
        "import yfinance as yf\n",
        "\n",
        "alphabet = yf.Ticker(\"GOOGL\")\n",
        "\n",
        "# get stock info\n",
        "print(alphabet.info)\n",
        "\n",
        "# get historical market data\n",
        "alphabet_table = alphabet.history(start=\"2016-01-01\",  end=\"2017-12-31\")\n",
        "alphabet_table"
      ],
      "execution_count": 3,
      "outputs": [
        {
          "output_type": "stream",
          "name": "stdout",
          "text": [
            "{'zip': '94043', 'sector': 'Communication Services', 'fullTimeEmployees': 144056, 'longBusinessSummary': 'Alphabet Inc. provides online advertising services in the United States, Europe, the Middle East, Africa, the Asia-Pacific, Canada, and Latin America. The company offers performance and brand advertising services. It operates through Google Services, Google Cloud, and Other Bets segments. The Google Services segment provides products and services, such as ads, Android, Chrome, hardware, Google Maps, Google Play, Search, and YouTube, as well as technical infrastructure; and digital content. The Google Cloud segment offers infrastructure and data analytics platforms, collaboration tools, and other services for enterprise customers. The Other Bets segment sells internet and TV services, as well as licensing and research and development services. The company was founded in 1998 and is headquartered in Mountain View, California.', 'city': 'Mountain View', 'phone': '650-253-0000', 'state': 'CA', 'country': 'United States', 'companyOfficers': [], 'website': 'http://www.abc.xyz', 'maxAge': 1, 'address1': '1600 Amphitheatre Parkway', 'industry': 'Internet Content & Information', 'ebitdaMargins': 0.34300998, 'profitMargins': 0.2857, 'grossMargins': 0.55723, 'operatingCashflow': 80858996736, 'revenueGrowth': 0.616, 'operatingMargins': 0.28448, 'ebitda': 75552997376, 'targetLowPrice': 1850, 'recommendationKey': 'buy', 'grossProfits': 97795000000, 'freeCashflow': 44609626112, 'targetMedianPrice': 3195, 'currentPrice': 2827.36, 'earningsGrowth': 1.691, 'currentRatio': 3.152, 'returnOnAssets': 0.12759, 'numberOfAnalystOpinions': 44, 'targetMeanPrice': 3165.69, 'debtToEquity': 11.829, 'returnOnEquity': 0.2829, 'targetHighPrice': 4288.52, 'totalCash': 135863001088, 'totalDebt': 28100999168, 'totalRevenue': 220265005056, 'totalCashPerShare': 203.768, 'financialCurrency': 'USD', 'revenuePerShare': 326.656, 'quickRatio': 3.027, 'recommendationMean': 1.7, 'exchange': 'NMS', 'shortName': 'Alphabet Inc.', 'longName': 'Alphabet Inc.', 'exchangeTimezoneName': 'America/New_York', 'exchangeTimezoneShortName': 'EDT', 'isEsgPopulated': False, 'gmtOffSetMilliseconds': '-14400000', 'quoteType': 'EQUITY', 'symbol': 'GOOGL', 'messageBoardId': 'finmb_29096', 'market': 'us_market', 'annualHoldingsTurnover': None, 'enterpriseToRevenue': 8.069, 'beta3Year': None, 'enterpriseToEbitda': 23.525, '52WeekChange': 0.84800816, 'morningStarRiskRating': None, 'forwardEps': 106.31, 'revenueQuarterlyGrowth': None, 'sharesOutstanding': 301084992, 'fundInceptionDate': None, 'annualReportExpenseRatio': None, 'totalAssets': None, 'bookValue': 355.83, 'sharesShort': 2776429, 'sharesPercentSharesOut': 0.0042, 'fundFamily': None, 'lastFiscalYearEnd': 1609372800, 'heldPercentInstitutions': 0.80420995, 'netIncomeToCommon': 62928998400, 'trailingEps': 92.187, 'lastDividendValue': None, 'SandP52WeekChange': 0.3047781, 'priceToBook': 7.9458175, 'heldPercentInsiders': 0.00148, 'nextFiscalYearEnd': 1672444800, 'yield': None, 'mostRecentQuarter': 1625011200, 'shortRatio': 2, 'sharesShortPreviousMonthDate': 1630368000, 'floatShares': 580783527, 'beta': 1.025925, 'enterpriseValue': 1777394122752, 'priceHint': 2, 'threeYearAverageReturn': None, 'lastSplitDate': 1396483200, 'lastSplitFactor': '1998:1000', 'legalType': None, 'lastDividendDate': None, 'morningStarOverallRating': None, 'earningsQuarterlyGrowth': 1.662, 'priceToSalesTrailing12Months': 8.567505, 'dateShortInterest': 1632960000, 'pegRatio': 1.16, 'ytdReturn': None, 'forwardPE': 26.59543, 'lastCapGain': None, 'shortPercentOfFloat': 0.0092, 'sharesShortPriorMonth': 2994031, 'impliedSharesOutstanding': 666755008, 'category': None, 'fiveYearAverageReturn': None, 'previousClose': 2823.02, 'regularMarketOpen': 2832.29, 'twoHundredDayAverage': 2545.0764, 'trailingAnnualDividendYield': None, 'payoutRatio': 0, 'volume24Hr': None, 'regularMarketDayHigh': 2834.36, 'navPrice': None, 'averageDailyVolume10Day': 1340757, 'regularMarketPreviousClose': 2823.02, 'fiftyDayAverage': 2807.2344, 'trailingAnnualDividendRate': None, 'open': 2832.29, 'toCurrency': None, 'averageVolume10days': 1340757, 'expireDate': None, 'algorithm': None, 'dividendRate': None, 'exDividendDate': None, 'circulatingSupply': None, 'startDate': None, 'regularMarketDayLow': 2815.1, 'currency': 'USD', 'trailingPE': 30.669836, 'regularMarketVolume': 1513722, 'lastMarket': None, 'maxSupply': None, 'openInterest': None, 'marketCap': 1887121440768, 'volumeAllCurrencies': None, 'strikePrice': None, 'averageVolume': 1368679, 'dayLow': 2815.1, 'ask': 2835, 'askSize': 800, 'volume': 1513722, 'fiftyTwoWeekHigh': 2925.08, 'fromCurrency': None, 'fiveYearAvgDividendYield': None, 'fiftyTwoWeekLow': 1508.48, 'bid': 2826.05, 'tradeable': False, 'dividendYield': None, 'bidSize': 800, 'dayHigh': 2834.36, 'regularMarketPrice': 2827.36, 'logo_url': 'https://logo.clearbit.com/abc.xyz'}\n"
          ]
        },
        {
          "output_type": "execute_result",
          "data": {
            "text/html": [
              "<div>\n",
              "<style scoped>\n",
              "    .dataframe tbody tr th:only-of-type {\n",
              "        vertical-align: middle;\n",
              "    }\n",
              "\n",
              "    .dataframe tbody tr th {\n",
              "        vertical-align: top;\n",
              "    }\n",
              "\n",
              "    .dataframe thead th {\n",
              "        text-align: right;\n",
              "    }\n",
              "</style>\n",
              "<table border=\"1\" class=\"dataframe\">\n",
              "  <thead>\n",
              "    <tr style=\"text-align: right;\">\n",
              "      <th></th>\n",
              "      <th>Open</th>\n",
              "      <th>High</th>\n",
              "      <th>Low</th>\n",
              "      <th>Close</th>\n",
              "      <th>Volume</th>\n",
              "      <th>Dividends</th>\n",
              "      <th>Stock Splits</th>\n",
              "    </tr>\n",
              "    <tr>\n",
              "      <th>Date</th>\n",
              "      <th></th>\n",
              "      <th></th>\n",
              "      <th></th>\n",
              "      <th></th>\n",
              "      <th></th>\n",
              "      <th></th>\n",
              "      <th></th>\n",
              "    </tr>\n",
              "  </thead>\n",
              "  <tbody>\n",
              "    <tr>\n",
              "      <th>2016-01-04</th>\n",
              "      <td>762.200012</td>\n",
              "      <td>762.200012</td>\n",
              "      <td>747.539978</td>\n",
              "      <td>759.440002</td>\n",
              "      <td>3369100</td>\n",
              "      <td>0</td>\n",
              "      <td>0</td>\n",
              "    </tr>\n",
              "    <tr>\n",
              "      <th>2016-01-05</th>\n",
              "      <td>764.099976</td>\n",
              "      <td>769.200012</td>\n",
              "      <td>755.650024</td>\n",
              "      <td>761.530029</td>\n",
              "      <td>2260800</td>\n",
              "      <td>0</td>\n",
              "      <td>0</td>\n",
              "    </tr>\n",
              "    <tr>\n",
              "      <th>2016-01-06</th>\n",
              "      <td>750.369995</td>\n",
              "      <td>765.729980</td>\n",
              "      <td>748.000000</td>\n",
              "      <td>759.330017</td>\n",
              "      <td>2410300</td>\n",
              "      <td>0</td>\n",
              "      <td>0</td>\n",
              "    </tr>\n",
              "    <tr>\n",
              "      <th>2016-01-07</th>\n",
              "      <td>746.489990</td>\n",
              "      <td>755.309998</td>\n",
              "      <td>735.280029</td>\n",
              "      <td>741.000000</td>\n",
              "      <td>3156600</td>\n",
              "      <td>0</td>\n",
              "      <td>0</td>\n",
              "    </tr>\n",
              "    <tr>\n",
              "      <th>2016-01-08</th>\n",
              "      <td>747.799988</td>\n",
              "      <td>750.119995</td>\n",
              "      <td>728.919983</td>\n",
              "      <td>730.909973</td>\n",
              "      <td>2375300</td>\n",
              "      <td>0</td>\n",
              "      <td>0</td>\n",
              "    </tr>\n",
              "    <tr>\n",
              "      <th>...</th>\n",
              "      <td>...</td>\n",
              "      <td>...</td>\n",
              "      <td>...</td>\n",
              "      <td>...</td>\n",
              "      <td>...</td>\n",
              "      <td>...</td>\n",
              "      <td>...</td>\n",
              "    </tr>\n",
              "    <tr>\n",
              "      <th>2017-12-22</th>\n",
              "      <td>1070.000000</td>\n",
              "      <td>1071.719971</td>\n",
              "      <td>1067.640015</td>\n",
              "      <td>1068.859985</td>\n",
              "      <td>889400</td>\n",
              "      <td>0</td>\n",
              "      <td>0</td>\n",
              "    </tr>\n",
              "    <tr>\n",
              "      <th>2017-12-26</th>\n",
              "      <td>1068.640015</td>\n",
              "      <td>1068.859985</td>\n",
              "      <td>1058.640015</td>\n",
              "      <td>1065.849976</td>\n",
              "      <td>918800</td>\n",
              "      <td>0</td>\n",
              "      <td>0</td>\n",
              "    </tr>\n",
              "    <tr>\n",
              "      <th>2017-12-27</th>\n",
              "      <td>1066.599976</td>\n",
              "      <td>1068.270020</td>\n",
              "      <td>1058.380005</td>\n",
              "      <td>1060.199951</td>\n",
              "      <td>1116200</td>\n",
              "      <td>0</td>\n",
              "      <td>0</td>\n",
              "    </tr>\n",
              "    <tr>\n",
              "      <th>2017-12-28</th>\n",
              "      <td>1062.250000</td>\n",
              "      <td>1064.839966</td>\n",
              "      <td>1053.380005</td>\n",
              "      <td>1055.949951</td>\n",
              "      <td>994200</td>\n",
              "      <td>0</td>\n",
              "      <td>0</td>\n",
              "    </tr>\n",
              "    <tr>\n",
              "      <th>2017-12-29</th>\n",
              "      <td>1055.489990</td>\n",
              "      <td>1058.050049</td>\n",
              "      <td>1052.699951</td>\n",
              "      <td>1053.400024</td>\n",
              "      <td>1180300</td>\n",
              "      <td>0</td>\n",
              "      <td>0</td>\n",
              "    </tr>\n",
              "  </tbody>\n",
              "</table>\n",
              "<p>503 rows × 7 columns</p>\n",
              "</div>"
            ],
            "text/plain": [
              "                   Open         High  ...  Dividends  Stock Splits\n",
              "Date                                  ...                         \n",
              "2016-01-04   762.200012   762.200012  ...          0             0\n",
              "2016-01-05   764.099976   769.200012  ...          0             0\n",
              "2016-01-06   750.369995   765.729980  ...          0             0\n",
              "2016-01-07   746.489990   755.309998  ...          0             0\n",
              "2016-01-08   747.799988   750.119995  ...          0             0\n",
              "...                 ...          ...  ...        ...           ...\n",
              "2017-12-22  1070.000000  1071.719971  ...          0             0\n",
              "2017-12-26  1068.640015  1068.859985  ...          0             0\n",
              "2017-12-27  1066.599976  1068.270020  ...          0             0\n",
              "2017-12-28  1062.250000  1064.839966  ...          0             0\n",
              "2017-12-29  1055.489990  1058.050049  ...          0             0\n",
              "\n",
              "[503 rows x 7 columns]"
            ]
          },
          "metadata": {},
          "execution_count": 3
        }
      ]
    },
    {
      "cell_type": "markdown",
      "metadata": {
        "id": "NkFztSYhJyVA"
      },
      "source": [
        "We will create a Series named \"aapl\" whose values are Apple's daily closing prices, which are of course indexed by dates:"
      ]
    },
    {
      "cell_type": "code",
      "metadata": {
        "id": "QDJbOpCeHW91"
      },
      "source": [
        "aapl = aapl_table['Close']['2017']"
      ],
      "execution_count": 4,
      "outputs": []
    },
    {
      "cell_type": "code",
      "metadata": {
        "id": "zjRwIJCwX1gU"
      },
      "source": [
        "# my example\n",
        "alphabet = alphabet_table['Close']['2017']"
      ],
      "execution_count": 8,
      "outputs": []
    },
    {
      "cell_type": "code",
      "metadata": {
        "id": "SXfgCQJOHW91",
        "colab": {
          "base_uri": "https://localhost:8080/"
        },
        "outputId": "91605905-fc7d-4147-9d15-0fa7671caf4f"
      },
      "source": [
        "print(aapl)"
      ],
      "execution_count": 6,
      "outputs": [
        {
          "output_type": "stream",
          "name": "stdout",
          "text": [
            "Date\n",
            "2017-01-03    27.372362\n",
            "2017-01-04    27.341724\n",
            "2017-01-05    27.480766\n",
            "2017-01-06    27.787130\n",
            "2017-01-09    28.041643\n",
            "                ...    \n",
            "2017-12-22    41.906769\n",
            "2017-12-26    40.843601\n",
            "2017-12-27    40.850792\n",
            "2017-12-28    40.965733\n",
            "2017-12-29    40.522728\n",
            "Name: Close, Length: 251, dtype: float64\n"
          ]
        }
      ]
    },
    {
      "cell_type": "code",
      "metadata": {
        "colab": {
          "base_uri": "https://localhost:8080/"
        },
        "id": "BXwYWQTpX8IG",
        "outputId": "77847bb3-28aa-43de-8aa4-e1c959f10bc6"
      },
      "source": [
        "# my example\n",
        "print(alphabet)"
      ],
      "execution_count": 9,
      "outputs": [
        {
          "output_type": "stream",
          "name": "stdout",
          "text": [
            "Date\n",
            "2017-01-03     808.010010\n",
            "2017-01-04     807.770020\n",
            "2017-01-05     813.020020\n",
            "2017-01-06     825.210022\n",
            "2017-01-09     827.179993\n",
            "                 ...     \n",
            "2017-12-22    1068.859985\n",
            "2017-12-26    1065.849976\n",
            "2017-12-27    1060.199951\n",
            "2017-12-28    1055.949951\n",
            "2017-12-29    1053.400024\n",
            "Name: Close, Length: 251, dtype: float64\n"
          ]
        }
      ]
    },
    {
      "cell_type": "markdown",
      "metadata": {
        "id": "waUEgBhzKEcA"
      },
      "source": [
        "Recall that we can fetch a specific data point using series['yyyy-mm-dd']. We can also fetch the data in a specific month using series['yyyy-mm']."
      ]
    },
    {
      "cell_type": "code",
      "metadata": {
        "id": "2gS50G0zHW92",
        "colab": {
          "base_uri": "https://localhost:8080/"
        },
        "outputId": "697b40e9-3043-490d-ba9d-41f2d25290f2"
      },
      "source": [
        "print(aapl['2017-3'])"
      ],
      "execution_count": 10,
      "outputs": [
        {
          "output_type": "stream",
          "name": "stdout",
          "text": [
            "Date\n",
            "2017-03-01    33.086285\n",
            "2017-03-02    32.889839\n",
            "2017-03-03    33.083920\n",
            "2017-03-06    32.979774\n",
            "2017-03-07    33.022385\n",
            "2017-03-08    32.899303\n",
            "2017-03-09    32.823559\n",
            "2017-03-10    32.932430\n",
            "2017-03-13    32.946648\n",
            "2017-03-14    32.896931\n",
            "2017-03-15    33.244862\n",
            "2017-03-16    33.299301\n",
            "2017-03-17    33.133617\n",
            "2017-03-20    33.481556\n",
            "2017-03-21    33.098114\n",
            "2017-03-22    33.472084\n",
            "2017-03-23    33.353741\n",
            "2017-03-24    33.287472\n",
            "2017-03-27    33.344265\n",
            "2017-03-28    34.035385\n",
            "2017-03-29    34.111134\n",
            "2017-03-30    34.066158\n",
            "2017-03-31    34.002251\n",
            "Name: Close, dtype: float64\n"
          ]
        }
      ]
    },
    {
      "cell_type": "code",
      "metadata": {
        "colab": {
          "base_uri": "https://localhost:8080/"
        },
        "id": "J4h07MQcYWie",
        "outputId": "de10fea4-fcf0-4bba-cf2b-2b1cd51b330c"
      },
      "source": [
        "# my example\n",
        "print(alphabet['2017-3'])"
      ],
      "execution_count": 11,
      "outputs": [
        {
          "output_type": "stream",
          "name": "stdout",
          "text": [
            "Date\n",
            "2017-03-01    856.750000\n",
            "2017-03-02    849.849976\n",
            "2017-03-03    849.080017\n",
            "2017-03-06    847.270020\n",
            "2017-03-07    851.150024\n",
            "2017-03-08    853.640015\n",
            "2017-03-09    857.840027\n",
            "2017-03-10    861.409973\n",
            "2017-03-13    864.580017\n",
            "2017-03-14    865.909973\n",
            "2017-03-15    868.390015\n",
            "2017-03-16    870.000000\n",
            "2017-03-17    872.369995\n",
            "2017-03-20    867.909973\n",
            "2017-03-21    850.140015\n",
            "2017-03-22    849.799988\n",
            "2017-03-23    839.650024\n",
            "2017-03-24    835.140015\n",
            "2017-03-27    838.510010\n",
            "2017-03-28    840.630005\n",
            "2017-03-29    849.869995\n",
            "2017-03-30    849.479980\n",
            "2017-03-31    847.799988\n",
            "Name: Close, dtype: float64\n"
          ]
        }
      ]
    },
    {
      "cell_type": "code",
      "metadata": {
        "id": "vpvxGwXtHW92",
        "colab": {
          "base_uri": "https://localhost:8080/"
        },
        "outputId": "0583a1ae-f715-4e0f-ffd6-c2edba220667"
      },
      "source": [
        "aapl['2017-2':'2017-4']"
      ],
      "execution_count": 12,
      "outputs": [
        {
          "output_type": "execute_result",
          "data": {
            "text/plain": [
              "Date\n",
              "2017-02-01    30.341728\n",
              "2017-02-02    30.289875\n",
              "2017-02-03    30.419497\n",
              "2017-02-06    30.704643\n",
              "2017-02-07    30.996870\n",
              "                ...    \n",
              "2017-04-24    33.997520\n",
              "2017-04-25    34.208172\n",
              "2017-04-26    34.007000\n",
              "2017-04-27    34.033031\n",
              "2017-04-28    33.999882\n",
              "Name: Close, Length: 61, dtype: float64"
            ]
          },
          "metadata": {},
          "execution_count": 12
        }
      ]
    },
    {
      "cell_type": "code",
      "metadata": {
        "colab": {
          "base_uri": "https://localhost:8080/"
        },
        "id": "ntXmOIGjYczK",
        "outputId": "5aaf1975-5002-4463-a62d-429fd4d7a7d2"
      },
      "source": [
        "# my example\n",
        "alphabet['2017-2':'2017-4']"
      ],
      "execution_count": 13,
      "outputs": [
        {
          "output_type": "execute_result",
          "data": {
            "text/plain": [
              "Date\n",
              "2017-02-01    815.239990\n",
              "2017-02-02    818.260010\n",
              "2017-02-03    820.130005\n",
              "2017-02-06    821.619995\n",
              "2017-02-07    829.229980\n",
              "                 ...    \n",
              "2017-04-24    878.929993\n",
              "2017-04-25    888.840027\n",
              "2017-04-26    889.140015\n",
              "2017-04-27    891.440002\n",
              "2017-04-28    924.520020\n",
              "Name: Close, Length: 61, dtype: float64"
            ]
          },
          "metadata": {},
          "execution_count": 13
        }
      ]
    },
    {
      "cell_type": "markdown",
      "metadata": {
        "id": "lWwoD39pKNKb"
      },
      "source": [
        ".head(N) and .tail(N) are methods for quickly accessing the first or last N elements."
      ]
    },
    {
      "cell_type": "code",
      "metadata": {
        "id": "1eU218ALHW93",
        "colab": {
          "base_uri": "https://localhost:8080/"
        },
        "outputId": "9a292577-36d2-4c78-d13f-47cfc8b50e8e"
      },
      "source": [
        "print(aapl.head(5))\n",
        "print(aapl.tail(10))"
      ],
      "execution_count": 14,
      "outputs": [
        {
          "output_type": "stream",
          "name": "stdout",
          "text": [
            "Date\n",
            "2017-01-03    27.372362\n",
            "2017-01-04    27.341724\n",
            "2017-01-05    27.480766\n",
            "2017-01-06    27.787130\n",
            "2017-01-09    28.041643\n",
            "Name: Close, dtype: float64\n",
            "Date\n",
            "2017-12-15    41.657745\n",
            "2017-12-18    42.244404\n",
            "2017-12-19    41.794235\n",
            "2017-12-20    41.748737\n",
            "2017-12-21    41.906769\n",
            "2017-12-22    41.906769\n",
            "2017-12-26    40.843601\n",
            "2017-12-27    40.850792\n",
            "2017-12-28    40.965733\n",
            "2017-12-29    40.522728\n",
            "Name: Close, dtype: float64\n"
          ]
        }
      ]
    },
    {
      "cell_type": "code",
      "metadata": {
        "colab": {
          "base_uri": "https://localhost:8080/"
        },
        "id": "ZlHF8izgYnSt",
        "outputId": "58f3568c-fda4-4328-9b10-1c2a9cf751f8"
      },
      "source": [
        "# my example\n",
        "print(alphabet.head(5))\n",
        "print(alphabet.tail(10))"
      ],
      "execution_count": 15,
      "outputs": [
        {
          "output_type": "stream",
          "name": "stdout",
          "text": [
            "Date\n",
            "2017-01-03    808.010010\n",
            "2017-01-04    807.770020\n",
            "2017-01-05    813.020020\n",
            "2017-01-06    825.210022\n",
            "2017-01-09    827.179993\n",
            "Name: Close, dtype: float64\n",
            "Date\n",
            "2017-12-15    1072.000000\n",
            "2017-12-18    1085.089966\n",
            "2017-12-19    1079.780029\n",
            "2017-12-20    1073.560059\n",
            "2017-12-21    1070.849976\n",
            "2017-12-22    1068.859985\n",
            "2017-12-26    1065.849976\n",
            "2017-12-27    1060.199951\n",
            "2017-12-28    1055.949951\n",
            "2017-12-29    1053.400024\n",
            "Name: Close, dtype: float64\n"
          ]
        }
      ]
    },
    {
      "cell_type": "markdown",
      "metadata": {
        "id": "IxhKxtj-KQ66"
      },
      "source": [
        "# Resampling\n",
        "**_series.resample(freq)_** is a class called \"DatetimeIndexResampler\" which groups data in a Series object into regular time intervals. The argument \"freq\" determines the length of each interval.\n",
        "\n",
        "**_series.resample.mean()_** is a complete statement that groups data into intervals, and then compute the mean of each interval. For example, if we want to aggregate the daily data into monthly data by mean:"
      ]
    },
    {
      "cell_type": "code",
      "metadata": {
        "id": "rAV8NkHkHW93",
        "colab": {
          "base_uri": "https://localhost:8080/"
        },
        "outputId": "41569c21-4784-4bc8-f443-b0c410ea334c"
      },
      "source": [
        "by_month = aapl.resample('M').mean()\n",
        "print(by_month)"
      ],
      "execution_count": 16,
      "outputs": [
        {
          "output_type": "stream",
          "name": "stdout",
          "text": [
            "Date\n",
            "2017-01-31    28.178332\n",
            "2017-02-28    31.606275\n",
            "2017-03-31    33.282218\n",
            "2017-04-30    33.819262\n",
            "2017-05-31    36.125684\n",
            "2017-06-30    35.133985\n",
            "2017-07-31    35.245241\n",
            "2017-08-31    37.897228\n",
            "2017-09-30    37.604737\n",
            "2017-10-31    37.654551\n",
            "2017-11-30    41.233915\n",
            "2017-12-31    41.160038\n",
            "Freq: M, Name: Close, dtype: float64\n"
          ]
        }
      ]
    },
    {
      "cell_type": "code",
      "metadata": {
        "colab": {
          "base_uri": "https://localhost:8080/"
        },
        "id": "9YWy55DfYzqc",
        "outputId": "70882f19-ad26-40ce-b94c-701b6a739a01"
      },
      "source": [
        "# my example\n",
        "alphabet_by_month = alphabet.resample('M').mean()\n",
        "print(alphabet_by_month)"
      ],
      "execution_count": 18,
      "outputs": [
        {
          "output_type": "stream",
          "name": "stdout",
          "text": [
            "Date\n",
            "2017-01-31     830.249509\n",
            "2017-02-28     836.754735\n",
            "2017-03-31     853.790002\n",
            "2017-04-30     861.377898\n",
            "2017-05-31     961.654549\n",
            "2017-06-30     973.368638\n",
            "2017-07-31     963.443506\n",
            "2017-08-31     937.960874\n",
            "2017-09-30     945.884497\n",
            "2017-10-31     999.145006\n",
            "2017-11-30    1046.983346\n",
            "2017-12-31    1053.917487\n",
            "Freq: M, Name: Close, dtype: float64\n"
          ]
        }
      ]
    },
    {
      "cell_type": "markdown",
      "metadata": {
        "id": "QDPfVzBEKV6Q"
      },
      "source": [
        "We can also aggregate the data by week:"
      ]
    },
    {
      "cell_type": "code",
      "metadata": {
        "id": "aAP3tKkBHW94",
        "colab": {
          "base_uri": "https://localhost:8080/"
        },
        "outputId": "f50d820e-257a-4b89-d711-0a6458635c8d"
      },
      "source": [
        "by_week = aapl.resample('W').mean()\n",
        "print(by_week.head())"
      ],
      "execution_count": 19,
      "outputs": [
        {
          "output_type": "stream",
          "name": "stdout",
          "text": [
            "Date\n",
            "2017-01-08    27.495496\n",
            "2017-01-15    28.097734\n",
            "2017-01-22    28.266118\n",
            "2017-01-29    28.553980\n",
            "2017-02-05    29.662542\n",
            "Freq: W-SUN, Name: Close, dtype: float64\n"
          ]
        }
      ]
    },
    {
      "cell_type": "code",
      "metadata": {
        "colab": {
          "base_uri": "https://localhost:8080/"
        },
        "id": "2n5JA_dhY-0n",
        "outputId": "85078449-03a4-4285-c1d4-4b9f75e85f89"
      },
      "source": [
        "# my example\n",
        "alphabet_by_week = alphabet.resample('W').mean()\n",
        "print(alphabet_by_week.head())"
      ],
      "execution_count": 20,
      "outputs": [
        {
          "output_type": "stream",
          "name": "stdout",
          "text": [
            "Date\n",
            "2017-01-08    813.502518\n",
            "2017-01-15    828.704004\n",
            "2017-01-22    827.255005\n",
            "2017-01-29    850.884009\n",
            "2017-02-05    819.530005\n",
            "Freq: W-SUN, Name: Close, dtype: float64\n"
          ]
        }
      ]
    },
    {
      "cell_type": "markdown",
      "metadata": {
        "id": "o_MXSVsILoBS"
      },
      "source": [
        "We can also aggregate the data by month with max:"
      ]
    },
    {
      "cell_type": "code",
      "metadata": {
        "id": "gn0wqXBTHW95",
        "colab": {
          "base_uri": "https://localhost:8080/"
        },
        "outputId": "9c1a6a99-b872-46c5-f7d2-e8f998f958e3"
      },
      "source": [
        "aapl.resample('M').max()"
      ],
      "execution_count": 21,
      "outputs": [
        {
          "output_type": "execute_result",
          "data": {
            "text/plain": [
              "Date\n",
              "2017-01-31    28.739210\n",
              "2017-02-28    32.451962\n",
              "2017-03-31    34.111134\n",
              "2017-04-30    34.264977\n",
              "2017-05-31    37.099136\n",
              "2017-06-30    36.944653\n",
              "2017-07-31    36.471703\n",
              "2017-08-31    39.129723\n",
              "2017-09-30    39.141651\n",
              "2017-10-31    40.332249\n",
              "2017-11-30    42.050140\n",
              "2017-12-31    42.244404\n",
              "Freq: M, Name: Close, dtype: float64"
            ]
          },
          "metadata": {},
          "execution_count": 21
        }
      ]
    },
    {
      "cell_type": "code",
      "metadata": {
        "colab": {
          "base_uri": "https://localhost:8080/"
        },
        "id": "EwbimxvbZKD6",
        "outputId": "7e0b19e1-c671-4d66-f906-0d1f01669aef"
      },
      "source": [
        "# my example\n",
        "alphabet.resample('M').max()"
      ],
      "execution_count": 22,
      "outputs": [
        {
          "output_type": "execute_result",
          "data": {
            "text/plain": [
              "Date\n",
              "2017-01-31     858.450012\n",
              "2017-02-28     851.359985\n",
              "2017-03-31     872.369995\n",
              "2017-04-30     924.520020\n",
              "2017-05-31     996.169983\n",
              "2017-06-30    1004.280029\n",
              "2017-07-31     998.309998\n",
              "2017-08-31     955.239990\n",
              "2017-09-30     973.719971\n",
              "2017-10-31    1033.670044\n",
              "2017-11-30    1072.010010\n",
              "2017-12-31    1085.089966\n",
              "Freq: M, Name: Close, dtype: float64"
            ]
          },
          "metadata": {},
          "execution_count": 22
        }
      ]
    },
    {
      "cell_type": "markdown",
      "metadata": {
        "id": "Z8r46UFlLdAh"
      },
      "source": [
        "We can choose almost any frequency by using the format 'nf', where 'n' is an integer and 'f' is M for month, W for week and D for day."
      ]
    },
    {
      "cell_type": "code",
      "metadata": {
        "id": "kdVB_-JFHW96",
        "colab": {
          "base_uri": "https://localhost:8080/"
        },
        "outputId": "77b314a1-1136-4474-d03c-792d00fa7539"
      },
      "source": [
        "three_day = aapl.resample('3D').mean()\n",
        "two_week = aapl.resample('2W').mean()\n",
        "two_month = aapl.resample('2M').mean()\n",
        "\n",
        "\n",
        "print(three_day)\n",
        "print(two_week)\n",
        "print(two_month )"
      ],
      "execution_count": 23,
      "outputs": [
        {
          "output_type": "stream",
          "name": "stdout",
          "text": [
            "Date\n",
            "2017-01-03    27.398284\n",
            "2017-01-06    27.787130\n",
            "2017-01-09    28.110774\n",
            "2017-01-12    28.078174\n",
            "2017-01-15    28.279669\n",
            "                ...    \n",
            "2017-12-17    42.019320\n",
            "2017-12-20    41.854092\n",
            "2017-12-23          NaN\n",
            "2017-12-26    40.886709\n",
            "2017-12-29    40.522728\n",
            "Freq: 3D, Name: Close, Length: 121, dtype: float64\n",
            "Date\n",
            "2017-01-08    27.495496\n",
            "2017-01-22    28.172571\n",
            "2017-02-05    29.108261\n",
            "2017-02-19    31.516816\n",
            "2017-03-05    32.595556\n",
            "2017-03-19    33.017881\n",
            "2017-04-02    33.625216\n",
            "2017-04-16    33.849725\n",
            "2017-04-30    33.791846\n",
            "2017-05-14    35.697632\n",
            "2017-05-28    36.496178\n",
            "2017-06-11    36.515009\n",
            "2017-06-25    34.529046\n",
            "2017-07-09    34.265136\n",
            "2017-07-23    35.278871\n",
            "2017-08-06    36.272774\n",
            "2017-08-20    37.904118\n",
            "2017-09-03    38.458792\n",
            "2017-09-17    38.282707\n",
            "2017-10-01    36.840873\n",
            "2017-10-15    37.071595\n",
            "2017-10-29    37.757321\n",
            "2017-11-12    41.032238\n",
            "2017-11-26    41.204379\n",
            "2017-12-10    40.867064\n",
            "2017-12-24    41.620867\n",
            "2018-01-07    40.795713\n",
            "Freq: 2W-SUN, Name: Close, dtype: float64\n",
            "Date\n",
            "2017-01-31    28.178332\n",
            "2017-03-31    32.524053\n",
            "2017-05-31    35.056855\n",
            "2017-07-31    35.186964\n",
            "2017-09-30    37.761186\n",
            "2017-11-30    39.402613\n",
            "2018-01-31    41.160038\n",
            "Freq: 2M, Name: Close, dtype: float64\n"
          ]
        }
      ]
    },
    {
      "cell_type": "code",
      "metadata": {
        "colab": {
          "base_uri": "https://localhost:8080/"
        },
        "id": "fe62fejbZdCD",
        "outputId": "3c04aca4-7b29-4d79-b016-2b180e09d815"
      },
      "source": [
        "# my example\n",
        "alphabet_three_day = alphabet.resample('3D').mean()\n",
        "alphabet_two_week = alphabet.resample('2W').mean()\n",
        "alphabet_two_month = alphabet.resample('2M').mean()\n",
        "\n",
        "\n",
        "print(alphabet_three_day)\n",
        "print(alphabet_two_week)\n",
        "print(alphabet_two_month)"
      ],
      "execution_count": 27,
      "outputs": [
        {
          "output_type": "stream",
          "name": "stdout",
          "text": [
            "Date\n",
            "2017-01-03     809.600016\n",
            "2017-01-06     825.210022\n",
            "2017-01-09     827.683329\n",
            "2017-01-12     830.235016\n",
            "2017-01-15     827.460022\n",
            "                 ...     \n",
            "2017-12-17    1082.434998\n",
            "2017-12-20    1071.090007\n",
            "2017-12-23            NaN\n",
            "2017-12-26    1060.666626\n",
            "2017-12-29    1053.400024\n",
            "Freq: 3D, Name: Close, Length: 121, dtype: float64\n",
            "Date\n",
            "2017-01-08     813.502518\n",
            "2017-01-22     828.060004\n",
            "2017-02-05     835.207007\n",
            "2017-02-19     835.066998\n",
            "2017-03-05     849.968886\n",
            "2017-03-19     861.256006\n",
            "2017-04-02     846.892999\n",
            "2017-04-16     845.405551\n",
            "2017-04-30     875.753009\n",
            "2017-05-14     950.463013\n",
            "2017-05-28     966.850995\n",
            "2017-06-11     993.792223\n",
            "2017-06-25     970.454999\n",
            "2017-07-09     940.990011\n",
            "2017-07-23     975.966003\n",
            "2017-08-06     956.928003\n",
            "2017-08-20     935.882007\n",
            "2017-09-03     938.598004\n",
            "2017-09-17     943.399997\n",
            "2017-10-01     947.509998\n",
            "2017-10-15     988.444006\n",
            "2017-10-29    1003.058002\n",
            "2017-11-12    1044.696008\n",
            "2017-11-26    1044.112237\n",
            "2017-12-10    1039.205994\n",
            "2017-12-24    1065.973999\n",
            "2018-01-07    1058.849976\n",
            "Freq: 2W-SUN, Name: Close, dtype: float64\n",
            "Date\n",
            "2017-01-31     830.249509\n",
            "2017-03-31     846.083572\n",
            "2017-05-31     915.184881\n",
            "2017-07-31     968.642385\n",
            "2017-09-30     941.646280\n",
            "2017-11-30    1022.507916\n",
            "2018-01-31    1053.917487\n",
            "Freq: 2M, Name: Close, dtype: float64\n"
          ]
        }
      ]
    },
    {
      "cell_type": "markdown",
      "metadata": {
        "id": "iy4RqsnwL-Bw"
      },
      "source": [
        "Besides the mean() method, other methods can also be used with the resampler:\n",
        "\n"
      ]
    },
    {
      "cell_type": "code",
      "metadata": {
        "id": "DNT8Fx9dHW96",
        "colab": {
          "base_uri": "https://localhost:8080/"
        },
        "outputId": "15acc1dc-1f7a-44bc-ae18-5e0a6413f7ac"
      },
      "source": [
        "std = aapl.resample('W').std()\n",
        "max = aapl.resample('W').max()\n",
        "min = aapl.resample('W').min()\n",
        "\n",
        "\n",
        "print(std)\n",
        "print(max)\n",
        "print(min)"
      ],
      "execution_count": 26,
      "outputs": [
        {
          "output_type": "stream",
          "name": "stdout",
          "text": [
            "Date\n",
            "2017-01-08    0.203368\n",
            "2017-01-15    0.072530\n",
            "2017-01-22    0.025554\n",
            "2017-01-29    0.245285\n",
            "2017-02-05    0.943260\n",
            "2017-02-12    0.252003\n",
            "2017-02-19    0.231389\n",
            "2017-02-26    0.059343\n",
            "2017-03-05    0.340090\n",
            "2017-03-12    0.076288\n",
            "2017-03-19    0.177833\n",
            "2017-03-26    0.157267\n",
            "2017-04-02    0.319809\n",
            "2017-04-09    0.128691\n",
            "2017-04-16    0.212476\n",
            "2017-04-23    0.174673\n",
            "2017-04-30    0.090024\n",
            "2017-05-07    0.235639\n",
            "2017-05-14    0.352985\n",
            "2017-05-21    0.536097\n",
            "2017-05-28    0.060393\n",
            "2017-06-04    0.281223\n",
            "2017-06-11    0.620038\n",
            "2017-06-18    0.382561\n",
            "2017-06-25    0.128893\n",
            "2017-07-02    0.264111\n",
            "2017-07-09    0.158890\n",
            "2017-07-16    0.404277\n",
            "2017-07-23    0.124990\n",
            "2017-07-30    0.384442\n",
            "2017-08-06    0.924389\n",
            "2017-08-13    0.467468\n",
            "2017-08-20    0.435251\n",
            "2017-08-27    0.275768\n",
            "2017-09-03    0.251724\n",
            "2017-09-10    0.381640\n",
            "2017-09-17    0.294140\n",
            "2017-09-24    0.735197\n",
            "2017-10-01    0.354846\n",
            "2017-10-08    0.204857\n",
            "2017-10-15    0.118731\n",
            "2017-10-22    0.517003\n",
            "2017-10-29    0.680455\n",
            "2017-11-05    0.560680\n",
            "2017-11-12    0.190972\n",
            "2017-11-19    0.436198\n",
            "2017-11-26    0.563049\n",
            "2017-12-03    0.427445\n",
            "2017-12-10    0.073133\n",
            "2017-12-17    0.205268\n",
            "2017-12-24    0.194123\n",
            "2017-12-31    0.190398\n",
            "Freq: W-SUN, Name: Close, dtype: float64\n",
            "Date\n",
            "2017-01-08    27.787130\n",
            "2017-01-15    28.220751\n",
            "2017-01-22    28.279669\n",
            "2017-01-29    28.739210\n",
            "2017-02-05    30.419497\n",
            "2017-02-12    31.341909\n",
            "2017-02-19    32.122967\n",
            "2017-02-26    32.451962\n",
            "2017-03-05    33.086285\n",
            "2017-03-12    33.022385\n",
            "2017-03-19    33.299301\n",
            "2017-03-26    33.481556\n",
            "2017-04-02    34.111134\n",
            "2017-04-09    34.264977\n",
            "2017-04-16    33.886284\n",
            "2017-04-23    33.713509\n",
            "2017-04-30    34.208172\n",
            "2017-05-07    35.256695\n",
            "2017-05-14    37.099136\n",
            "2017-05-21    37.004070\n",
            "2017-05-28    36.597664\n",
            "2017-06-04    36.944653\n",
            "2017-06-11    36.925640\n",
            "2017-06-18    34.838955\n",
            "2017-06-25    34.779549\n",
            "2017-07-02    34.658344\n",
            "2017-07-09    34.266193\n",
            "2017-07-16    35.421223\n",
            "2017-07-23    35.891804\n",
            "2017-07-30    36.471703\n",
            "2017-08-06    37.346294\n",
            "2017-08-13    38.277931\n",
            "2017-08-20    38.557091\n",
            "2017-08-27    38.170567\n",
            "2017-09-03    39.141651\n",
            "2017-09-10    38.671608\n",
            "2017-09-17    38.533234\n",
            "2017-09-24    37.872326\n",
            "2017-10-01    36.798641\n",
            "2017-10-08    37.075417\n",
            "2017-10-15    37.457169\n",
            "2017-10-22    38.287487\n",
            "2017-10-29    38.903057\n",
            "2017-11-05    41.157784\n",
            "2017-11-12    42.050140\n",
            "2017-11-19    41.657745\n",
            "2017-11-26    41.897205\n",
            "2017-12-03    41.686474\n",
            "2017-12-10    40.659225\n",
            "2017-12-17    41.657745\n",
            "2017-12-24    42.244404\n",
            "2017-12-31    40.965733\n",
            "Freq: W-SUN, Name: Close, dtype: float64\n",
            "Date\n",
            "2017-01-08    27.341724\n",
            "2017-01-15    28.041643\n",
            "2017-01-22    28.227823\n",
            "2017-01-29    28.272600\n",
            "2017-02-05    28.597813\n",
            "2017-02-12    30.704643\n",
            "2017-02-19    31.547831\n",
            "2017-02-26    32.314690\n",
            "2017-03-05    32.409370\n",
            "2017-03-12    32.823559\n",
            "2017-03-19    32.896931\n",
            "2017-03-26    33.098114\n",
            "2017-04-02    33.344265\n",
            "2017-04-09    33.926510\n",
            "2017-04-16    33.384510\n",
            "2017-04-23    33.296936\n",
            "2017-04-30    33.997520\n",
            "2017-05-07    34.681549\n",
            "2017-05-14    36.215263\n",
            "2017-05-21    35.708797\n",
            "2017-05-28    36.443176\n",
            "2017-06-04    36.305340\n",
            "2017-06-11    35.406967\n",
            "2017-06-18    33.812263\n",
            "2017-06-25    34.463455\n",
            "2017-07-02    34.147366\n",
            "2017-07-09    33.921581\n",
            "2017-07-16    34.475334\n",
            "2017-07-23    35.544815\n",
            "2017-07-30    35.530548\n",
            "2017-08-06    35.347553\n",
            "2017-08-13    37.058712\n",
            "2017-08-20    37.578850\n",
            "2017-08-27    37.509655\n",
            "2017-09-03    38.526077\n",
            "2017-09-10    37.848457\n",
            "2017-09-17    37.764954\n",
            "2017-09-24    36.240322\n",
            "2017-10-01    35.920609\n",
            "2017-10-08    36.619698\n",
            "2017-10-15    37.182785\n",
            "2017-10-22    37.216183\n",
            "2017-10-29    37.261517\n",
            "2017-11-05    39.778713\n",
            "2017-11-12    41.575333\n",
            "2017-11-19    40.486820\n",
            "2017-11-26    40.702320\n",
            "2017-12-03    40.582592\n",
            "2017-12-10    40.470047\n",
            "2017-12-17    41.114174\n",
            "2017-12-24    41.748737\n",
            "2017-12-31    40.522728\n",
            "Freq: W-SUN, Name: Close, dtype: float64\n"
          ]
        }
      ]
    },
    {
      "cell_type": "code",
      "metadata": {
        "colab": {
          "base_uri": "https://localhost:8080/"
        },
        "id": "O1A9wEY0ZuUM",
        "outputId": "d5ad1225-d528-4c6c-fa44-34f85bffe36b"
      },
      "source": [
        "# my example\n",
        "alphabet_std = alphabet.resample('W').std()\n",
        "alphabet_max = alphabet.resample('W').max()\n",
        "alphabet_min = alphabet.resample('W').min()\n",
        "\n",
        "\n",
        "print(alphabet_std)\n",
        "print(alphabet_max)\n",
        "print(alphabet_min)"
      ],
      "execution_count": 28,
      "outputs": [
        {
          "output_type": "stream",
          "name": "stdout",
          "text": [
            "Date\n",
            "2017-01-08     8.171651\n",
            "2017-01-15     2.037064\n",
            "2017-01-22     2.026308\n",
            "2017-01-29     6.560525\n",
            "2017-02-05     3.134598\n",
            "2017-02-12     4.758037\n",
            "2017-02-19     3.564258\n",
            "2017-02-26     1.643182\n",
            "2017-03-05     4.249400\n",
            "2017-03-12     5.541995\n",
            "2017-03-19     3.122538\n",
            "2017-03-26    12.628678\n",
            "2017-04-02     5.303561\n",
            "2017-04-09     5.822352\n",
            "2017-04-16     0.908543\n",
            "2017-04-23     2.552600\n",
            "2017-04-30    17.419297\n",
            "2017-05-07     9.282256\n",
            "2017-05-14     1.542306\n",
            "2017-05-21     8.546596\n",
            "2017-05-28    12.885440\n",
            "2017-06-04     4.906050\n",
            "2017-06-11    14.393003\n",
            "2017-06-18     5.144014\n",
            "2017-06-25     6.176122\n",
            "2017-07-02    17.130013\n",
            "2017-07-09     8.914012\n",
            "2017-07-16    10.970014\n",
            "2017-07-23     7.414408\n",
            "2017-07-30    17.734185\n",
            "2017-08-06     2.839130\n",
            "2017-08-13     9.552255\n",
            "2017-08-20     7.786691\n",
            "2017-08-27     8.764540\n",
            "2017-09-03    11.232764\n",
            "2017-09-10     4.135671\n",
            "2017-09-17     5.837673\n",
            "2017-09-24     7.656422\n",
            "2017-10-01    17.349222\n",
            "2017-10-08    11.868410\n",
            "2017-10-15     9.133115\n",
            "2017-10-22     4.467104\n",
            "2017-10-29    20.025266\n",
            "2017-11-05     7.252927\n",
            "2017-11-12     6.381397\n",
            "2017-11-19     5.075514\n",
            "2017-11-26     9.499338\n",
            "2017-12-03    19.883361\n",
            "2017-12-10    15.959889\n",
            "2017-12-17     9.319530\n",
            "2017-12-24     6.702240\n",
            "2017-12-31     5.444708\n",
            "Freq: W-SUN, Name: Close, dtype: float64\n",
            "Date\n",
            "2017-01-08     825.210022\n",
            "2017-01-15     830.940002\n",
            "2017-01-22     829.020020\n",
            "2017-01-29     858.450012\n",
            "2017-02-05     823.830017\n",
            "2017-02-12     834.849976\n",
            "2017-02-19     846.549988\n",
            "2017-02-26     851.359985\n",
            "2017-03-05     856.750000\n",
            "2017-03-12     861.409973\n",
            "2017-03-19     872.369995\n",
            "2017-03-26     867.909973\n",
            "2017-04-02     849.869995\n",
            "2017-04-09     856.750000\n",
            "2017-04-16     841.700012\n",
            "2017-04-23     860.080017\n",
            "2017-04-30     924.520020\n",
            "2017-05-07     954.719971\n",
            "2017-05-14     958.690002\n",
            "2017-05-21     964.609985\n",
            "2017-05-28     993.270020\n",
            "2017-06-04     996.169983\n",
            "2017-06-11    1004.280029\n",
            "2017-06-18     970.500000\n",
            "2017-06-25     986.090027\n",
            "2017-07-02     972.090027\n",
            "2017-07-09     940.809998\n",
            "2017-07-16     976.909973\n",
            "2017-07-23     993.840027\n",
            "2017-07-30     998.309998\n",
            "2017-08-06     947.640015\n",
            "2017-08-13     945.750000\n",
            "2017-08-20     944.270020\n",
            "2017-08-27     942.580017\n",
            "2017-09-03     955.239990\n",
            "2017-09-10     949.890015\n",
            "2017-09-17     950.440002\n",
            "2017-09-24     947.549988\n",
            "2017-10-01     973.719971\n",
            "2017-10-08     993.640015\n",
            "2017-10-15    1007.869995\n",
            "2017-10-22    1012.739990\n",
            "2017-10-29    1033.670044\n",
            "2017-11-05    1049.989990\n",
            "2017-11-12    1058.290039\n",
            "2017-11-19    1048.469971\n",
            "2017-11-26    1056.520020\n",
            "2017-12-03    1072.010010\n",
            "2017-12-10    1049.380005\n",
            "2017-12-17    1072.000000\n",
            "2017-12-24    1085.089966\n",
            "2017-12-31    1065.849976\n",
            "Freq: W-SUN, Name: Close, dtype: float64\n",
            "Date\n",
            "2017-01-08     807.770020\n",
            "2017-01-15     826.010010\n",
            "2017-01-22     824.369995\n",
            "2017-01-29     844.429993\n",
            "2017-02-05     815.239990\n",
            "2017-02-12     821.619995\n",
            "2017-02-19     837.320007\n",
            "2017-02-26     847.809998\n",
            "2017-03-05     844.929993\n",
            "2017-03-12     847.270020\n",
            "2017-03-19     864.580017\n",
            "2017-03-26     835.140015\n",
            "2017-04-02     838.510010\n",
            "2017-04-09     842.099976\n",
            "2017-04-16     839.880005\n",
            "2017-04-23     853.989990\n",
            "2017-04-30     878.929993\n",
            "2017-05-07     932.820007\n",
            "2017-05-14     954.840027\n",
            "2017-05-21     942.169983\n",
            "2017-05-28     964.070007\n",
            "2017-06-04     987.090027\n",
            "2017-06-11     970.119995\n",
            "2017-06-18     958.619995\n",
            "2017-06-25     968.989990\n",
            "2017-07-02     929.679993\n",
            "2017-07-09     919.460022\n",
            "2017-07-16     951.000000\n",
            "2017-07-23     975.960022\n",
            "2017-07-30     952.510010\n",
            "2017-08-06     940.299988\n",
            "2017-08-13     923.590027\n",
            "2017-08-20     926.179993\n",
            "2017-08-27     920.869995\n",
            "2017-09-03     928.130005\n",
            "2017-09-10     941.409973\n",
            "2017-09-17     935.289978\n",
            "2017-09-24     929.750000\n",
            "2017-10-01     934.280029\n",
            "2017-10-08     966.780029\n",
            "2017-10-15     987.799988\n",
            "2017-10-22    1001.840027\n",
            "2017-10-29     985.539978\n",
            "2017-11-05    1033.040039\n",
            "2017-11-12    1042.680054\n",
            "2017-11-19    1035.890015\n",
            "2017-11-26    1034.660034\n",
            "2017-12-03    1025.069946\n",
            "2017-12-10    1011.869995\n",
            "2017-12-17    1048.770020\n",
            "2017-12-24    1068.859985\n",
            "2017-12-31    1053.400024\n",
            "Freq: W-SUN, Name: Close, dtype: float64\n"
          ]
        }
      ]
    },
    {
      "cell_type": "markdown",
      "metadata": {
        "id": "uqln0s5DMI3I"
      },
      "source": [
        "Often we want to calculate monthly returns of a stock, based on prices on the last day of each month. To fetch those prices, we use the series.resample.agg() method:"
      ]
    },
    {
      "cell_type": "code",
      "metadata": {
        "id": "A6FSYvqbHW97",
        "colab": {
          "base_uri": "https://localhost:8080/"
        },
        "outputId": "b6f6157a-df73-4719-8e51-4c67bb9059c2"
      },
      "source": [
        "last_day = aapl.resample('M').agg(lambda x: x[-1])\n",
        "print(last_day)"
      ],
      "execution_count": 29,
      "outputs": [
        {
          "output_type": "stream",
          "name": "stdout",
          "text": [
            "Date\n",
            "2017-01-31    28.597813\n",
            "2017-02-28    32.423565\n",
            "2017-03-31    34.002251\n",
            "2017-04-30    33.999882\n",
            "2017-05-31    36.305340\n",
            "2017-06-30    34.228161\n",
            "2017-07-31    35.347553\n",
            "2017-08-31    39.129723\n",
            "2017-09-30    36.772400\n",
            "2017-10-31    40.332249\n",
            "2017-11-30    41.150101\n",
            "2017-12-31    40.522728\n",
            "Freq: M, Name: Close, dtype: float64\n"
          ]
        }
      ]
    },
    {
      "cell_type": "code",
      "metadata": {
        "colab": {
          "base_uri": "https://localhost:8080/"
        },
        "id": "E3dfjJuNaAuO",
        "outputId": "d4db12ec-bbe0-4d31-8f57-b42b11197fdf"
      },
      "source": [
        "# my example\n",
        "alphabet_last_day = alphabet.resample('M').agg(lambda x: x[-1])\n",
        "print(alphabet_last_day)"
      ],
      "execution_count": 30,
      "outputs": [
        {
          "output_type": "stream",
          "name": "stdout",
          "text": [
            "Date\n",
            "2017-01-31     820.190002\n",
            "2017-02-28     844.929993\n",
            "2017-03-31     847.799988\n",
            "2017-04-30     924.520020\n",
            "2017-05-31     987.090027\n",
            "2017-06-30     929.679993\n",
            "2017-07-31     945.500000\n",
            "2017-08-31     955.239990\n",
            "2017-09-30     973.719971\n",
            "2017-10-31    1033.040039\n",
            "2017-11-30    1036.170044\n",
            "2017-12-31    1053.400024\n",
            "Freq: M, Name: Close, dtype: float64\n"
          ]
        }
      ]
    },
    {
      "cell_type": "markdown",
      "metadata": {
        "id": "uwomY3aXMR46"
      },
      "source": [
        "Or directly calculate the monthly rates of return using the data for the first day and the last day:"
      ]
    },
    {
      "cell_type": "code",
      "metadata": {
        "id": "qK2NMJrNHW96",
        "colab": {
          "base_uri": "https://localhost:8080/"
        },
        "outputId": "d5fba9de-4a0b-4e35-d4ff-af7eb5754689"
      },
      "source": [
        "monthly_return = aapl.resample('M').agg(lambda x: x[-1]/x[0] - 1)\n",
        "print(monthly_return)"
      ],
      "execution_count": 31,
      "outputs": [
        {
          "output_type": "stream",
          "name": "stdout",
          "text": [
            "Date\n",
            "2017-01-31    0.044770\n",
            "2017-02-28    0.068613\n",
            "2017-03-31    0.027684\n",
            "2017-04-30   -0.000348\n",
            "2017-05-31    0.046463\n",
            "2017-06-30   -0.059799\n",
            "2017-07-31    0.036446\n",
            "2017-08-31    0.097261\n",
            "2017-09-30   -0.060530\n",
            "2017-10-31    0.099019\n",
            "2017-11-30    0.033422\n",
            "2017-12-31   -0.010640\n",
            "Freq: M, Name: Close, dtype: float64\n"
          ]
        }
      ]
    },
    {
      "cell_type": "code",
      "metadata": {
        "colab": {
          "base_uri": "https://localhost:8080/"
        },
        "id": "G9375TWnaJeT",
        "outputId": "65c88b88-7e1d-4d5d-c10f-0aa24fa5db8e"
      },
      "source": [
        "# my example\n",
        "alphabet_monthly_return = alphabet.resample('M').agg(lambda x: x[-1]/x[0] - 1)\n",
        "print(alphabet_monthly_return)"
      ],
      "execution_count": 32,
      "outputs": [
        {
          "output_type": "stream",
          "name": "stdout",
          "text": [
            "Date\n",
            "2017-01-31    0.015074\n",
            "2017-02-28    0.036419\n",
            "2017-03-31   -0.010446\n",
            "2017-04-30    0.079101\n",
            "2017-05-31    0.058178\n",
            "2017-06-30   -0.059304\n",
            "2017-07-31    0.028321\n",
            "2017-08-31    0.009170\n",
            "2017-09-30    0.022826\n",
            "2017-10-31    0.067775\n",
            "2017-11-30   -0.006167\n",
            "2017-12-31    0.027637\n",
            "Freq: M, Name: Close, dtype: float64\n"
          ]
        }
      ]
    },
    {
      "cell_type": "markdown",
      "metadata": {
        "id": "_DYbMTFWMj8J"
      },
      "source": [
        "Series object also provides us some convenient methods to do some quick calculation."
      ]
    },
    {
      "cell_type": "code",
      "metadata": {
        "id": "1Mxc0HwvHW98",
        "colab": {
          "base_uri": "https://localhost:8080/"
        },
        "outputId": "0835dac7-d431-4dc4-b180-5b4794e50bff"
      },
      "source": [
        "print(monthly_return.mean())\n",
        "print(monthly_return.std())\n",
        "print(monthly_return.max())"
      ],
      "execution_count": 33,
      "outputs": [
        {
          "output_type": "stream",
          "name": "stdout",
          "text": [
            "0.0268632829336789\n",
            "0.052258530635744954\n",
            "0.09901851007954865\n"
          ]
        }
      ]
    },
    {
      "cell_type": "code",
      "metadata": {
        "colab": {
          "base_uri": "https://localhost:8080/"
        },
        "id": "zaKKFyDuaRuG",
        "outputId": "db4765f4-27a4-41d0-d2a3-6f6e6501beda"
      },
      "source": [
        "# my example\n",
        "print(alphabet_monthly_return.mean())\n",
        "print(alphabet_monthly_return.std())\n",
        "print(alphabet_monthly_return.max())"
      ],
      "execution_count": 34,
      "outputs": [
        {
          "output_type": "stream",
          "name": "stdout",
          "text": [
            "0.02238193569572126\n",
            "0.03767382052951203\n",
            "0.07910127753866347\n"
          ]
        }
      ]
    },
    {
      "cell_type": "markdown",
      "metadata": {
        "id": "mn59J5dqMpqX"
      },
      "source": [
        "Another two methods frequently used on Series are .diff() and .pct_change(). The former calculates the difference between consecutive elements, and the latter calculates the percentage change."
      ]
    },
    {
      "cell_type": "code",
      "metadata": {
        "id": "DupZTSqqHW99",
        "colab": {
          "base_uri": "https://localhost:8080/"
        },
        "outputId": "cc63b6bc-ddbe-43b8-8511-2713ca3a9525"
      },
      "source": [
        "print(last_day.diff())\n",
        "print(last_day.pct_change())"
      ],
      "execution_count": 35,
      "outputs": [
        {
          "output_type": "stream",
          "name": "stdout",
          "text": [
            "Date\n",
            "2017-01-31         NaN\n",
            "2017-02-28    3.825752\n",
            "2017-03-31    1.578686\n",
            "2017-04-30   -0.002369\n",
            "2017-05-31    2.305458\n",
            "2017-06-30   -2.077179\n",
            "2017-07-31    1.119392\n",
            "2017-08-31    3.782169\n",
            "2017-09-30   -2.357323\n",
            "2017-10-31    3.559849\n",
            "2017-11-30    0.817852\n",
            "2017-12-31   -0.627373\n",
            "Freq: M, Name: Close, dtype: float64\n",
            "Date\n",
            "2017-01-31         NaN\n",
            "2017-02-28    0.133778\n",
            "2017-03-31    0.048689\n",
            "2017-04-30   -0.000070\n",
            "2017-05-31    0.067808\n",
            "2017-06-30   -0.057214\n",
            "2017-07-31    0.032704\n",
            "2017-08-31    0.106999\n",
            "2017-09-30   -0.060244\n",
            "2017-10-31    0.096808\n",
            "2017-11-30    0.020278\n",
            "2017-12-31   -0.015246\n",
            "Freq: M, Name: Close, dtype: float64\n"
          ]
        }
      ]
    },
    {
      "cell_type": "code",
      "metadata": {
        "colab": {
          "base_uri": "https://localhost:8080/"
        },
        "id": "Ml69_atZachx",
        "outputId": "ba52144b-f96c-416d-dc1b-b87879e03d1a"
      },
      "source": [
        "# my example\n",
        "print(alphabet_last_day.diff())\n",
        "print(alphabet_last_day.pct_change())"
      ],
      "execution_count": 36,
      "outputs": [
        {
          "output_type": "stream",
          "name": "stdout",
          "text": [
            "Date\n",
            "2017-01-31          NaN\n",
            "2017-02-28    24.739990\n",
            "2017-03-31     2.869995\n",
            "2017-04-30    76.720032\n",
            "2017-05-31    62.570007\n",
            "2017-06-30   -57.410034\n",
            "2017-07-31    15.820007\n",
            "2017-08-31     9.739990\n",
            "2017-09-30    18.479980\n",
            "2017-10-31    59.320068\n",
            "2017-11-30     3.130005\n",
            "2017-12-31    17.229980\n",
            "Freq: M, Name: Close, dtype: float64\n",
            "Date\n",
            "2017-01-31         NaN\n",
            "2017-02-28    0.030164\n",
            "2017-03-31    0.003397\n",
            "2017-04-30    0.090493\n",
            "2017-05-31    0.067678\n",
            "2017-06-30   -0.058161\n",
            "2017-07-31    0.017017\n",
            "2017-08-31    0.010301\n",
            "2017-09-30    0.019346\n",
            "2017-10-31    0.060921\n",
            "2017-11-30    0.003030\n",
            "2017-12-31    0.016629\n",
            "Freq: M, Name: Close, dtype: float64\n"
          ]
        }
      ]
    },
    {
      "cell_type": "markdown",
      "metadata": {
        "id": "RaMAOFepM6Io"
      },
      "source": [
        "Notice that we induced a NaN value while calculating percentage changes i.e. returns.\n",
        "\n",
        "When dealing with NaN values, we usually either removing the data point or fill it with a specific value. Here we fill it with 0:"
      ]
    },
    {
      "cell_type": "code",
      "metadata": {
        "id": "-xyLb3A3HW99",
        "colab": {
          "base_uri": "https://localhost:8080/"
        },
        "outputId": "1e5e4398-6916-46bb-ea2c-c4645e96f7ad"
      },
      "source": [
        "daily_return = last_day.pct_change()\n",
        "print(daily_return.fillna(0))"
      ],
      "execution_count": 37,
      "outputs": [
        {
          "output_type": "stream",
          "name": "stdout",
          "text": [
            "Date\n",
            "2017-01-31    0.000000\n",
            "2017-02-28    0.133778\n",
            "2017-03-31    0.048689\n",
            "2017-04-30   -0.000070\n",
            "2017-05-31    0.067808\n",
            "2017-06-30   -0.057214\n",
            "2017-07-31    0.032704\n",
            "2017-08-31    0.106999\n",
            "2017-09-30   -0.060244\n",
            "2017-10-31    0.096808\n",
            "2017-11-30    0.020278\n",
            "2017-12-31   -0.015246\n",
            "Freq: M, Name: Close, dtype: float64\n"
          ]
        }
      ]
    },
    {
      "cell_type": "code",
      "metadata": {
        "colab": {
          "base_uri": "https://localhost:8080/"
        },
        "id": "Hu0vkXuDalMK",
        "outputId": "4c5b66db-92bc-4b7a-aba7-84c4d493ace5"
      },
      "source": [
        "alphabet_daily_return = alphabet_last_day.pct_change()\n",
        "print(alphabet_daily_return.fillna(0))"
      ],
      "execution_count": 38,
      "outputs": [
        {
          "output_type": "stream",
          "name": "stdout",
          "text": [
            "Date\n",
            "2017-01-31    0.000000\n",
            "2017-02-28    0.030164\n",
            "2017-03-31    0.003397\n",
            "2017-04-30    0.090493\n",
            "2017-05-31    0.067678\n",
            "2017-06-30   -0.058161\n",
            "2017-07-31    0.017017\n",
            "2017-08-31    0.010301\n",
            "2017-09-30    0.019346\n",
            "2017-10-31    0.060921\n",
            "2017-11-30    0.003030\n",
            "2017-12-31    0.016629\n",
            "Freq: M, Name: Close, dtype: float64\n"
          ]
        }
      ]
    },
    {
      "cell_type": "markdown",
      "metadata": {
        "id": "BYS10Om1NQVC"
      },
      "source": [
        "Alternatively, we can fill a NaN with the next fitted value. This is called 'backward fill', or 'bfill' in short:"
      ]
    },
    {
      "cell_type": "code",
      "metadata": {
        "id": "J513kHeKHW9-",
        "colab": {
          "base_uri": "https://localhost:8080/"
        },
        "outputId": "2bf43989-2e38-4707-c4d2-76bc074507a1"
      },
      "source": [
        "daily_return = last_day.pct_change()\n",
        "print(daily_return.fillna(method = 'bfill'))"
      ],
      "execution_count": 41,
      "outputs": [
        {
          "output_type": "stream",
          "name": "stdout",
          "text": [
            "Date\n",
            "2017-01-31    0.133778\n",
            "2017-02-28    0.133778\n",
            "2017-03-31    0.048689\n",
            "2017-04-30   -0.000070\n",
            "2017-05-31    0.067808\n",
            "2017-06-30   -0.057214\n",
            "2017-07-31    0.032704\n",
            "2017-08-31    0.106999\n",
            "2017-09-30   -0.060244\n",
            "2017-10-31    0.096808\n",
            "2017-11-30    0.020278\n",
            "2017-12-31   -0.015246\n",
            "Freq: M, Name: Close, dtype: float64\n"
          ]
        }
      ]
    },
    {
      "cell_type": "code",
      "metadata": {
        "colab": {
          "base_uri": "https://localhost:8080/"
        },
        "id": "-MIlbsVaazD6",
        "outputId": "e6357c21-19dd-4fcb-a96c-9ce817960e2f"
      },
      "source": [
        "# my example\n",
        "alphabet_daily_return = alphabet_last_day.pct_change()\n",
        "print(alphabet_daily_return.fillna(method = 'bfill'))"
      ],
      "execution_count": 40,
      "outputs": [
        {
          "output_type": "stream",
          "name": "stdout",
          "text": [
            "Date\n",
            "2017-01-31    0.030164\n",
            "2017-02-28    0.030164\n",
            "2017-03-31    0.003397\n",
            "2017-04-30    0.090493\n",
            "2017-05-31    0.067678\n",
            "2017-06-30   -0.058161\n",
            "2017-07-31    0.017017\n",
            "2017-08-31    0.010301\n",
            "2017-09-30    0.019346\n",
            "2017-10-31    0.060921\n",
            "2017-11-30    0.003030\n",
            "2017-12-31    0.016629\n",
            "Freq: M, Name: Close, dtype: float64\n"
          ]
        }
      ]
    },
    {
      "cell_type": "markdown",
      "metadata": {
        "id": "bj8QUSgdNepf"
      },
      "source": [
        "As expected, since there is a 'backward fill' method, there must be a 'forward fill' method, or 'ffill' in short. However we can't use it here because the NaN is the first value.\n",
        "\n",
        "We can also simply remove NaN values by **_.dropna()_**"
      ]
    },
    {
      "cell_type": "code",
      "metadata": {
        "id": "WG5ux1lqHW9-",
        "colab": {
          "base_uri": "https://localhost:8080/"
        },
        "outputId": "dec0f8da-44d3-4b86-e85c-5eeae19403d3"
      },
      "source": [
        "daily_return = last_day.pct_change()\n",
        "daily_return.dropna()"
      ],
      "execution_count": 42,
      "outputs": [
        {
          "output_type": "execute_result",
          "data": {
            "text/plain": [
              "Date\n",
              "2017-02-28    0.133778\n",
              "2017-03-31    0.048689\n",
              "2017-04-30   -0.000070\n",
              "2017-05-31    0.067808\n",
              "2017-06-30   -0.057214\n",
              "2017-07-31    0.032704\n",
              "2017-08-31    0.106999\n",
              "2017-09-30   -0.060244\n",
              "2017-10-31    0.096808\n",
              "2017-11-30    0.020278\n",
              "2017-12-31   -0.015246\n",
              "Freq: M, Name: Close, dtype: float64"
            ]
          },
          "metadata": {},
          "execution_count": 42
        }
      ]
    },
    {
      "cell_type": "code",
      "metadata": {
        "colab": {
          "base_uri": "https://localhost:8080/"
        },
        "id": "EAwmzsJ2bADE",
        "outputId": "d0d9db5c-4c35-4132-d160-542986c7c07e"
      },
      "source": [
        "alphabet_daily_return = alphabet_last_day.pct_change()\n",
        "alphabet_daily_return.dropna()"
      ],
      "execution_count": 43,
      "outputs": [
        {
          "output_type": "execute_result",
          "data": {
            "text/plain": [
              "Date\n",
              "2017-02-28    0.030164\n",
              "2017-03-31    0.003397\n",
              "2017-04-30    0.090493\n",
              "2017-05-31    0.067678\n",
              "2017-06-30   -0.058161\n",
              "2017-07-31    0.017017\n",
              "2017-08-31    0.010301\n",
              "2017-09-30    0.019346\n",
              "2017-10-31    0.060921\n",
              "2017-11-30    0.003030\n",
              "2017-12-31    0.016629\n",
              "Freq: M, Name: Close, dtype: float64"
            ]
          },
          "metadata": {},
          "execution_count": 43
        }
      ]
    },
    {
      "cell_type": "markdown",
      "metadata": {
        "id": "nQH2eBWkNjdC"
      },
      "source": [
        "# DataFrame\n",
        "The **DataFrame** is the most commonly used data structure in Pandas. It is essentially a table, just like an Excel spreadsheet.\n",
        "\n",
        "More precisely, a DataFrame is a collection of Series objects, each of which may contain different data types. A DataFrame can be created from various data types: dictionary, 2-D numpy.ndarray, a Series or another DataFrame.\n",
        "\n",
        "## Create DataFrames\n",
        "The most common method of creating a DataFrame is passing a dictionary:"
      ]
    },
    {
      "cell_type": "code",
      "metadata": {
        "id": "vd5Wf1ohHW9-",
        "colab": {
          "base_uri": "https://localhost:8080/"
        },
        "outputId": "dcce805e-1f86-4e9a-f86c-cbca63f02141"
      },
      "source": [
        "import pandas as pd\n",
        "\n",
        "dict = {'AAPL': [143.5, 144.09, 142.73, 144.18, 143.77],'GOOG':[898.7, 911.71, 906.69, 918.59, 926.99],\n",
        "        'IBM':[155.58, 153.67, 152.36, 152.94, 153.49]}\n",
        "data_index = pd.date_range('2017-07-03',periods = 5, freq = 'D')\n",
        "df = pd.DataFrame(dict, index = data_index)\n",
        "print(df)"
      ],
      "execution_count": 45,
      "outputs": [
        {
          "output_type": "stream",
          "name": "stdout",
          "text": [
            "              AAPL    GOOG     IBM\n",
            "2017-07-03  143.50  898.70  155.58\n",
            "2017-07-04  144.09  911.71  153.67\n",
            "2017-07-05  142.73  906.69  152.36\n",
            "2017-07-06  144.18  918.59  152.94\n",
            "2017-07-07  143.77  926.99  153.49\n"
          ]
        }
      ]
    },
    {
      "cell_type": "code",
      "metadata": {
        "colab": {
          "base_uri": "https://localhost:8080/"
        },
        "id": "90uE8BFGblcT",
        "outputId": "456dcb44-b431-4190-90a7-b2077d9e64f9"
      },
      "source": [
        "# my example\n",
        "import pandas as pd\n",
        "\n",
        "my_dict = {'ExA': [1,2,3,4,5],'ExB':[10,15,20,25,30],\n",
        "        'ExC':[200,100,50,25,12.5]}\n",
        "data_index = pd.date_range('2017-07-03',periods = 5, freq = 'D')\n",
        "my_df = pd.DataFrame(my_dict, index = data_index)\n",
        "print(my_df)"
      ],
      "execution_count": 46,
      "outputs": [
        {
          "output_type": "stream",
          "name": "stdout",
          "text": [
            "            ExA  ExB    ExC\n",
            "2017-07-03    1   10  200.0\n",
            "2017-07-04    2   15  100.0\n",
            "2017-07-05    3   20   50.0\n",
            "2017-07-06    4   25   25.0\n",
            "2017-07-07    5   30   12.5\n"
          ]
        }
      ]
    },
    {
      "cell_type": "markdown",
      "metadata": {
        "id": "0uYmLQTgOPnX"
      },
      "source": [
        "## Manipulating DataFrames\n",
        "We can fetch values in a DataFrame by columns and index. Each column in a DataFrame is essentially a Pandas Series. We can fetch a column by square brackets: **df['column_name']**\n",
        "\n",
        "If a column name contains no spaces, then we can also use df.column_name to fetch a column:"
      ]
    },
    {
      "cell_type": "code",
      "metadata": {
        "id": "2pB2f7lBHW9_",
        "colab": {
          "base_uri": "https://localhost:8080/"
        },
        "outputId": "8c322bed-1676-4ea6-fb11-487f16d5afb6"
      },
      "source": [
        "df = aapl_table\n",
        "print(df.Close.tail(5))\n",
        "print(df['Volume'].tail(5))"
      ],
      "execution_count": 47,
      "outputs": [
        {
          "output_type": "stream",
          "name": "stdout",
          "text": [
            "Date\n",
            "2017-12-22    41.906769\n",
            "2017-12-26    40.843601\n",
            "2017-12-27    40.850792\n",
            "2017-12-28    40.965733\n",
            "2017-12-29    40.522728\n",
            "Name: Close, dtype: float64\n",
            "Date\n",
            "2017-12-22     65397600\n",
            "2017-12-26    132742000\n",
            "2017-12-27     85992800\n",
            "2017-12-28     65920800\n",
            "2017-12-29    103999600\n",
            "Name: Volume, dtype: int64\n"
          ]
        }
      ]
    },
    {
      "cell_type": "code",
      "metadata": {
        "colab": {
          "base_uri": "https://localhost:8080/"
        },
        "id": "2VvSRSHldHXZ",
        "outputId": "b4941774-606a-46d0-ca7b-ce6bea0156b1"
      },
      "source": [
        "# my example\n",
        "my_df = alphabet_table\n",
        "print(my_df.Close.tail(5))\n",
        "print(my_df['Volume'].tail(5))"
      ],
      "execution_count": 48,
      "outputs": [
        {
          "output_type": "stream",
          "name": "stdout",
          "text": [
            "Date\n",
            "2017-12-22    1068.859985\n",
            "2017-12-26    1065.849976\n",
            "2017-12-27    1060.199951\n",
            "2017-12-28    1055.949951\n",
            "2017-12-29    1053.400024\n",
            "Name: Close, dtype: float64\n",
            "Date\n",
            "2017-12-22     889400\n",
            "2017-12-26     918800\n",
            "2017-12-27    1116200\n",
            "2017-12-28     994200\n",
            "2017-12-29    1180300\n",
            "Name: Volume, dtype: int64\n"
          ]
        }
      ]
    },
    {
      "cell_type": "markdown",
      "metadata": {
        "id": "z0ugOel9O4-P"
      },
      "source": [
        "All the methods we applied to a Series index such as iloc[], loc[] and resampling methods, can also be applied to a DataFrame:"
      ]
    },
    {
      "cell_type": "code",
      "metadata": {
        "id": "_8dfjkedHW9_",
        "colab": {
          "base_uri": "https://localhost:8080/"
        },
        "outputId": "e2847cfe-ba4e-41de-999b-b8b55c21a6d9"
      },
      "source": [
        "aapl_2016 = df['2016']\n",
        "aapl_month = aapl_2016.resample('M').agg(lambda x: x[-1])\n",
        "print(aapl_month)"
      ],
      "execution_count": 49,
      "outputs": [
        {
          "output_type": "stream",
          "name": "stdout",
          "text": [
            "                 Open       High        Low  ...     Volume  Dividends  Stock Splits\n",
            "Date                                         ...                                    \n",
            "2016-01-31  21.852382  22.440245  21.750946  ...  257666000        0.0             0\n",
            "2016-02-29  22.450755  22.768302  22.402081  ...  140865200        0.0             0\n",
            "2016-03-31  25.431522  25.473243  25.236821  ...  103553600        0.0             0\n",
            "2016-04-30  21.785535  21.954739  21.442493  ...  274126000        0.0             0\n",
            "2016-05-31  23.226401  23.412960  23.044508  ...  169228800        0.0             0\n",
            "2016-06-30  22.023112  22.333262  21.990464  ...  143345600        0.0             0\n",
            "2016-07-31  24.296780  24.380731  24.177849  ...  110934800        0.0             0\n",
            "2016-08-31  24.773058  24.986415  24.768367  ...  118649600        0.0             0\n",
            "2016-09-30  26.367388  26.580747  26.212645  ...  145516400        0.0             0\n",
            "2016-10-31  26.646394  26.782382  26.540886  ...  105677600        0.0             0\n",
            "2016-11-30  26.300090  26.441488  25.986656  ...  144649200        0.0             0\n",
            "2016-12-31  27.490199  27.619813  27.202689  ...  122345200        0.0             0\n",
            "\n",
            "[12 rows x 7 columns]\n"
          ]
        }
      ]
    },
    {
      "cell_type": "code",
      "metadata": {
        "colab": {
          "base_uri": "https://localhost:8080/"
        },
        "id": "pg40zeildW2H",
        "outputId": "bc647674-234d-42d5-b139-dfda9cc7e95a"
      },
      "source": [
        "# my example\n",
        "alphabet_2016 = my_df['2016']\n",
        "alphabet_month = alphabet_2016.resample('M').agg(lambda x: x[-1])\n",
        "print(alphabet_month)"
      ],
      "execution_count": 50,
      "outputs": [
        {
          "output_type": "stream",
          "name": "stdout",
          "text": [
            "                  Open        High  ...  Dividends  Stock Splits\n",
            "Date                                ...                         \n",
            "2016-01-31  748.960022  765.109985  ...          0             0\n",
            "2016-02-29  721.000000  730.599976  ...          0             0\n",
            "2016-03-31  768.340027  769.080017  ...          0             0\n",
            "2016-04-30  704.119995  712.109985  ...          0             0\n",
            "2016-05-31  748.760010  753.479980  ...          0             0\n",
            "2016-06-30  697.650024  703.770020  ...          0             0\n",
            "2016-07-31  797.710022  803.940002  ...          0             0\n",
            "2016-08-31  789.599976  791.570007  ...          0             0\n",
            "2016-09-30  803.599976  808.090027  ...          0             0\n",
            "2016-10-31  822.429993  822.630005  ...          0             0\n",
            "2016-11-30  789.099976  791.510010  ...          0             0\n",
            "2016-12-31  803.210022  803.289978  ...          0             0\n",
            "\n",
            "[12 rows x 7 columns]\n"
          ]
        }
      ]
    },
    {
      "cell_type": "markdown",
      "metadata": {
        "id": "CqrbrbFZPTJe"
      },
      "source": [
        "We may select certain columns of a DataFrame using their names:"
      ]
    },
    {
      "cell_type": "code",
      "metadata": {
        "id": "7bQGeyCAHW9_",
        "colab": {
          "base_uri": "https://localhost:8080/"
        },
        "outputId": "49ab5ff2-2597-4e13-ce74-d3492a76ae20"
      },
      "source": [
        "aapl_bar = aapl_month[['Open', 'High', 'Low', 'Close']]\n",
        "print(aapl_bar)"
      ],
      "execution_count": 51,
      "outputs": [
        {
          "output_type": "stream",
          "name": "stdout",
          "text": [
            "                 Open       High        Low      Close\n",
            "Date                                                  \n",
            "2016-01-31  21.852382  22.440245  21.750946  22.440245\n",
            "2016-02-29  22.450755  22.768302  22.402081  22.411352\n",
            "2016-03-31  25.431522  25.473243  25.236821  25.262318\n",
            "2016-04-30  21.785535  21.954739  21.442493  21.727589\n",
            "2016-05-31  23.226401  23.412960  23.044508  23.287033\n",
            "2016-06-30  22.023112  22.333262  21.990464  22.293619\n",
            "2016-07-31  24.296780  24.380731  24.177849  24.301443\n",
            "2016-08-31  24.773058  24.986415  24.768367  24.876219\n",
            "2016-09-30  26.367388  26.580747  26.212645  26.505720\n",
            "2016-10-31  26.646394  26.782382  26.540886  26.620604\n",
            "2016-11-30  26.300090  26.441488  25.986656  26.045572\n",
            "2016-12-31  27.490199  27.619813  27.202689  27.294598\n"
          ]
        }
      ]
    },
    {
      "cell_type": "code",
      "metadata": {
        "colab": {
          "base_uri": "https://localhost:8080/"
        },
        "id": "01gC7AAnfJl9",
        "outputId": "b2553812-e31f-4531-df96-28578ceda133"
      },
      "source": [
        "# my example\n",
        "alphabet_bar = alphabet_month[['Open', 'High', 'Low', 'Close']]\n",
        "print(alphabet_bar)"
      ],
      "execution_count": 52,
      "outputs": [
        {
          "output_type": "stream",
          "name": "stdout",
          "text": [
            "                  Open        High         Low       Close\n",
            "Date                                                      \n",
            "2016-01-31  748.960022  765.109985  744.200012  761.349976\n",
            "2016-02-29  721.000000  730.599976  716.840027  717.219971\n",
            "2016-03-31  768.340027  769.080017  758.250000  762.900024\n",
            "2016-04-30  704.119995  712.109985  703.780029  707.880005\n",
            "2016-05-31  748.760010  753.479980  745.570007  748.849976\n",
            "2016-06-30  697.650024  703.770020  694.900024  703.530029\n",
            "2016-07-31  797.710022  803.940002  790.000000  791.340027\n",
            "2016-08-31  789.599976  791.570007  787.200012  789.849976\n",
            "2016-09-30  803.599976  808.090027  801.500000  804.059998\n",
            "2016-10-31  822.429993  822.630005  808.000000  809.900024\n",
            "2016-11-30  789.099976  791.510010  773.150024  775.880005\n",
            "2016-12-31  803.210022  803.289978  789.619995  792.450012\n"
          ]
        }
      ]
    },
    {
      "cell_type": "markdown",
      "metadata": {
        "id": "8CQaZCAQP68O"
      },
      "source": [
        "We can even specify both rows and columns using loc[]. The row indices and column names are separated by a comma:"
      ]
    },
    {
      "cell_type": "code",
      "metadata": {
        "id": "YjWWiHVpHW-A",
        "colab": {
          "base_uri": "https://localhost:8080/"
        },
        "outputId": "24f15261-1eb1-464d-cc85-5dda6722dde7"
      },
      "source": [
        "print(aapl_month.loc['2016-03':'2016-06',['Open', 'High', 'Low', 'Close']])"
      ],
      "execution_count": 53,
      "outputs": [
        {
          "output_type": "stream",
          "name": "stdout",
          "text": [
            "                 Open       High        Low      Close\n",
            "Date                                                  \n",
            "2016-03-31  25.431522  25.473243  25.236821  25.262318\n",
            "2016-04-30  21.785535  21.954739  21.442493  21.727589\n",
            "2016-05-31  23.226401  23.412960  23.044508  23.287033\n",
            "2016-06-30  22.023112  22.333262  21.990464  22.293619\n"
          ]
        }
      ]
    },
    {
      "cell_type": "code",
      "metadata": {
        "colab": {
          "base_uri": "https://localhost:8080/"
        },
        "id": "oD5Av8rVfVpZ",
        "outputId": "9cbfdcba-e6b7-4f6a-8714-ddf1e337e38e"
      },
      "source": [
        "# my example\n",
        "print(alphabet_month.loc['2016-03':'2016-06',['Open', 'High', 'Low', 'Close']])"
      ],
      "execution_count": 54,
      "outputs": [
        {
          "output_type": "stream",
          "name": "stdout",
          "text": [
            "                  Open        High         Low       Close\n",
            "Date                                                      \n",
            "2016-03-31  768.340027  769.080017  758.250000  762.900024\n",
            "2016-04-30  704.119995  712.109985  703.780029  707.880005\n",
            "2016-05-31  748.760010  753.479980  745.570007  748.849976\n",
            "2016-06-30  697.650024  703.770020  694.900024  703.530029\n"
          ]
        }
      ]
    },
    {
      "cell_type": "markdown",
      "metadata": {
        "id": "Xcn_pHNLQBEH"
      },
      "source": [
        "The subset methods in DataFrame is quite useful. By writing logical statements in square brackets, we can make customized subsets:"
      ]
    },
    {
      "cell_type": "code",
      "metadata": {
        "id": "RxKg4dObHW-A",
        "colab": {
          "base_uri": "https://localhost:8080/"
        },
        "outputId": "b8381e7c-c108-45ad-ed33-0d25870ef180"
      },
      "source": [
        "import numpy as np\n",
        "\n",
        "above = aapl_bar[aapl_bar.Close > np.mean(aapl_bar.Close)]\n",
        "print(above)"
      ],
      "execution_count": 55,
      "outputs": [
        {
          "output_type": "stream",
          "name": "stdout",
          "text": [
            "                 Open       High        Low      Close\n",
            "Date                                                  \n",
            "2016-03-31  25.431522  25.473243  25.236821  25.262318\n",
            "2016-08-31  24.773058  24.986415  24.768367  24.876219\n",
            "2016-09-30  26.367388  26.580747  26.212645  26.505720\n",
            "2016-10-31  26.646394  26.782382  26.540886  26.620604\n",
            "2016-11-30  26.300090  26.441488  25.986656  26.045572\n",
            "2016-12-31  27.490199  27.619813  27.202689  27.294598\n"
          ]
        }
      ]
    },
    {
      "cell_type": "code",
      "metadata": {
        "colab": {
          "base_uri": "https://localhost:8080/"
        },
        "id": "ZypJZWPcfhyk",
        "outputId": "f85c9c43-ddc1-4536-a0da-f2f52244862a"
      },
      "source": [
        "# my example\n",
        "import numpy as np\n",
        "\n",
        "alphabet_above = alphabet_bar[alphabet_bar.Close > np.mean(alphabet_bar.Close)]\n",
        "print(alphabet_above)"
      ],
      "execution_count": 56,
      "outputs": [
        {
          "output_type": "stream",
          "name": "stdout",
          "text": [
            "                  Open        High         Low       Close\n",
            "Date                                                      \n",
            "2016-07-31  797.710022  803.940002  790.000000  791.340027\n",
            "2016-08-31  789.599976  791.570007  787.200012  789.849976\n",
            "2016-09-30  803.599976  808.090027  801.500000  804.059998\n",
            "2016-10-31  822.429993  822.630005  808.000000  809.900024\n",
            "2016-11-30  789.099976  791.510010  773.150024  775.880005\n",
            "2016-12-31  803.210022  803.289978  789.619995  792.450012\n"
          ]
        }
      ]
    },
    {
      "cell_type": "markdown",
      "metadata": {
        "id": "wcm_UadkQLL5"
      },
      "source": [
        "## Data Validation\n",
        "As mentioned, all methods that apply to a Series can also be applied to a DataFrame. Here we add a new column to an existing DataFrame:"
      ]
    },
    {
      "cell_type": "code",
      "metadata": {
        "id": "jZXFdOVFHW-A",
        "colab": {
          "base_uri": "https://localhost:8080/"
        },
        "outputId": "78306c08-8632-49fb-ede3-c1e59468c9d4"
      },
      "source": [
        "aapl_bar['rate_return'] = aapl_bar.Close.pct_change()\n",
        "print(aapl_bar)"
      ],
      "execution_count": 61,
      "outputs": [
        {
          "output_type": "stream",
          "name": "stdout",
          "text": [
            "                 Open       High        Low      Close  rate_return\n",
            "Date                                                               \n",
            "2016-01-31  21.852382  22.440245  21.750946  22.440245          NaN\n",
            "2016-02-29  22.450755  22.768302  22.402081  22.411352    -0.001288\n",
            "2016-03-31  25.431522  25.473243  25.236821  25.262318     0.127211\n",
            "2016-04-30  21.785535  21.954739  21.442493  21.727589    -0.139921\n",
            "2016-05-31  23.226401  23.412960  23.044508  23.287033     0.071773\n",
            "2016-06-30  22.023112  22.333262  21.990464  22.293619    -0.042660\n",
            "2016-07-31  24.296780  24.380731  24.177849  24.301443     0.090063\n",
            "2016-08-31  24.773058  24.986415  24.768367  24.876219     0.023652\n",
            "2016-09-30  26.367388  26.580747  26.212645  26.505720     0.065504\n",
            "2016-10-31  26.646394  26.782382  26.540886  26.620604     0.004334\n",
            "2016-11-30  26.300090  26.441488  25.986656  26.045572    -0.021601\n",
            "2016-12-31  27.490199  27.619813  27.202689  27.294598     0.047955\n"
          ]
        },
        {
          "output_type": "stream",
          "name": "stderr",
          "text": [
            "/usr/local/lib/python3.7/dist-packages/ipykernel_launcher.py:1: SettingWithCopyWarning: \n",
            "A value is trying to be set on a copy of a slice from a DataFrame.\n",
            "Try using .loc[row_indexer,col_indexer] = value instead\n",
            "\n",
            "See the caveats in the documentation: https://pandas.pydata.org/pandas-docs/stable/user_guide/indexing.html#returning-a-view-versus-a-copy\n",
            "  \"\"\"Entry point for launching an IPython kernel.\n"
          ]
        }
      ]
    },
    {
      "cell_type": "code",
      "metadata": {
        "colab": {
          "base_uri": "https://localhost:8080/"
        },
        "id": "BMZbjkfEgAl1",
        "outputId": "7641b8fa-9e71-4c95-b783-c77660feb259"
      },
      "source": [
        "# my example\n",
        "alphabet_bar['rate_return'] = alphabet_bar.Close.pct_change()\n",
        "print(alphabet_bar)"
      ],
      "execution_count": 64,
      "outputs": [
        {
          "output_type": "stream",
          "name": "stdout",
          "text": [
            "                  Open        High         Low       Close  rate_return\n",
            "Date                                                                   \n",
            "2016-01-31  748.960022  765.109985  744.200012  761.349976          NaN\n",
            "2016-02-29  721.000000  730.599976  716.840027  717.219971    -0.057963\n",
            "2016-03-31  768.340027  769.080017  758.250000  762.900024     0.063690\n",
            "2016-04-30  704.119995  712.109985  703.780029  707.880005    -0.072120\n",
            "2016-05-31  748.760010  753.479980  745.570007  748.849976     0.057877\n",
            "2016-06-30  697.650024  703.770020  694.900024  703.530029    -0.060519\n",
            "2016-07-31  797.710022  803.940002  790.000000  791.340027     0.124813\n",
            "2016-08-31  789.599976  791.570007  787.200012  789.849976    -0.001883\n",
            "2016-09-30  803.599976  808.090027  801.500000  804.059998     0.017991\n",
            "2016-10-31  822.429993  822.630005  808.000000  809.900024     0.007263\n",
            "2016-11-30  789.099976  791.510010  773.150024  775.880005    -0.042005\n",
            "2016-12-31  803.210022  803.289978  789.619995  792.450012     0.021356\n"
          ]
        },
        {
          "output_type": "stream",
          "name": "stderr",
          "text": [
            "/usr/local/lib/python3.7/dist-packages/ipykernel_launcher.py:2: SettingWithCopyWarning: \n",
            "A value is trying to be set on a copy of a slice from a DataFrame.\n",
            "Try using .loc[row_indexer,col_indexer] = value instead\n",
            "\n",
            "See the caveats in the documentation: https://pandas.pydata.org/pandas-docs/stable/user_guide/indexing.html#returning-a-view-versus-a-copy\n",
            "  \n"
          ]
        }
      ]
    },
    {
      "cell_type": "markdown",
      "metadata": {
        "id": "_or6n5-LQUa-"
      },
      "source": [
        "Here the calculation introduced a NaN value. If the DataFrame is large, we would not be able to observe it. **isnull()** provides a convenient way to check abnormal values."
      ]
    },
    {
      "cell_type": "code",
      "metadata": {
        "id": "V5wgmhIPHW-B",
        "colab": {
          "base_uri": "https://localhost:8080/"
        },
        "outputId": "9e793faa-44b4-4afc-9426-bbef78aca04d"
      },
      "source": [
        "missing = aapl_bar.isnull()\n",
        "print(missing)\n",
        "print('---------------------------------------------')\n",
        "print(missing.describe())"
      ],
      "execution_count": 63,
      "outputs": [
        {
          "output_type": "stream",
          "name": "stdout",
          "text": [
            "             Open   High    Low  Close  rate_return\n",
            "Date                                               \n",
            "2016-01-31  False  False  False  False         True\n",
            "2016-02-29  False  False  False  False        False\n",
            "2016-03-31  False  False  False  False        False\n",
            "2016-04-30  False  False  False  False        False\n",
            "2016-05-31  False  False  False  False        False\n",
            "2016-06-30  False  False  False  False        False\n",
            "2016-07-31  False  False  False  False        False\n",
            "2016-08-31  False  False  False  False        False\n",
            "2016-09-30  False  False  False  False        False\n",
            "2016-10-31  False  False  False  False        False\n",
            "2016-11-30  False  False  False  False        False\n",
            "2016-12-31  False  False  False  False        False\n",
            "---------------------------------------------\n",
            "         Open   High    Low  Close rate_return\n",
            "count      12     12     12     12          12\n",
            "unique      1      1      1      1           2\n",
            "top     False  False  False  False       False\n",
            "freq       12     12     12     12          11\n"
          ]
        }
      ]
    },
    {
      "cell_type": "code",
      "metadata": {
        "colab": {
          "base_uri": "https://localhost:8080/"
        },
        "id": "B6R0J7XygLhC",
        "outputId": "4960f13b-92fc-4f42-da40-6ef97fcec792"
      },
      "source": [
        "# my example\n",
        "alphabet_missing = alphabet_bar.isnull()\n",
        "print(alphabet_missing)\n",
        "print('---------------------------------------------')\n",
        "print(alphabet_missing.describe())"
      ],
      "execution_count": 65,
      "outputs": [
        {
          "output_type": "stream",
          "name": "stdout",
          "text": [
            "             Open   High    Low  Close  rate_return\n",
            "Date                                               \n",
            "2016-01-31  False  False  False  False         True\n",
            "2016-02-29  False  False  False  False        False\n",
            "2016-03-31  False  False  False  False        False\n",
            "2016-04-30  False  False  False  False        False\n",
            "2016-05-31  False  False  False  False        False\n",
            "2016-06-30  False  False  False  False        False\n",
            "2016-07-31  False  False  False  False        False\n",
            "2016-08-31  False  False  False  False        False\n",
            "2016-09-30  False  False  False  False        False\n",
            "2016-10-31  False  False  False  False        False\n",
            "2016-11-30  False  False  False  False        False\n",
            "2016-12-31  False  False  False  False        False\n",
            "---------------------------------------------\n",
            "         Open   High    Low  Close rate_return\n",
            "count      12     12     12     12          12\n",
            "unique      1      1      1      1           2\n",
            "top     False  False  False  False       False\n",
            "freq       12     12     12     12          11\n"
          ]
        }
      ]
    },
    {
      "cell_type": "markdown",
      "metadata": {
        "id": "d6KFV4i0QfLW"
      },
      "source": [
        "The row labelled \"unique\" indicates the number of unique values in each column. Since the \"rate_return\" column has 2 unique values, it has at least one missing value.\n",
        "\n",
        "We can deduce the number of missing values by comparing \"count\" with \"freq\". There are 12 counts and 11 False values, so there is one True value which corresponds to the missing value.\n",
        "\n",
        "We can also find the rows with missing values easily:"
      ]
    },
    {
      "cell_type": "code",
      "metadata": {
        "id": "Eo0ZAhCsHW-B",
        "colab": {
          "base_uri": "https://localhost:8080/"
        },
        "outputId": "dacf75e7-342a-40b5-9a76-94b7b9d94111"
      },
      "source": [
        "print(missing[missing.rate_return == True])"
      ],
      "execution_count": 67,
      "outputs": [
        {
          "output_type": "stream",
          "name": "stdout",
          "text": [
            "             Open   High    Low  Close  rate_return\n",
            "Date                                               \n",
            "2016-01-31  False  False  False  False         True\n"
          ]
        }
      ]
    },
    {
      "cell_type": "code",
      "metadata": {
        "colab": {
          "base_uri": "https://localhost:8080/"
        },
        "id": "ua8onVvXgn-A",
        "outputId": "15ff409d-a338-4b2d-b043-02b6c380e011"
      },
      "source": [
        "# my example\n",
        "print(alphabet_missing[alphabet_missing.rate_return == True])"
      ],
      "execution_count": 68,
      "outputs": [
        {
          "output_type": "stream",
          "name": "stdout",
          "text": [
            "             Open   High    Low  Close  rate_return\n",
            "Date                                               \n",
            "2016-01-31  False  False  False  False         True\n"
          ]
        }
      ]
    },
    {
      "cell_type": "markdown",
      "metadata": {
        "id": "qgggpD8OQkZX"
      },
      "source": [
        "Usually when dealing with missing data, we either delete the whole row or fill it with some value. As we introduced in the Series chapter, the same method **dropna()** and **fillna()** can be applied to a DataFrame."
      ]
    },
    {
      "cell_type": "code",
      "metadata": {
        "id": "j8PaIokjHW-B",
        "colab": {
          "base_uri": "https://localhost:8080/"
        },
        "outputId": "9213b89f-e805-4027-8b4f-c66a12577400"
      },
      "source": [
        "drop = aapl_bar.dropna()\n",
        "print(drop)\n",
        "print('\\n--------------------------------------------------\\n')\n",
        "fill = aapl_bar.fillna(0)\n",
        "print(fill)"
      ],
      "execution_count": 69,
      "outputs": [
        {
          "output_type": "stream",
          "name": "stdout",
          "text": [
            "                 Open       High        Low      Close  rate_return\n",
            "Date                                                               \n",
            "2016-02-29  22.450755  22.768302  22.402081  22.411352    -0.001288\n",
            "2016-03-31  25.431522  25.473243  25.236821  25.262318     0.127211\n",
            "2016-04-30  21.785535  21.954739  21.442493  21.727589    -0.139921\n",
            "2016-05-31  23.226401  23.412960  23.044508  23.287033     0.071773\n",
            "2016-06-30  22.023112  22.333262  21.990464  22.293619    -0.042660\n",
            "2016-07-31  24.296780  24.380731  24.177849  24.301443     0.090063\n",
            "2016-08-31  24.773058  24.986415  24.768367  24.876219     0.023652\n",
            "2016-09-30  26.367388  26.580747  26.212645  26.505720     0.065504\n",
            "2016-10-31  26.646394  26.782382  26.540886  26.620604     0.004334\n",
            "2016-11-30  26.300090  26.441488  25.986656  26.045572    -0.021601\n",
            "2016-12-31  27.490199  27.619813  27.202689  27.294598     0.047955\n",
            "\n",
            "--------------------------------------------------\n",
            "\n",
            "                 Open       High        Low      Close  rate_return\n",
            "Date                                                               \n",
            "2016-01-31  21.852382  22.440245  21.750946  22.440245     0.000000\n",
            "2016-02-29  22.450755  22.768302  22.402081  22.411352    -0.001288\n",
            "2016-03-31  25.431522  25.473243  25.236821  25.262318     0.127211\n",
            "2016-04-30  21.785535  21.954739  21.442493  21.727589    -0.139921\n",
            "2016-05-31  23.226401  23.412960  23.044508  23.287033     0.071773\n",
            "2016-06-30  22.023112  22.333262  21.990464  22.293619    -0.042660\n",
            "2016-07-31  24.296780  24.380731  24.177849  24.301443     0.090063\n",
            "2016-08-31  24.773058  24.986415  24.768367  24.876219     0.023652\n",
            "2016-09-30  26.367388  26.580747  26.212645  26.505720     0.065504\n",
            "2016-10-31  26.646394  26.782382  26.540886  26.620604     0.004334\n",
            "2016-11-30  26.300090  26.441488  25.986656  26.045572    -0.021601\n",
            "2016-12-31  27.490199  27.619813  27.202689  27.294598     0.047955\n"
          ]
        }
      ]
    },
    {
      "cell_type": "code",
      "metadata": {
        "colab": {
          "base_uri": "https://localhost:8080/"
        },
        "id": "Wx0BKdQ6hT95",
        "outputId": "55a0d39a-66e2-4f31-9163-27257634286d"
      },
      "source": [
        "# my example\n",
        "alphabet_drop = alphabet_bar.dropna()\n",
        "print(alphabet_drop)\n",
        "print('\\n--------------------------------------------------\\n')\n",
        "alphabet_fill = alphabet_bar.fillna(0)\n",
        "print(alphabet_fill)"
      ],
      "execution_count": 70,
      "outputs": [
        {
          "output_type": "stream",
          "name": "stdout",
          "text": [
            "                  Open        High         Low       Close  rate_return\n",
            "Date                                                                   \n",
            "2016-02-29  721.000000  730.599976  716.840027  717.219971    -0.057963\n",
            "2016-03-31  768.340027  769.080017  758.250000  762.900024     0.063690\n",
            "2016-04-30  704.119995  712.109985  703.780029  707.880005    -0.072120\n",
            "2016-05-31  748.760010  753.479980  745.570007  748.849976     0.057877\n",
            "2016-06-30  697.650024  703.770020  694.900024  703.530029    -0.060519\n",
            "2016-07-31  797.710022  803.940002  790.000000  791.340027     0.124813\n",
            "2016-08-31  789.599976  791.570007  787.200012  789.849976    -0.001883\n",
            "2016-09-30  803.599976  808.090027  801.500000  804.059998     0.017991\n",
            "2016-10-31  822.429993  822.630005  808.000000  809.900024     0.007263\n",
            "2016-11-30  789.099976  791.510010  773.150024  775.880005    -0.042005\n",
            "2016-12-31  803.210022  803.289978  789.619995  792.450012     0.021356\n",
            "\n",
            "--------------------------------------------------\n",
            "\n",
            "                  Open        High         Low       Close  rate_return\n",
            "Date                                                                   \n",
            "2016-01-31  748.960022  765.109985  744.200012  761.349976     0.000000\n",
            "2016-02-29  721.000000  730.599976  716.840027  717.219971    -0.057963\n",
            "2016-03-31  768.340027  769.080017  758.250000  762.900024     0.063690\n",
            "2016-04-30  704.119995  712.109985  703.780029  707.880005    -0.072120\n",
            "2016-05-31  748.760010  753.479980  745.570007  748.849976     0.057877\n",
            "2016-06-30  697.650024  703.770020  694.900024  703.530029    -0.060519\n",
            "2016-07-31  797.710022  803.940002  790.000000  791.340027     0.124813\n",
            "2016-08-31  789.599976  791.570007  787.200012  789.849976    -0.001883\n",
            "2016-09-30  803.599976  808.090027  801.500000  804.059998     0.017991\n",
            "2016-10-31  822.429993  822.630005  808.000000  809.900024     0.007263\n",
            "2016-11-30  789.099976  791.510010  773.150024  775.880005    -0.042005\n",
            "2016-12-31  803.210022  803.289978  789.619995  792.450012     0.021356\n"
          ]
        }
      ]
    },
    {
      "cell_type": "markdown",
      "metadata": {
        "id": "0tvoFlKWQxYG"
      },
      "source": [
        "## DataFrame Concat\n",
        "We have seen how to extract a Series from a dataFrame. Now we need to consider how to merge a Series or a DataFrame into another one.\n",
        "\n",
        "In Pandas, the function **concat()** allows us to merge multiple Series into a DataFrame:"
      ]
    },
    {
      "cell_type": "code",
      "metadata": {
        "id": "uQrmLIWKHW-C",
        "colab": {
          "base_uri": "https://localhost:8080/"
        },
        "outputId": "99c73051-fd3e-4c6b-c8ff-61c026e487d6"
      },
      "source": [
        "s1 = pd.Series([143.5, 144.09, 142.73, 144.18, 143.77], name = 'AAPL')\n",
        "s2 = pd.Series([898.7, 911.71, 906.69, 918.59, 926.99], name = 'GOOG')\n",
        "data_frame = pd.concat([s1,s2], axis = 1)\n",
        "print(data_frame)"
      ],
      "execution_count": 72,
      "outputs": [
        {
          "output_type": "stream",
          "name": "stdout",
          "text": [
            "     AAPL    GOOG\n",
            "0  143.50  898.70\n",
            "1  144.09  911.71\n",
            "2  142.73  906.69\n",
            "3  144.18  918.59\n",
            "4  143.77  926.99\n"
          ]
        }
      ]
    },
    {
      "cell_type": "code",
      "metadata": {
        "colab": {
          "base_uri": "https://localhost:8080/"
        },
        "id": "OGHEcQE6h1up",
        "outputId": "fb5bd876-8c99-464f-96c6-db7b846ca68e"
      },
      "source": [
        "# my example\n",
        "my_s1 = pd.Series([1,2,4,8,16], name = 'pot2')\n",
        "my_s2 = pd.Series([1,3,9,27,81], name = 'pot3')\n",
        "my_data_frame = pd.concat([my_s1,my_s2], axis = 1)\n",
        "print(my_data_frame)"
      ],
      "execution_count": 75,
      "outputs": [
        {
          "output_type": "stream",
          "name": "stdout",
          "text": [
            "   pot2  pot3\n",
            "0     1     1\n",
            "1     2     3\n",
            "2     4     9\n",
            "3     8    27\n",
            "4    16    81\n"
          ]
        }
      ]
    },
    {
      "cell_type": "markdown",
      "metadata": {
        "id": "3ojbNYJLR2vv"
      },
      "source": [
        "The \"axis = 1\" parameter will join two DataFrames by columns:"
      ]
    },
    {
      "cell_type": "code",
      "metadata": {
        "id": "DJsaLd-cRoIm",
        "colab": {
          "base_uri": "https://localhost:8080/"
        },
        "outputId": "ebc0f2ef-4809-45e8-9267-dd5174a9baa0"
      },
      "source": [
        "log_price = np.log(aapl_bar.Close)\n",
        "log_price.name = 'log_price'\n",
        "print(log_price)\n",
        "print('\\n---------------------- separate line--------------------\\n')\n",
        "concat = pd.concat([aapl_bar, log_price], axis = 1)\n",
        "print(concat)"
      ],
      "execution_count": 76,
      "outputs": [
        {
          "output_type": "stream",
          "name": "stdout",
          "text": [
            "Date\n",
            "2016-01-31    3.110856\n",
            "2016-02-29    3.109568\n",
            "2016-03-31    3.229314\n",
            "2016-04-30    3.078583\n",
            "2016-05-31    3.147897\n",
            "2016-06-30    3.104301\n",
            "2016-07-31    3.190536\n",
            "2016-08-31    3.213912\n",
            "2016-09-30    3.277361\n",
            "2016-10-31    3.281685\n",
            "2016-11-30    3.259848\n",
            "2016-12-31    3.306689\n",
            "Freq: M, Name: log_price, dtype: float64\n",
            "\n",
            "---------------------- separate line--------------------\n",
            "\n",
            "                 Open       High        Low      Close  rate_return  log_price\n",
            "Date                                                                          \n",
            "2016-01-31  21.852382  22.440245  21.750946  22.440245          NaN   3.110856\n",
            "2016-02-29  22.450755  22.768302  22.402081  22.411352    -0.001288   3.109568\n",
            "2016-03-31  25.431522  25.473243  25.236821  25.262318     0.127211   3.229314\n",
            "2016-04-30  21.785535  21.954739  21.442493  21.727589    -0.139921   3.078583\n",
            "2016-05-31  23.226401  23.412960  23.044508  23.287033     0.071773   3.147897\n",
            "2016-06-30  22.023112  22.333262  21.990464  22.293619    -0.042660   3.104301\n",
            "2016-07-31  24.296780  24.380731  24.177849  24.301443     0.090063   3.190536\n",
            "2016-08-31  24.773058  24.986415  24.768367  24.876219     0.023652   3.213912\n",
            "2016-09-30  26.367388  26.580747  26.212645  26.505720     0.065504   3.277361\n",
            "2016-10-31  26.646394  26.782382  26.540886  26.620604     0.004334   3.281685\n",
            "2016-11-30  26.300090  26.441488  25.986656  26.045572    -0.021601   3.259848\n",
            "2016-12-31  27.490199  27.619813  27.202689  27.294598     0.047955   3.306689\n"
          ]
        }
      ]
    },
    {
      "cell_type": "code",
      "metadata": {
        "colab": {
          "base_uri": "https://localhost:8080/"
        },
        "id": "dRKG2RTtjUJt",
        "outputId": "9fa4488a-3d24-4a7a-b802-d0703d15a98d"
      },
      "source": [
        "# my example\n",
        "alphabet_log_price = np.log(alphabet_bar.Close)\n",
        "alphabet_log_price.name = 'log_price'\n",
        "print(alphabet_log_price)\n",
        "print('\\n---------------------- separate line--------------------\\n')\n",
        "alphabet_concat = pd.concat([alphabet_bar, alphabet_log_price], axis = 1)\n",
        "print(alphabet_concat)"
      ],
      "execution_count": 77,
      "outputs": [
        {
          "output_type": "stream",
          "name": "stdout",
          "text": [
            "Date\n",
            "2016-01-31    6.635093\n",
            "2016-02-29    6.575383\n",
            "2016-03-31    6.637127\n",
            "2016-04-30    6.562275\n",
            "2016-05-31    6.618539\n",
            "2016-06-30    6.556111\n",
            "2016-07-31    6.673728\n",
            "2016-08-31    6.671843\n",
            "2016-09-30    6.689674\n",
            "2016-10-31    6.696911\n",
            "2016-11-30    6.653998\n",
            "2016-12-31    6.675129\n",
            "Freq: M, Name: log_price, dtype: float64\n",
            "\n",
            "---------------------- separate line--------------------\n",
            "\n",
            "                  Open        High  ...  rate_return  log_price\n",
            "Date                                ...                        \n",
            "2016-01-31  748.960022  765.109985  ...          NaN   6.635093\n",
            "2016-02-29  721.000000  730.599976  ...    -0.057963   6.575383\n",
            "2016-03-31  768.340027  769.080017  ...     0.063690   6.637127\n",
            "2016-04-30  704.119995  712.109985  ...    -0.072120   6.562275\n",
            "2016-05-31  748.760010  753.479980  ...     0.057877   6.618539\n",
            "2016-06-30  697.650024  703.770020  ...    -0.060519   6.556111\n",
            "2016-07-31  797.710022  803.940002  ...     0.124813   6.673728\n",
            "2016-08-31  789.599976  791.570007  ...    -0.001883   6.671843\n",
            "2016-09-30  803.599976  808.090027  ...     0.017991   6.689674\n",
            "2016-10-31  822.429993  822.630005  ...     0.007263   6.696911\n",
            "2016-11-30  789.099976  791.510010  ...    -0.042005   6.653998\n",
            "2016-12-31  803.210022  803.289978  ...     0.021356   6.675129\n",
            "\n",
            "[12 rows x 6 columns]\n"
          ]
        }
      ]
    },
    {
      "cell_type": "markdown",
      "metadata": {
        "id": "mIZz-FUyR_62"
      },
      "source": [
        "We can also join two DataFrames by rows. Consider these two DataFrames:"
      ]
    },
    {
      "cell_type": "code",
      "metadata": {
        "id": "W7uXZptLHW-C",
        "colab": {
          "base_uri": "https://localhost:8080/"
        },
        "outputId": "26ff1dd3-4f55-401a-c235-9db22aee1cf1"
      },
      "source": [
        "df_volume = aapl_table.loc['2016-10':'2017-04',['Volume', 'Stock Splits']].resample('M').agg(lambda x: x[-1])\n",
        "print(df_volume)\n",
        "print('\\n---------------------- separate line--------------------\\n')\n",
        "df_2017 = aapl_table.loc['2016-10':'2017-04',['Open', 'High', 'Low', 'Close']].resample('M').agg(lambda x: x[-1])\n",
        "print(df_2017)"
      ],
      "execution_count": 78,
      "outputs": [
        {
          "output_type": "stream",
          "name": "stdout",
          "text": [
            "               Volume  Stock Splits\n",
            "Date                               \n",
            "2016-10-31  105677600             0\n",
            "2016-11-30  144649200             0\n",
            "2016-12-31  122345200             0\n",
            "2017-01-31  196804000             0\n",
            "2017-02-28   93931600             0\n",
            "2017-03-31   78646800             0\n",
            "2017-04-30   83441600             0\n",
            "\n",
            "---------------------- separate line--------------------\n",
            "\n",
            "                 Open       High        Low      Close\n",
            "Date                                                  \n",
            "2016-10-31  26.646394  26.782382  26.540886  26.620604\n",
            "2016-11-30  26.300090  26.441488  25.986656  26.045572\n",
            "2016-12-31  27.490199  27.619813  27.202689  27.294598\n",
            "2017-01-31  28.550681  28.607239  28.425779  28.597813\n",
            "2017-02-28  32.444866  32.530073  32.354924  32.423565\n",
            "2017-03-31  34.016451  34.146629  33.848403  34.002251\n",
            "2017-04-30  34.104024  34.153730  33.909944  33.999882\n"
          ]
        }
      ]
    },
    {
      "cell_type": "code",
      "metadata": {
        "colab": {
          "base_uri": "https://localhost:8080/"
        },
        "id": "zaNRJ_2vkqXW",
        "outputId": "52ce1e41-eeaf-41b9-e89a-bd5a987cb933"
      },
      "source": [
        "# my example\n",
        "alphabet_df_volume = alphabet_table.loc['2016-10':'2017-04',['Volume', 'Stock Splits']].resample('M').agg(lambda x: x[-1])\n",
        "print(alphabet_df_volume)\n",
        "print('\\n---------------------- separate line--------------------\\n')\n",
        "alphabet_df_2017 = alphabet_table.loc['2016-10':'2017-04',['Open', 'High', 'Low', 'Close']].resample('M').agg(lambda x: x[-1])\n",
        "print(alphabet_df_2017)"
      ],
      "execution_count": 79,
      "outputs": [
        {
          "output_type": "stream",
          "name": "stdout",
          "text": [
            "             Volume  Stock Splits\n",
            "Date                             \n",
            "2016-10-31  2242700             0\n",
            "2016-11-30  2279100             0\n",
            "2016-12-31  1735900             0\n",
            "2017-01-31  2020200             0\n",
            "2017-02-28  1383100             0\n",
            "2017-03-31  1441000             0\n",
            "2017-04-30  3845900             0\n",
            "\n",
            "---------------------- separate line--------------------\n",
            "\n",
            "                  Open        High         Low       Close\n",
            "Date                                                      \n",
            "2016-10-31  822.429993  822.630005  808.000000  809.900024\n",
            "2016-11-30  789.099976  791.510010  773.150024  775.880005\n",
            "2016-12-31  803.210022  803.289978  789.619995  792.450012\n",
            "2017-01-31  819.500000  823.070007  813.400024  820.190002\n",
            "2017-02-28  847.349976  848.830017  841.440002  844.929993\n",
            "2017-03-31  846.830017  849.559998  845.239990  847.799988\n",
            "2017-04-30  929.000000  935.900024  923.219971  924.520020\n"
          ]
        }
      ]
    },
    {
      "cell_type": "markdown",
      "metadata": {
        "id": "iZk_C9aSSLeP"
      },
      "source": [
        "Now we merge the DataFrames with our DataFrame 'aapl_bar'"
      ]
    },
    {
      "cell_type": "code",
      "metadata": {
        "id": "aFqmjokOHW-C",
        "colab": {
          "base_uri": "https://localhost:8080/"
        },
        "outputId": "b9fcaf52-8ec0-4cbc-9434-2ef2381f2279"
      },
      "source": [
        "concat = pd.concat([aapl_bar, df_volume], axis = 1)\n",
        "print(concat)"
      ],
      "execution_count": 80,
      "outputs": [
        {
          "output_type": "stream",
          "name": "stdout",
          "text": [
            "                 Open       High  ...       Volume  Stock Splits\n",
            "Date                              ...                           \n",
            "2016-01-31  21.852382  22.440245  ...          NaN           NaN\n",
            "2016-02-29  22.450755  22.768302  ...          NaN           NaN\n",
            "2016-03-31  25.431522  25.473243  ...          NaN           NaN\n",
            "2016-04-30  21.785535  21.954739  ...          NaN           NaN\n",
            "2016-05-31  23.226401  23.412960  ...          NaN           NaN\n",
            "2016-06-30  22.023112  22.333262  ...          NaN           NaN\n",
            "2016-07-31  24.296780  24.380731  ...          NaN           NaN\n",
            "2016-08-31  24.773058  24.986415  ...          NaN           NaN\n",
            "2016-09-30  26.367388  26.580747  ...          NaN           NaN\n",
            "2016-10-31  26.646394  26.782382  ...  105677600.0           0.0\n",
            "2016-11-30  26.300090  26.441488  ...  144649200.0           0.0\n",
            "2016-12-31  27.490199  27.619813  ...  122345200.0           0.0\n",
            "2017-01-31        NaN        NaN  ...  196804000.0           0.0\n",
            "2017-02-28        NaN        NaN  ...   93931600.0           0.0\n",
            "2017-03-31        NaN        NaN  ...   78646800.0           0.0\n",
            "2017-04-30        NaN        NaN  ...   83441600.0           0.0\n",
            "\n",
            "[16 rows x 7 columns]\n"
          ]
        }
      ]
    },
    {
      "cell_type": "code",
      "metadata": {
        "colab": {
          "base_uri": "https://localhost:8080/"
        },
        "id": "oI0rGvRIk5oY",
        "outputId": "81c20738-8f91-451d-9e60-48cb6016982d"
      },
      "source": [
        "# my example\n",
        "alphabet_concat = pd.concat([alphabet_bar, alphabet_df_volume], axis = 1)\n",
        "print(alphabet_concat)"
      ],
      "execution_count": 81,
      "outputs": [
        {
          "output_type": "stream",
          "name": "stdout",
          "text": [
            "                  Open        High  ...     Volume  Stock Splits\n",
            "Date                                ...                         \n",
            "2016-01-31  748.960022  765.109985  ...        NaN           NaN\n",
            "2016-02-29  721.000000  730.599976  ...        NaN           NaN\n",
            "2016-03-31  768.340027  769.080017  ...        NaN           NaN\n",
            "2016-04-30  704.119995  712.109985  ...        NaN           NaN\n",
            "2016-05-31  748.760010  753.479980  ...        NaN           NaN\n",
            "2016-06-30  697.650024  703.770020  ...        NaN           NaN\n",
            "2016-07-31  797.710022  803.940002  ...        NaN           NaN\n",
            "2016-08-31  789.599976  791.570007  ...        NaN           NaN\n",
            "2016-09-30  803.599976  808.090027  ...        NaN           NaN\n",
            "2016-10-31  822.429993  822.630005  ...  2242700.0           0.0\n",
            "2016-11-30  789.099976  791.510010  ...  2279100.0           0.0\n",
            "2016-12-31  803.210022  803.289978  ...  1735900.0           0.0\n",
            "2017-01-31         NaN         NaN  ...  2020200.0           0.0\n",
            "2017-02-28         NaN         NaN  ...  1383100.0           0.0\n",
            "2017-03-31         NaN         NaN  ...  1441000.0           0.0\n",
            "2017-04-30         NaN         NaN  ...  3845900.0           0.0\n",
            "\n",
            "[16 rows x 7 columns]\n"
          ]
        }
      ]
    },
    {
      "cell_type": "markdown",
      "metadata": {
        "id": "7yI3tgB4SR4O"
      },
      "source": [
        "By default the DataFrame are joined with all of the data. This default options results in zero information loss. We can also merge them by intersection, this is called 'inner join"
      ]
    },
    {
      "cell_type": "code",
      "metadata": {
        "id": "31QGLyijHW-C",
        "colab": {
          "base_uri": "https://localhost:8080/"
        },
        "outputId": "daab5483-35b2-4694-f49b-1995cc94251a"
      },
      "source": [
        "concat = pd.concat([aapl_bar,df_volume],axis = 1, join = 'inner')\n",
        "print(concat)"
      ],
      "execution_count": 82,
      "outputs": [
        {
          "output_type": "stream",
          "name": "stdout",
          "text": [
            "                 Open       High  ...     Volume  Stock Splits\n",
            "Date                              ...                         \n",
            "2016-10-31  26.646394  26.782382  ...  105677600             0\n",
            "2016-11-30  26.300090  26.441488  ...  144649200             0\n",
            "2016-12-31  27.490199  27.619813  ...  122345200             0\n",
            "\n",
            "[3 rows x 7 columns]\n"
          ]
        }
      ]
    },
    {
      "cell_type": "code",
      "metadata": {
        "colab": {
          "base_uri": "https://localhost:8080/"
        },
        "id": "ZB-Q87zRlQde",
        "outputId": "2b98b212-97a5-48b9-a775-6fca7d7728b3"
      },
      "source": [
        "# my example\n",
        "alphabet_concat = pd.concat([alphabet_bar,alphabet_df_volume],axis = 1, join = 'inner')\n",
        "print(alphabet_concat)"
      ],
      "execution_count": 83,
      "outputs": [
        {
          "output_type": "stream",
          "name": "stdout",
          "text": [
            "                  Open        High  ...   Volume  Stock Splits\n",
            "Date                                ...                       \n",
            "2016-10-31  822.429993  822.630005  ...  2242700             0\n",
            "2016-11-30  789.099976  791.510010  ...  2279100             0\n",
            "2016-12-31  803.210022  803.289978  ...  1735900             0\n",
            "\n",
            "[3 rows x 7 columns]\n"
          ]
        }
      ]
    },
    {
      "cell_type": "markdown",
      "metadata": {
        "id": "oudcWMm5Sd0u"
      },
      "source": [
        "Only the intersection part was left if use 'inner join' method. Now let's try to append a DataFrame to another one:"
      ]
    },
    {
      "cell_type": "code",
      "metadata": {
        "id": "lgw0qaOsHW-D",
        "colab": {
          "base_uri": "https://localhost:8080/"
        },
        "outputId": "65f26f14-f48c-4e35-d6a8-985d6cfbb53e"
      },
      "source": [
        "append = aapl_bar.append(df_2017)\n",
        "print(append)"
      ],
      "execution_count": 84,
      "outputs": [
        {
          "output_type": "stream",
          "name": "stdout",
          "text": [
            "                 Open       High        Low      Close  rate_return\n",
            "Date                                                               \n",
            "2016-01-31  21.852382  22.440245  21.750946  22.440245          NaN\n",
            "2016-02-29  22.450755  22.768302  22.402081  22.411352    -0.001288\n",
            "2016-03-31  25.431522  25.473243  25.236821  25.262318     0.127211\n",
            "2016-04-30  21.785535  21.954739  21.442493  21.727589    -0.139921\n",
            "2016-05-31  23.226401  23.412960  23.044508  23.287033     0.071773\n",
            "2016-06-30  22.023112  22.333262  21.990464  22.293619    -0.042660\n",
            "2016-07-31  24.296780  24.380731  24.177849  24.301443     0.090063\n",
            "2016-08-31  24.773058  24.986415  24.768367  24.876219     0.023652\n",
            "2016-09-30  26.367388  26.580747  26.212645  26.505720     0.065504\n",
            "2016-10-31  26.646394  26.782382  26.540886  26.620604     0.004334\n",
            "2016-11-30  26.300090  26.441488  25.986656  26.045572    -0.021601\n",
            "2016-12-31  27.490199  27.619813  27.202689  27.294598     0.047955\n",
            "2016-10-31  26.646394  26.782382  26.540886  26.620604          NaN\n",
            "2016-11-30  26.300090  26.441488  25.986656  26.045572          NaN\n",
            "2016-12-31  27.490199  27.619813  27.202689  27.294598          NaN\n",
            "2017-01-31  28.550681  28.607239  28.425779  28.597813          NaN\n",
            "2017-02-28  32.444866  32.530073  32.354924  32.423565          NaN\n",
            "2017-03-31  34.016451  34.146629  33.848403  34.002251          NaN\n",
            "2017-04-30  34.104024  34.153730  33.909944  33.999882          NaN\n"
          ]
        }
      ]
    },
    {
      "cell_type": "code",
      "metadata": {
        "colab": {
          "base_uri": "https://localhost:8080/"
        },
        "id": "Edq4getnl4SS",
        "outputId": "b235b9d2-8d7d-4d1c-aa81-e9a8c1c27fa9"
      },
      "source": [
        "# my example\n",
        "alphabet_append = alphabet_bar.append(alphabet_df_2017)\n",
        "print(alphabet_append)"
      ],
      "execution_count": 85,
      "outputs": [
        {
          "output_type": "stream",
          "name": "stdout",
          "text": [
            "                  Open        High         Low       Close  rate_return\n",
            "Date                                                                   \n",
            "2016-01-31  748.960022  765.109985  744.200012  761.349976          NaN\n",
            "2016-02-29  721.000000  730.599976  716.840027  717.219971    -0.057963\n",
            "2016-03-31  768.340027  769.080017  758.250000  762.900024     0.063690\n",
            "2016-04-30  704.119995  712.109985  703.780029  707.880005    -0.072120\n",
            "2016-05-31  748.760010  753.479980  745.570007  748.849976     0.057877\n",
            "2016-06-30  697.650024  703.770020  694.900024  703.530029    -0.060519\n",
            "2016-07-31  797.710022  803.940002  790.000000  791.340027     0.124813\n",
            "2016-08-31  789.599976  791.570007  787.200012  789.849976    -0.001883\n",
            "2016-09-30  803.599976  808.090027  801.500000  804.059998     0.017991\n",
            "2016-10-31  822.429993  822.630005  808.000000  809.900024     0.007263\n",
            "2016-11-30  789.099976  791.510010  773.150024  775.880005    -0.042005\n",
            "2016-12-31  803.210022  803.289978  789.619995  792.450012     0.021356\n",
            "2016-10-31  822.429993  822.630005  808.000000  809.900024          NaN\n",
            "2016-11-30  789.099976  791.510010  773.150024  775.880005          NaN\n",
            "2016-12-31  803.210022  803.289978  789.619995  792.450012          NaN\n",
            "2017-01-31  819.500000  823.070007  813.400024  820.190002          NaN\n",
            "2017-02-28  847.349976  848.830017  841.440002  844.929993          NaN\n",
            "2017-03-31  846.830017  849.559998  845.239990  847.799988          NaN\n",
            "2017-04-30  929.000000  935.900024  923.219971  924.520020          NaN\n"
          ]
        }
      ]
    },
    {
      "cell_type": "markdown",
      "metadata": {
        "id": "zXT6cMquSq_P"
      },
      "source": [
        "'Append' is essentially to concat two DataFrames by axis = 0, thus here is an alternative way to append:"
      ]
    },
    {
      "cell_type": "code",
      "metadata": {
        "id": "2EuSaFO9HW-D",
        "colab": {
          "base_uri": "https://localhost:8080/"
        },
        "outputId": "9bb83f6b-b64e-4252-f9cf-3f178b22af53"
      },
      "source": [
        "concat = pd.concat([aapl_bar, df_2017], axis = 0)\n",
        "print(concat)"
      ],
      "execution_count": 86,
      "outputs": [
        {
          "output_type": "stream",
          "name": "stdout",
          "text": [
            "                 Open       High        Low      Close  rate_return\n",
            "Date                                                               \n",
            "2016-01-31  21.852382  22.440245  21.750946  22.440245          NaN\n",
            "2016-02-29  22.450755  22.768302  22.402081  22.411352    -0.001288\n",
            "2016-03-31  25.431522  25.473243  25.236821  25.262318     0.127211\n",
            "2016-04-30  21.785535  21.954739  21.442493  21.727589    -0.139921\n",
            "2016-05-31  23.226401  23.412960  23.044508  23.287033     0.071773\n",
            "2016-06-30  22.023112  22.333262  21.990464  22.293619    -0.042660\n",
            "2016-07-31  24.296780  24.380731  24.177849  24.301443     0.090063\n",
            "2016-08-31  24.773058  24.986415  24.768367  24.876219     0.023652\n",
            "2016-09-30  26.367388  26.580747  26.212645  26.505720     0.065504\n",
            "2016-10-31  26.646394  26.782382  26.540886  26.620604     0.004334\n",
            "2016-11-30  26.300090  26.441488  25.986656  26.045572    -0.021601\n",
            "2016-12-31  27.490199  27.619813  27.202689  27.294598     0.047955\n",
            "2016-10-31  26.646394  26.782382  26.540886  26.620604          NaN\n",
            "2016-11-30  26.300090  26.441488  25.986656  26.045572          NaN\n",
            "2016-12-31  27.490199  27.619813  27.202689  27.294598          NaN\n",
            "2017-01-31  28.550681  28.607239  28.425779  28.597813          NaN\n",
            "2017-02-28  32.444866  32.530073  32.354924  32.423565          NaN\n",
            "2017-03-31  34.016451  34.146629  33.848403  34.002251          NaN\n",
            "2017-04-30  34.104024  34.153730  33.909944  33.999882          NaN\n"
          ]
        }
      ]
    },
    {
      "cell_type": "code",
      "metadata": {
        "colab": {
          "base_uri": "https://localhost:8080/"
        },
        "id": "hkBxCjnHmHqj",
        "outputId": "40961a6f-b9b6-47ca-bca6-f234ba8d05ac"
      },
      "source": [
        "# my example\n",
        "alphabet_concat = pd.concat([alphabet_bar, alphabet_df_2017], axis = 0)\n",
        "print(alphabet_concat)"
      ],
      "execution_count": 87,
      "outputs": [
        {
          "output_type": "stream",
          "name": "stdout",
          "text": [
            "                  Open        High         Low       Close  rate_return\n",
            "Date                                                                   \n",
            "2016-01-31  748.960022  765.109985  744.200012  761.349976          NaN\n",
            "2016-02-29  721.000000  730.599976  716.840027  717.219971    -0.057963\n",
            "2016-03-31  768.340027  769.080017  758.250000  762.900024     0.063690\n",
            "2016-04-30  704.119995  712.109985  703.780029  707.880005    -0.072120\n",
            "2016-05-31  748.760010  753.479980  745.570007  748.849976     0.057877\n",
            "2016-06-30  697.650024  703.770020  694.900024  703.530029    -0.060519\n",
            "2016-07-31  797.710022  803.940002  790.000000  791.340027     0.124813\n",
            "2016-08-31  789.599976  791.570007  787.200012  789.849976    -0.001883\n",
            "2016-09-30  803.599976  808.090027  801.500000  804.059998     0.017991\n",
            "2016-10-31  822.429993  822.630005  808.000000  809.900024     0.007263\n",
            "2016-11-30  789.099976  791.510010  773.150024  775.880005    -0.042005\n",
            "2016-12-31  803.210022  803.289978  789.619995  792.450012     0.021356\n",
            "2016-10-31  822.429993  822.630005  808.000000  809.900024          NaN\n",
            "2016-11-30  789.099976  791.510010  773.150024  775.880005          NaN\n",
            "2016-12-31  803.210022  803.289978  789.619995  792.450012          NaN\n",
            "2017-01-31  819.500000  823.070007  813.400024  820.190002          NaN\n",
            "2017-02-28  847.349976  848.830017  841.440002  844.929993          NaN\n",
            "2017-03-31  846.830017  849.559998  845.239990  847.799988          NaN\n",
            "2017-04-30  929.000000  935.900024  923.219971  924.520020          NaN\n"
          ]
        }
      ]
    },
    {
      "cell_type": "markdown",
      "metadata": {
        "id": "-YXL7V9ASst9"
      },
      "source": [
        "Please note that if the two DataFrame have some columns with the same column names, these columns are considered to be the same and will be merged. It's very important to have the right column names. If we change a column names here:"
      ]
    },
    {
      "cell_type": "code",
      "metadata": {
        "id": "aT1eoa8mHW-D",
        "colab": {
          "base_uri": "https://localhost:8080/"
        },
        "outputId": "a80814ff-648c-4484-e052-0be77b4c857a"
      },
      "source": [
        "df_2017.columns = ['Change', 'High','Low','Close']\n",
        "concat = pd.concat([aapl_bar, df_2017], axis = 0)\n",
        "print(concat)"
      ],
      "execution_count": 88,
      "outputs": [
        {
          "output_type": "stream",
          "name": "stdout",
          "text": [
            "                 Open       High        Low      Close  rate_return     Change\n",
            "Date                                                                          \n",
            "2016-01-31  21.852382  22.440245  21.750946  22.440245          NaN        NaN\n",
            "2016-02-29  22.450755  22.768302  22.402081  22.411352    -0.001288        NaN\n",
            "2016-03-31  25.431522  25.473243  25.236821  25.262318     0.127211        NaN\n",
            "2016-04-30  21.785535  21.954739  21.442493  21.727589    -0.139921        NaN\n",
            "2016-05-31  23.226401  23.412960  23.044508  23.287033     0.071773        NaN\n",
            "2016-06-30  22.023112  22.333262  21.990464  22.293619    -0.042660        NaN\n",
            "2016-07-31  24.296780  24.380731  24.177849  24.301443     0.090063        NaN\n",
            "2016-08-31  24.773058  24.986415  24.768367  24.876219     0.023652        NaN\n",
            "2016-09-30  26.367388  26.580747  26.212645  26.505720     0.065504        NaN\n",
            "2016-10-31  26.646394  26.782382  26.540886  26.620604     0.004334        NaN\n",
            "2016-11-30  26.300090  26.441488  25.986656  26.045572    -0.021601        NaN\n",
            "2016-12-31  27.490199  27.619813  27.202689  27.294598     0.047955        NaN\n",
            "2016-10-31        NaN  26.782382  26.540886  26.620604          NaN  26.646394\n",
            "2016-11-30        NaN  26.441488  25.986656  26.045572          NaN  26.300090\n",
            "2016-12-31        NaN  27.619813  27.202689  27.294598          NaN  27.490199\n",
            "2017-01-31        NaN  28.607239  28.425779  28.597813          NaN  28.550681\n",
            "2017-02-28        NaN  32.530073  32.354924  32.423565          NaN  32.444866\n",
            "2017-03-31        NaN  34.146629  33.848403  34.002251          NaN  34.016451\n",
            "2017-04-30        NaN  34.153730  33.909944  33.999882          NaN  34.104024\n"
          ]
        }
      ]
    },
    {
      "cell_type": "code",
      "metadata": {
        "colab": {
          "base_uri": "https://localhost:8080/"
        },
        "id": "7YDUL6srmXKz",
        "outputId": "ae67f670-f2a9-4cc8-8bb6-4cbd1d77b045"
      },
      "source": [
        "# my example\n",
        "alphabet_df_2017.columns = ['Change', 'High','Low','Close']\n",
        "alphabet_concat = pd.concat([alphabet_bar, alphabet_df_2017], axis = 0)\n",
        "print(alphabet_concat)"
      ],
      "execution_count": 89,
      "outputs": [
        {
          "output_type": "stream",
          "name": "stdout",
          "text": [
            "                  Open        High  ...  rate_return      Change\n",
            "Date                                ...                         \n",
            "2016-01-31  748.960022  765.109985  ...          NaN         NaN\n",
            "2016-02-29  721.000000  730.599976  ...    -0.057963         NaN\n",
            "2016-03-31  768.340027  769.080017  ...     0.063690         NaN\n",
            "2016-04-30  704.119995  712.109985  ...    -0.072120         NaN\n",
            "2016-05-31  748.760010  753.479980  ...     0.057877         NaN\n",
            "2016-06-30  697.650024  703.770020  ...    -0.060519         NaN\n",
            "2016-07-31  797.710022  803.940002  ...     0.124813         NaN\n",
            "2016-08-31  789.599976  791.570007  ...    -0.001883         NaN\n",
            "2016-09-30  803.599976  808.090027  ...     0.017991         NaN\n",
            "2016-10-31  822.429993  822.630005  ...     0.007263         NaN\n",
            "2016-11-30  789.099976  791.510010  ...    -0.042005         NaN\n",
            "2016-12-31  803.210022  803.289978  ...     0.021356         NaN\n",
            "2016-10-31         NaN  822.630005  ...          NaN  822.429993\n",
            "2016-11-30         NaN  791.510010  ...          NaN  789.099976\n",
            "2016-12-31         NaN  803.289978  ...          NaN  803.210022\n",
            "2017-01-31         NaN  823.070007  ...          NaN  819.500000\n",
            "2017-02-28         NaN  848.830017  ...          NaN  847.349976\n",
            "2017-03-31         NaN  849.559998  ...          NaN  846.830017\n",
            "2017-04-30         NaN  935.900024  ...          NaN  929.000000\n",
            "\n",
            "[19 rows x 6 columns]\n"
          ]
        }
      ]
    },
    {
      "cell_type": "markdown",
      "metadata": {
        "id": "shbpOFyyS6uV"
      },
      "source": [
        "Since the column name of 'Open' has been changed, the new DataFrame has an new column named 'Change'.\n",
        "\n",
        "# Summary\n",
        "\n",
        "Hereby we introduced the most import part of python: resampling and DataFrame manipulation. We only introduced the most commonly used method in Financial data analysis. There are also many methods used in data mining, which are also beneficial. You can always check the [Pandas](https://pandas.pydata.org/pandas-docs/stable/index.html) official documentations for help."
      ]
    }
  ]
}