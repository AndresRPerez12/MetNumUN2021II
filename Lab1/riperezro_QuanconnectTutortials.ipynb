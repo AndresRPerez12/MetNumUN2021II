{
  "nbformat": 4,
  "nbformat_minor": 0,
  "metadata": {
    "colab": {
      "name": "riperezro_QuanconnectTutortials.ipynb",
      "provenance": []
    },
    "kernelspec": {
      "name": "python3",
      "display_name": "Python 3"
    },
    "language_info": {
      "name": "python"
    }
  },
  "cells": [
    {
      "cell_type": "markdown",
      "metadata": {
        "id": "eQzBbvyKQymx"
      },
      "source": [
        "<div align=\"center\">\n",
        "<img style=\"display: block; margin: auto;\" alt=\"photo\" src=\"https://cdn.quantconnect.com/web/i/icon.png\">\n",
        "\n",
        "Quantconnect\n",
        "\n",
        "Introduction to Financial Python\n",
        "</div>\n",
        "\n",
        "# 01 Data Types and Data Structures\n",
        "\n",
        "# Introduction\n",
        "\n",
        "This tutorial provides a basic introduction to the Python programming language. If you are new to Python, you should run the code snippets while reading this tutorial. If you are an advanced Python user, please feel free to skip this chapter.\n",
        "\n",
        "# Basic Variable Types\n",
        "The basic types of variables in Python are: strings, integers, floating point numbers and booleans.\n",
        "\n",
        "Strings in python are identified as a contiguous set of characters represented in either single quotes (' ') or double quotes (\" \").\n"
      ]
    },
    {
      "cell_type": "code",
      "metadata": {
        "id": "N5t-UrcfOqid",
        "colab": {
          "base_uri": "https://localhost:8080/"
        },
        "outputId": "3c81e471-19f8-4afb-82fa-f5dc726ed26f"
      },
      "source": [
        "my_string1 = 'Welcome to'\n",
        "my_string2 = \"QuantConnect\"\n",
        "print(my_string1 + ' ' + my_string2)"
      ],
      "execution_count": 1,
      "outputs": [
        {
          "output_type": "stream",
          "name": "stdout",
          "text": [
            "Welcome to QuantConnect\n"
          ]
        }
      ]
    },
    {
      "cell_type": "code",
      "metadata": {
        "colab": {
          "base_uri": "https://localhost:8080/"
        },
        "id": "5ztSOJfa3GhG",
        "outputId": "93186aca-7773-4f85-b2db-6151007c1153"
      },
      "source": [
        "# My example\n",
        "my_string1 = 'New test for'\n",
        "my_string2 = \"adding strings\"\n",
        "print(my_string1 + ' ' + my_string2)"
      ],
      "execution_count": 2,
      "outputs": [
        {
          "output_type": "stream",
          "name": "stdout",
          "text": [
            "New test for adding strings\n"
          ]
        }
      ]
    },
    {
      "cell_type": "markdown",
      "metadata": {
        "id": "bXHnxZyHSd1M"
      },
      "source": [
        "An integer is a round number with no values after the decimal point."
      ]
    },
    {
      "cell_type": "code",
      "metadata": {
        "id": "pNjuz3toOqif",
        "colab": {
          "base_uri": "https://localhost:8080/"
        },
        "outputId": "30f75ad3-fee6-4ae4-ecc1-66af07600476"
      },
      "source": [
        "my_int = 10\n",
        "print(my_int)\n",
        "print(type(my_int))"
      ],
      "execution_count": 3,
      "outputs": [
        {
          "output_type": "stream",
          "name": "stdout",
          "text": [
            "10\n",
            "<class 'int'>\n"
          ]
        }
      ]
    },
    {
      "cell_type": "code",
      "metadata": {
        "colab": {
          "base_uri": "https://localhost:8080/"
        },
        "id": "hgtgZIWS3PhY",
        "outputId": "2df88a7a-1db8-4923-c607-8d9711edea9d"
      },
      "source": [
        "# My example\n",
        "my_int = 12364815159654121121236481515965412112\n",
        "print(my_int)\n",
        "print(type(my_int))"
      ],
      "execution_count": 4,
      "outputs": [
        {
          "output_type": "stream",
          "name": "stdout",
          "text": [
            "12364815159654121121236481515965412112\n",
            "<class 'int'>\n"
          ]
        }
      ]
    },
    {
      "cell_type": "markdown",
      "metadata": {
        "id": "_1ZanWrYSnzF"
      },
      "source": [
        "The built-in function int() can convert a string into an integer."
      ]
    },
    {
      "cell_type": "code",
      "metadata": {
        "id": "zPwGb20FOqif",
        "colab": {
          "base_uri": "https://localhost:8080/"
        },
        "outputId": "6b2298d0-c4c3-4c39-9823-e7b3d5267ece"
      },
      "source": [
        "my_string = \"100\"\n",
        "print(type(my_string))\n",
        "my_int = int(my_string)\n",
        "print(type(my_int))"
      ],
      "execution_count": 5,
      "outputs": [
        {
          "output_type": "stream",
          "name": "stdout",
          "text": [
            "<class 'str'>\n",
            "<class 'int'>\n"
          ]
        }
      ]
    },
    {
      "cell_type": "code",
      "metadata": {
        "colab": {
          "base_uri": "https://localhost:8080/"
        },
        "id": "k_9xs8p33Zb_",
        "outputId": "8d9bd90b-0da1-41f5-d1d4-384a7ee6dba7"
      },
      "source": [
        "# My example\n",
        "my_string = \"12364815159654121121236481515965412112\"\n",
        "print(type(my_string))\n",
        "my_int = int(my_string)\n",
        "print(type(my_int))\n",
        "my_int"
      ],
      "execution_count": 6,
      "outputs": [
        {
          "output_type": "stream",
          "name": "stdout",
          "text": [
            "<class 'str'>\n",
            "<class 'int'>\n"
          ]
        },
        {
          "output_type": "execute_result",
          "data": {
            "text/plain": [
              "12364815159654121121236481515965412112"
            ]
          },
          "metadata": {},
          "execution_count": 6
        }
      ]
    },
    {
      "cell_type": "markdown",
      "metadata": {
        "id": "WqMDPDTHSrE9"
      },
      "source": [
        "A floating point number, or a float, is a real number in mathematics. In Python we need to include a value after a decimal point to define it as a float"
      ]
    },
    {
      "cell_type": "code",
      "metadata": {
        "id": "otCzKKW9Oqig",
        "colab": {
          "base_uri": "https://localhost:8080/"
        },
        "outputId": "2873e0da-4f2d-45dd-d099-bb0cf8c6e648"
      },
      "source": [
        "my_string = \"100\"\n",
        "my_float = float(my_string)\n",
        "print(type(my_float))"
      ],
      "execution_count": 7,
      "outputs": [
        {
          "output_type": "stream",
          "name": "stdout",
          "text": [
            "<class 'float'>\n"
          ]
        }
      ]
    },
    {
      "cell_type": "code",
      "metadata": {
        "colab": {
          "base_uri": "https://localhost:8080/"
        },
        "id": "SJywanks3m5u",
        "outputId": "05ce3b6a-85bc-414a-accb-cd7bcffad297"
      },
      "source": [
        "# My example\n",
        "my_string = \"2.71828182845904523536028747135266249775724709369995\"\n",
        "my_float = float(my_string)\n",
        "print(type(my_float))\n",
        "my_float"
      ],
      "execution_count": 8,
      "outputs": [
        {
          "output_type": "stream",
          "name": "stdout",
          "text": [
            "<class 'float'>\n"
          ]
        },
        {
          "output_type": "execute_result",
          "data": {
            "text/plain": [
              "2.718281828459045"
            ]
          },
          "metadata": {},
          "execution_count": 8
        }
      ]
    },
    {
      "cell_type": "markdown",
      "metadata": {
        "id": "2iuyv8Q7StTJ"
      },
      "source": [
        "As you can see above, if we don't include a decimal value, the variable would be defined as an integer. The built-in function float() can convert a string or an integer into a float."
      ]
    },
    {
      "cell_type": "code",
      "metadata": {
        "id": "wwLw5VthOqig",
        "colab": {
          "base_uri": "https://localhost:8080/"
        },
        "outputId": "e5be446e-36a8-42b4-a331-bfa7c32423a6"
      },
      "source": [
        "my_bool = False\n",
        "print(my_bool)\n",
        "print(type(my_bool))"
      ],
      "execution_count": 9,
      "outputs": [
        {
          "output_type": "stream",
          "name": "stdout",
          "text": [
            "False\n",
            "<class 'bool'>\n"
          ]
        }
      ]
    },
    {
      "cell_type": "code",
      "metadata": {
        "colab": {
          "base_uri": "https://localhost:8080/"
        },
        "id": "hgYj07iw4MWq",
        "outputId": "773f59e5-5bf8-49ce-c3a9-3fc4c9af73e9"
      },
      "source": [
        "# My example\n",
        "my_bool = True\n",
        "print(my_bool)\n",
        "print(type(my_bool))"
      ],
      "execution_count": 10,
      "outputs": [
        {
          "output_type": "stream",
          "name": "stdout",
          "text": [
            "True\n",
            "<class 'bool'>\n"
          ]
        }
      ]
    },
    {
      "cell_type": "markdown",
      "metadata": {
        "id": "bnGMwH21Szr_"
      },
      "source": [
        "A boolean, or bool, is a binary variable. Its value can only be True or False. It is useful when we do some logic operations, which would be covered in our next chapter."
      ]
    },
    {
      "cell_type": "code",
      "metadata": {
        "id": "DMa6pDl5Oqig",
        "colab": {
          "base_uri": "https://localhost:8080/"
        },
        "outputId": "0fd89d74-ee00-4a87-add1-8b347a16593f"
      },
      "source": [
        "print(\"Addition \", 1+1)\n",
        "print(\"Subtraction \", 5-2)\n",
        "print(\"Multiplication \", 2*3)\n",
        "print(\"Division \", 10/2)\n",
        "print('exponent', 2**3)"
      ],
      "execution_count": 11,
      "outputs": [
        {
          "output_type": "stream",
          "name": "stdout",
          "text": [
            "Addition  2\n",
            "Subtraction  3\n",
            "Multiplication  6\n",
            "Division  5.0\n",
            "exponent 8\n"
          ]
        }
      ]
    },
    {
      "cell_type": "code",
      "metadata": {
        "colab": {
          "base_uri": "https://localhost:8080/"
        },
        "id": "tnuELj2i4q3D",
        "outputId": "60bebb38-b655-4600-8c8b-0fde705d003f"
      },
      "source": [
        "# My example\n",
        "print(\"Addition \", 12+112)\n",
        "print(\"Subtraction \", 1024-512)\n",
        "print(\"Multiplication \", 12*10000)\n",
        "print(\"Division \", 625/25)\n",
        "print('exponent', 2**32)"
      ],
      "execution_count": 12,
      "outputs": [
        {
          "output_type": "stream",
          "name": "stdout",
          "text": [
            "Addition  124\n",
            "Subtraction  512\n",
            "Multiplication  120000\n",
            "Division  25.0\n",
            "exponent 4294967296\n"
          ]
        }
      ]
    },
    {
      "cell_type": "markdown",
      "metadata": {
        "id": "1Xc9G9_sS2ju"
      },
      "source": [
        "# Basic Math Operations\n",
        "\n",
        "The basic math operators in python are demonstrated below:"
      ]
    },
    {
      "cell_type": "code",
      "metadata": {
        "id": "KE9gUryAOqig",
        "colab": {
          "base_uri": "https://localhost:8080/"
        },
        "outputId": "faa7e050-b9d0-445e-ffc6-3553009bb600"
      },
      "source": [
        "print(1/3)\n",
        "print(1.0/3)"
      ],
      "execution_count": 13,
      "outputs": [
        {
          "output_type": "stream",
          "name": "stdout",
          "text": [
            "0.3333333333333333\n",
            "0.3333333333333333\n"
          ]
        }
      ]
    },
    {
      "cell_type": "code",
      "metadata": {
        "colab": {
          "base_uri": "https://localhost:8080/"
        },
        "id": "n1qt9dRa5Fm5",
        "outputId": "4886a89a-10d4-4faa-f608-322db2ac7acb"
      },
      "source": [
        "# My example\n",
        "print(6/3)\n",
        "print(6.0/3.0)\n",
        "print(6//3)"
      ],
      "execution_count": 14,
      "outputs": [
        {
          "output_type": "stream",
          "name": "stdout",
          "text": [
            "2.0\n",
            "2.0\n",
            "2\n"
          ]
        }
      ]
    },
    {
      "cell_type": "markdown",
      "metadata": {
        "id": "AN5Oa3DoS_Nf"
      },
      "source": [
        "# Data Collections\n",
        "\n",
        "## List\n",
        "A list is an ordered collection of values. A list is mutable, which means you can change a list's value without changing the list itself. Creating a list is simply putting different comma-separated values between square brackets."
      ]
    },
    {
      "cell_type": "code",
      "metadata": {
        "id": "-tQdNqCvOqig",
        "colab": {
          "base_uri": "https://localhost:8080/"
        },
        "outputId": "88e6ccd7-9ac3-4522-cb66-1b6636a89003"
      },
      "source": [
        "my_list = ['Quant', 'Connect', 1,2,3]\n",
        "print(my_list)"
      ],
      "execution_count": 15,
      "outputs": [
        {
          "output_type": "stream",
          "name": "stdout",
          "text": [
            "['Quant', 'Connect', 1, 2, 3]\n"
          ]
        }
      ]
    },
    {
      "cell_type": "code",
      "metadata": {
        "colab": {
          "base_uri": "https://localhost:8080/"
        },
        "id": "NsGB2Qgz6m5V",
        "outputId": "36d916d7-6fcf-486f-caed-5046c5446869"
      },
      "source": [
        "# My example\n",
        "my_list = ['m', 3, \" perd\",0,\"n,\",4,\"s¿\"]\n",
        "print(my_list)"
      ],
      "execution_count": 16,
      "outputs": [
        {
          "output_type": "stream",
          "name": "stdout",
          "text": [
            "['m', 3, ' perd', 0, 'n,', 4, 's¿']\n"
          ]
        }
      ]
    },
    {
      "cell_type": "markdown",
      "metadata": {
        "id": "1O0TsgZCTHrM"
      },
      "source": [
        "The values in a list are called \"elements\". We can access list elements by indexing. Python index starts from 0. So if you have a list of length n, the index of the first element will be 0, and that of the last element will be n − 1. By the way, the length of a list can be obtained by the built-in function len()."
      ]
    },
    {
      "cell_type": "code",
      "metadata": {
        "id": "QhuVhRR5Oqih",
        "colab": {
          "base_uri": "https://localhost:8080/"
        },
        "outputId": "da4e5833-a687-4371-985d-2560e6380c53"
      },
      "source": [
        "my_list = ['Quant', 'Connect', 1,2,3]\n",
        "print(len(my_list))\n",
        "print(my_list[0])\n",
        "print(my_list[len(my_list) -1])"
      ],
      "execution_count": 17,
      "outputs": [
        {
          "output_type": "stream",
          "name": "stdout",
          "text": [
            "5\n",
            "Quant\n",
            "3\n"
          ]
        }
      ]
    },
    {
      "cell_type": "code",
      "metadata": {
        "colab": {
          "base_uri": "https://localhost:8080/"
        },
        "id": "1GHugCTk7gup",
        "outputId": "a97b6b1e-1ea1-48b1-a41d-fd8a6fea6fb0"
      },
      "source": [
        "# My example\n",
        "my_list = ['m', 3, \" perd\",0,\"n,\",4,\"s¿\"]\n",
        "print(len(my_list))\n",
        "print(my_list[1])\n",
        "print(my_list[len(my_list) -3])"
      ],
      "execution_count": 18,
      "outputs": [
        {
          "output_type": "stream",
          "name": "stdout",
          "text": [
            "7\n",
            "3\n",
            "n,\n"
          ]
        }
      ]
    },
    {
      "cell_type": "markdown",
      "metadata": {
        "id": "jgSZy1VGTKSc"
      },
      "source": [
        "You can also change the elements in the list by accessing an index and assigning a new value."
      ]
    },
    {
      "cell_type": "code",
      "metadata": {
        "id": "NQBNLjAvOqih",
        "colab": {
          "base_uri": "https://localhost:8080/"
        },
        "outputId": "b7961a37-d613-4ec9-d510-73b503c86f5a"
      },
      "source": [
        "my_list = ['Quant','Connect',1,2,3]\n",
        "my_list[2] = 'go'\n",
        "print(my_list)"
      ],
      "execution_count": 19,
      "outputs": [
        {
          "output_type": "stream",
          "name": "stdout",
          "text": [
            "['Quant', 'Connect', 'go', 2, 3]\n"
          ]
        }
      ]
    },
    {
      "cell_type": "code",
      "metadata": {
        "colab": {
          "base_uri": "https://localhost:8080/"
        },
        "id": "wDTHP_sS8cvK",
        "outputId": "a0c659ef-cf71-451f-c00d-28d5f6edf6d3"
      },
      "source": [
        "# My example\n",
        "my_list = ['m', 3, \" perd\",0,\"n,\",4,\"s¿\"]\n",
        "my_list[5] = 'a'\n",
        "print(my_list)"
      ],
      "execution_count": 20,
      "outputs": [
        {
          "output_type": "stream",
          "name": "stdout",
          "text": [
            "['m', 3, ' perd', 0, 'n,', 'a', 's¿']\n"
          ]
        }
      ]
    },
    {
      "cell_type": "markdown",
      "metadata": {
        "id": "EQPs5ojoTVrk"
      },
      "source": [
        "A list can also be sliced with a colon:"
      ]
    },
    {
      "cell_type": "code",
      "metadata": {
        "colab": {
          "base_uri": "https://localhost:8080/"
        },
        "id": "prW2CVE38pCH",
        "outputId": "18d998f8-9ee3-4337-b035-14488501476f"
      },
      "source": [
        "my_list = ['Quant','Connect',1,2,3]\n",
        "print(my_list[1:3])"
      ],
      "execution_count": 21,
      "outputs": [
        {
          "output_type": "stream",
          "name": "stdout",
          "text": [
            "['Connect', 1]\n"
          ]
        }
      ]
    },
    {
      "cell_type": "code",
      "metadata": {
        "id": "keNX2RbtOqii",
        "colab": {
          "base_uri": "https://localhost:8080/"
        },
        "outputId": "c7c27309-2a79-4ec1-8338-e79c0df1dcdd"
      },
      "source": [
        "# My example\n",
        "my_list = ['m', 3, \" perd\",0,\"n,\",4,\"s¿\"]\n",
        "print(my_list[3:6])"
      ],
      "execution_count": 22,
      "outputs": [
        {
          "output_type": "stream",
          "name": "stdout",
          "text": [
            "[0, 'n,', 4]\n"
          ]
        }
      ]
    },
    {
      "cell_type": "markdown",
      "metadata": {
        "id": "AZqQd0K8TYul"
      },
      "source": [
        "The slice starts from the first element indicated, but excludes the last element indicated. Here we select all elements starting from index 1, which refers to the second element:"
      ]
    },
    {
      "cell_type": "code",
      "metadata": {
        "id": "0-76sLfkOqii",
        "colab": {
          "base_uri": "https://localhost:8080/"
        },
        "outputId": "733aa968-bc95-49d7-de7c-ec8e4e309903"
      },
      "source": [
        "print(my_list[1:])"
      ],
      "execution_count": 23,
      "outputs": [
        {
          "output_type": "stream",
          "name": "stdout",
          "text": [
            "[3, ' perd', 0, 'n,', 4, 's¿']\n"
          ]
        }
      ]
    },
    {
      "cell_type": "code",
      "metadata": {
        "colab": {
          "base_uri": "https://localhost:8080/"
        },
        "id": "gpxb1FTy9SzK",
        "outputId": "0376c2b8-aa64-42f4-e8d9-e1870a425892"
      },
      "source": [
        "# My example\n",
        "print(my_list[4:])"
      ],
      "execution_count": 24,
      "outputs": [
        {
          "output_type": "stream",
          "name": "stdout",
          "text": [
            "['n,', 4, 's¿']\n"
          ]
        }
      ]
    },
    {
      "cell_type": "markdown",
      "metadata": {
        "id": "XBqvhUdZVKWs"
      },
      "source": [
        "And all elements up to but excluding index 3:"
      ]
    },
    {
      "cell_type": "code",
      "metadata": {
        "id": "5NWr75L9Oqii",
        "colab": {
          "base_uri": "https://localhost:8080/"
        },
        "outputId": "c623649b-0751-44e3-c60e-5a62d9fff5f4"
      },
      "source": [
        "print(my_list[:3])"
      ],
      "execution_count": 25,
      "outputs": [
        {
          "output_type": "stream",
          "name": "stdout",
          "text": [
            "['m', 3, ' perd']\n"
          ]
        }
      ]
    },
    {
      "cell_type": "code",
      "metadata": {
        "colab": {
          "base_uri": "https://localhost:8080/"
        },
        "id": "dhoAR1Or9ZwG",
        "outputId": "83db9fd5-e04e-44cc-9231-2ef45c6ec5c3"
      },
      "source": [
        "# My example\n",
        "print(my_list[:1])"
      ],
      "execution_count": 26,
      "outputs": [
        {
          "output_type": "stream",
          "name": "stdout",
          "text": [
            "['m']\n"
          ]
        }
      ]
    },
    {
      "cell_type": "markdown",
      "metadata": {
        "id": "eAFmM6bkTZz9"
      },
      "source": [
        "If you wish to add or remove an element from a list, you can use the append() and remove() methods for lists as follows:"
      ]
    },
    {
      "cell_type": "code",
      "metadata": {
        "colab": {
          "base_uri": "https://localhost:8080/"
        },
        "id": "pHmgTPElTo19",
        "outputId": "83cdc54f-cc9a-43e6-aa2a-1e8936868698"
      },
      "source": [
        "my_list = ['Hello', 'Quant']\n",
        "my_list.append('Hello')\n",
        "print(my_list)\n",
        "\n"
      ],
      "execution_count": 27,
      "outputs": [
        {
          "output_type": "stream",
          "name": "stdout",
          "text": [
            "['Hello', 'Quant', 'Hello']\n"
          ]
        }
      ]
    },
    {
      "cell_type": "code",
      "metadata": {
        "colab": {
          "base_uri": "https://localhost:8080/"
        },
        "id": "4C4U1Yf0Tr8l",
        "outputId": "c5956817-fbe6-496b-fdc0-c256508fac23"
      },
      "source": [
        "my_list.remove('Hello')\n",
        "print(my_list)"
      ],
      "execution_count": 28,
      "outputs": [
        {
          "output_type": "stream",
          "name": "stdout",
          "text": [
            "['Quant', 'Hello']\n"
          ]
        }
      ]
    },
    {
      "cell_type": "code",
      "metadata": {
        "colab": {
          "base_uri": "https://localhost:8080/"
        },
        "id": "HhAT1PxR9vWg",
        "outputId": "b8b68604-7551-44ee-eae7-acccb6efe61e"
      },
      "source": [
        "# My example\n",
        "my_list = ['Formula', 1]\n",
        "my_list.append(' is great!')\n",
        "print(my_list)"
      ],
      "execution_count": 29,
      "outputs": [
        {
          "output_type": "stream",
          "name": "stdout",
          "text": [
            "['Formula', 1, ' is great!']\n"
          ]
        }
      ]
    },
    {
      "cell_type": "code",
      "metadata": {
        "colab": {
          "base_uri": "https://localhost:8080/"
        },
        "id": "w51ii9029wUW",
        "outputId": "93b1fbfe-c5d7-4acb-9d98-fa033ef6a923"
      },
      "source": [
        "# My example\n",
        "my_list.remove(1)\n",
        "print(my_list)"
      ],
      "execution_count": 30,
      "outputs": [
        {
          "output_type": "stream",
          "name": "stdout",
          "text": [
            "['Formula', ' is great!']\n"
          ]
        }
      ]
    },
    {
      "cell_type": "markdown",
      "metadata": {
        "id": "11W1gG-cVmOU"
      },
      "source": [
        "When there are repeated instances of \"Hello\", the first one is removed.\n",
        "\n",
        "## Tuple\n",
        "A tuple is a data structure type similar to a list. The difference is that a tuple is immutable, which means you can't change the elements in it once it's defined. We create a tuple by putting comma-separated values between parentheses."
      ]
    },
    {
      "cell_type": "code",
      "metadata": {
        "collapsed": true,
        "id": "vPmn6BAaOqii"
      },
      "source": [
        "my_tuple = ('Welcome','to','QuantConnect')"
      ],
      "execution_count": 31,
      "outputs": []
    },
    {
      "cell_type": "code",
      "metadata": {
        "collapsed": true,
        "colab": {
          "base_uri": "https://localhost:8080/"
        },
        "id": "5rtvTF_l-JKR",
        "outputId": "0b7d9036-ad0d-4615-908d-18530e785103"
      },
      "source": [
        "# My example\n",
        "my_tuple = ('I','like','turtles')\n",
        "my_tuple"
      ],
      "execution_count": 32,
      "outputs": [
        {
          "output_type": "execute_result",
          "data": {
            "text/plain": [
              "('I', 'like', 'turtles')"
            ]
          },
          "metadata": {},
          "execution_count": 32
        }
      ]
    },
    {
      "cell_type": "markdown",
      "metadata": {
        "id": "zMIme4dDV0Wz"
      },
      "source": [
        "Just like a list, a tuple can be sliced by using index."
      ]
    },
    {
      "cell_type": "code",
      "metadata": {
        "id": "8P-ddO0sOqii",
        "colab": {
          "base_uri": "https://localhost:8080/"
        },
        "outputId": "7e2bc815-542e-4f09-a4cf-8f3ad43d92c1"
      },
      "source": [
        "my_tuple = ('Welcome','to','QuantConnect')\n",
        "print(my_tuple[1:])"
      ],
      "execution_count": 33,
      "outputs": [
        {
          "output_type": "stream",
          "name": "stdout",
          "text": [
            "('to', 'QuantConnect')\n"
          ]
        }
      ]
    },
    {
      "cell_type": "code",
      "metadata": {
        "colab": {
          "base_uri": "https://localhost:8080/"
        },
        "id": "YxkMd3lw-UWM",
        "outputId": "1573b332-7f7e-4f64-c0cc-c7932a7f921f"
      },
      "source": [
        "# My example\n",
        "my_tuple = ('I','like','turtles')\n",
        "print(my_tuple[2:])"
      ],
      "execution_count": 34,
      "outputs": [
        {
          "output_type": "stream",
          "name": "stdout",
          "text": [
            "('turtles',)\n"
          ]
        }
      ]
    },
    {
      "cell_type": "markdown",
      "metadata": {
        "id": "l2JqbusAV1Y2"
      },
      "source": [
        "## Set\n",
        "A set is an **unordered**  collection with **no duplicate** elements. The built-in function **set()** can be used to create sets."
      ]
    },
    {
      "cell_type": "code",
      "metadata": {
        "id": "Plau8r-UOqij",
        "colab": {
          "base_uri": "https://localhost:8080/"
        },
        "outputId": "625e3073-9cb2-459c-cd23-cbd39ed39931"
      },
      "source": [
        "stock_list = ['AAPL','GOOG','IBM','AAPL','IBM','FB','F','GOOG']\n",
        "stock_set = set(stock_list)\n",
        "print(stock_set)"
      ],
      "execution_count": 35,
      "outputs": [
        {
          "output_type": "stream",
          "name": "stdout",
          "text": [
            "{'AAPL', 'IBM', 'F', 'FB', 'GOOG'}\n"
          ]
        }
      ]
    },
    {
      "cell_type": "code",
      "metadata": {
        "colab": {
          "base_uri": "https://localhost:8080/"
        },
        "id": "q9Oxma1Z-jBj",
        "outputId": "002f71a7-c96e-44a1-e6b9-ca0655cf49fd"
      },
      "source": [
        "# My example\n",
        "stock_list = ['Mercedes','Red Bull','Mclaren','Mercedes','Red Bull','Ferrari','Aston Martin','Alpine']\n",
        "stock_set = set(stock_list)\n",
        "print(stock_set)"
      ],
      "execution_count": 36,
      "outputs": [
        {
          "output_type": "stream",
          "name": "stdout",
          "text": [
            "{'Red Bull', 'Aston Martin', 'Ferrari', 'Mercedes', 'Mclaren', 'Alpine'}\n"
          ]
        }
      ]
    },
    {
      "cell_type": "markdown",
      "metadata": {
        "id": "Jyb4GGIoWIHk"
      },
      "source": [
        "Set is an easy way to remove duplicate elements from a list.\n",
        "\n",
        "##Dictionary\n",
        "A dictionary is one of the most important data structures in Python. Unlike sequences which are indexed by integers, dictionaries are indexed by keys which can be either strings or floats.\n",
        "\n",
        "A dictionary is an **unordered** collection of key : value pairs, with the requirement that the keys are unique. We create a dictionary by placing a comma-separated list of key : value pairs within the braces."
      ]
    },
    {
      "cell_type": "code",
      "metadata": {
        "collapsed": true,
        "id": "36mTe5BaOqij"
      },
      "source": [
        "my_dic = {'AAPL':'AAPLE', 'FB':'FaceBook', 'GOOG':'Alphabet'}"
      ],
      "execution_count": 37,
      "outputs": []
    },
    {
      "cell_type": "code",
      "metadata": {
        "id": "KUfdVf43Oqij",
        "colab": {
          "base_uri": "https://localhost:8080/"
        },
        "outputId": "727ec5b2-9f04-4de5-bebd-53aa42b9abac"
      },
      "source": [
        "print(my_dic['GOOG'])"
      ],
      "execution_count": 38,
      "outputs": [
        {
          "output_type": "stream",
          "name": "stdout",
          "text": [
            "Alphabet\n"
          ]
        }
      ]
    },
    {
      "cell_type": "code",
      "metadata": {
        "collapsed": true,
        "id": "iiLxdHE3-5uq"
      },
      "source": [
        "# My example\n",
        "my_dic = {'HAM':'Hamilton', 'VER':'Verstappen', 'PER':'Perez'}"
      ],
      "execution_count": 39,
      "outputs": []
    },
    {
      "cell_type": "code",
      "metadata": {
        "colab": {
          "base_uri": "https://localhost:8080/"
        },
        "id": "zjXjoXtu-7Ww",
        "outputId": "fdf559e5-addb-4325-c6da-1ea3f2fa53d3"
      },
      "source": [
        "print(my_dic['HAM'])"
      ],
      "execution_count": 40,
      "outputs": [
        {
          "output_type": "stream",
          "name": "stdout",
          "text": [
            "Hamilton\n"
          ]
        }
      ]
    },
    {
      "cell_type": "markdown",
      "metadata": {
        "id": "gSicoNqDWP4c"
      },
      "source": [
        "After defining a dictionary, we can access any value by indicating its key in brackets."
      ]
    },
    {
      "cell_type": "code",
      "metadata": {
        "id": "IrTZdq9FOqij",
        "colab": {
          "base_uri": "https://localhost:8080/"
        },
        "outputId": "8622010c-7d1d-496d-f70d-a05afee404c2"
      },
      "source": [
        "my_dic['GOOG'] = 'Alphabet Company'\n",
        "print(my_dic['GOOG'])"
      ],
      "execution_count": 41,
      "outputs": [
        {
          "output_type": "stream",
          "name": "stdout",
          "text": [
            "Alphabet Company\n"
          ]
        }
      ]
    },
    {
      "cell_type": "code",
      "metadata": {
        "colab": {
          "base_uri": "https://localhost:8080/"
        },
        "id": "1GR3uF_cE6S1",
        "outputId": "361df819-f98c-452f-b09f-27fbe980358f"
      },
      "source": [
        "# My example\n",
        "my_dic['HAM'] = 'Lewis Hamilton'\n",
        "print(my_dic['HAM'])"
      ],
      "execution_count": 42,
      "outputs": [
        {
          "output_type": "stream",
          "name": "stdout",
          "text": [
            "Lewis Hamilton\n"
          ]
        }
      ]
    },
    {
      "cell_type": "markdown",
      "metadata": {
        "id": "M9sDsTEMWQvc"
      },
      "source": [
        "We can also change the value associated with a specified key:"
      ]
    },
    {
      "cell_type": "code",
      "metadata": {
        "id": "lupRHf1_Oqij",
        "colab": {
          "base_uri": "https://localhost:8080/"
        },
        "outputId": "b9f14691-41f3-47ac-c429-f64ae3163af1"
      },
      "source": [
        "my_dic = {'AAPL':'AAPLE', 'FB':'FaceBook', 'GOOG':'Alphabet'}\n",
        "print(my_dic.keys())"
      ],
      "execution_count": 43,
      "outputs": [
        {
          "output_type": "stream",
          "name": "stdout",
          "text": [
            "dict_keys(['AAPL', 'FB', 'GOOG'])\n"
          ]
        }
      ]
    },
    {
      "cell_type": "code",
      "metadata": {
        "colab": {
          "base_uri": "https://localhost:8080/"
        },
        "id": "P3j2Z0vLFE7V",
        "outputId": "7bade11f-5499-4d36-d685-f5b1cb9b8f6c"
      },
      "source": [
        "# My example\n",
        "my_dic = {'HAM':'Hamilton', 'VER':'Verstappen', 'PER':'Perez'}\n",
        "print(my_dic.keys())"
      ],
      "execution_count": 44,
      "outputs": [
        {
          "output_type": "stream",
          "name": "stdout",
          "text": [
            "dict_keys(['HAM', 'VER', 'PER'])\n"
          ]
        }
      ]
    },
    {
      "cell_type": "markdown",
      "metadata": {
        "id": "VPuDinlwWS9D"
      },
      "source": [
        "The built-in method of the dictionary object dict.keys() returns a list of all the keys used in the dictionary."
      ]
    },
    {
      "cell_type": "markdown",
      "metadata": {
        "id": "kSGzgNb2Womz"
      },
      "source": [
        "# Common String Operations\n",
        "A string is an immutable sequence of characters. It can be sliced by index just like a tuple:"
      ]
    },
    {
      "cell_type": "code",
      "metadata": {
        "id": "xPojDnm9Oqik",
        "colab": {
          "base_uri": "https://localhost:8080/"
        },
        "outputId": "42e45a77-64aa-4b5a-cbd5-258b796d3c1a"
      },
      "source": [
        "my_str = 'Welcome to QuantConnect'\n",
        "print(my_str[8:])"
      ],
      "execution_count": 45,
      "outputs": [
        {
          "output_type": "stream",
          "name": "stdout",
          "text": [
            "to QuantConnect\n"
          ]
        }
      ]
    },
    {
      "cell_type": "code",
      "metadata": {
        "colab": {
          "base_uri": "https://localhost:8080/"
        },
        "id": "5YvrNenwFuNS",
        "outputId": "bee35d94-908d-4577-df40-fe02c0c6befe"
      },
      "source": [
        "# My example\n",
        "my_str = 'To live for the hope of it all'\n",
        "print(my_str[3:20])"
      ],
      "execution_count": 46,
      "outputs": [
        {
          "output_type": "stream",
          "name": "stdout",
          "text": [
            "live for the hope\n"
          ]
        }
      ]
    },
    {
      "cell_type": "markdown",
      "metadata": {
        "id": "wuJYy7tvWtM7"
      },
      "source": [
        "There are many methods associated with strings. We can use string.count() to count the occurrences of a character in a string, use string.find() to return the index of a specific character, and use string.replace() to replace characters"
      ]
    },
    {
      "cell_type": "code",
      "metadata": {
        "id": "u9deZq1SOqik",
        "colab": {
          "base_uri": "https://localhost:8080/"
        },
        "outputId": "3af1f6ed-80ec-4dbc-f19e-8c9bd76acc8b"
      },
      "source": [
        "print('Counting the number of e appears in this sentence'.count('e'))\n",
        "print('The first time e appears in this sentence'.find('e'))\n",
        "print('all the a in this sentence now becomes e'.replace('a','e'))"
      ],
      "execution_count": 47,
      "outputs": [
        {
          "output_type": "stream",
          "name": "stdout",
          "text": [
            "7\n",
            "2\n",
            "ell the e in this sentence now becomes e\n"
          ]
        }
      ]
    },
    {
      "cell_type": "code",
      "metadata": {
        "colab": {
          "base_uri": "https://localhost:8080/"
        },
        "id": "BGQNhtX4HY9C",
        "outputId": "589da7b2-99b4-4122-c5d6-10e7744b0ec2"
      },
      "source": [
        "# My example\n",
        "print('Haaaave you met Ted?'.count('a'))\n",
        "print('It\\'s gonna be legen, wait for it, dary!'.find('g'))\n",
        "print('sandscastles in the sand'.replace('s','_'))"
      ],
      "execution_count": 48,
      "outputs": [
        {
          "output_type": "stream",
          "name": "stdout",
          "text": [
            "4\n",
            "5\n",
            "_and_ca_tle_ in the _and\n"
          ]
        }
      ]
    },
    {
      "cell_type": "markdown",
      "metadata": {
        "id": "sJPn3rkvWwHN"
      },
      "source": [
        "The most commonly used method for strings is string.split(). This method will split the string by the indicated character and return a list:"
      ]
    },
    {
      "cell_type": "code",
      "metadata": {
        "id": "hbIaFLFHOqik",
        "colab": {
          "base_uri": "https://localhost:8080/"
        },
        "outputId": "db8f2648-3e96-4542-de75-337a2b27d71b"
      },
      "source": [
        "Time = '2016-04-01 09:43:00'\n",
        "splited_list = Time.split(' ')\n",
        "date = splited_list[0]\n",
        "time = splited_list[1]\n",
        "print(date, time)\n",
        "hour = time.split(':')[0]\n",
        "print(hour)"
      ],
      "execution_count": 49,
      "outputs": [
        {
          "output_type": "stream",
          "name": "stdout",
          "text": [
            "2016-04-01 09:43:00\n",
            "09\n"
          ]
        }
      ]
    },
    {
      "cell_type": "code",
      "metadata": {
        "colab": {
          "base_uri": "https://localhost:8080/"
        },
        "id": "itiA0l6JJGQp",
        "outputId": "67138a45-6385-42f6-eb21-900c2f23515c"
      },
      "source": [
        "# My example\n",
        "Teams = 'SanAntonio Spurs,Toronto Raptors,LosAngeles Lakers,Miami Heat,Boston Celtics,Brooklyn Nets,Chicago Bulls'\n",
        "splited_list = Teams.split(',')\n",
        "teamA = splited_list[0]\n",
        "teamB = splited_list[1]\n",
        "print(teamA , \"vs\" , teamB)\n",
        "city = teamB.split(' ')[0]\n",
        "print(city)"
      ],
      "execution_count": 50,
      "outputs": [
        {
          "output_type": "stream",
          "name": "stdout",
          "text": [
            "SanAntonio Spurs vs Toronto Raptors\n",
            "Toronto\n"
          ]
        }
      ]
    },
    {
      "cell_type": "markdown",
      "metadata": {
        "id": "9cJQGk96WyVc"
      },
      "source": [
        "We can replace parts of a string by our variable. This is called string formatting."
      ]
    },
    {
      "cell_type": "code",
      "metadata": {
        "id": "-E_rIvv6Oqik",
        "colab": {
          "base_uri": "https://localhost:8080/"
        },
        "outputId": "7bacfec8-4d1e-436f-ade3-bf0721c9f01a"
      },
      "source": [
        "my_time = 'Hour: {}, Minute:{}'.format('09','43')\n",
        "print(my_time)"
      ],
      "execution_count": 51,
      "outputs": [
        {
          "output_type": "stream",
          "name": "stdout",
          "text": [
            "Hour: 09, Minute:43\n"
          ]
        }
      ]
    },
    {
      "cell_type": "code",
      "metadata": {
        "colab": {
          "base_uri": "https://localhost:8080/"
        },
        "id": "jsxYL6QjMvK7",
        "outputId": "fb336c36-cdb3-4b3d-dc67-f284077a7e21"
      },
      "source": [
        "# My example\n",
        "my_book = 'Title: {} - Author: {}'.format('Divergent','Veronica Roth')\n",
        "print(my_book)"
      ],
      "execution_count": 52,
      "outputs": [
        {
          "output_type": "stream",
          "name": "stdout",
          "text": [
            "Title: Divergent - Author: Veronica Roth\n"
          ]
        }
      ]
    },
    {
      "cell_type": "markdown",
      "metadata": {
        "id": "1_NbVldpWzAs"
      },
      "source": [
        "Another way to format a string is to use the % symbol."
      ]
    },
    {
      "cell_type": "code",
      "metadata": {
        "id": "4rZ4rkD2Oqik",
        "colab": {
          "base_uri": "https://localhost:8080/"
        },
        "outputId": "f5434c2e-3f37-44e5-d816-874b01cbc201"
      },
      "source": [
        "print('the pi number is %f'%3.14)\n",
        "print('%s to %s'%('Welcome','Quantconnect'))"
      ],
      "execution_count": 53,
      "outputs": [
        {
          "output_type": "stream",
          "name": "stdout",
          "text": [
            "the pi number is 3.140000\n",
            "Welcome to Quantconnect\n"
          ]
        }
      ]
    },
    {
      "cell_type": "code",
      "metadata": {
        "colab": {
          "base_uri": "https://localhost:8080/"
        },
        "id": "C9rtwFZIM-Af",
        "outputId": "24714fe2-7594-4af7-ce82-65336311513e"
      },
      "source": [
        "# My example\n",
        "print('the square root of 2 is %f'%1.41)\n",
        "print('%s > %s'%('Vanilla ice cream','Any other ice cream'))"
      ],
      "execution_count": 54,
      "outputs": [
        {
          "output_type": "stream",
          "name": "stdout",
          "text": [
            "the square root of 2 is 1.410000\n",
            "Vanilla ice cream > Any other ice cream\n"
          ]
        }
      ]
    },
    {
      "cell_type": "markdown",
      "metadata": {
        "id": "v_5cocrDW3MN"
      },
      "source": [
        "# Summary\n",
        "\n",
        "Weave seen the basic data types and data structures in Python. It's important to keep practicing to become familiar with these data structures. In the next tutorial, we will cover for and while loops and logical operations in Python."
      ]
    },
    {
      "cell_type": "markdown",
      "metadata": {
        "id": "QL6dNxwCXNEt"
      },
      "source": [
        "<div align=\"center\">\n",
        "<img style=\"display: block; margin: auto;\" alt=\"photo\" src=\"https://cdn.quantconnect.com/web/i/icon.png\">\n",
        "\n",
        "Quantconnect\n",
        "\n",
        "Introduction to Financial Python\n",
        "</div>\n",
        "\n",
        "# 02 Logical Operations and Loops\n",
        "\n",
        "# Introduction\n",
        "We discussed the basic data types and data structures in Python in the last tutorial. This chapter covers logical operations and loops in Python, which are very common in programming.\n",
        "\n",
        "# Logical Operations\n",
        "Like most programming languages, Python has comparison operators:"
      ]
    },
    {
      "cell_type": "code",
      "metadata": {
        "id": "70Guys_rOv7a",
        "colab": {
          "base_uri": "https://localhost:8080/"
        },
        "outputId": "c4382813-af0e-4104-8abe-f726f43db796"
      },
      "source": [
        "print (1 == 0)\n",
        "print (1 == 1)\n",
        "print (1 != 0)\n",
        "print (5 >= 5)\n",
        "print (5 >= 6)"
      ],
      "execution_count": 55,
      "outputs": [
        {
          "output_type": "stream",
          "name": "stdout",
          "text": [
            "False\n",
            "True\n",
            "True\n",
            "True\n",
            "False\n"
          ]
        }
      ]
    },
    {
      "cell_type": "code",
      "metadata": {
        "colab": {
          "base_uri": "https://localhost:8080/"
        },
        "id": "XTCWmjQCOemE",
        "outputId": "bdd48d4e-1be4-4c1b-f9b5-856b118bcb55"
      },
      "source": [
        "# My example\n",
        "print (12 == 1212)\n",
        "print (12 == 12)\n",
        "print (12 != 5)\n",
        "print (12 >= -12)\n",
        "print (12 >= 1)"
      ],
      "execution_count": 56,
      "outputs": [
        {
          "output_type": "stream",
          "name": "stdout",
          "text": [
            "False\n",
            "True\n",
            "True\n",
            "True\n",
            "True\n"
          ]
        }
      ]
    },
    {
      "cell_type": "markdown",
      "metadata": {
        "id": "8aFHYDj-YTXt"
      },
      "source": [
        "Each statement above has a boolean value, which must be either True or False, but not both.\n",
        "\n",
        "We can combine simple statements P and Q to form complex statements using logical operators:\n",
        "\n",
        "- The statement \"P and Q\" is true if both P and Q are true, otherwise it is false.\n",
        "- The statement \"P or Q\" is false if both P and Q are false, otherwise it is true.\n",
        "- The statement \"not P\" is true if P is false, and vice versa."
      ]
    },
    {
      "cell_type": "code",
      "metadata": {
        "id": "O5YEEcUbOv7d",
        "colab": {
          "base_uri": "https://localhost:8080/"
        },
        "outputId": "9efaec95-7b2f-4af5-cdca-ef3411eb80f7"
      },
      "source": [
        "print (2 > 1 and 3 > 2)\n",
        "print (2 > 1 and 3 < 2) \n",
        "print (2 > 1 or 3 < 2)\n",
        "print (2 < 1 and 3 < 2)"
      ],
      "execution_count": 57,
      "outputs": [
        {
          "output_type": "stream",
          "name": "stdout",
          "text": [
            "True\n",
            "False\n",
            "True\n",
            "False\n"
          ]
        }
      ]
    },
    {
      "cell_type": "code",
      "metadata": {
        "colab": {
          "base_uri": "https://localhost:8080/"
        },
        "id": "tt6ieTYmQpDf",
        "outputId": "e12e1dc4-e8dd-43c4-830d-7a42b3f6437e"
      },
      "source": [
        "# My example\n",
        "print (22 > -22 and -2 > 2)\n",
        "print (25.5 > 25.6 and 3.0 < 3.3 )\n",
        "print (-5230 > 0 or 0 < 1)\n",
        "print (2021 < 2022 and 1980 < 1990)"
      ],
      "execution_count": 58,
      "outputs": [
        {
          "output_type": "stream",
          "name": "stdout",
          "text": [
            "False\n",
            "False\n",
            "True\n",
            "True\n"
          ]
        }
      ]
    },
    {
      "cell_type": "markdown",
      "metadata": {
        "id": "Dy7yzoSXYXmL"
      },
      "source": [
        "When dealing with a very complex logical statement that involves in several statements, we can use brackets to separate and combine them."
      ]
    },
    {
      "cell_type": "code",
      "metadata": {
        "id": "QZ-W2xJZOv7d",
        "colab": {
          "base_uri": "https://localhost:8080/"
        },
        "outputId": "cd135e23-c314-47ea-dc13-7c7ac8e47cc4"
      },
      "source": [
        "print ( (3 > 2 or 1 < 3) and (1!=3 and 4>3) and not ( 3 < 2 or 1 < 3 and (1!=3 and 4>3)) )\n",
        "print ( 3 > 2 or 1 < 3 and (1!=3 and 4>3) and not ( 3 < 2 or 1 < 3 and (1!=3 and 4>3)) )"
      ],
      "execution_count": 59,
      "outputs": [
        {
          "output_type": "stream",
          "name": "stdout",
          "text": [
            "False\n",
            "True\n"
          ]
        }
      ]
    },
    {
      "cell_type": "code",
      "metadata": {
        "colab": {
          "base_uri": "https://localhost:8080/"
        },
        "id": "ZQSTrzbJRFts",
        "outputId": "38b9ae77-206e-475f-c23f-dfc9f83e52f6"
      },
      "source": [
        "# My example\n",
        "print ( (1 > 0 or 11 <= 30) and (54654!=5 and 44000>300) and not ( 12 < 21 or 21 < 12 and (55!=55 and 88>87)) ) \n",
        "print ( 1 > 0 or 11 <= 30 and 54654!=5 and 44000>300 and not  12 < 21 or 21 < 12 and 55!=55 and 88>87 )"
      ],
      "execution_count": 60,
      "outputs": [
        {
          "output_type": "stream",
          "name": "stdout",
          "text": [
            "False\n",
            "True\n"
          ]
        }
      ]
    },
    {
      "cell_type": "markdown",
      "metadata": {
        "id": "s95xoRYMYaPD"
      },
      "source": [
        "Comparing the above two statements, we can see that it's wise to use brackets when we make a complex logical statement.\n",
        "\n",
        "# If Statement\n",
        "An if statement executes a segment of code only if its condition is true. A standard if statement consists of 3 segments: if, elif and else."
      ]
    },
    {
      "cell_type": "markdown",
      "metadata": {
        "id": "aRzMMitAaBOL"
      },
      "source": [
        "```python\n",
        "if statement1:\n",
        "    # if the statement1 is true, execute the code here.\n",
        "    # code.....\n",
        "    # code.....\n",
        "elif statement2:\n",
        "    # if the statement 1 is false, skip the codes above to this part.\n",
        "    # code......\n",
        "    # code......\n",
        "else:\n",
        "    # if none of the above statements is True, skip to this part\n",
        "    # code......\n",
        "```"
      ]
    },
    {
      "cell_type": "markdown",
      "metadata": {
        "id": "l59R2AS8aH2K"
      },
      "source": [
        "An if statement doesn't necessarily has elif and else part. If it's not specified, the indented block of code will be executed when the condition is true, otherwise the whole if statement will be skipped."
      ]
    },
    {
      "cell_type": "code",
      "metadata": {
        "id": "FZ5GoTXfOv7e",
        "colab": {
          "base_uri": "https://localhost:8080/"
        },
        "outputId": "c1cd3020-6132-4df0-a20b-2f0a26790893"
      },
      "source": [
        "i = 0\n",
        "if i == 0:\n",
        "    print ('i==0 is True')"
      ],
      "execution_count": 61,
      "outputs": [
        {
          "output_type": "stream",
          "name": "stdout",
          "text": [
            "i==0 is True\n"
          ]
        }
      ]
    },
    {
      "cell_type": "code",
      "metadata": {
        "colab": {
          "base_uri": "https://localhost:8080/"
        },
        "id": "RxRKJ3PyDDgn",
        "outputId": "133f08c4-6bbd-4dca-a0c3-b21a6ae8f8a4"
      },
      "source": [
        "# my example\n",
        "\n",
        "i = 12\n",
        "if i == 5:\n",
        "    print ('i==5 is True')\n",
        "else: \n",
        "  print ('i==5 is False')"
      ],
      "execution_count": 62,
      "outputs": [
        {
          "output_type": "stream",
          "name": "stdout",
          "text": [
            "i==5 is False\n"
          ]
        }
      ]
    },
    {
      "cell_type": "markdown",
      "metadata": {
        "id": "nPNW-l5eaJn8"
      },
      "source": [
        "As we mentioned above, we can write some complex statements here:"
      ]
    },
    {
      "cell_type": "code",
      "metadata": {
        "id": "gh-U6nMzOv7e",
        "colab": {
          "base_uri": "https://localhost:8080/"
        },
        "outputId": "7d8d262b-221e-4c58-dbfe-dece875eceae"
      },
      "source": [
        "p = 1 > 0\n",
        "q = 2 > 3\n",
        "if p and q:\n",
        "    print ('p and q is true')\n",
        "elif p and not q:\n",
        "    print ('q is false')\n",
        "elif q and not p:\n",
        "    print ('p is false')\n",
        "else:\n",
        "    print ('None of p and q is true')"
      ],
      "execution_count": 63,
      "outputs": [
        {
          "output_type": "stream",
          "name": "stdout",
          "text": [
            "q is false\n"
          ]
        }
      ]
    },
    {
      "cell_type": "code",
      "metadata": {
        "colab": {
          "base_uri": "https://localhost:8080/"
        },
        "id": "-gVBbGpaGAj1",
        "outputId": "d2876703-c40e-45a2-e603-1c9d102b5382"
      },
      "source": [
        "# my example\n",
        "p = True and False\n",
        "q = not p\n",
        "if p and q:\n",
        "    print ('p and q is true')\n",
        "elif p and not q:\n",
        "    print ('q is false')\n",
        "elif q and not p:\n",
        "    print ('p is false')\n",
        "else:\n",
        "    print ('None of p and q is true')"
      ],
      "execution_count": 64,
      "outputs": [
        {
          "output_type": "stream",
          "name": "stdout",
          "text": [
            "p is false\n"
          ]
        }
      ]
    },
    {
      "cell_type": "markdown",
      "metadata": {
        "id": "tgRDwiAsaMOL"
      },
      "source": [
        "# Loop Structure\n",
        "Loops are an essential part of programming. The \"for\" and \"while\" loops run a block of code repeatedly.\n",
        "\n",
        "## While Loop\n",
        "A \"while\" loop will run repeatedly until a certain condition has been met."
      ]
    },
    {
      "cell_type": "code",
      "metadata": {
        "id": "uQLau8d5Ov7f",
        "colab": {
          "base_uri": "https://localhost:8080/"
        },
        "outputId": "1a396bee-8777-43fe-a467-e582638154f4"
      },
      "source": [
        "i = 0\n",
        "while i < 5:\n",
        "    print (i)\n",
        "    i += 1 "
      ],
      "execution_count": 65,
      "outputs": [
        {
          "output_type": "stream",
          "name": "stdout",
          "text": [
            "0\n",
            "1\n",
            "2\n",
            "3\n",
            "4\n"
          ]
        }
      ]
    },
    {
      "cell_type": "code",
      "metadata": {
        "colab": {
          "base_uri": "https://localhost:8080/"
        },
        "id": "5ChUsaI4G_kc",
        "outputId": "e70c95c7-5b34-41fd-db94-9bacf390179e"
      },
      "source": [
        "# my example\n",
        "i = -12\n",
        "while i < 12:\n",
        "    print (i)\n",
        "    i += 1 "
      ],
      "execution_count": 66,
      "outputs": [
        {
          "output_type": "stream",
          "name": "stdout",
          "text": [
            "-12\n",
            "-11\n",
            "-10\n",
            "-9\n",
            "-8\n",
            "-7\n",
            "-6\n",
            "-5\n",
            "-4\n",
            "-3\n",
            "-2\n",
            "-1\n",
            "0\n",
            "1\n",
            "2\n",
            "3\n",
            "4\n",
            "5\n",
            "6\n",
            "7\n",
            "8\n",
            "9\n",
            "10\n",
            "11\n"
          ]
        }
      ]
    },
    {
      "cell_type": "markdown",
      "metadata": {
        "id": "ydLddFAPaTOE"
      },
      "source": [
        "When making a while loop, we need to ensure that something changes from iteration to iteration so that the while loop will terminate, otherwise, it will run forever. Here we used i += 1 (short for i = i + 1) to make i larger after each iteration. This is the most commonly used method to control a while loop.\n",
        "\n",
        "## For Loop\n",
        "A \"for\" loop will iterate over a sequence of value and terminate when the sequence has ended."
      ]
    },
    {
      "cell_type": "code",
      "metadata": {
        "id": "kt8Ie8u1Ov7f",
        "colab": {
          "base_uri": "https://localhost:8080/"
        },
        "outputId": "f0b10c77-ed48-4315-90c1-0ff1a14f0499"
      },
      "source": [
        "for i in [1,2,3,4,5]:\n",
        "    print (i)"
      ],
      "execution_count": 67,
      "outputs": [
        {
          "output_type": "stream",
          "name": "stdout",
          "text": [
            "1\n",
            "2\n",
            "3\n",
            "4\n",
            "5\n"
          ]
        }
      ]
    },
    {
      "cell_type": "code",
      "metadata": {
        "colab": {
          "base_uri": "https://localhost:8080/"
        },
        "id": "ynf54VfHHG31",
        "outputId": "734e3d07-e20e-4ab4-b33a-8070da2af58c"
      },
      "source": [
        "# my example\n",
        "for i in [\"How I met your mother\",\"Suits\",\"Brooklyn 99\",\"Lucifer\",\"Seinfeld\"]:\n",
        "    print (i)"
      ],
      "execution_count": 68,
      "outputs": [
        {
          "output_type": "stream",
          "name": "stdout",
          "text": [
            "How I met your mother\n",
            "Suits\n",
            "Brooklyn 99\n",
            "Lucifer\n",
            "Seinfeld\n"
          ]
        }
      ]
    },
    {
      "cell_type": "markdown",
      "metadata": {
        "id": "yWStqpreaX-T"
      },
      "source": [
        "We can also add if statements in a for loop. Here is a real example from our pairs trading algorithm:"
      ]
    },
    {
      "cell_type": "code",
      "metadata": {
        "id": "kElmffvFOv7f",
        "colab": {
          "base_uri": "https://localhost:8080/"
        },
        "outputId": "8ef0ce45-9654-4c27-df58-b37073a905ff"
      },
      "source": [
        "stocks = ['AAPL','GOOG','IBM','FB','F','V', 'G', 'GE']\n",
        "selected = ['AAPL','IBM']\n",
        "new_list = []\n",
        "for i in stocks:\n",
        "    if i not in selected:\n",
        "        new_list.append(i)\n",
        "print (stocks)"
      ],
      "execution_count": 69,
      "outputs": [
        {
          "output_type": "stream",
          "name": "stdout",
          "text": [
            "['AAPL', 'GOOG', 'IBM', 'FB', 'F', 'V', 'G', 'GE']\n"
          ]
        }
      ]
    },
    {
      "cell_type": "code",
      "metadata": {
        "colab": {
          "base_uri": "https://localhost:8080/"
        },
        "id": "7cYcuEXUHivJ",
        "outputId": "804b630d-1f7b-40e8-ade6-6bf37fdf890d"
      },
      "source": [
        "# my example\n",
        "colors = ['cyan','turquiose','mint','teal','aqua']\n",
        "selected = ['mint','aqua']\n",
        "new_list = []\n",
        "for i in colors:\n",
        "    if i not in selected:\n",
        "        new_list.append(i)\n",
        "print( new_list )"
      ],
      "execution_count": 70,
      "outputs": [
        {
          "output_type": "stream",
          "name": "stdout",
          "text": [
            "['cyan', 'turquiose', 'teal']\n"
          ]
        }
      ]
    },
    {
      "cell_type": "markdown",
      "metadata": {
        "id": "wb2hry9dahE0"
      },
      "source": [
        "Here we iterated all the elements in the list 'stocks'. Later in this chapter, we will introduce a smarter way to do this, which is just a one-line code.\n",
        "\n",
        "## Break and continue\n",
        "These are two commonly used commands in a for loop. If \"break\" is triggered while a loop is executing, the loop will terminate immediately:"
      ]
    },
    {
      "cell_type": "code",
      "metadata": {
        "id": "yF5wMVItOv7g",
        "colab": {
          "base_uri": "https://localhost:8080/"
        },
        "outputId": "59b896aa-3c4b-48be-90cd-8422eb4d26e6"
      },
      "source": [
        "stocks = ['AAPL','GOOG','IBM','FB','F','V', 'G', 'GE']\n",
        "for i in stocks:\n",
        "    print (i)\n",
        "    if i == 'FB':\n",
        "        break"
      ],
      "execution_count": 71,
      "outputs": [
        {
          "output_type": "stream",
          "name": "stdout",
          "text": [
            "AAPL\n",
            "GOOG\n",
            "IBM\n",
            "FB\n"
          ]
        }
      ]
    },
    {
      "cell_type": "code",
      "metadata": {
        "colab": {
          "base_uri": "https://localhost:8080/"
        },
        "id": "8Dzc_GsvIK2W",
        "outputId": "5303a7d3-2d2e-4b58-937d-25015b6d211d"
      },
      "source": [
        "# my example\n",
        "les_nombres = ['un','deux','trois','quatre','cinq','six', 'sept', 'huit']\n",
        "for i in les_nombres:\n",
        "    print (i)\n",
        "    if i == 'cinq':\n",
        "        break"
      ],
      "execution_count": 72,
      "outputs": [
        {
          "output_type": "stream",
          "name": "stdout",
          "text": [
            "un\n",
            "deux\n",
            "trois\n",
            "quatre\n",
            "cinq\n"
          ]
        }
      ]
    },
    {
      "cell_type": "markdown",
      "metadata": {
        "id": "R0toxyp3ao0T"
      },
      "source": [
        "The \"continue\" command tells the loop to end this iteration and skip to the next iteration:"
      ]
    },
    {
      "cell_type": "code",
      "metadata": {
        "id": "Stg-CH6IOv7g",
        "colab": {
          "base_uri": "https://localhost:8080/"
        },
        "outputId": "083019e3-7e42-4557-d491-8f112e33662b"
      },
      "source": [
        "stocks = ['AAPL','GOOG','IBM','FB','F','V', 'G', 'GE']\n",
        "for i in stocks:\n",
        "    if i == 'FB':\n",
        "        continue\n",
        "    print (i)"
      ],
      "execution_count": 73,
      "outputs": [
        {
          "output_type": "stream",
          "name": "stdout",
          "text": [
            "AAPL\n",
            "GOOG\n",
            "IBM\n",
            "F\n",
            "V\n",
            "G\n",
            "GE\n"
          ]
        }
      ]
    },
    {
      "cell_type": "code",
      "metadata": {
        "colab": {
          "base_uri": "https://localhost:8080/"
        },
        "id": "Fq4OaSHzJH6Y",
        "outputId": "fd928e19-b161-4f51-f2cb-d5d0826b7f56"
      },
      "source": [
        "# my example\n",
        "les_nombres = ['un','deux','trois','quatre','cinq','six', 'sept', 'huit']\n",
        "for i in les_nombres:\n",
        "    if i == 'cinq':\n",
        "        continue\n",
        "    print (i)"
      ],
      "execution_count": 74,
      "outputs": [
        {
          "output_type": "stream",
          "name": "stdout",
          "text": [
            "un\n",
            "deux\n",
            "trois\n",
            "quatre\n",
            "six\n",
            "sept\n",
            "huit\n"
          ]
        }
      ]
    },
    {
      "cell_type": "markdown",
      "metadata": {
        "id": "4NusvdhBaxpZ"
      },
      "source": [
        "# List Comprehension\n",
        "List comprehension is a Pythonic way to create lists. Common applications are to make new lists where each element is the result of some operations applied to each member of another sequence. For example, if we want to create a list of squares using for loop:"
      ]
    },
    {
      "cell_type": "code",
      "metadata": {
        "id": "bdxxeOABOv7h",
        "colab": {
          "base_uri": "https://localhost:8080/"
        },
        "outputId": "d8f23750-8227-4c3b-86f2-2d1cc176d5df"
      },
      "source": [
        "squares = []\n",
        "for i in [1,2,3,4,5]:\n",
        "    squares.append(i**2)\n",
        "print (squares)"
      ],
      "execution_count": 75,
      "outputs": [
        {
          "output_type": "stream",
          "name": "stdout",
          "text": [
            "[1, 4, 9, 16, 25]\n"
          ]
        }
      ]
    },
    {
      "cell_type": "code",
      "metadata": {
        "colab": {
          "base_uri": "https://localhost:8080/"
        },
        "id": "YHYmRfanTmZN",
        "outputId": "bb551d65-3b1c-49b0-f76e-7527bfdc98db"
      },
      "source": [
        "# my example\n",
        "powers = []\n",
        "for i in [1,2,3,4,5]:\n",
        "    powers.append(2**i)\n",
        "print (powers)"
      ],
      "execution_count": 76,
      "outputs": [
        {
          "output_type": "stream",
          "name": "stdout",
          "text": [
            "[2, 4, 8, 16, 32]\n"
          ]
        }
      ]
    },
    {
      "cell_type": "markdown",
      "metadata": {
        "id": "--KliJBOa1CC"
      },
      "source": [
        "Using list comprehension:"
      ]
    },
    {
      "cell_type": "code",
      "metadata": {
        "id": "440-yjG8Ov7h",
        "colab": {
          "base_uri": "https://localhost:8080/"
        },
        "outputId": "1fa54434-7c90-4aa8-dfb8-36eb19ef0f1b"
      },
      "source": [
        "list = [1,2,3,4,5]\n",
        "squares = [x**2 for x in list]\n",
        "print (squares)"
      ],
      "execution_count": 77,
      "outputs": [
        {
          "output_type": "stream",
          "name": "stdout",
          "text": [
            "[1, 4, 9, 16, 25]\n"
          ]
        }
      ]
    },
    {
      "cell_type": "code",
      "metadata": {
        "colab": {
          "base_uri": "https://localhost:8080/"
        },
        "id": "o44IEwe7UgZi",
        "outputId": "e4b7a2b7-b3b8-4d63-e9d5-82d532a9cb8f"
      },
      "source": [
        "# my example\n",
        "list = [1,2,3,4,5]\n",
        "powers = [2**x for x in list]\n",
        "print (powers)"
      ],
      "execution_count": 78,
      "outputs": [
        {
          "output_type": "stream",
          "name": "stdout",
          "text": [
            "[2, 4, 8, 16, 32]\n"
          ]
        }
      ]
    },
    {
      "cell_type": "markdown",
      "metadata": {
        "id": "uMuCfR3ya3zT"
      },
      "source": [
        "Recall the example above where we used a for loop to select stocks. Here we use list comprehension:"
      ]
    },
    {
      "cell_type": "code",
      "metadata": {
        "id": "ZGtCtog2Ov7h",
        "colab": {
          "base_uri": "https://localhost:8080/"
        },
        "outputId": "0f26d7db-64e6-4b8d-d5dc-3fb2bbd46457"
      },
      "source": [
        "stocks = ['AAPL','GOOG','IBM','FB','F','V', 'G', 'GE']\n",
        "selected = ['AAPL','IBM']\n",
        "new_list = [x for x in stocks if x in selected]\n",
        "print (new_list)"
      ],
      "execution_count": 79,
      "outputs": [
        {
          "output_type": "stream",
          "name": "stdout",
          "text": [
            "['AAPL', 'IBM']\n"
          ]
        }
      ]
    },
    {
      "cell_type": "code",
      "metadata": {
        "colab": {
          "base_uri": "https://localhost:8080/"
        },
        "id": "y9IyoosCU21M",
        "outputId": "f4d19924-afee-46bb-bd1d-6baf74a11e87"
      },
      "source": [
        "# my example\n",
        "teams = ['Lakers','Raptors','Spurs','Celtics','Timberwolves','Mavs', 'Hawks']\n",
        "selected = ['Lakers','Celtics']\n",
        "new_list = [x for x in teams if x in selected]\n",
        "print (new_list)"
      ],
      "execution_count": 80,
      "outputs": [
        {
          "output_type": "stream",
          "name": "stdout",
          "text": [
            "['Lakers', 'Celtics']\n"
          ]
        }
      ]
    },
    {
      "cell_type": "markdown",
      "metadata": {
        "id": "EPeUv6Lia5oD"
      },
      "source": [
        "A list comprehension consists of square brackets containing an expression followed by a \"for\" clause, and possibly \"for\" or \"if\" clauses. For example:"
      ]
    },
    {
      "cell_type": "code",
      "metadata": {
        "id": "O1AMB5d7Ov7i",
        "colab": {
          "base_uri": "https://localhost:8080/"
        },
        "outputId": "b1fbd82b-6a7d-4abe-b129-d9fe0cf84099"
      },
      "source": [
        "print ([(x, y) for x in [1,2,3] for y in [3,1,4] if x != y])\n",
        "print ([str(x)+' vs '+str(y) for x in ['AAPL','GOOG','IBM','FB'] for y in ['F','V','G','GE'] if x!=y])"
      ],
      "execution_count": 81,
      "outputs": [
        {
          "output_type": "stream",
          "name": "stdout",
          "text": [
            "[(1, 3), (1, 4), (2, 3), (2, 1), (2, 4), (3, 1), (3, 4)]\n",
            "['AAPL vs F', 'AAPL vs V', 'AAPL vs G', 'AAPL vs GE', 'GOOG vs F', 'GOOG vs V', 'GOOG vs G', 'GOOG vs GE', 'IBM vs F', 'IBM vs V', 'IBM vs G', 'IBM vs GE', 'FB vs F', 'FB vs V', 'FB vs G', 'FB vs GE']\n"
          ]
        }
      ]
    },
    {
      "cell_type": "code",
      "metadata": {
        "colab": {
          "base_uri": "https://localhost:8080/"
        },
        "id": "_J8aF8YgaQrb",
        "outputId": "9ab7e0a6-349a-452f-a121-0d5eb6f0c0d7"
      },
      "source": [
        "# my example\n",
        "print ([(x, y) for x in [12,24] for y in [\"A\",\"B\"]])\n",
        "print ([str(x)+' vs '+str(y) for x in ['A','B','C','D'] for y in ['A','AA','AAA','AAAA'] if x!=y])"
      ],
      "execution_count": 82,
      "outputs": [
        {
          "output_type": "stream",
          "name": "stdout",
          "text": [
            "[(12, 'A'), (12, 'B'), (24, 'A'), (24, 'B')]\n",
            "['A vs AA', 'A vs AAA', 'A vs AAAA', 'B vs A', 'B vs AA', 'B vs AAA', 'B vs AAAA', 'C vs A', 'C vs AA', 'C vs AAA', 'C vs AAAA', 'D vs A', 'D vs AA', 'D vs AAA', 'D vs AAAA']\n"
          ]
        }
      ]
    },
    {
      "cell_type": "markdown",
      "metadata": {
        "id": "jJpvq-o4a8P7"
      },
      "source": [
        "List comprehension is an elegant way to organize one or more for loops when creating a list.\n",
        "\n",
        "# Summary\n",
        "This chapter has introduced logical operations, loops, and list comprehension. In the next chapter, we will introduce functions and object-oriented programming, which will enable us to make our codes clean and versatile."
      ]
    },
    {
      "cell_type": "markdown",
      "metadata": {
        "id": "Tef_X2wJbdhn"
      },
      "source": [
        "<div align=\"center\">\n",
        "<img style=\"display: block; margin: auto;\" alt=\"photo\" src=\"https://cdn.quantconnect.com/web/i/icon.png\">\n",
        "\n",
        "Quantconnect\n",
        "\n",
        "Introduction to Financial Python\n",
        "</div>\n",
        "\n",
        "# 03 Functions and Objective-Oriented Programming\n",
        "\n",
        "# Introduction\n",
        "\n",
        "In the last tutorial we introduced logical operations, loops and list comprehension. We will introduce functions and object-oriented programming in this chapter, which will enable us to build complex algorithms in more flexible ways.\n",
        "\n",
        "# Functions\n",
        "A function is a reusable block of code. We can use a function to output a value, or do anything else we want. We can easily define our own function by using the keyword \"def\"."
      ]
    },
    {
      "cell_type": "code",
      "metadata": {
        "id": "eE_NkTiSO2PO",
        "colab": {
          "base_uri": "https://localhost:8080/"
        },
        "outputId": "7d16fd56-0189-424e-da4f-17bb127465b6"
      },
      "source": [
        "def product(x,y):\n",
        "    return x*y\n",
        "print(product(2,3))\n",
        "print(product(5,10))"
      ],
      "execution_count": 83,
      "outputs": [
        {
          "output_type": "stream",
          "name": "stdout",
          "text": [
            "6\n",
            "50\n"
          ]
        }
      ]
    },
    {
      "cell_type": "code",
      "metadata": {
        "colab": {
          "base_uri": "https://localhost:8080/"
        },
        "id": "WbaTGCCLm-2i",
        "outputId": "7adee4ca-037e-467b-c962-91a398061bb9"
      },
      "source": [
        "# my example\n",
        "def myPow(x,y):\n",
        "    return x ** y\n",
        "print(myPow(2,3))\n",
        "print(myPow(5,10))"
      ],
      "execution_count": 84,
      "outputs": [
        {
          "output_type": "stream",
          "name": "stdout",
          "text": [
            "8\n",
            "9765625\n"
          ]
        }
      ]
    },
    {
      "cell_type": "markdown",
      "metadata": {
        "id": "4oRU_dVJbsdD"
      },
      "source": [
        "The keyword \"def\" is followed by the function name and the parenthesized list of formal parameters. The statements that form the body of the function start at the next line, and must be indented. The product() function above has \"x\" and \"y\" as its parameters. A function doesn't necessarily have parameters:"
      ]
    },
    {
      "cell_type": "code",
      "metadata": {
        "id": "JhdWVLbUO2PQ",
        "colab": {
          "base_uri": "https://localhost:8080/"
        },
        "outputId": "b32dd66b-053c-4878-a1d8-840a0b5825f4"
      },
      "source": [
        "def say_hi():\n",
        "    print('Welcome to QuantConnect')\n",
        "say_hi()"
      ],
      "execution_count": 85,
      "outputs": [
        {
          "output_type": "stream",
          "name": "stdout",
          "text": [
            "Welcome to QuantConnect\n"
          ]
        }
      ]
    },
    {
      "cell_type": "code",
      "metadata": {
        "colab": {
          "base_uri": "https://localhost:8080/"
        },
        "id": "ywZ7mBMmnQEx",
        "outputId": "64f754ea-ad1b-401b-9d29-f9e774b674df"
      },
      "source": [
        "# my example\n",
        "from random import random\n",
        "def print_random_number():\n",
        "    print(random())\n",
        "print_random_number()"
      ],
      "execution_count": 86,
      "outputs": [
        {
          "output_type": "stream",
          "name": "stdout",
          "text": [
            "0.46712425407104374\n"
          ]
        }
      ]
    },
    {
      "cell_type": "markdown",
      "metadata": {
        "id": "lHwqVpWVb1Jr"
      },
      "source": [
        "# Built-in Function\n",
        "**range()** is a function that creates a list containing an arithmetic sequence. It's often used in for loops. The arguments must be integers. If the \"step\" argument is omitted, it defaults to 1."
      ]
    },
    {
      "cell_type": "code",
      "metadata": {
        "id": "VVOTELcIO2PQ",
        "colab": {
          "base_uri": "https://localhost:8080/"
        },
        "outputId": "f12bb4c3-bdbf-4538-c284-f832b4f59960"
      },
      "source": [
        "print(range(10))\n",
        "print(range(1,11))\n",
        "print(range(1,11,2))"
      ],
      "execution_count": 87,
      "outputs": [
        {
          "output_type": "stream",
          "name": "stdout",
          "text": [
            "range(0, 10)\n",
            "range(1, 11)\n",
            "range(1, 11, 2)\n"
          ]
        }
      ]
    },
    {
      "cell_type": "code",
      "metadata": {
        "colab": {
          "base_uri": "https://localhost:8080/"
        },
        "id": "m9zQ6YT4nrjW",
        "outputId": "226eff2d-4ecc-4c87-caa2-4a6a76b8dfe3"
      },
      "source": [
        "# my example\n",
        "print(range(5))\n",
        "print(range(2,5))\n",
        "print(range(10,1,-1))"
      ],
      "execution_count": 88,
      "outputs": [
        {
          "output_type": "stream",
          "name": "stdout",
          "text": [
            "range(0, 5)\n",
            "range(2, 5)\n",
            "range(10, 1, -1)\n"
          ]
        }
      ]
    },
    {
      "cell_type": "markdown",
      "metadata": {
        "id": "PD0cSgiwcQ4L"
      },
      "source": [
        "**len()** is another function used together with range() to create a for loop. This function returns the length of an object. The argument must be a sequence or a collection."
      ]
    },
    {
      "cell_type": "code",
      "metadata": {
        "id": "Hg18c7v-O2PR",
        "colab": {
          "base_uri": "https://localhost:8080/"
        },
        "outputId": "9fef30c5-df7d-4361-cc41-1ee075454a59"
      },
      "source": [
        "tickers = ['AAPL','GOOG','IBM','FB','F','V', 'G', 'GE']\n",
        "print('The length of tickers is {}'.format(len(tickers)))\n",
        "for i in range(len(tickers)):\n",
        "    print(tickers[i])"
      ],
      "execution_count": 89,
      "outputs": [
        {
          "output_type": "stream",
          "name": "stdout",
          "text": [
            "The length of tickers is 8\n",
            "AAPL\n",
            "GOOG\n",
            "IBM\n",
            "FB\n",
            "F\n",
            "V\n",
            "G\n",
            "GE\n"
          ]
        }
      ]
    },
    {
      "cell_type": "code",
      "metadata": {
        "colab": {
          "base_uri": "https://localhost:8080/"
        },
        "id": "PhjChaTDn7aW",
        "outputId": "dacd5049-2b33-4c3b-e523-fd19aa596db0"
      },
      "source": [
        "# my example\n",
        "my_list = ['Infernape','Typhlosion','Blaziken','Palkia','Dialga','Giratina', 'Lugia', 'Ho-oh']\n",
        "print('The length of my_list is {}'.format(len(my_list)))\n",
        "for i in range(len(my_list)):\n",
        "    print(my_list[i])"
      ],
      "execution_count": 90,
      "outputs": [
        {
          "output_type": "stream",
          "name": "stdout",
          "text": [
            "The length of my_list is 8\n",
            "Infernape\n",
            "Typhlosion\n",
            "Blaziken\n",
            "Palkia\n",
            "Dialga\n",
            "Giratina\n",
            "Lugia\n",
            "Ho-oh\n"
          ]
        }
      ]
    },
    {
      "cell_type": "markdown",
      "metadata": {
        "id": "OIQSuub1cWgi"
      },
      "source": [
        "Note: If you want to print only the tickers without those numbers, then simply write \"for ticker in tickers: print ticker\"\n",
        "\n",
        "**map(**) is a function that applies a specific function to every item of a sequence or collection, and returns a list of the results."
      ]
    },
    {
      "cell_type": "markdown",
      "metadata": {
        "id": "pqPuspeG5HAi"
      },
      "source": [
        "Because list at the moment is [1,2,3,4,5] and overwriting list() from builtins we del list"
      ]
    },
    {
      "cell_type": "code",
      "metadata": {
        "colab": {
          "base_uri": "https://localhost:8080/"
        },
        "id": "caV9c-qk4_eZ",
        "outputId": "ad44f627-8236-4844-c888-7553180a4bd0"
      },
      "source": [
        "print(list)\n",
        "del list\n",
        "list"
      ],
      "execution_count": 91,
      "outputs": [
        {
          "output_type": "stream",
          "name": "stdout",
          "text": [
            "[1, 2, 3, 4, 5]\n"
          ]
        },
        {
          "output_type": "execute_result",
          "data": {
            "text/plain": [
              "list"
            ]
          },
          "metadata": {},
          "execution_count": 91
        }
      ]
    },
    {
      "cell_type": "code",
      "metadata": {
        "id": "78DyKVOyO2PR",
        "colab": {
          "base_uri": "https://localhost:8080/"
        },
        "outputId": "7aa67b98-5edb-4159-ff99-30c003093258"
      },
      "source": [
        "tickers = ['AAPL','GOOG','IBM','FB','F','V', 'G', 'GE']\n",
        "print(list(map(len,tickers)))"
      ],
      "execution_count": 92,
      "outputs": [
        {
          "output_type": "stream",
          "name": "stdout",
          "text": [
            "[4, 4, 3, 2, 1, 1, 1, 2]\n"
          ]
        }
      ]
    },
    {
      "cell_type": "code",
      "metadata": {
        "colab": {
          "base_uri": "https://localhost:8080/"
        },
        "id": "qq_NN1ZGoh24",
        "outputId": "86e84a57-d69d-42f1-cc22-c8d3076ee478"
      },
      "source": [
        "# my example\n",
        "my_list = ['Infernape','Typhlosion','Blaziken','Palkia','Dialga','Giratina', 'Lugia', 'Ho-oh']\n",
        "print(list(map(len,my_list)))"
      ],
      "execution_count": 93,
      "outputs": [
        {
          "output_type": "stream",
          "name": "stdout",
          "text": [
            "[9, 10, 8, 6, 6, 8, 5, 5]\n"
          ]
        }
      ]
    },
    {
      "cell_type": "markdown",
      "metadata": {
        "id": "mvr06UM7ca7b"
      },
      "source": [
        "The **lambda operator** is a way to create small anonymous functions. These functions are just needed where they have been created. For example:"
      ]
    },
    {
      "cell_type": "code",
      "metadata": {
        "id": "pAEHADYXO2PR",
        "colab": {
          "base_uri": "https://localhost:8080/"
        },
        "outputId": "f46b37a5-ef42-49bd-a9e8-5293a4dfe487"
      },
      "source": [
        "list(map(lambda x: x**2, range(10)))"
      ],
      "execution_count": 94,
      "outputs": [
        {
          "output_type": "execute_result",
          "data": {
            "text/plain": [
              "[0, 1, 4, 9, 16, 25, 36, 49, 64, 81]"
            ]
          },
          "metadata": {},
          "execution_count": 94
        }
      ]
    },
    {
      "cell_type": "code",
      "metadata": {
        "colab": {
          "base_uri": "https://localhost:8080/"
        },
        "id": "sf23oTsnoxZT",
        "outputId": "c7e2cc44-84f5-4a21-ce3b-4ecdadbc0871"
      },
      "source": [
        "# my example\n",
        "list(map(lambda x: 2**x, range(12)))"
      ],
      "execution_count": 95,
      "outputs": [
        {
          "output_type": "execute_result",
          "data": {
            "text/plain": [
              "[1, 2, 4, 8, 16, 32, 64, 128, 256, 512, 1024, 2048]"
            ]
          },
          "metadata": {},
          "execution_count": 95
        }
      ]
    },
    {
      "cell_type": "markdown",
      "metadata": {
        "id": "Mgixpxomcj3T"
      },
      "source": [
        "map() can be applied to more than one list. The lists have to have the same length."
      ]
    },
    {
      "cell_type": "code",
      "metadata": {
        "id": "HtckhAaJO2PS",
        "colab": {
          "base_uri": "https://localhost:8080/"
        },
        "outputId": "f13f404a-465d-4d09-8414-b0390a307ff4"
      },
      "source": [
        "list(map(lambda x, y: x+y, [1,2,3,4,5],[5,4,3,2,1]))"
      ],
      "execution_count": 96,
      "outputs": [
        {
          "output_type": "execute_result",
          "data": {
            "text/plain": [
              "[6, 6, 6, 6, 6]"
            ]
          },
          "metadata": {},
          "execution_count": 96
        }
      ]
    },
    {
      "cell_type": "code",
      "metadata": {
        "colab": {
          "base_uri": "https://localhost:8080/"
        },
        "id": "RNop94rYo9Za",
        "outputId": "f78d1fe5-659f-4d26-8260-081ce1159c1c"
      },
      "source": [
        "# my example\n",
        "list(map(lambda x, y: x*y, [1,5,10,15,20],[1,2,4,8,16]))"
      ],
      "execution_count": 97,
      "outputs": [
        {
          "output_type": "execute_result",
          "data": {
            "text/plain": [
              "[1, 10, 40, 120, 320]"
            ]
          },
          "metadata": {},
          "execution_count": 97
        }
      ]
    },
    {
      "cell_type": "markdown",
      "metadata": {
        "id": "ZDnMTH-KcklT"
      },
      "source": [
        "**sorted()** takes a list or set and returns a new sorted list"
      ]
    },
    {
      "cell_type": "code",
      "metadata": {
        "id": "P0sHUMFWO2PS",
        "colab": {
          "base_uri": "https://localhost:8080/"
        },
        "outputId": "a7fdb08d-2009-4750-ac6d-ae85c22f1edb"
      },
      "source": [
        "sorted([5,2,3,4,1])"
      ],
      "execution_count": 98,
      "outputs": [
        {
          "output_type": "execute_result",
          "data": {
            "text/plain": [
              "[1, 2, 3, 4, 5]"
            ]
          },
          "metadata": {},
          "execution_count": 98
        }
      ]
    },
    {
      "cell_type": "code",
      "metadata": {
        "colab": {
          "base_uri": "https://localhost:8080/"
        },
        "id": "mM7CWIdopKPO",
        "outputId": "7865261b-594e-4b92-8ef1-0fa89d46e253"
      },
      "source": [
        "# my example\n",
        "sorted([\"Z\",\"AB\",\"ABC\",\"C\",\"ZA\"])"
      ],
      "execution_count": 99,
      "outputs": [
        {
          "output_type": "execute_result",
          "data": {
            "text/plain": [
              "['AB', 'ABC', 'C', 'Z', 'ZA']"
            ]
          },
          "metadata": {},
          "execution_count": 99
        }
      ]
    },
    {
      "cell_type": "markdown",
      "metadata": {
        "id": "-N5_EDOFcnsc"
      },
      "source": [
        "We can add a \"key\" parameter to specify a function to be called on each list element prior to making comparisons. For example:"
      ]
    },
    {
      "cell_type": "code",
      "metadata": {
        "id": "0i3peZ0bO2PS",
        "colab": {
          "base_uri": "https://localhost:8080/"
        },
        "outputId": "f804c986-23ca-47f0-d18b-d29d42de6195"
      },
      "source": [
        "price_list = [('AAPL',144.09),('GOOG',911.71),('MSFT',69),('FB',150),('WMT',75.32)]\n",
        "sorted(price_list, key = lambda x: x[1])"
      ],
      "execution_count": 100,
      "outputs": [
        {
          "output_type": "execute_result",
          "data": {
            "text/plain": [
              "[('MSFT', 69), ('WMT', 75.32), ('AAPL', 144.09), ('FB', 150), ('GOOG', 911.71)]"
            ]
          },
          "metadata": {},
          "execution_count": 100
        }
      ]
    },
    {
      "cell_type": "code",
      "metadata": {
        "colab": {
          "base_uri": "https://localhost:8080/"
        },
        "id": "ZOPrhaKEqd7t",
        "outputId": "2c28015c-f6bc-48d4-a6a2-097b6576140a"
      },
      "source": [
        "# my example\n",
        "list = [('A',5),('B',4),('C',1),('D',12),('R',-10)]\n",
        "sorted(list, key = lambda x: x[1])"
      ],
      "execution_count": 101,
      "outputs": [
        {
          "output_type": "execute_result",
          "data": {
            "text/plain": [
              "[('R', -10), ('C', 1), ('B', 4), ('A', 5), ('D', 12)]"
            ]
          },
          "metadata": {},
          "execution_count": 101
        }
      ]
    },
    {
      "cell_type": "markdown",
      "metadata": {
        "id": "yun2zptKcxe_"
      },
      "source": [
        "By default the values are sorted by ascending order. We can change it to descending by adding an optional parameter \"reverse'."
      ]
    },
    {
      "cell_type": "code",
      "metadata": {
        "id": "dEZqdl94O2PT",
        "colab": {
          "base_uri": "https://localhost:8080/"
        },
        "outputId": "126b28b0-8548-4fd2-88e0-095ac93609fb"
      },
      "source": [
        "price_list = [('AAPL',144.09),('GOOG',911.71),('MSFT',69),('FB',150),('WMT',75.32)]\n",
        "sorted(price_list, key = lambda x: x[1],reverse = True)"
      ],
      "execution_count": 102,
      "outputs": [
        {
          "output_type": "execute_result",
          "data": {
            "text/plain": [
              "[('GOOG', 911.71), ('FB', 150), ('AAPL', 144.09), ('WMT', 75.32), ('MSFT', 69)]"
            ]
          },
          "metadata": {},
          "execution_count": 102
        }
      ]
    },
    {
      "cell_type": "code",
      "metadata": {
        "colab": {
          "base_uri": "https://localhost:8080/"
        },
        "id": "MacfXxT2uvwR",
        "outputId": "5201d5ad-5198-4054-a72f-983f74df4ec8"
      },
      "source": [
        "# my example\n",
        "list = [('A',5),('B',4),('C',1),('D',12),('R',-10)]\n",
        "sorted(list, key = lambda x: x[1],reverse = True)"
      ],
      "execution_count": 103,
      "outputs": [
        {
          "output_type": "execute_result",
          "data": {
            "text/plain": [
              "[('D', 12), ('A', 5), ('B', 4), ('C', 1), ('R', -10)]"
            ]
          },
          "metadata": {},
          "execution_count": 103
        }
      ]
    },
    {
      "cell_type": "markdown",
      "metadata": {
        "id": "OA2wYAa0c6Dn"
      },
      "source": [
        "Lists also have a function list.sort(). This function takes the same \"key\" and \"reverse\" arguments as sorted(), but it doesn't return a new list."
      ]
    },
    {
      "cell_type": "code",
      "metadata": {
        "id": "pG9VQCLnO2PT",
        "colab": {
          "base_uri": "https://localhost:8080/"
        },
        "outputId": "25125d9f-53bf-4346-ac54-c3471ffd90ce"
      },
      "source": [
        "price_list = [('AAPL',144.09),('GOOG',911.71),('MSFT',69),('FB',150),('WMT',75.32)]\n",
        "price_list.sort(key = lambda x: x[1])\n",
        "print(price_list)"
      ],
      "execution_count": 104,
      "outputs": [
        {
          "output_type": "stream",
          "name": "stdout",
          "text": [
            "[('MSFT', 69), ('WMT', 75.32), ('AAPL', 144.09), ('FB', 150), ('GOOG', 911.71)]\n"
          ]
        }
      ]
    },
    {
      "cell_type": "code",
      "metadata": {
        "colab": {
          "base_uri": "https://localhost:8080/"
        },
        "id": "fhlXODHUu1mh",
        "outputId": "f8d97164-1719-4739-df15-09a87d989180"
      },
      "source": [
        "# my example\n",
        "list = [('A',5),('B',4),('C',1),('D',12),('R',-10)]\n",
        "list.sort(key = lambda x: x[1])\n",
        "print(list)"
      ],
      "execution_count": 105,
      "outputs": [
        {
          "output_type": "stream",
          "name": "stdout",
          "text": [
            "[('R', -10), ('C', 1), ('B', 4), ('A', 5), ('D', 12)]\n"
          ]
        }
      ]
    },
    {
      "cell_type": "markdown",
      "metadata": {
        "id": "mxljL1W1c_c5"
      },
      "source": [
        "# Object-Oriented Programming\n",
        "Python is an object-oriented programming language. It's important to understand the concept of \"objects\" because almost every kind of data from QuantConnect API is an object.\n",
        "\n",
        "## Class\n",
        "A class is a type of data, just like a string, float, or list. When we create an object of that data type, we call it an instance of a class.\n",
        "\n",
        "In Python, everything is an object - everything is an instance of some class. The data stored inside an object are called attributes, and the functions which are associated with the object are called methods.\n",
        "\n",
        "For example, as mentioned above, a list is an object of the \"list\" class, and it has a method list.sort().\n",
        "\n",
        "We can create our own objects by defining a class. We would do this when it's helpful to group certain functions together. For example, we define a class named \"Stock\" here:"
      ]
    },
    {
      "cell_type": "code",
      "metadata": {
        "id": "zC4Y4PgDO2PT"
      },
      "source": [
        "class stock:\n",
        "    def __init__(self, ticker, open, close, volume):\n",
        "        self.ticker = ticker\n",
        "        self.open = open\n",
        "        self.close = close\n",
        "        self.volume = volume\n",
        "        self.rate_return = float(close)/open - 1\n",
        " \n",
        "    def update(self, open, close):\n",
        "        self.open = open\n",
        "        self.close = close\n",
        "        self.rate_return = float(self.close)/self.open - 1\n",
        " \n",
        "    def print_return(self):\n",
        "        print(self.rate_return)"
      ],
      "execution_count": 106,
      "outputs": []
    },
    {
      "cell_type": "code",
      "metadata": {
        "id": "jfmGU8a7vDn5"
      },
      "source": [
        "# my example\n",
        "class pokemon:\n",
        "    def __init__(self, species, level, moves):\n",
        "        self.species = species\n",
        "        self.level = level\n",
        "        self.moves = moves\n",
        " \n",
        "    def use_move(self, move_id):\n",
        "        print(self.species,\"used\",self.moves[move_id])\n",
        " \n",
        "    def level_up(self):\n",
        "        self.level = self.level + 1\n",
        "        print(self.species,\"grew to level\",self.level)"
      ],
      "execution_count": 107,
      "outputs": []
    },
    {
      "cell_type": "markdown",
      "metadata": {
        "id": "rV06INT5dETi"
      },
      "source": [
        "The \"Stock\" class has attributes \"ticker\", \"open\", \"close\", \"volume\" and \"rate_return\". Inside the class body, the first method is called __init__, which is a special method. When we create a new instance of the class, the __init__ method is immediately executed with all the parameters that we pass to the \"Stock\" object. The purpose of this method is to set up a new \"Stock\" object using data we have provided.\n",
        "\n",
        "Here we create two Stock objects named \"apple\" and \"google\"."
      ]
    },
    {
      "cell_type": "code",
      "metadata": {
        "id": "8tIpNk93O2PU"
      },
      "source": [
        "apple = stock('AAPL', 143.69, 144.09, 20109375)\n",
        "google = stock('GOOG', 898.7, 911.7, 1561616)"
      ],
      "execution_count": 108,
      "outputs": []
    },
    {
      "cell_type": "code",
      "metadata": {
        "id": "swDIbm59vz5y"
      },
      "source": [
        "# my example\n",
        "cyndaquil = pokemon(\"Cyndaquil\",5,[\"Scratch\",\"Growl\"])\n",
        "luxray = pokemon(\"Luxray\",80,[\"Thunder Shock\",\"Wild Charge\",\"Crunch\",\"Swagger\"])"
      ],
      "execution_count": 109,
      "outputs": []
    },
    {
      "cell_type": "markdown",
      "metadata": {
        "id": "VxmELNiHdPKS"
      },
      "source": [
        "Stock objects also have two other methods: update() and print_return(). We can access the attribues of a Stock object and call its methods:"
      ]
    },
    {
      "cell_type": "code",
      "metadata": {
        "id": "SsiIkmekO2PU",
        "colab": {
          "base_uri": "https://localhost:8080/"
        },
        "outputId": "0fe8d4b0-8ce5-48ca-d4df-2a943412b74b"
      },
      "source": [
        "apple.ticker\n",
        "google.print_return()\n",
        "google.update(912.8,913.4)\n",
        "google.print_return()"
      ],
      "execution_count": 110,
      "outputs": [
        {
          "output_type": "stream",
          "name": "stdout",
          "text": [
            "0.014465338822744034\n",
            "0.0006573181419806673\n"
          ]
        }
      ]
    },
    {
      "cell_type": "code",
      "metadata": {
        "colab": {
          "base_uri": "https://localhost:8080/"
        },
        "id": "bpnM6iNaxMUh",
        "outputId": "387f5a7d-0edf-494c-8501-46c1ee035302"
      },
      "source": [
        "# my example\n",
        "print(cyndaquil.level)\n",
        "cyndaquil.level_up()\n",
        "luxray.use_move(2)"
      ],
      "execution_count": 111,
      "outputs": [
        {
          "output_type": "stream",
          "name": "stdout",
          "text": [
            "5\n",
            "Cyndaquil grew to level 6\n",
            "Luxray used Crunch\n"
          ]
        }
      ]
    },
    {
      "cell_type": "markdown",
      "metadata": {
        "id": "Q8fl7keNdVKF"
      },
      "source": [
        "By calling the update() function, we updated the open and close prices of a stock. Please note that when we use the attributes or call the methods **inside a class**, we need to specify them as self.attribute or self.method(), otherwise Python will deem them as global variables and thus raise an error.\n",
        "\n",
        "We can add an attribute to an object anywhere:"
      ]
    },
    {
      "cell_type": "code",
      "metadata": {
        "id": "rO4OLnqOO2PU",
        "colab": {
          "base_uri": "https://localhost:8080/",
          "height": 35
        },
        "outputId": "d393486c-8a3a-4427-fc8a-b2c75b2022da"
      },
      "source": [
        "apple.ceo = 'Tim Cook'\n",
        "apple.ceo"
      ],
      "execution_count": 112,
      "outputs": [
        {
          "output_type": "execute_result",
          "data": {
            "application/vnd.google.colaboratory.intrinsic+json": {
              "type": "string"
            },
            "text/plain": [
              "'Tim Cook'"
            ]
          },
          "metadata": {},
          "execution_count": 112
        }
      ]
    },
    {
      "cell_type": "code",
      "metadata": {
        "colab": {
          "base_uri": "https://localhost:8080/",
          "height": 35
        },
        "id": "feAYUWTQK_9q",
        "outputId": "5b6f1e89-57e1-43de-c937-d1b3cd004db0"
      },
      "source": [
        "# my example\n",
        "cyndaquil.pokemon_type = 'Fire'\n",
        "cyndaquil.pokemon_type"
      ],
      "execution_count": 113,
      "outputs": [
        {
          "output_type": "execute_result",
          "data": {
            "application/vnd.google.colaboratory.intrinsic+json": {
              "type": "string"
            },
            "text/plain": [
              "'Fire'"
            ]
          },
          "metadata": {},
          "execution_count": 113
        }
      ]
    },
    {
      "cell_type": "markdown",
      "metadata": {
        "id": "WyfnFgVidh4J"
      },
      "source": [
        "We can check what names (i.e. attributes and methods) are defined on an object using the dir() function:"
      ]
    },
    {
      "cell_type": "code",
      "metadata": {
        "id": "pPoz0LA8O2PU",
        "colab": {
          "base_uri": "https://localhost:8080/"
        },
        "outputId": "0931f007-aac3-4e44-9e4e-c21bcc8165a7"
      },
      "source": [
        "dir(apple)"
      ],
      "execution_count": 114,
      "outputs": [
        {
          "output_type": "execute_result",
          "data": {
            "text/plain": [
              "['__class__',\n",
              " '__delattr__',\n",
              " '__dict__',\n",
              " '__dir__',\n",
              " '__doc__',\n",
              " '__eq__',\n",
              " '__format__',\n",
              " '__ge__',\n",
              " '__getattribute__',\n",
              " '__gt__',\n",
              " '__hash__',\n",
              " '__init__',\n",
              " '__init_subclass__',\n",
              " '__le__',\n",
              " '__lt__',\n",
              " '__module__',\n",
              " '__ne__',\n",
              " '__new__',\n",
              " '__reduce__',\n",
              " '__reduce_ex__',\n",
              " '__repr__',\n",
              " '__setattr__',\n",
              " '__sizeof__',\n",
              " '__str__',\n",
              " '__subclasshook__',\n",
              " '__weakref__',\n",
              " 'ceo',\n",
              " 'close',\n",
              " 'open',\n",
              " 'print_return',\n",
              " 'rate_return',\n",
              " 'ticker',\n",
              " 'update',\n",
              " 'volume']"
            ]
          },
          "metadata": {},
          "execution_count": 114
        }
      ]
    },
    {
      "cell_type": "code",
      "metadata": {
        "colab": {
          "base_uri": "https://localhost:8080/"
        },
        "id": "t_jNwU8GLS4z",
        "outputId": "ff8418fd-e93e-4bf0-a53c-267160eb50f8"
      },
      "source": [
        "# my example\n",
        "dir(cyndaquil)"
      ],
      "execution_count": 115,
      "outputs": [
        {
          "output_type": "execute_result",
          "data": {
            "text/plain": [
              "['__class__',\n",
              " '__delattr__',\n",
              " '__dict__',\n",
              " '__dir__',\n",
              " '__doc__',\n",
              " '__eq__',\n",
              " '__format__',\n",
              " '__ge__',\n",
              " '__getattribute__',\n",
              " '__gt__',\n",
              " '__hash__',\n",
              " '__init__',\n",
              " '__init_subclass__',\n",
              " '__le__',\n",
              " '__lt__',\n",
              " '__module__',\n",
              " '__ne__',\n",
              " '__new__',\n",
              " '__reduce__',\n",
              " '__reduce_ex__',\n",
              " '__repr__',\n",
              " '__setattr__',\n",
              " '__sizeof__',\n",
              " '__str__',\n",
              " '__subclasshook__',\n",
              " '__weakref__',\n",
              " 'level',\n",
              " 'level_up',\n",
              " 'moves',\n",
              " 'pokemon_type',\n",
              " 'species',\n",
              " 'use_move']"
            ]
          },
          "metadata": {},
          "execution_count": 115
        }
      ]
    },
    {
      "cell_type": "markdown",
      "metadata": {
        "id": "Qpemj1UZd2aa"
      },
      "source": [
        "## Inheritance\n",
        "Inheritance is a way of arranging classes in a hierarchy from the most general to the most specific. A \"child\" class is a more specific type of a \"parent\" class because a child class will inherit all the attribues and methods of its parent. For example, we define a class named \"Child\" which inherits \"Stock\":"
      ]
    },
    {
      "cell_type": "code",
      "metadata": {
        "id": "UELXnxomO2PV"
      },
      "source": [
        "class child(stock):\n",
        "    def __init__(self,name):\n",
        "        self.name = name"
      ],
      "execution_count": 116,
      "outputs": []
    },
    {
      "cell_type": "code",
      "metadata": {
        "id": "OqiFpVTiLatU"
      },
      "source": [
        "# my example\n",
        "class catched_pokemon(pokemon):\n",
        "    def __init__(self,nickname):\n",
        "        self.nickname = nickname\n",
        "        super().__init__(\"Gardevoir\",50,[\"Psybeam\",\"Shadow Ball\",\"Dream Eater\",\"Dazzling Gleam\"])\n",
        "        print(\"You catched a Gardevoir!\")"
      ],
      "execution_count": 117,
      "outputs": []
    },
    {
      "cell_type": "code",
      "metadata": {
        "id": "ffS2THZyO2PV",
        "colab": {
          "base_uri": "https://localhost:8080/"
        },
        "outputId": "341cb17a-3135-4faa-9b39-c077769217d1"
      },
      "source": [
        "aa = child('aa')\n",
        "print(aa.name)\n",
        "aa.update(100,102)\n",
        "print(aa.open)\n",
        "print(aa.close)\n",
        "print(aa.print_return())"
      ],
      "execution_count": 118,
      "outputs": [
        {
          "output_type": "stream",
          "name": "stdout",
          "text": [
            "aa\n",
            "100\n",
            "102\n",
            "0.020000000000000018\n",
            "None\n"
          ]
        }
      ]
    },
    {
      "cell_type": "code",
      "metadata": {
        "colab": {
          "base_uri": "https://localhost:8080/"
        },
        "id": "MFO9XjbVPsTf",
        "outputId": "bddea5d0-f56e-4cab-be16-8d91c880c132"
      },
      "source": [
        "# my example\n",
        "gardevoir = catched_pokemon('Matt')\n",
        "print(gardevoir.nickname)\n",
        "gardevoir.level_up()\n",
        "gardevoir.use_move(1)"
      ],
      "execution_count": 119,
      "outputs": [
        {
          "output_type": "stream",
          "name": "stdout",
          "text": [
            "You catched a Gardevoir!\n",
            "Matt\n",
            "Gardevoir grew to level 51\n",
            "Gardevoir used Shadow Ball\n"
          ]
        }
      ]
    },
    {
      "cell_type": "markdown",
      "metadata": {
        "id": "pdIEjUv2eJqL"
      },
      "source": [
        "As seen above, the new class Child has inherited the methods from Stock.\n",
        "\n",
        "#Summary\n",
        "\n",
        "In this chapter we have introduced functions and classes. When we write a QuantConnect algorithm, we would define our algorithm as a class (QCAlgorithm). This means our algorithm inherited the QC API methods from QCAlgorithm class.\n",
        "\n",
        "In the next chapter, we will introduce NumPy and Pandas, which enable us to conduct scientific calculations in Python."
      ]
    },
    {
      "cell_type": "markdown",
      "metadata": {
        "id": "dQbENH6mexTd"
      },
      "source": [
        "<div align=\"center\">\n",
        "<img style=\"display: block; margin: auto;\" alt=\"photo\" src=\"https://cdn.quantconnect.com/web/i/icon.png\">\n",
        "\n",
        "Quantconnect\n",
        "\n",
        "Introduction to Financial Python\n",
        "</div>\n",
        "\n",
        "# 04 NumPy and Basic Pandas\n",
        "\n",
        "# Introduction\n",
        "\n",
        "Now that we have introduced the fundamentals of Python, it's time to learn about NumPy and Pandas.\n",
        "\n",
        "# NumPy\n",
        "NumPy is the core library for scientific computing in Python. It provides a high-performance multidimensional array object, and tools for working with these arrays. It also has strong integration with Pandas, which is another powerful tool for manipulating financial data.\n",
        "\n",
        "Python packages like NumPy and Pandas contain classes and methods which we can use by importing the package:"
      ]
    },
    {
      "cell_type": "code",
      "metadata": {
        "id": "aIESp-rdO58h"
      },
      "source": [
        "import numpy as np"
      ],
      "execution_count": 120,
      "outputs": []
    },
    {
      "cell_type": "markdown",
      "metadata": {
        "id": "GScHHJ5ke7ea"
      },
      "source": [
        "## Basic NumPy Arrays\n",
        "A NumPy array is a grid of values, all of the same type, and is indexed by a tuple of nonnegative integers. Here we make an array by passing a list of Apple stock prices:"
      ]
    },
    {
      "cell_type": "code",
      "metadata": {
        "id": "lZI1wkwDO58i",
        "colab": {
          "base_uri": "https://localhost:8080/"
        },
        "outputId": "bac96828-f5f3-4e7d-c2d9-895b36ed2775"
      },
      "source": [
        "price_list = [143.73, 145.83, 143.68, 144.02, 143.5, 142.62]\n",
        "price_array = np.array(price_list)\n",
        "print(price_array, type(price_array))"
      ],
      "execution_count": 121,
      "outputs": [
        {
          "output_type": "stream",
          "name": "stdout",
          "text": [
            "[143.73 145.83 143.68 144.02 143.5  142.62] <class 'numpy.ndarray'>\n"
          ]
        }
      ]
    },
    {
      "cell_type": "code",
      "metadata": {
        "colab": {
          "base_uri": "https://localhost:8080/"
        },
        "id": "F8_dwNdPHfzk",
        "outputId": "1bc6654b-4543-4cc4-9794-819d55c465f5"
      },
      "source": [
        "# my example\n",
        "teams_list = ['Mercedes','Red Bull','Mclaren','Ferrari','Alpine','Alpha Tauri','Aston Martin','Williams','Alfa Romeo','Haas']\n",
        "teams_list = np.array(teams_list)\n",
        "print(teams_list, type(teams_list))"
      ],
      "execution_count": 122,
      "outputs": [
        {
          "output_type": "stream",
          "name": "stdout",
          "text": [
            "['Mercedes' 'Red Bull' 'Mclaren' 'Ferrari' 'Alpine' 'Alpha Tauri'\n",
            " 'Aston Martin' 'Williams' 'Alfa Romeo' 'Haas'] <class 'numpy.ndarray'>\n"
          ]
        }
      ]
    },
    {
      "cell_type": "markdown",
      "metadata": {
        "id": "-5Yj6u9ifB-t"
      },
      "source": [
        "Notice that the type of array is \"ndarray\" which is a multi-dimensional array. If we pass np.array() a list of lists, it will create a 2-dimensional array."
      ]
    },
    {
      "cell_type": "code",
      "metadata": {
        "id": "obvIZrK-O58j",
        "colab": {
          "base_uri": "https://localhost:8080/"
        },
        "outputId": "fd6291ee-1d00-447d-c624-6dcaae522f5c"
      },
      "source": [
        "Ar = np.array([[1,3],[2,4]])\n",
        "print(Ar, type(Ar))"
      ],
      "execution_count": 123,
      "outputs": [
        {
          "output_type": "stream",
          "name": "stdout",
          "text": [
            "[[1 3]\n",
            " [2 4]] <class 'numpy.ndarray'>\n"
          ]
        }
      ]
    },
    {
      "cell_type": "code",
      "metadata": {
        "colab": {
          "base_uri": "https://localhost:8080/"
        },
        "id": "-QPWNFmrH_fm",
        "outputId": "ac64801e-178e-48db-b406-1de74c449448"
      },
      "source": [
        "# my example\n",
        "matrix = np.array([['A','B'],['C','D']])\n",
        "print(matrix, type(matrix))"
      ],
      "execution_count": 124,
      "outputs": [
        {
          "output_type": "stream",
          "name": "stdout",
          "text": [
            "[['A' 'B']\n",
            " ['C' 'D']] <class 'numpy.ndarray'>\n"
          ]
        }
      ]
    },
    {
      "cell_type": "markdown",
      "metadata": {
        "id": "uDdfLD9HfHkl"
      },
      "source": [
        "We get the dimensions of an ndarray using the .shape attribute:"
      ]
    },
    {
      "cell_type": "code",
      "metadata": {
        "id": "G2txdn73O58j",
        "colab": {
          "base_uri": "https://localhost:8080/"
        },
        "outputId": "c12d1383-4e59-4e48-c8fe-1d315111639d"
      },
      "source": [
        "print(Ar.shape)"
      ],
      "execution_count": 125,
      "outputs": [
        {
          "output_type": "stream",
          "name": "stdout",
          "text": [
            "(2, 2)\n"
          ]
        }
      ]
    },
    {
      "cell_type": "code",
      "metadata": {
        "colab": {
          "base_uri": "https://localhost:8080/"
        },
        "id": "g5Y2py_uIHUH",
        "outputId": "c98c1c35-47ba-478a-a431-4bc1a64dbf46"
      },
      "source": [
        "# my example\n",
        "print(matrix.shape)"
      ],
      "execution_count": 126,
      "outputs": [
        {
          "output_type": "stream",
          "name": "stdout",
          "text": [
            "(2, 2)\n"
          ]
        }
      ]
    },
    {
      "cell_type": "markdown",
      "metadata": {
        "id": "87W5ueORfPEy"
      },
      "source": [
        "If we create an 2-dimensional array (i.e. matrix), each row can be accessed by index:"
      ]
    },
    {
      "cell_type": "code",
      "metadata": {
        "id": "x_QV9aPbO58j",
        "colab": {
          "base_uri": "https://localhost:8080/"
        },
        "outputId": "c679c065-f964-4f5f-f7c4-f3598ad16227"
      },
      "source": [
        "print(Ar[0])\n",
        "print(Ar[1])"
      ],
      "execution_count": 127,
      "outputs": [
        {
          "output_type": "stream",
          "name": "stdout",
          "text": [
            "[1 3]\n",
            "[2 4]\n"
          ]
        }
      ]
    },
    {
      "cell_type": "code",
      "metadata": {
        "colab": {
          "base_uri": "https://localhost:8080/"
        },
        "id": "-AKNgxrMIn0o",
        "outputId": "952a0b19-51d9-4509-eb65-4612ec7fe0b3"
      },
      "source": [
        "# my example\n",
        "print(matrix[0])\n",
        "print(matrix[1])"
      ],
      "execution_count": 128,
      "outputs": [
        {
          "output_type": "stream",
          "name": "stdout",
          "text": [
            "['A' 'B']\n",
            "['C' 'D']\n"
          ]
        }
      ]
    },
    {
      "cell_type": "markdown",
      "metadata": {
        "id": "5Hke7Vt-fSGB"
      },
      "source": [
        "If we want to access the matrix by column instead:"
      ]
    },
    {
      "cell_type": "code",
      "metadata": {
        "id": "gHVwbPfOO58j",
        "colab": {
          "base_uri": "https://localhost:8080/"
        },
        "outputId": "4fa0b72e-efe1-4c24-e680-c3209aead8b9"
      },
      "source": [
        "print('the first column: ', Ar[:,0])\n",
        "print('the second column: ', Ar[:,1])"
      ],
      "execution_count": 129,
      "outputs": [
        {
          "output_type": "stream",
          "name": "stdout",
          "text": [
            "the first column:  [1 2]\n",
            "the second column:  [3 4]\n"
          ]
        }
      ]
    },
    {
      "cell_type": "code",
      "metadata": {
        "colab": {
          "base_uri": "https://localhost:8080/"
        },
        "id": "IJFNJMOFIuqm",
        "outputId": "c422bd17-e4cd-47dd-d00f-d8f8d0a276cd"
      },
      "source": [
        "# my example\n",
        "print('the first column: ', matrix[:,0])\n",
        "print('the second column: ', matrix[:,1])"
      ],
      "execution_count": 130,
      "outputs": [
        {
          "output_type": "stream",
          "name": "stdout",
          "text": [
            "the first column:  ['A' 'C']\n",
            "the second column:  ['B' 'D']\n"
          ]
        }
      ]
    },
    {
      "cell_type": "markdown",
      "metadata": {
        "id": "T61cD0HMfStB"
      },
      "source": [
        "## Array Functions\n",
        "Some functions built in NumPy that allow us to perform calculations on arrays. For example, we can apply the natural logarithm to each element of an array:"
      ]
    },
    {
      "cell_type": "code",
      "metadata": {
        "id": "PKhwtJ7XO58k",
        "colab": {
          "base_uri": "https://localhost:8080/"
        },
        "outputId": "523aaa01-5598-4573-ed19-b3826a19fa48"
      },
      "source": [
        "print(np.log(price_array))"
      ],
      "execution_count": 131,
      "outputs": [
        {
          "output_type": "stream",
          "name": "stdout",
          "text": [
            "[4.96793654 4.98244156 4.9675886  4.96995218 4.96633504 4.96018375]\n"
          ]
        }
      ]
    },
    {
      "cell_type": "code",
      "metadata": {
        "colab": {
          "base_uri": "https://localhost:8080/"
        },
        "id": "XDdLJVJxI7Ax",
        "outputId": "5bc55f0b-2d04-462f-cfec-947a6a64f97b"
      },
      "source": [
        "# my example\n",
        "my_array = np.array([5,6,7,12,12,7,6,5])\n",
        "print(np.log(my_array))"
      ],
      "execution_count": 132,
      "outputs": [
        {
          "output_type": "stream",
          "name": "stdout",
          "text": [
            "[1.60943791 1.79175947 1.94591015 2.48490665 2.48490665 1.94591015\n",
            " 1.79175947 1.60943791]\n"
          ]
        }
      ]
    },
    {
      "cell_type": "markdown",
      "metadata": {
        "id": "uzjBRFBLfZ-D"
      },
      "source": [
        "Other functions return a single value:"
      ]
    },
    {
      "cell_type": "code",
      "metadata": {
        "id": "nQuABZqUO58k",
        "colab": {
          "base_uri": "https://localhost:8080/"
        },
        "outputId": "8e2baf51-343e-42bf-b6ca-aefe3edc0145"
      },
      "source": [
        "print(np.mean(price_array))\n",
        "print(np.std(price_array))\n",
        "print(np.sum(price_array))\n",
        "print(np.max(price_array))"
      ],
      "execution_count": 133,
      "outputs": [
        {
          "output_type": "stream",
          "name": "stdout",
          "text": [
            "143.89666666666668\n",
            "0.9673790478515796\n",
            "863.38\n",
            "145.83\n"
          ]
        }
      ]
    },
    {
      "cell_type": "code",
      "metadata": {
        "colab": {
          "base_uri": "https://localhost:8080/"
        },
        "id": "wS7SCt0RKGRj",
        "outputId": "24768618-19ee-42f3-b3c0-fa88ffd7274c"
      },
      "source": [
        "# my example\n",
        "print(np.mean(my_array))\n",
        "print(np.std(my_array))\n",
        "print(np.sum(my_array))\n",
        "print(np.max(my_array))"
      ],
      "execution_count": 134,
      "outputs": [
        {
          "output_type": "stream",
          "name": "stdout",
          "text": [
            "7.5\n",
            "2.692582403567252\n",
            "60\n",
            "12\n"
          ]
        }
      ]
    },
    {
      "cell_type": "markdown",
      "metadata": {
        "id": "IRW95BsifgDB"
      },
      "source": [
        "The functions above return the mean, standard deviation, total and maximum value of an array.\n",
        "\n",
        "# Pandas\n",
        "Pandas is one of the most powerful tools for dealing with financial data. \n",
        "\n",
        "First we need to import Pandas:"
      ]
    },
    {
      "cell_type": "code",
      "metadata": {
        "id": "xIYH4oUfO58k"
      },
      "source": [
        "import pandas as pd"
      ],
      "execution_count": 135,
      "outputs": []
    },
    {
      "cell_type": "markdown",
      "metadata": {
        "id": "zOig5gORfnJU"
      },
      "source": [
        "## Series\n",
        "Series is a one-dimensional labeled array capable of holding any data type (integers, strings, float, Python object, etc.)\n",
        "\n",
        "We create a Series by calling pd.Series(data), where data can be a dictionary, an array or just a scalar value."
      ]
    },
    {
      "cell_type": "code",
      "metadata": {
        "id": "JmzoNzrPO58k",
        "colab": {
          "base_uri": "https://localhost:8080/"
        },
        "outputId": "1f9310f8-9b93-492b-f275-e5b5f13254bb"
      },
      "source": [
        "price = [143.73, 145.83, 143.68, 144.02, 143.5, 142.62]\n",
        "s = pd.Series(price)\n",
        "s"
      ],
      "execution_count": 136,
      "outputs": [
        {
          "output_type": "execute_result",
          "data": {
            "text/plain": [
              "0    143.73\n",
              "1    145.83\n",
              "2    143.68\n",
              "3    144.02\n",
              "4    143.50\n",
              "5    142.62\n",
              "dtype: float64"
            ]
          },
          "metadata": {},
          "execution_count": 136
        }
      ]
    },
    {
      "cell_type": "code",
      "metadata": {
        "colab": {
          "base_uri": "https://localhost:8080/"
        },
        "id": "LUgqhAZ-KwrH",
        "outputId": "d22b0acb-fd7e-4cbc-fe0b-7328d50269c5"
      },
      "source": [
        "# my example\n",
        "my_list = [12,9,2019,22,5,11,10]\n",
        "my_s = pd.Series(my_list)\n",
        "my_s"
      ],
      "execution_count": 137,
      "outputs": [
        {
          "output_type": "execute_result",
          "data": {
            "text/plain": [
              "0      12\n",
              "1       9\n",
              "2    2019\n",
              "3      22\n",
              "4       5\n",
              "5      11\n",
              "6      10\n",
              "dtype: int64"
            ]
          },
          "metadata": {},
          "execution_count": 137
        }
      ]
    },
    {
      "cell_type": "markdown",
      "metadata": {
        "id": "tP5iDnunfq46"
      },
      "source": [
        "We can customize the indices of a new Series:"
      ]
    },
    {
      "cell_type": "code",
      "metadata": {
        "id": "eswQC3ZPO58l",
        "colab": {
          "base_uri": "https://localhost:8080/"
        },
        "outputId": "77dbd963-7a48-4d05-ac07-c1a7686e8a9f"
      },
      "source": [
        "s = pd.Series(price,index = ['a','b','c','d','e','f'])\n",
        "s"
      ],
      "execution_count": 138,
      "outputs": [
        {
          "output_type": "execute_result",
          "data": {
            "text/plain": [
              "a    143.73\n",
              "b    145.83\n",
              "c    143.68\n",
              "d    144.02\n",
              "e    143.50\n",
              "f    142.62\n",
              "dtype: float64"
            ]
          },
          "metadata": {},
          "execution_count": 138
        }
      ]
    },
    {
      "cell_type": "code",
      "metadata": {
        "colab": {
          "base_uri": "https://localhost:8080/"
        },
        "id": "lT9MPHMtNTSB",
        "outputId": "c1093d1c-680c-4e46-f819-ec113e35eeb5"
      },
      "source": [
        "# my example\n",
        "my_s = pd.Series(my_list,index = ['p2','p4','p8','p16','p32','p64','p128'])\n",
        "my_s"
      ],
      "execution_count": 139,
      "outputs": [
        {
          "output_type": "execute_result",
          "data": {
            "text/plain": [
              "p2        12\n",
              "p4         9\n",
              "p8      2019\n",
              "p16       22\n",
              "p32        5\n",
              "p64       11\n",
              "p128      10\n",
              "dtype: int64"
            ]
          },
          "metadata": {},
          "execution_count": 139
        }
      ]
    },
    {
      "cell_type": "markdown",
      "metadata": {
        "id": "wdZrb8pEfuua"
      },
      "source": [
        "Or we can change the indices of an existing Series:"
      ]
    },
    {
      "cell_type": "code",
      "metadata": {
        "id": "MwlRnPF6O58l",
        "colab": {
          "base_uri": "https://localhost:8080/"
        },
        "outputId": "d07cef6a-6645-4d5f-f1f9-82a998d09cb5"
      },
      "source": [
        "s.index = [6,5,4,3,2,1]\n",
        "s"
      ],
      "execution_count": 140,
      "outputs": [
        {
          "output_type": "execute_result",
          "data": {
            "text/plain": [
              "6    143.73\n",
              "5    145.83\n",
              "4    143.68\n",
              "3    144.02\n",
              "2    143.50\n",
              "1    142.62\n",
              "dtype: float64"
            ]
          },
          "metadata": {},
          "execution_count": 140
        }
      ]
    },
    {
      "cell_type": "code",
      "metadata": {
        "colab": {
          "base_uri": "https://localhost:8080/"
        },
        "id": "KAshef4WNlrU",
        "outputId": "c520f755-9eea-4f5e-ee12-f81d63ee1d96"
      },
      "source": [
        "# my example\n",
        "my_s.index = [-7,-6,-5,-4,-3,-2,-1]\n",
        "my_s"
      ],
      "execution_count": 141,
      "outputs": [
        {
          "output_type": "execute_result",
          "data": {
            "text/plain": [
              "-7      12\n",
              "-6       9\n",
              "-5    2019\n",
              "-4      22\n",
              "-3       5\n",
              "-2      11\n",
              "-1      10\n",
              "dtype: int64"
            ]
          },
          "metadata": {},
          "execution_count": 141
        }
      ]
    },
    {
      "cell_type": "markdown",
      "metadata": {
        "id": "6cGNQZwLfxIz"
      },
      "source": [
        "Series is like a list since it can be sliced by index:"
      ]
    },
    {
      "cell_type": "code",
      "metadata": {
        "id": "N9bBSg6cO58l",
        "colab": {
          "base_uri": "https://localhost:8080/"
        },
        "outputId": "366f67e1-e8c4-4e28-ffde-cd01ebdbd2dc"
      },
      "source": [
        "print(s[1:])\n",
        "print(s[:-2])"
      ],
      "execution_count": 142,
      "outputs": [
        {
          "output_type": "stream",
          "name": "stdout",
          "text": [
            "5    145.83\n",
            "4    143.68\n",
            "3    144.02\n",
            "2    143.50\n",
            "1    142.62\n",
            "dtype: float64\n",
            "6    143.73\n",
            "5    145.83\n",
            "4    143.68\n",
            "3    144.02\n",
            "dtype: float64\n"
          ]
        }
      ]
    },
    {
      "cell_type": "code",
      "metadata": {
        "colab": {
          "base_uri": "https://localhost:8080/"
        },
        "id": "D7aYCEjHNzpx",
        "outputId": "aef311cb-d42f-43eb-d086-99de23d88dbe"
      },
      "source": [
        "# my example\n",
        "print(my_s[5:])\n",
        "print(my_s[:-3])"
      ],
      "execution_count": 143,
      "outputs": [
        {
          "output_type": "stream",
          "name": "stdout",
          "text": [
            "-2    11\n",
            "-1    10\n",
            "dtype: int64\n",
            "-7      12\n",
            "-6       9\n",
            "-5    2019\n",
            "-4      22\n",
            "dtype: int64\n"
          ]
        }
      ]
    },
    {
      "cell_type": "markdown",
      "metadata": {
        "id": "5V25nViZfz3Z"
      },
      "source": [
        "Series is also like a dictionary whose values can be set or fetched by index label:"
      ]
    },
    {
      "cell_type": "code",
      "metadata": {
        "id": "b3Y0kKGYO58l",
        "colab": {
          "base_uri": "https://localhost:8080/"
        },
        "outputId": "37ad506a-756b-4009-df13-f447606014e8"
      },
      "source": [
        "print(s[4])\n",
        "s[4] = 0\n",
        "print(s)"
      ],
      "execution_count": 144,
      "outputs": [
        {
          "output_type": "stream",
          "name": "stdout",
          "text": [
            "143.68\n",
            "6    143.73\n",
            "5    145.83\n",
            "4      0.00\n",
            "3    144.02\n",
            "2    143.50\n",
            "1    142.62\n",
            "dtype: float64\n"
          ]
        }
      ]
    },
    {
      "cell_type": "code",
      "metadata": {
        "colab": {
          "base_uri": "https://localhost:8080/"
        },
        "id": "zvCHMwaHOF26",
        "outputId": "36daea57-e7ae-49cf-da89-b4c47f97a2b7"
      },
      "source": [
        "# my example\n",
        "print(my_s[-5])\n",
        "my_s[-5] = 2024\n",
        "print(my_s)"
      ],
      "execution_count": 145,
      "outputs": [
        {
          "output_type": "stream",
          "name": "stdout",
          "text": [
            "2019\n",
            "-7      12\n",
            "-6       9\n",
            "-5    2024\n",
            "-4      22\n",
            "-3       5\n",
            "-2      11\n",
            "-1      10\n",
            "dtype: int64\n"
          ]
        }
      ]
    },
    {
      "cell_type": "markdown",
      "metadata": {
        "id": "RQ1P7Gkyf060"
      },
      "source": [
        "Series can also have a name attribute, which will be used when we make up a Pandas DataFrame using several series."
      ]
    },
    {
      "cell_type": "code",
      "metadata": {
        "id": "ZeD4-p7KO58m",
        "colab": {
          "base_uri": "https://localhost:8080/"
        },
        "outputId": "23cc3bed-569c-43a4-af39-fefd1333471f"
      },
      "source": [
        "s = pd.Series(price, name = 'Apple Price List')\n",
        "print(s)\n",
        "print(s.name)"
      ],
      "execution_count": 146,
      "outputs": [
        {
          "output_type": "stream",
          "name": "stdout",
          "text": [
            "0    143.73\n",
            "1    145.83\n",
            "2    143.68\n",
            "3    144.02\n",
            "4    143.50\n",
            "5    142.62\n",
            "Name: Apple Price List, dtype: float64\n",
            "Apple Price List\n"
          ]
        }
      ]
    },
    {
      "cell_type": "code",
      "metadata": {
        "colab": {
          "base_uri": "https://localhost:8080/"
        },
        "id": "Zrhibd0DOuv-",
        "outputId": "8e66d809-a8ec-494b-b331-a37aa4455e3e"
      },
      "source": [
        "# my example\n",
        "my_s = pd.Series(my_list, name = 'My Sample Name')\n",
        "print(my_s)\n",
        "print(my_s.name)"
      ],
      "execution_count": 147,
      "outputs": [
        {
          "output_type": "stream",
          "name": "stdout",
          "text": [
            "0      12\n",
            "1       9\n",
            "2    2019\n",
            "3      22\n",
            "4       5\n",
            "5      11\n",
            "6      10\n",
            "Name: My Sample Name, dtype: int64\n",
            "My Sample Name\n"
          ]
        }
      ]
    },
    {
      "cell_type": "markdown",
      "metadata": {
        "id": "geJb1pGHf5Et"
      },
      "source": [
        "We can get the statistical summaries of a Series:"
      ]
    },
    {
      "cell_type": "code",
      "metadata": {
        "colab": {
          "base_uri": "https://localhost:8080/"
        },
        "id": "mGPtFcjegm4i",
        "outputId": "2d505a8c-e27b-4c14-8672-d443a1d7f5b2"
      },
      "source": [
        "print(s.describe())"
      ],
      "execution_count": 148,
      "outputs": [
        {
          "output_type": "stream",
          "name": "stdout",
          "text": [
            "count      6.000000\n",
            "mean     143.896667\n",
            "std        1.059711\n",
            "min      142.620000\n",
            "25%      143.545000\n",
            "50%      143.705000\n",
            "75%      143.947500\n",
            "max      145.830000\n",
            "Name: Apple Price List, dtype: float64\n"
          ]
        }
      ]
    },
    {
      "cell_type": "code",
      "metadata": {
        "colab": {
          "base_uri": "https://localhost:8080/"
        },
        "id": "JcvVJRoOO7W5",
        "outputId": "522e04ae-d4b0-43bf-d595-be7174a7b858"
      },
      "source": [
        "# my example\n",
        "print(my_s.describe())"
      ],
      "execution_count": 149,
      "outputs": [
        {
          "output_type": "stream",
          "name": "stdout",
          "text": [
            "count       7.000000\n",
            "mean      298.285714\n",
            "std       758.781417\n",
            "min         5.000000\n",
            "25%         9.500000\n",
            "50%        11.000000\n",
            "75%        17.000000\n",
            "max      2019.000000\n",
            "Name: My Sample Name, dtype: float64\n"
          ]
        }
      ]
    },
    {
      "cell_type": "markdown",
      "metadata": {
        "id": "LkdZu-CDgvlR"
      },
      "source": [
        "## Time Index\n",
        "Pandas has a built-in function specifically for creating date indices: pd.date_range(). We use it to create a new index for our Series:"
      ]
    },
    {
      "cell_type": "code",
      "metadata": {
        "id": "HJe5hU4zO58m",
        "colab": {
          "base_uri": "https://localhost:8080/"
        },
        "outputId": "4b3e188a-0346-4e65-c20e-a95e472a84b2"
      },
      "source": [
        "time_index = pd.date_range('2017-01-01',periods = len(s),freq = 'D')\n",
        "print(time_index)\n",
        "s.index = time_index\n",
        "print(s)"
      ],
      "execution_count": 150,
      "outputs": [
        {
          "output_type": "stream",
          "name": "stdout",
          "text": [
            "DatetimeIndex(['2017-01-01', '2017-01-02', '2017-01-03', '2017-01-04',\n",
            "               '2017-01-05', '2017-01-06'],\n",
            "              dtype='datetime64[ns]', freq='D')\n",
            "2017-01-01    143.73\n",
            "2017-01-02    145.83\n",
            "2017-01-03    143.68\n",
            "2017-01-04    144.02\n",
            "2017-01-05    143.50\n",
            "2017-01-06    142.62\n",
            "Freq: D, Name: Apple Price List, dtype: float64\n"
          ]
        }
      ]
    },
    {
      "cell_type": "code",
      "metadata": {
        "colab": {
          "base_uri": "https://localhost:8080/"
        },
        "id": "9wHwv67HPHyJ",
        "outputId": "6d2370e3-c1b3-48b1-e502-86a13c760bf1"
      },
      "source": [
        "# my example\n",
        "my_time_index = pd.date_range('2019-09-12',periods = len(my_s),freq = 'M')\n",
        "print(my_time_index)\n",
        "my_s.index = my_time_index\n",
        "print(my_s)"
      ],
      "execution_count": 151,
      "outputs": [
        {
          "output_type": "stream",
          "name": "stdout",
          "text": [
            "DatetimeIndex(['2019-09-30', '2019-10-31', '2019-11-30', '2019-12-31',\n",
            "               '2020-01-31', '2020-02-29', '2020-03-31'],\n",
            "              dtype='datetime64[ns]', freq='M')\n",
            "2019-09-30      12\n",
            "2019-10-31       9\n",
            "2019-11-30    2019\n",
            "2019-12-31      22\n",
            "2020-01-31       5\n",
            "2020-02-29      11\n",
            "2020-03-31      10\n",
            "Freq: M, Name: My Sample Name, dtype: int64\n"
          ]
        }
      ]
    },
    {
      "cell_type": "markdown",
      "metadata": {
        "id": "7WedejFZg19J"
      },
      "source": [
        "Series are usually accessed using the iloc[] and loc[] methods. iloc[] is used to access elements by integer index, and loc[] is used to access the index of the series.\n",
        "\n",
        "iloc[] is necessary when the index of a series are integers, take our previous defined series as example:"
      ]
    },
    {
      "cell_type": "code",
      "metadata": {
        "id": "KrVSOyMvO58m",
        "colab": {
          "base_uri": "https://localhost:8080/"
        },
        "outputId": "a0e73aa0-7a32-4a13-a489-fd6757021d2b"
      },
      "source": [
        "s.index = [6,5,4,3,2,1]\n",
        "print(s)\n",
        "print(s[1])"
      ],
      "execution_count": 152,
      "outputs": [
        {
          "output_type": "stream",
          "name": "stdout",
          "text": [
            "6    143.73\n",
            "5    145.83\n",
            "4    143.68\n",
            "3    144.02\n",
            "2    143.50\n",
            "1    142.62\n",
            "Name: Apple Price List, dtype: float64\n",
            "142.62\n"
          ]
        }
      ]
    },
    {
      "cell_type": "code",
      "metadata": {
        "colab": {
          "base_uri": "https://localhost:8080/"
        },
        "id": "O-hRkAQHP54M",
        "outputId": "5f404e9e-88b6-41d7-e5a9-4033e3292c6e"
      },
      "source": [
        "my_s.index = [7,6,5,4,3,2,1]\n",
        "print(my_s)\n",
        "print(my_s[1])"
      ],
      "execution_count": 153,
      "outputs": [
        {
          "output_type": "stream",
          "name": "stdout",
          "text": [
            "7      12\n",
            "6       9\n",
            "5    2019\n",
            "4      22\n",
            "3       5\n",
            "2      11\n",
            "1      10\n",
            "Name: My Sample Name, dtype: int64\n",
            "10\n"
          ]
        }
      ]
    },
    {
      "cell_type": "markdown",
      "metadata": {
        "id": "r30VKPtpg61p"
      },
      "source": [
        "If we intended to take the second element of the series, we would make a mistake here, because the index are integers. In order to access to the element we want, we use iloc[] here:"
      ]
    },
    {
      "cell_type": "code",
      "metadata": {
        "id": "bHukfaAmO58m",
        "colab": {
          "base_uri": "https://localhost:8080/"
        },
        "outputId": "3b549512-6a6f-42d3-9e45-feb88c081490"
      },
      "source": [
        "print(s.iloc[1])"
      ],
      "execution_count": 154,
      "outputs": [
        {
          "output_type": "stream",
          "name": "stdout",
          "text": [
            "145.83\n"
          ]
        }
      ]
    },
    {
      "cell_type": "code",
      "metadata": {
        "colab": {
          "base_uri": "https://localhost:8080/"
        },
        "id": "eSr5CT8sQBuU",
        "outputId": "0dabb33f-8467-46f5-f382-18ae2b7a0ed7"
      },
      "source": [
        "# my example\n",
        "print(my_s.iloc[1])"
      ],
      "execution_count": 155,
      "outputs": [
        {
          "output_type": "stream",
          "name": "stdout",
          "text": [
            "9\n"
          ]
        }
      ]
    },
    {
      "cell_type": "markdown",
      "metadata": {
        "id": "kHVBRL_Rg84j"
      },
      "source": [
        "While working with time series data, we often use time as the index. Pandas provides us with various methods to access the data by time index"
      ]
    },
    {
      "cell_type": "code",
      "metadata": {
        "id": "FCf8Hg7jO58n",
        "colab": {
          "base_uri": "https://localhost:8080/"
        },
        "outputId": "e778a66e-9a56-48ac-d1a0-b702a70a3ab8"
      },
      "source": [
        "s.index = time_index\n",
        "print(s['2017-01-03'])\n"
      ],
      "execution_count": 156,
      "outputs": [
        {
          "output_type": "stream",
          "name": "stdout",
          "text": [
            "143.68\n"
          ]
        }
      ]
    },
    {
      "cell_type": "code",
      "metadata": {
        "colab": {
          "base_uri": "https://localhost:8080/"
        },
        "id": "nuf3HwIHQLRl",
        "outputId": "bfd9fa74-20de-4390-de85-523cd4ce1a89"
      },
      "source": [
        "# my example\n",
        "my_s.index = my_time_index\n",
        "print(my_s['2019-12-31'])"
      ],
      "execution_count": 157,
      "outputs": [
        {
          "output_type": "stream",
          "name": "stdout",
          "text": [
            "22\n"
          ]
        }
      ]
    },
    {
      "cell_type": "markdown",
      "metadata": {
        "id": "XJXcrSFpg-To"
      },
      "source": [
        "We can even access to a range of dates:"
      ]
    },
    {
      "cell_type": "code",
      "metadata": {
        "id": "NsE-Lr_9O58n",
        "colab": {
          "base_uri": "https://localhost:8080/"
        },
        "outputId": "2744e3b2-6950-4c22-eeb4-476f23e20cb5"
      },
      "source": [
        "print(s['2017-01-02':'2017-01-05'])"
      ],
      "execution_count": 158,
      "outputs": [
        {
          "output_type": "stream",
          "name": "stdout",
          "text": [
            "2017-01-02    145.83\n",
            "2017-01-03    143.68\n",
            "2017-01-04    144.02\n",
            "2017-01-05    143.50\n",
            "Freq: D, Name: Apple Price List, dtype: float64\n"
          ]
        }
      ]
    },
    {
      "cell_type": "code",
      "metadata": {
        "colab": {
          "base_uri": "https://localhost:8080/"
        },
        "id": "aAgfLrsPQ82H",
        "outputId": "16a23107-3649-4d97-833d-52003a334f66"
      },
      "source": [
        "# my example\n",
        "print(my_s['2019-01-01':'2019-12-31'])"
      ],
      "execution_count": 159,
      "outputs": [
        {
          "output_type": "stream",
          "name": "stdout",
          "text": [
            "2019-09-30      12\n",
            "2019-10-31       9\n",
            "2019-11-30    2019\n",
            "2019-12-31      22\n",
            "Freq: M, Name: My Sample Name, dtype: int64\n"
          ]
        }
      ]
    },
    {
      "cell_type": "markdown",
      "metadata": {
        "id": "cWA3NCXEhCLB"
      },
      "source": [
        "Series[] provides us a very flexible way to index data. We can add any condition in the square brackets:"
      ]
    },
    {
      "cell_type": "code",
      "metadata": {
        "id": "aawbrg2EO58n",
        "colab": {
          "base_uri": "https://localhost:8080/"
        },
        "outputId": "c1d3da2f-1c80-4124-da74-395c0c478b99"
      },
      "source": [
        "print(s[s < np.mean(s)] )\n",
        "print([(s > np.mean(s)) & (s < np.mean(s) + 1.64*np.std(s))])"
      ],
      "execution_count": 160,
      "outputs": [
        {
          "output_type": "stream",
          "name": "stdout",
          "text": [
            "2017-01-01    143.73\n",
            "2017-01-03    143.68\n",
            "2017-01-05    143.50\n",
            "2017-01-06    142.62\n",
            "Name: Apple Price List, dtype: float64\n",
            "[2017-01-01    False\n",
            "2017-01-02    False\n",
            "2017-01-03    False\n",
            "2017-01-04     True\n",
            "2017-01-05    False\n",
            "2017-01-06    False\n",
            "Freq: D, Name: Apple Price List, dtype: bool]\n"
          ]
        }
      ]
    },
    {
      "cell_type": "code",
      "metadata": {
        "colab": {
          "base_uri": "https://localhost:8080/"
        },
        "id": "dOfPX-3jRGQV",
        "outputId": "5da2bd22-d593-44d1-fa63-cfe0d4e02702"
      },
      "source": [
        "# my example\n",
        "print(my_s[my_s < np.mean(my_s)] )\n",
        "print([(my_s > np.mean(my_s)) & (my_s < np.mean(my_s) + 1.64*np.std(my_s))])"
      ],
      "execution_count": 161,
      "outputs": [
        {
          "output_type": "stream",
          "name": "stdout",
          "text": [
            "2019-09-30    12\n",
            "2019-10-31     9\n",
            "2019-12-31    22\n",
            "2020-01-31     5\n",
            "2020-02-29    11\n",
            "2020-03-31    10\n",
            "Name: My Sample Name, dtype: int64\n",
            "[2019-09-30    False\n",
            "2019-10-31    False\n",
            "2019-11-30    False\n",
            "2019-12-31    False\n",
            "2020-01-31    False\n",
            "2020-02-29    False\n",
            "2020-03-31    False\n",
            "Freq: M, Name: My Sample Name, dtype: bool]\n"
          ]
        }
      ]
    },
    {
      "cell_type": "markdown",
      "metadata": {
        "id": "jAByChIwhEuI"
      },
      "source": [
        "As demonstrated, we can use logical operators like & (and), | (or) and ~ (not) to group multiple conditions.\n",
        "\n",
        "# Summary\n",
        "Here we have introduced NumPy and Pandas for scientific computing in Python. In the next chapter, we will dive into Pandas to learn resampling and manipulating Pandas DataFrame, which are commonly used in financial data analysis."
      ]
    },
    {
      "cell_type": "markdown",
      "metadata": {
        "id": "OtjOpw6oJp6z"
      },
      "source": [
        "# Introduction\n",
        "In the last chapter we had a glimpse of Pandas. In this chapter we will learn about resampling methods and the DataFrame object, which is a powerful tool for financial data analysis.\n",
        "\n",
        "# Fetching Data\n",
        "Here we use the Yahoo Finance to retrieve data.\n"
      ]
    },
    {
      "cell_type": "code",
      "metadata": {
        "id": "luU8mZTsHW9x",
        "colab": {
          "base_uri": "https://localhost:8080/"
        },
        "outputId": "b2b76e58-375e-4b76-ae49-87a3f816ec1f"
      },
      "source": [
        "!pip install yfinance"
      ],
      "execution_count": 162,
      "outputs": [
        {
          "output_type": "stream",
          "name": "stdout",
          "text": [
            "Requirement already satisfied: yfinance in /usr/local/lib/python3.7/dist-packages (0.1.63)\n",
            "Requirement already satisfied: numpy>=1.15 in /usr/local/lib/python3.7/dist-packages (from yfinance) (1.19.5)\n",
            "Requirement already satisfied: lxml>=4.5.1 in /usr/local/lib/python3.7/dist-packages (from yfinance) (4.6.3)\n",
            "Requirement already satisfied: requests>=2.20 in /usr/local/lib/python3.7/dist-packages (from yfinance) (2.23.0)\n",
            "Requirement already satisfied: multitasking>=0.0.7 in /usr/local/lib/python3.7/dist-packages (from yfinance) (0.0.9)\n",
            "Requirement already satisfied: pandas>=0.24 in /usr/local/lib/python3.7/dist-packages (from yfinance) (1.1.5)\n",
            "Requirement already satisfied: pytz>=2017.2 in /usr/local/lib/python3.7/dist-packages (from pandas>=0.24->yfinance) (2018.9)\n",
            "Requirement already satisfied: python-dateutil>=2.7.3 in /usr/local/lib/python3.7/dist-packages (from pandas>=0.24->yfinance) (2.8.2)\n",
            "Requirement already satisfied: six>=1.5 in /usr/local/lib/python3.7/dist-packages (from python-dateutil>=2.7.3->pandas>=0.24->yfinance) (1.15.0)\n",
            "Requirement already satisfied: urllib3!=1.25.0,!=1.25.1,<1.26,>=1.21.1 in /usr/local/lib/python3.7/dist-packages (from requests>=2.20->yfinance) (1.24.3)\n",
            "Requirement already satisfied: certifi>=2017.4.17 in /usr/local/lib/python3.7/dist-packages (from requests>=2.20->yfinance) (2021.5.30)\n",
            "Requirement already satisfied: chardet<4,>=3.0.2 in /usr/local/lib/python3.7/dist-packages (from requests>=2.20->yfinance) (3.0.4)\n",
            "Requirement already satisfied: idna<3,>=2.5 in /usr/local/lib/python3.7/dist-packages (from requests>=2.20->yfinance) (2.10)\n"
          ]
        }
      ]
    },
    {
      "cell_type": "code",
      "metadata": {
        "colab": {
          "base_uri": "https://localhost:8080/",
          "height": 484
        },
        "id": "mWZ-nirTZHrE",
        "outputId": "d371e7af-4656-4c56-9ab8-841cbbe34a04"
      },
      "source": [
        "import yfinance as yf\n",
        "\n",
        "aapl = yf.Ticker(\"AAPL\")\n",
        "\n",
        "# get stock info\n",
        "print(aapl.info)\n",
        "\n",
        "# get historical market data\n",
        "aapl_table = aapl.history(start=\"2016-01-01\",  end=\"2017-12-31\")\n",
        "aapl_table"
      ],
      "execution_count": 163,
      "outputs": [
        {
          "output_type": "stream",
          "name": "stdout",
          "text": [
            "{'zip': '95014', 'sector': 'Technology', 'fullTimeEmployees': 147000, 'longBusinessSummary': 'Apple Inc. designs, manufactures, and markets smartphones, personal computers, tablets, wearables, and accessories worldwide. It also sells various related services. The company offers iPhone, a line of smartphones; Mac, a line of personal computers; iPad, a line of multi-purpose tablets; and wearables, home, and accessories comprising AirPods, Apple TV, Apple Watch, Beats products, HomePod, iPod touch, and other Apple-branded and third-party accessories. It also provides AppleCare support services; cloud services store services; and operates various platforms, including the App Store, that allow customers to discover and download applications and digital content, such as books, music, video, games, and podcasts. In addition, the company offers various services, such as Apple Arcade, a game subscription service; Apple Music, which offers users a curated listening experience with on-demand radio stations; Apple News+, a subscription news and magazine service; Apple TV+, which offers exclusive original content; Apple Card, a co-branded credit card; and Apple Pay, a cashless payment service, as well as licenses its intellectual property. The company serves consumers, and small and mid-sized businesses; and the education, enterprise, and government markets. It sells and delivers third-party applications for its products through the App Store. The company also sells its products through its retail and online stores, and direct sales force; and third-party cellular network carriers, wholesalers, retailers, and resellers. Apple Inc. was founded in 1977 and is headquartered in Cupertino, California.', 'city': 'Cupertino', 'phone': '408-996-1010', 'state': 'CA', 'country': 'United States', 'companyOfficers': [], 'website': 'http://www.apple.com', 'maxAge': 1, 'address1': 'One Apple Park Way', 'industry': 'Consumer Electronics', 'ebitdaMargins': 0.31955, 'profitMargins': 0.25004, 'grossMargins': 0.41005, 'operatingCashflow': 104414003200, 'revenueGrowth': 0.364, 'operatingMargins': 0.28788, 'ebitda': 110934999040, 'targetLowPrice': 132, 'recommendationKey': 'buy', 'grossProfits': 104956000000, 'freeCashflow': 80625876992, 'targetMedianPrice': 169.64, 'currentPrice': 144.84, 'earningsGrowth': 1, 'currentRatio': 1.062, 'returnOnAssets': 0.19302, 'numberOfAnalystOpinions': 42, 'targetMeanPrice': 167.92, 'debtToEquity': 210.782, 'returnOnEquity': 1.27125, 'targetHighPrice': 190, 'totalCash': 61696000000, 'totalDebt': 135491002368, 'totalRevenue': 347155005440, 'totalCashPerShare': 3.732, 'financialCurrency': 'USD', 'revenuePerShare': 20.61, 'quickRatio': 0.887, 'recommendationMean': 1.9, 'exchange': 'NMS', 'shortName': 'Apple Inc.', 'longName': 'Apple Inc.', 'exchangeTimezoneName': 'America/New_York', 'exchangeTimezoneShortName': 'EDT', 'isEsgPopulated': False, 'gmtOffSetMilliseconds': '-14400000', 'quoteType': 'EQUITY', 'symbol': 'AAPL', 'messageBoardId': 'finmb_24937', 'market': 'us_market', 'annualHoldingsTurnover': None, 'enterpriseToRevenue': 7.109, 'beta3Year': None, 'enterpriseToEbitda': 22.247, '52WeekChange': 0.24883604, 'morningStarRiskRating': None, 'forwardEps': 5.68, 'revenueQuarterlyGrowth': None, 'sharesOutstanding': 16530199552, 'fundInceptionDate': None, 'annualReportExpenseRatio': None, 'totalAssets': None, 'bookValue': 3.882, 'sharesShort': 101107412, 'sharesPercentSharesOut': 0.0061000003, 'fundFamily': None, 'lastFiscalYearEnd': 1601078400, 'heldPercentInstitutions': 0.58701, 'netIncomeToCommon': 86801997824, 'trailingEps': 5.108, 'lastDividendValue': 0.22, 'SandP52WeekChange': 0.3047781, 'priceToBook': 37.310665, 'heldPercentInsiders': 0.00072999997, 'nextFiscalYearEnd': 1664150400, 'yield': None, 'mostRecentQuarter': 1624665600, 'shortRatio': 1.18, 'sharesShortPreviousMonthDate': 1630368000, 'floatShares': 16512974627, 'beta': 1.222222, 'enterpriseValue': 2468024156160, 'priceHint': 2, 'threeYearAverageReturn': None, 'lastSplitDate': 1598832000, 'lastSplitFactor': '4:1', 'legalType': None, 'lastDividendDate': 1628208000, 'morningStarOverallRating': None, 'earningsQuarterlyGrowth': 0.932, 'priceToSalesTrailing12Months': 6.896729, 'dateShortInterest': 1632960000, 'pegRatio': 1.38, 'ytdReturn': None, 'forwardPE': 25.5, 'lastCapGain': None, 'shortPercentOfFloat': 0.0061000003, 'sharesShortPriorMonth': 96838699, 'impliedSharesOutstanding': None, 'category': None, 'fiveYearAverageReturn': None, 'previousClose': 143.76, 'regularMarketOpen': 143.77, 'twoHundredDayAverage': 138.64877, 'trailingAnnualDividendYield': 0.0058082915, 'payoutRatio': 0.16309999, 'volume24Hr': None, 'regularMarketDayHigh': 144.895, 'navPrice': None, 'averageDailyVolume10Day': 67784928, 'regularMarketPreviousClose': 143.76, 'fiftyDayAverage': 146.59706, 'trailingAnnualDividendRate': 0.835, 'open': 143.77, 'toCurrency': None, 'averageVolume10days': 67784928, 'expireDate': None, 'algorithm': None, 'dividendRate': 0.88, 'exDividendDate': 1628208000, 'circulatingSupply': None, 'startDate': None, 'regularMarketDayLow': 143.515, 'currency': 'USD', 'trailingPE': 28.35552, 'regularMarketVolume': 65076405, 'lastMarket': None, 'maxSupply': None, 'openInterest': None, 'marketCap': 2394234028032, 'volumeAllCurrencies': None, 'strikePrice': None, 'averageVolume': 77415270, 'dayLow': 143.515, 'ask': 144.97, 'askSize': 1400, 'volume': 65076405, 'fiftyTwoWeekHigh': 157.26, 'fromCurrency': None, 'fiveYearAvgDividendYield': 1.24, 'fiftyTwoWeekLow': 107.32, 'bid': 144.86, 'tradeable': False, 'dividendYield': 0.0061000003, 'bidSize': 1800, 'dayHigh': 144.895, 'regularMarketPrice': 144.84, 'logo_url': 'https://logo.clearbit.com/apple.com'}\n"
          ]
        },
        {
          "output_type": "execute_result",
          "data": {
            "text/html": [
              "<div>\n",
              "<style scoped>\n",
              "    .dataframe tbody tr th:only-of-type {\n",
              "        vertical-align: middle;\n",
              "    }\n",
              "\n",
              "    .dataframe tbody tr th {\n",
              "        vertical-align: top;\n",
              "    }\n",
              "\n",
              "    .dataframe thead th {\n",
              "        text-align: right;\n",
              "    }\n",
              "</style>\n",
              "<table border=\"1\" class=\"dataframe\">\n",
              "  <thead>\n",
              "    <tr style=\"text-align: right;\">\n",
              "      <th></th>\n",
              "      <th>Open</th>\n",
              "      <th>High</th>\n",
              "      <th>Low</th>\n",
              "      <th>Close</th>\n",
              "      <th>Volume</th>\n",
              "      <th>Dividends</th>\n",
              "      <th>Stock Splits</th>\n",
              "    </tr>\n",
              "    <tr>\n",
              "      <th>Date</th>\n",
              "      <th></th>\n",
              "      <th></th>\n",
              "      <th></th>\n",
              "      <th></th>\n",
              "      <th></th>\n",
              "      <th></th>\n",
              "      <th></th>\n",
              "    </tr>\n",
              "  </thead>\n",
              "  <tbody>\n",
              "    <tr>\n",
              "      <th>2016-01-04</th>\n",
              "      <td>23.655164</td>\n",
              "      <td>24.291441</td>\n",
              "      <td>23.514538</td>\n",
              "      <td>24.286829</td>\n",
              "      <td>270597600</td>\n",
              "      <td>0.0</td>\n",
              "      <td>0</td>\n",
              "    </tr>\n",
              "    <tr>\n",
              "      <th>2016-01-05</th>\n",
              "      <td>24.379050</td>\n",
              "      <td>24.402104</td>\n",
              "      <td>23.609065</td>\n",
              "      <td>23.678225</td>\n",
              "      <td>223164000</td>\n",
              "      <td>0.0</td>\n",
              "      <td>0</td>\n",
              "    </tr>\n",
              "    <tr>\n",
              "      <th>2016-01-06</th>\n",
              "      <td>23.182569</td>\n",
              "      <td>23.599838</td>\n",
              "      <td>23.023501</td>\n",
              "      <td>23.214844</td>\n",
              "      <td>273829600</td>\n",
              "      <td>0.0</td>\n",
              "      <td>0</td>\n",
              "    </tr>\n",
              "    <tr>\n",
              "      <th>2016-01-07</th>\n",
              "      <td>22.749160</td>\n",
              "      <td>23.083435</td>\n",
              "      <td>22.230457</td>\n",
              "      <td>22.235067</td>\n",
              "      <td>324377600</td>\n",
              "      <td>0.0</td>\n",
              "      <td>0</td>\n",
              "    </tr>\n",
              "    <tr>\n",
              "      <th>2016-01-08</th>\n",
              "      <td>22.719197</td>\n",
              "      <td>22.848296</td>\n",
              "      <td>22.306540</td>\n",
              "      <td>22.352646</td>\n",
              "      <td>283192000</td>\n",
              "      <td>0.0</td>\n",
              "      <td>0</td>\n",
              "    </tr>\n",
              "    <tr>\n",
              "      <th>...</th>\n",
              "      <td>...</td>\n",
              "      <td>...</td>\n",
              "      <td>...</td>\n",
              "      <td>...</td>\n",
              "      <td>...</td>\n",
              "      <td>...</td>\n",
              "      <td>...</td>\n",
              "    </tr>\n",
              "    <tr>\n",
              "      <th>2017-12-22</th>\n",
              "      <td>41.827756</td>\n",
              "      <td>42.004953</td>\n",
              "      <td>41.784656</td>\n",
              "      <td>41.906776</td>\n",
              "      <td>65397600</td>\n",
              "      <td>0.0</td>\n",
              "      <td>0</td>\n",
              "    </tr>\n",
              "    <tr>\n",
              "      <th>2017-12-26</th>\n",
              "      <td>40.898682</td>\n",
              "      <td>41.059116</td>\n",
              "      <td>40.630492</td>\n",
              "      <td>40.843609</td>\n",
              "      <td>132742000</td>\n",
              "      <td>0.0</td>\n",
              "      <td>0</td>\n",
              "    </tr>\n",
              "    <tr>\n",
              "      <th>2017-12-27</th>\n",
              "      <td>40.731061</td>\n",
              "      <td>40.893888</td>\n",
              "      <td>40.637675</td>\n",
              "      <td>40.850788</td>\n",
              "      <td>85992800</td>\n",
              "      <td>0.0</td>\n",
              "      <td>0</td>\n",
              "    </tr>\n",
              "    <tr>\n",
              "      <th>2017-12-28</th>\n",
              "      <td>40.946576</td>\n",
              "      <td>41.150113</td>\n",
              "      <td>40.822059</td>\n",
              "      <td>40.965733</td>\n",
              "      <td>65920800</td>\n",
              "      <td>0.0</td>\n",
              "      <td>0</td>\n",
              "    </tr>\n",
              "    <tr>\n",
              "      <th>2017-12-29</th>\n",
              "      <td>40.831625</td>\n",
              "      <td>40.848385</td>\n",
              "      <td>40.520335</td>\n",
              "      <td>40.522728</td>\n",
              "      <td>103999600</td>\n",
              "      <td>0.0</td>\n",
              "      <td>0</td>\n",
              "    </tr>\n",
              "  </tbody>\n",
              "</table>\n",
              "<p>503 rows × 7 columns</p>\n",
              "</div>"
            ],
            "text/plain": [
              "                 Open       High        Low  ...     Volume  Dividends  Stock Splits\n",
              "Date                                         ...                                    \n",
              "2016-01-04  23.655164  24.291441  23.514538  ...  270597600        0.0             0\n",
              "2016-01-05  24.379050  24.402104  23.609065  ...  223164000        0.0             0\n",
              "2016-01-06  23.182569  23.599838  23.023501  ...  273829600        0.0             0\n",
              "2016-01-07  22.749160  23.083435  22.230457  ...  324377600        0.0             0\n",
              "2016-01-08  22.719197  22.848296  22.306540  ...  283192000        0.0             0\n",
              "...               ...        ...        ...  ...        ...        ...           ...\n",
              "2017-12-22  41.827756  42.004953  41.784656  ...   65397600        0.0             0\n",
              "2017-12-26  40.898682  41.059116  40.630492  ...  132742000        0.0             0\n",
              "2017-12-27  40.731061  40.893888  40.637675  ...   85992800        0.0             0\n",
              "2017-12-28  40.946576  41.150113  40.822059  ...   65920800        0.0             0\n",
              "2017-12-29  40.831625  40.848385  40.520335  ...  103999600        0.0             0\n",
              "\n",
              "[503 rows x 7 columns]"
            ]
          },
          "metadata": {},
          "execution_count": 163
        }
      ]
    },
    {
      "cell_type": "code",
      "metadata": {
        "colab": {
          "base_uri": "https://localhost:8080/",
          "height": 484
        },
        "id": "0pA4FyOhXYm1",
        "outputId": "240e9a57-6d6e-413c-dc5b-ea10bc203d7c"
      },
      "source": [
        "# my example\n",
        "import yfinance as yf\n",
        "\n",
        "alphabet = yf.Ticker(\"GOOGL\")\n",
        "\n",
        "# get stock info\n",
        "print(alphabet.info)\n",
        "\n",
        "# get historical market data\n",
        "alphabet_table = alphabet.history(start=\"2016-01-01\",  end=\"2017-12-31\")\n",
        "alphabet_table"
      ],
      "execution_count": 164,
      "outputs": [
        {
          "output_type": "stream",
          "name": "stdout",
          "text": [
            "{'zip': '94043', 'sector': 'Communication Services', 'fullTimeEmployees': 144056, 'longBusinessSummary': 'Alphabet Inc. provides online advertising services in the United States, Europe, the Middle East, Africa, the Asia-Pacific, Canada, and Latin America. The company offers performance and brand advertising services. It operates through Google Services, Google Cloud, and Other Bets segments. The Google Services segment provides products and services, such as ads, Android, Chrome, hardware, Google Maps, Google Play, Search, and YouTube, as well as technical infrastructure; and digital content. The Google Cloud segment offers infrastructure and data analytics platforms, collaboration tools, and other services for enterprise customers. The Other Bets segment sells internet and TV services, as well as licensing and research and development services. The company was founded in 1998 and is headquartered in Mountain View, California.', 'city': 'Mountain View', 'phone': '650-253-0000', 'state': 'CA', 'country': 'United States', 'companyOfficers': [], 'website': 'http://www.abc.xyz', 'maxAge': 1, 'address1': '1600 Amphitheatre Parkway', 'industry': 'Internet Content & Information', 'ebitdaMargins': 0.34300998, 'profitMargins': 0.2857, 'grossMargins': 0.55723, 'operatingCashflow': 80858996736, 'revenueGrowth': 0.616, 'operatingMargins': 0.28448, 'ebitda': 75552997376, 'targetLowPrice': 1850, 'recommendationKey': 'buy', 'grossProfits': 97795000000, 'freeCashflow': 44609626112, 'targetMedianPrice': 3195, 'currentPrice': 2827.36, 'earningsGrowth': 1.691, 'currentRatio': 3.152, 'returnOnAssets': 0.12759, 'numberOfAnalystOpinions': 44, 'targetMeanPrice': 3165.69, 'debtToEquity': 11.829, 'returnOnEquity': 0.2829, 'targetHighPrice': 4288.52, 'totalCash': 135863001088, 'totalDebt': 28100999168, 'totalRevenue': 220265005056, 'totalCashPerShare': 203.768, 'financialCurrency': 'USD', 'revenuePerShare': 326.656, 'quickRatio': 3.027, 'recommendationMean': 1.7, 'exchange': 'NMS', 'shortName': 'Alphabet Inc.', 'longName': 'Alphabet Inc.', 'exchangeTimezoneName': 'America/New_York', 'exchangeTimezoneShortName': 'EDT', 'isEsgPopulated': False, 'gmtOffSetMilliseconds': '-14400000', 'quoteType': 'EQUITY', 'symbol': 'GOOGL', 'messageBoardId': 'finmb_29096', 'market': 'us_market', 'annualHoldingsTurnover': None, 'enterpriseToRevenue': 8.069, 'beta3Year': None, 'enterpriseToEbitda': 23.525, '52WeekChange': 0.84800816, 'morningStarRiskRating': None, 'forwardEps': 106.31, 'revenueQuarterlyGrowth': None, 'sharesOutstanding': 301084992, 'fundInceptionDate': None, 'annualReportExpenseRatio': None, 'totalAssets': None, 'bookValue': 355.83, 'sharesShort': 2776429, 'sharesPercentSharesOut': 0.0042, 'fundFamily': None, 'lastFiscalYearEnd': 1609372800, 'heldPercentInstitutions': 0.80420995, 'netIncomeToCommon': 62928998400, 'trailingEps': 92.187, 'lastDividendValue': None, 'SandP52WeekChange': 0.3047781, 'priceToBook': 7.9458175, 'heldPercentInsiders': 0.00148, 'nextFiscalYearEnd': 1672444800, 'yield': None, 'mostRecentQuarter': 1625011200, 'shortRatio': 2, 'sharesShortPreviousMonthDate': 1630368000, 'floatShares': 580783527, 'beta': 1.025925, 'enterpriseValue': 1777394122752, 'priceHint': 2, 'threeYearAverageReturn': None, 'lastSplitDate': 1396483200, 'lastSplitFactor': '1998:1000', 'legalType': None, 'lastDividendDate': None, 'morningStarOverallRating': None, 'earningsQuarterlyGrowth': 1.662, 'priceToSalesTrailing12Months': 8.567505, 'dateShortInterest': 1632960000, 'pegRatio': 1.16, 'ytdReturn': None, 'forwardPE': 26.59543, 'lastCapGain': None, 'shortPercentOfFloat': 0.0092, 'sharesShortPriorMonth': 2994031, 'impliedSharesOutstanding': 666755008, 'category': None, 'fiveYearAverageReturn': None, 'previousClose': 2823.02, 'regularMarketOpen': 2832.29, 'twoHundredDayAverage': 2545.0764, 'trailingAnnualDividendYield': None, 'payoutRatio': 0, 'volume24Hr': None, 'regularMarketDayHigh': 2834.36, 'navPrice': None, 'averageDailyVolume10Day': 1340757, 'regularMarketPreviousClose': 2823.02, 'fiftyDayAverage': 2807.2344, 'trailingAnnualDividendRate': None, 'open': 2832.29, 'toCurrency': None, 'averageVolume10days': 1340757, 'expireDate': None, 'algorithm': None, 'dividendRate': None, 'exDividendDate': None, 'circulatingSupply': None, 'startDate': None, 'regularMarketDayLow': 2815.1, 'currency': 'USD', 'trailingPE': 30.669836, 'regularMarketVolume': 1513722, 'lastMarket': None, 'maxSupply': None, 'openInterest': None, 'marketCap': 1887121440768, 'volumeAllCurrencies': None, 'strikePrice': None, 'averageVolume': 1368679, 'dayLow': 2815.1, 'ask': 2835, 'askSize': 800, 'volume': 1513722, 'fiftyTwoWeekHigh': 2925.08, 'fromCurrency': None, 'fiveYearAvgDividendYield': None, 'fiftyTwoWeekLow': 1508.48, 'bid': 2826.05, 'tradeable': False, 'dividendYield': None, 'bidSize': 800, 'dayHigh': 2834.36, 'regularMarketPrice': 2827.36, 'logo_url': 'https://logo.clearbit.com/abc.xyz'}\n"
          ]
        },
        {
          "output_type": "execute_result",
          "data": {
            "text/html": [
              "<div>\n",
              "<style scoped>\n",
              "    .dataframe tbody tr th:only-of-type {\n",
              "        vertical-align: middle;\n",
              "    }\n",
              "\n",
              "    .dataframe tbody tr th {\n",
              "        vertical-align: top;\n",
              "    }\n",
              "\n",
              "    .dataframe thead th {\n",
              "        text-align: right;\n",
              "    }\n",
              "</style>\n",
              "<table border=\"1\" class=\"dataframe\">\n",
              "  <thead>\n",
              "    <tr style=\"text-align: right;\">\n",
              "      <th></th>\n",
              "      <th>Open</th>\n",
              "      <th>High</th>\n",
              "      <th>Low</th>\n",
              "      <th>Close</th>\n",
              "      <th>Volume</th>\n",
              "      <th>Dividends</th>\n",
              "      <th>Stock Splits</th>\n",
              "    </tr>\n",
              "    <tr>\n",
              "      <th>Date</th>\n",
              "      <th></th>\n",
              "      <th></th>\n",
              "      <th></th>\n",
              "      <th></th>\n",
              "      <th></th>\n",
              "      <th></th>\n",
              "      <th></th>\n",
              "    </tr>\n",
              "  </thead>\n",
              "  <tbody>\n",
              "    <tr>\n",
              "      <th>2016-01-04</th>\n",
              "      <td>762.200012</td>\n",
              "      <td>762.200012</td>\n",
              "      <td>747.539978</td>\n",
              "      <td>759.440002</td>\n",
              "      <td>3369100</td>\n",
              "      <td>0</td>\n",
              "      <td>0</td>\n",
              "    </tr>\n",
              "    <tr>\n",
              "      <th>2016-01-05</th>\n",
              "      <td>764.099976</td>\n",
              "      <td>769.200012</td>\n",
              "      <td>755.650024</td>\n",
              "      <td>761.530029</td>\n",
              "      <td>2260800</td>\n",
              "      <td>0</td>\n",
              "      <td>0</td>\n",
              "    </tr>\n",
              "    <tr>\n",
              "      <th>2016-01-06</th>\n",
              "      <td>750.369995</td>\n",
              "      <td>765.729980</td>\n",
              "      <td>748.000000</td>\n",
              "      <td>759.330017</td>\n",
              "      <td>2410300</td>\n",
              "      <td>0</td>\n",
              "      <td>0</td>\n",
              "    </tr>\n",
              "    <tr>\n",
              "      <th>2016-01-07</th>\n",
              "      <td>746.489990</td>\n",
              "      <td>755.309998</td>\n",
              "      <td>735.280029</td>\n",
              "      <td>741.000000</td>\n",
              "      <td>3156600</td>\n",
              "      <td>0</td>\n",
              "      <td>0</td>\n",
              "    </tr>\n",
              "    <tr>\n",
              "      <th>2016-01-08</th>\n",
              "      <td>747.799988</td>\n",
              "      <td>750.119995</td>\n",
              "      <td>728.919983</td>\n",
              "      <td>730.909973</td>\n",
              "      <td>2375300</td>\n",
              "      <td>0</td>\n",
              "      <td>0</td>\n",
              "    </tr>\n",
              "    <tr>\n",
              "      <th>...</th>\n",
              "      <td>...</td>\n",
              "      <td>...</td>\n",
              "      <td>...</td>\n",
              "      <td>...</td>\n",
              "      <td>...</td>\n",
              "      <td>...</td>\n",
              "      <td>...</td>\n",
              "    </tr>\n",
              "    <tr>\n",
              "      <th>2017-12-22</th>\n",
              "      <td>1070.000000</td>\n",
              "      <td>1071.719971</td>\n",
              "      <td>1067.640015</td>\n",
              "      <td>1068.859985</td>\n",
              "      <td>889400</td>\n",
              "      <td>0</td>\n",
              "      <td>0</td>\n",
              "    </tr>\n",
              "    <tr>\n",
              "      <th>2017-12-26</th>\n",
              "      <td>1068.640015</td>\n",
              "      <td>1068.859985</td>\n",
              "      <td>1058.640015</td>\n",
              "      <td>1065.849976</td>\n",
              "      <td>918800</td>\n",
              "      <td>0</td>\n",
              "      <td>0</td>\n",
              "    </tr>\n",
              "    <tr>\n",
              "      <th>2017-12-27</th>\n",
              "      <td>1066.599976</td>\n",
              "      <td>1068.270020</td>\n",
              "      <td>1058.380005</td>\n",
              "      <td>1060.199951</td>\n",
              "      <td>1116200</td>\n",
              "      <td>0</td>\n",
              "      <td>0</td>\n",
              "    </tr>\n",
              "    <tr>\n",
              "      <th>2017-12-28</th>\n",
              "      <td>1062.250000</td>\n",
              "      <td>1064.839966</td>\n",
              "      <td>1053.380005</td>\n",
              "      <td>1055.949951</td>\n",
              "      <td>994200</td>\n",
              "      <td>0</td>\n",
              "      <td>0</td>\n",
              "    </tr>\n",
              "    <tr>\n",
              "      <th>2017-12-29</th>\n",
              "      <td>1055.489990</td>\n",
              "      <td>1058.050049</td>\n",
              "      <td>1052.699951</td>\n",
              "      <td>1053.400024</td>\n",
              "      <td>1180300</td>\n",
              "      <td>0</td>\n",
              "      <td>0</td>\n",
              "    </tr>\n",
              "  </tbody>\n",
              "</table>\n",
              "<p>503 rows × 7 columns</p>\n",
              "</div>"
            ],
            "text/plain": [
              "                   Open         High  ...  Dividends  Stock Splits\n",
              "Date                                  ...                         \n",
              "2016-01-04   762.200012   762.200012  ...          0             0\n",
              "2016-01-05   764.099976   769.200012  ...          0             0\n",
              "2016-01-06   750.369995   765.729980  ...          0             0\n",
              "2016-01-07   746.489990   755.309998  ...          0             0\n",
              "2016-01-08   747.799988   750.119995  ...          0             0\n",
              "...                 ...          ...  ...        ...           ...\n",
              "2017-12-22  1070.000000  1071.719971  ...          0             0\n",
              "2017-12-26  1068.640015  1068.859985  ...          0             0\n",
              "2017-12-27  1066.599976  1068.270020  ...          0             0\n",
              "2017-12-28  1062.250000  1064.839966  ...          0             0\n",
              "2017-12-29  1055.489990  1058.050049  ...          0             0\n",
              "\n",
              "[503 rows x 7 columns]"
            ]
          },
          "metadata": {},
          "execution_count": 164
        }
      ]
    },
    {
      "cell_type": "markdown",
      "metadata": {
        "id": "NkFztSYhJyVA"
      },
      "source": [
        "We will create a Series named \"aapl\" whose values are Apple's daily closing prices, which are of course indexed by dates:"
      ]
    },
    {
      "cell_type": "code",
      "metadata": {
        "id": "QDJbOpCeHW91"
      },
      "source": [
        "aapl = aapl_table['Close']['2017']"
      ],
      "execution_count": 165,
      "outputs": []
    },
    {
      "cell_type": "code",
      "metadata": {
        "id": "zjRwIJCwX1gU"
      },
      "source": [
        "# my example\n",
        "alphabet = alphabet_table['Close']['2017']"
      ],
      "execution_count": 166,
      "outputs": []
    },
    {
      "cell_type": "code",
      "metadata": {
        "id": "SXfgCQJOHW91",
        "colab": {
          "base_uri": "https://localhost:8080/"
        },
        "outputId": "c7aaf401-a0be-4527-8b27-d6cb20ec02f9"
      },
      "source": [
        "print(aapl)"
      ],
      "execution_count": 167,
      "outputs": [
        {
          "output_type": "stream",
          "name": "stdout",
          "text": [
            "Date\n",
            "2017-01-03    27.372362\n",
            "2017-01-04    27.341724\n",
            "2017-01-05    27.480768\n",
            "2017-01-06    27.787127\n",
            "2017-01-09    28.041645\n",
            "                ...    \n",
            "2017-12-22    41.906776\n",
            "2017-12-26    40.843609\n",
            "2017-12-27    40.850788\n",
            "2017-12-28    40.965733\n",
            "2017-12-29    40.522728\n",
            "Name: Close, Length: 251, dtype: float64\n"
          ]
        }
      ]
    },
    {
      "cell_type": "code",
      "metadata": {
        "colab": {
          "base_uri": "https://localhost:8080/"
        },
        "id": "BXwYWQTpX8IG",
        "outputId": "d2141813-d2d6-414c-b44e-544837798242"
      },
      "source": [
        "# my example\n",
        "print(alphabet)"
      ],
      "execution_count": 168,
      "outputs": [
        {
          "output_type": "stream",
          "name": "stdout",
          "text": [
            "Date\n",
            "2017-01-03     808.010010\n",
            "2017-01-04     807.770020\n",
            "2017-01-05     813.020020\n",
            "2017-01-06     825.210022\n",
            "2017-01-09     827.179993\n",
            "                 ...     \n",
            "2017-12-22    1068.859985\n",
            "2017-12-26    1065.849976\n",
            "2017-12-27    1060.199951\n",
            "2017-12-28    1055.949951\n",
            "2017-12-29    1053.400024\n",
            "Name: Close, Length: 251, dtype: float64\n"
          ]
        }
      ]
    },
    {
      "cell_type": "markdown",
      "metadata": {
        "id": "waUEgBhzKEcA"
      },
      "source": [
        "Recall that we can fetch a specific data point using series['yyyy-mm-dd']. We can also fetch the data in a specific month using series['yyyy-mm']."
      ]
    },
    {
      "cell_type": "code",
      "metadata": {
        "id": "2gS50G0zHW92",
        "colab": {
          "base_uri": "https://localhost:8080/"
        },
        "outputId": "97e8e9c8-3361-4c4f-a36d-f945c0a52034"
      },
      "source": [
        "print(aapl['2017-3'])"
      ],
      "execution_count": 169,
      "outputs": [
        {
          "output_type": "stream",
          "name": "stdout",
          "text": [
            "Date\n",
            "2017-03-01    33.086288\n",
            "2017-03-02    32.889843\n",
            "2017-03-03    33.083916\n",
            "2017-03-06    32.979771\n",
            "2017-03-07    33.022381\n",
            "2017-03-08    32.899300\n",
            "2017-03-09    32.823563\n",
            "2017-03-10    32.932446\n",
            "2017-03-13    32.946640\n",
            "2017-03-14    32.896935\n",
            "2017-03-15    33.244865\n",
            "2017-03-16    33.299301\n",
            "2017-03-17    33.133629\n",
            "2017-03-20    33.481556\n",
            "2017-03-21    33.098110\n",
            "2017-03-22    33.472080\n",
            "2017-03-23    33.353745\n",
            "2017-03-24    33.287464\n",
            "2017-03-27    33.344280\n",
            "2017-03-28    34.035389\n",
            "2017-03-29    34.111134\n",
            "2017-03-30    34.066162\n",
            "2017-03-31    34.002262\n",
            "Name: Close, dtype: float64\n"
          ]
        }
      ]
    },
    {
      "cell_type": "code",
      "metadata": {
        "colab": {
          "base_uri": "https://localhost:8080/"
        },
        "id": "J4h07MQcYWie",
        "outputId": "af3e9e28-a425-461f-9667-4d5cc11f62cc"
      },
      "source": [
        "# my example\n",
        "print(alphabet['2017-3'])"
      ],
      "execution_count": 170,
      "outputs": [
        {
          "output_type": "stream",
          "name": "stdout",
          "text": [
            "Date\n",
            "2017-03-01    856.750000\n",
            "2017-03-02    849.849976\n",
            "2017-03-03    849.080017\n",
            "2017-03-06    847.270020\n",
            "2017-03-07    851.150024\n",
            "2017-03-08    853.640015\n",
            "2017-03-09    857.840027\n",
            "2017-03-10    861.409973\n",
            "2017-03-13    864.580017\n",
            "2017-03-14    865.909973\n",
            "2017-03-15    868.390015\n",
            "2017-03-16    870.000000\n",
            "2017-03-17    872.369995\n",
            "2017-03-20    867.909973\n",
            "2017-03-21    850.140015\n",
            "2017-03-22    849.799988\n",
            "2017-03-23    839.650024\n",
            "2017-03-24    835.140015\n",
            "2017-03-27    838.510010\n",
            "2017-03-28    840.630005\n",
            "2017-03-29    849.869995\n",
            "2017-03-30    849.479980\n",
            "2017-03-31    847.799988\n",
            "Name: Close, dtype: float64\n"
          ]
        }
      ]
    },
    {
      "cell_type": "code",
      "metadata": {
        "id": "vpvxGwXtHW92",
        "colab": {
          "base_uri": "https://localhost:8080/"
        },
        "outputId": "69cb8a8c-f3f7-434e-d5e3-3d9cd3a8ea3c"
      },
      "source": [
        "aapl['2017-2':'2017-4']"
      ],
      "execution_count": 171,
      "outputs": [
        {
          "output_type": "execute_result",
          "data": {
            "text/plain": [
              "Date\n",
              "2017-02-01    30.341724\n",
              "2017-02-02    30.289881\n",
              "2017-02-03    30.419498\n",
              "2017-02-06    30.704649\n",
              "2017-02-07    30.996868\n",
              "                ...    \n",
              "2017-04-24    33.997532\n",
              "2017-04-25    34.208179\n",
              "2017-04-26    34.006996\n",
              "2017-04-27    34.033024\n",
              "2017-04-28    33.999889\n",
              "Name: Close, Length: 61, dtype: float64"
            ]
          },
          "metadata": {},
          "execution_count": 171
        }
      ]
    },
    {
      "cell_type": "code",
      "metadata": {
        "colab": {
          "base_uri": "https://localhost:8080/"
        },
        "id": "ntXmOIGjYczK",
        "outputId": "1fa32440-971d-45f2-b520-2a42c11693f7"
      },
      "source": [
        "# my example\n",
        "alphabet['2017-2':'2017-4']"
      ],
      "execution_count": 172,
      "outputs": [
        {
          "output_type": "execute_result",
          "data": {
            "text/plain": [
              "Date\n",
              "2017-02-01    815.239990\n",
              "2017-02-02    818.260010\n",
              "2017-02-03    820.130005\n",
              "2017-02-06    821.619995\n",
              "2017-02-07    829.229980\n",
              "                 ...    \n",
              "2017-04-24    878.929993\n",
              "2017-04-25    888.840027\n",
              "2017-04-26    889.140015\n",
              "2017-04-27    891.440002\n",
              "2017-04-28    924.520020\n",
              "Name: Close, Length: 61, dtype: float64"
            ]
          },
          "metadata": {},
          "execution_count": 172
        }
      ]
    },
    {
      "cell_type": "markdown",
      "metadata": {
        "id": "lWwoD39pKNKb"
      },
      "source": [
        ".head(N) and .tail(N) are methods for quickly accessing the first or last N elements."
      ]
    },
    {
      "cell_type": "code",
      "metadata": {
        "id": "1eU218ALHW93",
        "colab": {
          "base_uri": "https://localhost:8080/"
        },
        "outputId": "4de6cc6c-7147-4241-d95e-1828d9e23ddc"
      },
      "source": [
        "print(aapl.head(5))\n",
        "print(aapl.tail(10))"
      ],
      "execution_count": 173,
      "outputs": [
        {
          "output_type": "stream",
          "name": "stdout",
          "text": [
            "Date\n",
            "2017-01-03    27.372362\n",
            "2017-01-04    27.341724\n",
            "2017-01-05    27.480768\n",
            "2017-01-06    27.787127\n",
            "2017-01-09    28.041645\n",
            "Name: Close, dtype: float64\n",
            "Date\n",
            "2017-12-15    41.657745\n",
            "2017-12-18    42.244404\n",
            "2017-12-19    41.794231\n",
            "2017-12-20    41.748734\n",
            "2017-12-21    41.906776\n",
            "2017-12-22    41.906776\n",
            "2017-12-26    40.843609\n",
            "2017-12-27    40.850788\n",
            "2017-12-28    40.965733\n",
            "2017-12-29    40.522728\n",
            "Name: Close, dtype: float64\n"
          ]
        }
      ]
    },
    {
      "cell_type": "code",
      "metadata": {
        "colab": {
          "base_uri": "https://localhost:8080/"
        },
        "id": "ZlHF8izgYnSt",
        "outputId": "1bb6e721-c36b-4899-fb2c-ef8777116be5"
      },
      "source": [
        "# my example\n",
        "print(alphabet.head(5))\n",
        "print(alphabet.tail(10))"
      ],
      "execution_count": 174,
      "outputs": [
        {
          "output_type": "stream",
          "name": "stdout",
          "text": [
            "Date\n",
            "2017-01-03    808.010010\n",
            "2017-01-04    807.770020\n",
            "2017-01-05    813.020020\n",
            "2017-01-06    825.210022\n",
            "2017-01-09    827.179993\n",
            "Name: Close, dtype: float64\n",
            "Date\n",
            "2017-12-15    1072.000000\n",
            "2017-12-18    1085.089966\n",
            "2017-12-19    1079.780029\n",
            "2017-12-20    1073.560059\n",
            "2017-12-21    1070.849976\n",
            "2017-12-22    1068.859985\n",
            "2017-12-26    1065.849976\n",
            "2017-12-27    1060.199951\n",
            "2017-12-28    1055.949951\n",
            "2017-12-29    1053.400024\n",
            "Name: Close, dtype: float64\n"
          ]
        }
      ]
    },
    {
      "cell_type": "markdown",
      "metadata": {
        "id": "IxhKxtj-KQ66"
      },
      "source": [
        "# Resampling\n",
        "**_series.resample(freq)_** is a class called \"DatetimeIndexResampler\" which groups data in a Series object into regular time intervals. The argument \"freq\" determines the length of each interval.\n",
        "\n",
        "**_series.resample.mean()_** is a complete statement that groups data into intervals, and then compute the mean of each interval. For example, if we want to aggregate the daily data into monthly data by mean:"
      ]
    },
    {
      "cell_type": "code",
      "metadata": {
        "id": "rAV8NkHkHW93",
        "colab": {
          "base_uri": "https://localhost:8080/"
        },
        "outputId": "fd9499cf-941c-4c76-f634-33fca7270f9d"
      },
      "source": [
        "by_month = aapl.resample('M').mean()\n",
        "print(by_month)"
      ],
      "execution_count": 175,
      "outputs": [
        {
          "output_type": "stream",
          "name": "stdout",
          "text": [
            "Date\n",
            "2017-01-31    28.178332\n",
            "2017-02-28    31.606276\n",
            "2017-03-31    33.282220\n",
            "2017-04-30    33.819263\n",
            "2017-05-31    36.125684\n",
            "2017-06-30    35.133985\n",
            "2017-07-31    35.245241\n",
            "2017-08-31    37.897228\n",
            "2017-09-30    37.604739\n",
            "2017-10-31    37.654550\n",
            "2017-11-30    41.233916\n",
            "2017-12-31    41.160038\n",
            "Freq: M, Name: Close, dtype: float64\n"
          ]
        }
      ]
    },
    {
      "cell_type": "code",
      "metadata": {
        "colab": {
          "base_uri": "https://localhost:8080/"
        },
        "id": "9YWy55DfYzqc",
        "outputId": "334f66c9-4fc1-4669-8e49-c7acbbbbe293"
      },
      "source": [
        "# my example\n",
        "alphabet_by_month = alphabet.resample('M').mean()\n",
        "print(alphabet_by_month)"
      ],
      "execution_count": 176,
      "outputs": [
        {
          "output_type": "stream",
          "name": "stdout",
          "text": [
            "Date\n",
            "2017-01-31     830.249509\n",
            "2017-02-28     836.754735\n",
            "2017-03-31     853.790002\n",
            "2017-04-30     861.377898\n",
            "2017-05-31     961.654549\n",
            "2017-06-30     973.368638\n",
            "2017-07-31     963.443506\n",
            "2017-08-31     937.960874\n",
            "2017-09-30     945.884497\n",
            "2017-10-31     999.145006\n",
            "2017-11-30    1046.983346\n",
            "2017-12-31    1053.917487\n",
            "Freq: M, Name: Close, dtype: float64\n"
          ]
        }
      ]
    },
    {
      "cell_type": "markdown",
      "metadata": {
        "id": "QDPfVzBEKV6Q"
      },
      "source": [
        "We can also aggregate the data by week:"
      ]
    },
    {
      "cell_type": "code",
      "metadata": {
        "id": "aAP3tKkBHW94",
        "colab": {
          "base_uri": "https://localhost:8080/"
        },
        "outputId": "30a23ee5-57a0-4d7a-9355-0970450dd696"
      },
      "source": [
        "by_week = aapl.resample('W').mean()\n",
        "print(by_week.head())"
      ],
      "execution_count": 177,
      "outputs": [
        {
          "output_type": "stream",
          "name": "stdout",
          "text": [
            "Date\n",
            "2017-01-08    27.495495\n",
            "2017-01-15    28.097734\n",
            "2017-01-22    28.266117\n",
            "2017-01-29    28.553981\n",
            "2017-02-05    29.662543\n",
            "Freq: W-SUN, Name: Close, dtype: float64\n"
          ]
        }
      ]
    },
    {
      "cell_type": "code",
      "metadata": {
        "colab": {
          "base_uri": "https://localhost:8080/"
        },
        "id": "2n5JA_dhY-0n",
        "outputId": "0e1d13a6-0d88-45d2-bd09-471464671a9c"
      },
      "source": [
        "# my example\n",
        "alphabet_by_week = alphabet.resample('W').mean()\n",
        "print(alphabet_by_week.head())"
      ],
      "execution_count": 178,
      "outputs": [
        {
          "output_type": "stream",
          "name": "stdout",
          "text": [
            "Date\n",
            "2017-01-08    813.502518\n",
            "2017-01-15    828.704004\n",
            "2017-01-22    827.255005\n",
            "2017-01-29    850.884009\n",
            "2017-02-05    819.530005\n",
            "Freq: W-SUN, Name: Close, dtype: float64\n"
          ]
        }
      ]
    },
    {
      "cell_type": "markdown",
      "metadata": {
        "id": "o_MXSVsILoBS"
      },
      "source": [
        "We can also aggregate the data by month with max:"
      ]
    },
    {
      "cell_type": "code",
      "metadata": {
        "id": "gn0wqXBTHW95",
        "colab": {
          "base_uri": "https://localhost:8080/"
        },
        "outputId": "8413db8e-9c31-4f5d-d96f-07fbd8e7740b"
      },
      "source": [
        "aapl.resample('M').max()"
      ],
      "execution_count": 179,
      "outputs": [
        {
          "output_type": "execute_result",
          "data": {
            "text/plain": [
              "Date\n",
              "2017-01-31    28.739214\n",
              "2017-02-28    32.451965\n",
              "2017-03-31    34.111134\n",
              "2017-04-30    34.264973\n",
              "2017-05-31    37.099133\n",
              "2017-06-30    36.944653\n",
              "2017-07-31    36.471706\n",
              "2017-08-31    39.129723\n",
              "2017-09-30    39.141659\n",
              "2017-10-31    40.332249\n",
              "2017-11-30    42.050133\n",
              "2017-12-31    42.244404\n",
              "Freq: M, Name: Close, dtype: float64"
            ]
          },
          "metadata": {},
          "execution_count": 179
        }
      ]
    },
    {
      "cell_type": "code",
      "metadata": {
        "colab": {
          "base_uri": "https://localhost:8080/"
        },
        "id": "EwbimxvbZKD6",
        "outputId": "9ed4087e-52b0-4cb2-eb28-8b1cfd4c4fd9"
      },
      "source": [
        "# my example\n",
        "alphabet.resample('M').max()"
      ],
      "execution_count": 180,
      "outputs": [
        {
          "output_type": "execute_result",
          "data": {
            "text/plain": [
              "Date\n",
              "2017-01-31     858.450012\n",
              "2017-02-28     851.359985\n",
              "2017-03-31     872.369995\n",
              "2017-04-30     924.520020\n",
              "2017-05-31     996.169983\n",
              "2017-06-30    1004.280029\n",
              "2017-07-31     998.309998\n",
              "2017-08-31     955.239990\n",
              "2017-09-30     973.719971\n",
              "2017-10-31    1033.670044\n",
              "2017-11-30    1072.010010\n",
              "2017-12-31    1085.089966\n",
              "Freq: M, Name: Close, dtype: float64"
            ]
          },
          "metadata": {},
          "execution_count": 180
        }
      ]
    },
    {
      "cell_type": "markdown",
      "metadata": {
        "id": "Z8r46UFlLdAh"
      },
      "source": [
        "We can choose almost any frequency by using the format 'nf', where 'n' is an integer and 'f' is M for month, W for week and D for day."
      ]
    },
    {
      "cell_type": "code",
      "metadata": {
        "id": "kdVB_-JFHW96",
        "colab": {
          "base_uri": "https://localhost:8080/"
        },
        "outputId": "fd6e3d29-8386-4e2c-f65c-249959cebed9"
      },
      "source": [
        "three_day = aapl.resample('3D').mean()\n",
        "two_week = aapl.resample('2W').mean()\n",
        "two_month = aapl.resample('2M').mean()\n",
        "\n",
        "\n",
        "print(three_day)\n",
        "print(two_week)\n",
        "print(two_month )"
      ],
      "execution_count": 181,
      "outputs": [
        {
          "output_type": "stream",
          "name": "stdout",
          "text": [
            "Date\n",
            "2017-01-03    27.398285\n",
            "2017-01-06    27.787127\n",
            "2017-01-09    28.110774\n",
            "2017-01-12    28.078175\n",
            "2017-01-15    28.279667\n",
            "                ...    \n",
            "2017-12-17    42.019318\n",
            "2017-12-20    41.854095\n",
            "2017-12-23          NaN\n",
            "2017-12-26    40.886710\n",
            "2017-12-29    40.522728\n",
            "Freq: 3D, Name: Close, Length: 121, dtype: float64\n",
            "Date\n",
            "2017-01-08    27.495495\n",
            "2017-01-22    28.172571\n",
            "2017-02-05    29.108262\n",
            "2017-02-19    31.516816\n",
            "2017-03-05    32.595558\n",
            "2017-03-19    33.017883\n",
            "2017-04-02    33.625218\n",
            "2017-04-16    33.849728\n",
            "2017-04-30    33.791845\n",
            "2017-05-14    35.697633\n",
            "2017-05-28    36.496178\n",
            "2017-06-11    36.515007\n",
            "2017-06-25    34.529047\n",
            "2017-07-09    34.265136\n",
            "2017-07-23    35.278869\n",
            "2017-08-06    36.272776\n",
            "2017-08-20    37.904120\n",
            "2017-09-03    38.458792\n",
            "2017-09-17    38.282709\n",
            "2017-10-01    36.840874\n",
            "2017-10-15    37.071594\n",
            "2017-10-29    37.757320\n",
            "2017-11-12    41.032238\n",
            "2017-11-26    41.204378\n",
            "2017-12-10    40.867065\n",
            "2017-12-24    41.620866\n",
            "2018-01-07    40.795714\n",
            "Freq: 2W-SUN, Name: Close, dtype: float64\n",
            "Date\n",
            "2017-01-31    28.178332\n",
            "2017-03-31    32.524055\n",
            "2017-05-31    35.056855\n",
            "2017-07-31    35.186964\n",
            "2017-09-30    37.761186\n",
            "2017-11-30    39.402612\n",
            "2018-01-31    41.160038\n",
            "Freq: 2M, Name: Close, dtype: float64\n"
          ]
        }
      ]
    },
    {
      "cell_type": "code",
      "metadata": {
        "colab": {
          "base_uri": "https://localhost:8080/"
        },
        "id": "fe62fejbZdCD",
        "outputId": "6fac2911-d771-4ca8-d9fe-facb44b1954e"
      },
      "source": [
        "# my example\n",
        "alphabet_three_day = alphabet.resample('3D').mean()\n",
        "alphabet_two_week = alphabet.resample('2W').mean()\n",
        "alphabet_two_month = alphabet.resample('2M').mean()\n",
        "\n",
        "\n",
        "print(alphabet_three_day)\n",
        "print(alphabet_two_week)\n",
        "print(alphabet_two_month)"
      ],
      "execution_count": 182,
      "outputs": [
        {
          "output_type": "stream",
          "name": "stdout",
          "text": [
            "Date\n",
            "2017-01-03     809.600016\n",
            "2017-01-06     825.210022\n",
            "2017-01-09     827.683329\n",
            "2017-01-12     830.235016\n",
            "2017-01-15     827.460022\n",
            "                 ...     \n",
            "2017-12-17    1082.434998\n",
            "2017-12-20    1071.090007\n",
            "2017-12-23            NaN\n",
            "2017-12-26    1060.666626\n",
            "2017-12-29    1053.400024\n",
            "Freq: 3D, Name: Close, Length: 121, dtype: float64\n",
            "Date\n",
            "2017-01-08     813.502518\n",
            "2017-01-22     828.060004\n",
            "2017-02-05     835.207007\n",
            "2017-02-19     835.066998\n",
            "2017-03-05     849.968886\n",
            "2017-03-19     861.256006\n",
            "2017-04-02     846.892999\n",
            "2017-04-16     845.405551\n",
            "2017-04-30     875.753009\n",
            "2017-05-14     950.463013\n",
            "2017-05-28     966.850995\n",
            "2017-06-11     993.792223\n",
            "2017-06-25     970.454999\n",
            "2017-07-09     940.990011\n",
            "2017-07-23     975.966003\n",
            "2017-08-06     956.928003\n",
            "2017-08-20     935.882007\n",
            "2017-09-03     938.598004\n",
            "2017-09-17     943.399997\n",
            "2017-10-01     947.509998\n",
            "2017-10-15     988.444006\n",
            "2017-10-29    1003.058002\n",
            "2017-11-12    1044.696008\n",
            "2017-11-26    1044.112237\n",
            "2017-12-10    1039.205994\n",
            "2017-12-24    1065.973999\n",
            "2018-01-07    1058.849976\n",
            "Freq: 2W-SUN, Name: Close, dtype: float64\n",
            "Date\n",
            "2017-01-31     830.249509\n",
            "2017-03-31     846.083572\n",
            "2017-05-31     915.184881\n",
            "2017-07-31     968.642385\n",
            "2017-09-30     941.646280\n",
            "2017-11-30    1022.507916\n",
            "2018-01-31    1053.917487\n",
            "Freq: 2M, Name: Close, dtype: float64\n"
          ]
        }
      ]
    },
    {
      "cell_type": "markdown",
      "metadata": {
        "id": "iy4RqsnwL-Bw"
      },
      "source": [
        "Besides the mean() method, other methods can also be used with the resampler:\n",
        "\n"
      ]
    },
    {
      "cell_type": "code",
      "metadata": {
        "id": "DNT8Fx9dHW96",
        "colab": {
          "base_uri": "https://localhost:8080/"
        },
        "outputId": "2d219dfe-0b3f-4978-93de-996ccc388774"
      },
      "source": [
        "std = aapl.resample('W').std()\n",
        "max = aapl.resample('W').max()\n",
        "min = aapl.resample('W').min()\n",
        "\n",
        "\n",
        "print(std)\n",
        "print(max)\n",
        "print(min)"
      ],
      "execution_count": 183,
      "outputs": [
        {
          "output_type": "stream",
          "name": "stdout",
          "text": [
            "Date\n",
            "2017-01-08    0.203366\n",
            "2017-01-15    0.072530\n",
            "2017-01-22    0.025553\n",
            "2017-01-29    0.245286\n",
            "2017-02-05    0.943261\n",
            "2017-02-12    0.252000\n",
            "2017-02-19    0.231390\n",
            "2017-02-26    0.059341\n",
            "2017-03-05    0.340094\n",
            "2017-03-12    0.076285\n",
            "2017-03-19    0.177835\n",
            "2017-03-26    0.157268\n",
            "2017-04-02    0.319804\n",
            "2017-04-09    0.128687\n",
            "2017-04-16    0.212477\n",
            "2017-04-23    0.174670\n",
            "2017-04-30    0.090026\n",
            "2017-05-07    0.235638\n",
            "2017-05-14    0.352978\n",
            "2017-05-21    0.536096\n",
            "2017-05-28    0.060392\n",
            "2017-06-04    0.281224\n",
            "2017-06-11    0.620035\n",
            "2017-06-18    0.382568\n",
            "2017-06-25    0.128890\n",
            "2017-07-02    0.264104\n",
            "2017-07-09    0.158890\n",
            "2017-07-16    0.404282\n",
            "2017-07-23    0.124989\n",
            "2017-07-30    0.384446\n",
            "2017-08-06    0.924391\n",
            "2017-08-13    0.467469\n",
            "2017-08-20    0.435251\n",
            "2017-08-27    0.275767\n",
            "2017-09-03    0.251728\n",
            "2017-09-10    0.381641\n",
            "2017-09-17    0.294141\n",
            "2017-09-24    0.735192\n",
            "2017-10-01    0.354843\n",
            "2017-10-08    0.204856\n",
            "2017-10-15    0.118734\n",
            "2017-10-22    0.516999\n",
            "2017-10-29    0.680451\n",
            "2017-11-05    0.560682\n",
            "2017-11-12    0.190967\n",
            "2017-11-19    0.436198\n",
            "2017-11-26    0.563050\n",
            "2017-12-03    0.427440\n",
            "2017-12-10    0.073130\n",
            "2017-12-17    0.205266\n",
            "2017-12-24    0.194125\n",
            "2017-12-31    0.190398\n",
            "Freq: W-SUN, Name: Close, dtype: float64\n",
            "Date\n",
            "2017-01-08    27.787127\n",
            "2017-01-15    28.220751\n",
            "2017-01-22    28.279667\n",
            "2017-01-29    28.739214\n",
            "2017-02-05    30.419498\n",
            "2017-02-12    31.341911\n",
            "2017-02-19    32.122971\n",
            "2017-02-26    32.451965\n",
            "2017-03-05    33.086288\n",
            "2017-03-12    33.022381\n",
            "2017-03-19    33.299301\n",
            "2017-03-26    33.481556\n",
            "2017-04-02    34.111134\n",
            "2017-04-09    34.264973\n",
            "2017-04-16    33.886284\n",
            "2017-04-23    33.713497\n",
            "2017-04-30    34.208179\n",
            "2017-05-07    35.256691\n",
            "2017-05-14    37.099133\n",
            "2017-05-21    37.004066\n",
            "2017-05-28    36.597660\n",
            "2017-06-04    36.944653\n",
            "2017-06-11    36.925636\n",
            "2017-06-18    34.838963\n",
            "2017-06-25    34.779541\n",
            "2017-07-02    34.658333\n",
            "2017-07-09    34.266193\n",
            "2017-07-16    35.421227\n",
            "2017-07-23    35.891800\n",
            "2017-07-30    36.471706\n",
            "2017-08-06    37.346298\n",
            "2017-08-13    38.277939\n",
            "2017-08-20    38.557095\n",
            "2017-08-27    38.170563\n",
            "2017-09-03    39.141659\n",
            "2017-09-10    38.671623\n",
            "2017-09-17    38.533234\n",
            "2017-09-24    37.872326\n",
            "2017-10-01    36.798641\n",
            "2017-10-08    37.075413\n",
            "2017-10-15    37.457169\n",
            "2017-10-22    38.287483\n",
            "2017-10-29    38.903049\n",
            "2017-11-05    41.157787\n",
            "2017-11-12    42.050133\n",
            "2017-11-19    41.657745\n",
            "2017-11-26    41.897198\n",
            "2017-12-03    41.686470\n",
            "2017-12-10    40.659218\n",
            "2017-12-17    41.657745\n",
            "2017-12-24    42.244404\n",
            "2017-12-31    40.965733\n",
            "Freq: W-SUN, Name: Close, dtype: float64\n",
            "Date\n",
            "2017-01-08    27.341724\n",
            "2017-01-15    28.041645\n",
            "2017-01-22    28.227823\n",
            "2017-01-29    28.272602\n",
            "2017-02-05    28.597811\n",
            "2017-02-12    30.704649\n",
            "2017-02-19    31.547831\n",
            "2017-02-26    32.314697\n",
            "2017-03-05    32.409359\n",
            "2017-03-12    32.823563\n",
            "2017-03-19    32.896935\n",
            "2017-03-26    33.098110\n",
            "2017-04-02    33.344280\n",
            "2017-04-09    33.926514\n",
            "2017-04-16    33.384506\n",
            "2017-04-23    33.296936\n",
            "2017-04-30    33.997532\n",
            "2017-05-07    34.681549\n",
            "2017-05-14    36.215271\n",
            "2017-05-21    35.708801\n",
            "2017-05-28    36.443176\n",
            "2017-06-04    36.305340\n",
            "2017-06-11    35.406971\n",
            "2017-06-18    33.812252\n",
            "2017-06-25    34.463455\n",
            "2017-07-02    34.147366\n",
            "2017-07-09    33.921577\n",
            "2017-07-16    34.475334\n",
            "2017-07-23    35.544811\n",
            "2017-07-30    35.530552\n",
            "2017-08-06    35.347553\n",
            "2017-08-13    37.058712\n",
            "2017-08-20    37.578854\n",
            "2017-08-27    37.509655\n",
            "2017-09-03    38.526073\n",
            "2017-09-10    37.848465\n",
            "2017-09-17    37.764954\n",
            "2017-09-24    36.240330\n",
            "2017-10-01    35.920612\n",
            "2017-10-08    36.619690\n",
            "2017-10-15    37.182774\n",
            "2017-10-22    37.216183\n",
            "2017-10-29    37.261513\n",
            "2017-11-05    39.778706\n",
            "2017-11-12    41.575336\n",
            "2017-11-19    40.486816\n",
            "2017-11-26    40.702312\n",
            "2017-12-03    40.582603\n",
            "2017-12-10    40.470047\n",
            "2017-12-17    41.114185\n",
            "2017-12-24    41.748734\n",
            "2017-12-31    40.522728\n",
            "Freq: W-SUN, Name: Close, dtype: float64\n"
          ]
        }
      ]
    },
    {
      "cell_type": "code",
      "metadata": {
        "colab": {
          "base_uri": "https://localhost:8080/"
        },
        "id": "O1A9wEY0ZuUM",
        "outputId": "8573b154-1109-4fbe-df04-a04ea21fed18"
      },
      "source": [
        "# my example\n",
        "alphabet_std = alphabet.resample('W').std()\n",
        "alphabet_max = alphabet.resample('W').max()\n",
        "alphabet_min = alphabet.resample('W').min()\n",
        "\n",
        "\n",
        "print(alphabet_std)\n",
        "print(alphabet_max)\n",
        "print(alphabet_min)"
      ],
      "execution_count": 184,
      "outputs": [
        {
          "output_type": "stream",
          "name": "stdout",
          "text": [
            "Date\n",
            "2017-01-08     8.171651\n",
            "2017-01-15     2.037064\n",
            "2017-01-22     2.026308\n",
            "2017-01-29     6.560525\n",
            "2017-02-05     3.134598\n",
            "2017-02-12     4.758037\n",
            "2017-02-19     3.564258\n",
            "2017-02-26     1.643182\n",
            "2017-03-05     4.249400\n",
            "2017-03-12     5.541995\n",
            "2017-03-19     3.122538\n",
            "2017-03-26    12.628678\n",
            "2017-04-02     5.303561\n",
            "2017-04-09     5.822352\n",
            "2017-04-16     0.908543\n",
            "2017-04-23     2.552600\n",
            "2017-04-30    17.419297\n",
            "2017-05-07     9.282256\n",
            "2017-05-14     1.542306\n",
            "2017-05-21     8.546596\n",
            "2017-05-28    12.885440\n",
            "2017-06-04     4.906050\n",
            "2017-06-11    14.393003\n",
            "2017-06-18     5.144014\n",
            "2017-06-25     6.176122\n",
            "2017-07-02    17.130013\n",
            "2017-07-09     8.914012\n",
            "2017-07-16    10.970014\n",
            "2017-07-23     7.414408\n",
            "2017-07-30    17.734185\n",
            "2017-08-06     2.839130\n",
            "2017-08-13     9.552255\n",
            "2017-08-20     7.786691\n",
            "2017-08-27     8.764540\n",
            "2017-09-03    11.232764\n",
            "2017-09-10     4.135671\n",
            "2017-09-17     5.837673\n",
            "2017-09-24     7.656422\n",
            "2017-10-01    17.349222\n",
            "2017-10-08    11.868410\n",
            "2017-10-15     9.133115\n",
            "2017-10-22     4.467104\n",
            "2017-10-29    20.025266\n",
            "2017-11-05     7.252927\n",
            "2017-11-12     6.381397\n",
            "2017-11-19     5.075514\n",
            "2017-11-26     9.499338\n",
            "2017-12-03    19.883361\n",
            "2017-12-10    15.959889\n",
            "2017-12-17     9.319530\n",
            "2017-12-24     6.702240\n",
            "2017-12-31     5.444708\n",
            "Freq: W-SUN, Name: Close, dtype: float64\n",
            "Date\n",
            "2017-01-08     825.210022\n",
            "2017-01-15     830.940002\n",
            "2017-01-22     829.020020\n",
            "2017-01-29     858.450012\n",
            "2017-02-05     823.830017\n",
            "2017-02-12     834.849976\n",
            "2017-02-19     846.549988\n",
            "2017-02-26     851.359985\n",
            "2017-03-05     856.750000\n",
            "2017-03-12     861.409973\n",
            "2017-03-19     872.369995\n",
            "2017-03-26     867.909973\n",
            "2017-04-02     849.869995\n",
            "2017-04-09     856.750000\n",
            "2017-04-16     841.700012\n",
            "2017-04-23     860.080017\n",
            "2017-04-30     924.520020\n",
            "2017-05-07     954.719971\n",
            "2017-05-14     958.690002\n",
            "2017-05-21     964.609985\n",
            "2017-05-28     993.270020\n",
            "2017-06-04     996.169983\n",
            "2017-06-11    1004.280029\n",
            "2017-06-18     970.500000\n",
            "2017-06-25     986.090027\n",
            "2017-07-02     972.090027\n",
            "2017-07-09     940.809998\n",
            "2017-07-16     976.909973\n",
            "2017-07-23     993.840027\n",
            "2017-07-30     998.309998\n",
            "2017-08-06     947.640015\n",
            "2017-08-13     945.750000\n",
            "2017-08-20     944.270020\n",
            "2017-08-27     942.580017\n",
            "2017-09-03     955.239990\n",
            "2017-09-10     949.890015\n",
            "2017-09-17     950.440002\n",
            "2017-09-24     947.549988\n",
            "2017-10-01     973.719971\n",
            "2017-10-08     993.640015\n",
            "2017-10-15    1007.869995\n",
            "2017-10-22    1012.739990\n",
            "2017-10-29    1033.670044\n",
            "2017-11-05    1049.989990\n",
            "2017-11-12    1058.290039\n",
            "2017-11-19    1048.469971\n",
            "2017-11-26    1056.520020\n",
            "2017-12-03    1072.010010\n",
            "2017-12-10    1049.380005\n",
            "2017-12-17    1072.000000\n",
            "2017-12-24    1085.089966\n",
            "2017-12-31    1065.849976\n",
            "Freq: W-SUN, Name: Close, dtype: float64\n",
            "Date\n",
            "2017-01-08     807.770020\n",
            "2017-01-15     826.010010\n",
            "2017-01-22     824.369995\n",
            "2017-01-29     844.429993\n",
            "2017-02-05     815.239990\n",
            "2017-02-12     821.619995\n",
            "2017-02-19     837.320007\n",
            "2017-02-26     847.809998\n",
            "2017-03-05     844.929993\n",
            "2017-03-12     847.270020\n",
            "2017-03-19     864.580017\n",
            "2017-03-26     835.140015\n",
            "2017-04-02     838.510010\n",
            "2017-04-09     842.099976\n",
            "2017-04-16     839.880005\n",
            "2017-04-23     853.989990\n",
            "2017-04-30     878.929993\n",
            "2017-05-07     932.820007\n",
            "2017-05-14     954.840027\n",
            "2017-05-21     942.169983\n",
            "2017-05-28     964.070007\n",
            "2017-06-04     987.090027\n",
            "2017-06-11     970.119995\n",
            "2017-06-18     958.619995\n",
            "2017-06-25     968.989990\n",
            "2017-07-02     929.679993\n",
            "2017-07-09     919.460022\n",
            "2017-07-16     951.000000\n",
            "2017-07-23     975.960022\n",
            "2017-07-30     952.510010\n",
            "2017-08-06     940.299988\n",
            "2017-08-13     923.590027\n",
            "2017-08-20     926.179993\n",
            "2017-08-27     920.869995\n",
            "2017-09-03     928.130005\n",
            "2017-09-10     941.409973\n",
            "2017-09-17     935.289978\n",
            "2017-09-24     929.750000\n",
            "2017-10-01     934.280029\n",
            "2017-10-08     966.780029\n",
            "2017-10-15     987.799988\n",
            "2017-10-22    1001.840027\n",
            "2017-10-29     985.539978\n",
            "2017-11-05    1033.040039\n",
            "2017-11-12    1042.680054\n",
            "2017-11-19    1035.890015\n",
            "2017-11-26    1034.660034\n",
            "2017-12-03    1025.069946\n",
            "2017-12-10    1011.869995\n",
            "2017-12-17    1048.770020\n",
            "2017-12-24    1068.859985\n",
            "2017-12-31    1053.400024\n",
            "Freq: W-SUN, Name: Close, dtype: float64\n"
          ]
        }
      ]
    },
    {
      "cell_type": "markdown",
      "metadata": {
        "id": "uqln0s5DMI3I"
      },
      "source": [
        "Often we want to calculate monthly returns of a stock, based on prices on the last day of each month. To fetch those prices, we use the series.resample.agg() method:"
      ]
    },
    {
      "cell_type": "code",
      "metadata": {
        "id": "A6FSYvqbHW97",
        "colab": {
          "base_uri": "https://localhost:8080/"
        },
        "outputId": "828fc70e-8328-4f46-a530-1c6238632f47"
      },
      "source": [
        "last_day = aapl.resample('M').agg(lambda x: x[-1])\n",
        "print(last_day)"
      ],
      "execution_count": 185,
      "outputs": [
        {
          "output_type": "stream",
          "name": "stdout",
          "text": [
            "Date\n",
            "2017-01-31    28.597811\n",
            "2017-02-28    32.423561\n",
            "2017-03-31    34.002262\n",
            "2017-04-30    33.999889\n",
            "2017-05-31    36.305340\n",
            "2017-06-30    34.228172\n",
            "2017-07-31    35.347553\n",
            "2017-08-31    39.129723\n",
            "2017-09-30    36.772396\n",
            "2017-10-31    40.332249\n",
            "2017-11-30    41.150097\n",
            "2017-12-31    40.522728\n",
            "Freq: M, Name: Close, dtype: float64\n"
          ]
        }
      ]
    },
    {
      "cell_type": "code",
      "metadata": {
        "colab": {
          "base_uri": "https://localhost:8080/"
        },
        "id": "E3dfjJuNaAuO",
        "outputId": "6d0712b2-3e25-45b3-f1b8-8d8489d339a6"
      },
      "source": [
        "# my example\n",
        "alphabet_last_day = alphabet.resample('M').agg(lambda x: x[-1])\n",
        "print(alphabet_last_day)"
      ],
      "execution_count": 186,
      "outputs": [
        {
          "output_type": "stream",
          "name": "stdout",
          "text": [
            "Date\n",
            "2017-01-31     820.190002\n",
            "2017-02-28     844.929993\n",
            "2017-03-31     847.799988\n",
            "2017-04-30     924.520020\n",
            "2017-05-31     987.090027\n",
            "2017-06-30     929.679993\n",
            "2017-07-31     945.500000\n",
            "2017-08-31     955.239990\n",
            "2017-09-30     973.719971\n",
            "2017-10-31    1033.040039\n",
            "2017-11-30    1036.170044\n",
            "2017-12-31    1053.400024\n",
            "Freq: M, Name: Close, dtype: float64\n"
          ]
        }
      ]
    },
    {
      "cell_type": "markdown",
      "metadata": {
        "id": "uwomY3aXMR46"
      },
      "source": [
        "Or directly calculate the monthly rates of return using the data for the first day and the last day:"
      ]
    },
    {
      "cell_type": "code",
      "metadata": {
        "id": "qK2NMJrNHW96",
        "colab": {
          "base_uri": "https://localhost:8080/"
        },
        "outputId": "3bb5590d-5890-4a19-ffc6-62868fed22ab"
      },
      "source": [
        "monthly_return = aapl.resample('M').agg(lambda x: x[-1]/x[0] - 1)\n",
        "print(monthly_return)"
      ],
      "execution_count": 187,
      "outputs": [
        {
          "output_type": "stream",
          "name": "stdout",
          "text": [
            "Date\n",
            "2017-01-31    0.044770\n",
            "2017-02-28    0.068613\n",
            "2017-03-31    0.027684\n",
            "2017-04-30   -0.000348\n",
            "2017-05-31    0.046463\n",
            "2017-06-30   -0.059799\n",
            "2017-07-31    0.036446\n",
            "2017-08-31    0.097261\n",
            "2017-09-30   -0.060530\n",
            "2017-10-31    0.099018\n",
            "2017-11-30    0.033422\n",
            "2017-12-31   -0.010640\n",
            "Freq: M, Name: Close, dtype: float64\n"
          ]
        }
      ]
    },
    {
      "cell_type": "code",
      "metadata": {
        "colab": {
          "base_uri": "https://localhost:8080/"
        },
        "id": "G9375TWnaJeT",
        "outputId": "ed7fd43e-e89f-4fba-9355-a70444998970"
      },
      "source": [
        "# my example\n",
        "alphabet_monthly_return = alphabet.resample('M').agg(lambda x: x[-1]/x[0] - 1)\n",
        "print(alphabet_monthly_return)"
      ],
      "execution_count": 188,
      "outputs": [
        {
          "output_type": "stream",
          "name": "stdout",
          "text": [
            "Date\n",
            "2017-01-31    0.015074\n",
            "2017-02-28    0.036419\n",
            "2017-03-31   -0.010446\n",
            "2017-04-30    0.079101\n",
            "2017-05-31    0.058178\n",
            "2017-06-30   -0.059304\n",
            "2017-07-31    0.028321\n",
            "2017-08-31    0.009170\n",
            "2017-09-30    0.022826\n",
            "2017-10-31    0.067775\n",
            "2017-11-30   -0.006167\n",
            "2017-12-31    0.027637\n",
            "Freq: M, Name: Close, dtype: float64\n"
          ]
        }
      ]
    },
    {
      "cell_type": "markdown",
      "metadata": {
        "id": "_DYbMTFWMj8J"
      },
      "source": [
        "Series object also provides us some convenient methods to do some quick calculation."
      ]
    },
    {
      "cell_type": "code",
      "metadata": {
        "id": "1Mxc0HwvHW98",
        "colab": {
          "base_uri": "https://localhost:8080/"
        },
        "outputId": "7ffdb458-7b60-41ce-e996-5449eb573504"
      },
      "source": [
        "print(monthly_return.mean())\n",
        "print(monthly_return.std())\n",
        "print(monthly_return.max())"
      ],
      "execution_count": 189,
      "outputs": [
        {
          "output_type": "stream",
          "name": "stdout",
          "text": [
            "0.026863282350236384\n",
            "0.05225848410192254\n",
            "0.09901816736008073\n"
          ]
        }
      ]
    },
    {
      "cell_type": "code",
      "metadata": {
        "colab": {
          "base_uri": "https://localhost:8080/"
        },
        "id": "zaKKFyDuaRuG",
        "outputId": "57287842-2dd2-45ac-b9cc-63815c55d8d5"
      },
      "source": [
        "# my example\n",
        "print(alphabet_monthly_return.mean())\n",
        "print(alphabet_monthly_return.std())\n",
        "print(alphabet_monthly_return.max())"
      ],
      "execution_count": 190,
      "outputs": [
        {
          "output_type": "stream",
          "name": "stdout",
          "text": [
            "0.02238193569572126\n",
            "0.03767382052951203\n",
            "0.07910127753866347\n"
          ]
        }
      ]
    },
    {
      "cell_type": "markdown",
      "metadata": {
        "id": "mn59J5dqMpqX"
      },
      "source": [
        "Another two methods frequently used on Series are .diff() and .pct_change(). The former calculates the difference between consecutive elements, and the latter calculates the percentage change."
      ]
    },
    {
      "cell_type": "code",
      "metadata": {
        "id": "DupZTSqqHW99",
        "colab": {
          "base_uri": "https://localhost:8080/"
        },
        "outputId": "542238de-5224-42c1-b1d9-706cf916513e"
      },
      "source": [
        "print(last_day.diff())\n",
        "print(last_day.pct_change())"
      ],
      "execution_count": 191,
      "outputs": [
        {
          "output_type": "stream",
          "name": "stdout",
          "text": [
            "Date\n",
            "2017-01-31         NaN\n",
            "2017-02-28    3.825750\n",
            "2017-03-31    1.578701\n",
            "2017-04-30   -0.002373\n",
            "2017-05-31    2.305450\n",
            "2017-06-30   -2.077168\n",
            "2017-07-31    1.119381\n",
            "2017-08-31    3.782169\n",
            "2017-09-30   -2.357327\n",
            "2017-10-31    3.559853\n",
            "2017-11-30    0.817848\n",
            "2017-12-31   -0.627369\n",
            "Freq: M, Name: Close, dtype: float64\n",
            "Date\n",
            "2017-01-31         NaN\n",
            "2017-02-28    0.133778\n",
            "2017-03-31    0.048690\n",
            "2017-04-30   -0.000070\n",
            "2017-05-31    0.067808\n",
            "2017-06-30   -0.057214\n",
            "2017-07-31    0.032703\n",
            "2017-08-31    0.106999\n",
            "2017-09-30   -0.060244\n",
            "2017-10-31    0.096808\n",
            "2017-11-30    0.020278\n",
            "2017-12-31   -0.015246\n",
            "Freq: M, Name: Close, dtype: float64\n"
          ]
        }
      ]
    },
    {
      "cell_type": "code",
      "metadata": {
        "colab": {
          "base_uri": "https://localhost:8080/"
        },
        "id": "Ml69_atZachx",
        "outputId": "70514b54-eddf-434d-8cac-ef4c3896cf4d"
      },
      "source": [
        "# my example\n",
        "print(alphabet_last_day.diff())\n",
        "print(alphabet_last_day.pct_change())"
      ],
      "execution_count": 192,
      "outputs": [
        {
          "output_type": "stream",
          "name": "stdout",
          "text": [
            "Date\n",
            "2017-01-31          NaN\n",
            "2017-02-28    24.739990\n",
            "2017-03-31     2.869995\n",
            "2017-04-30    76.720032\n",
            "2017-05-31    62.570007\n",
            "2017-06-30   -57.410034\n",
            "2017-07-31    15.820007\n",
            "2017-08-31     9.739990\n",
            "2017-09-30    18.479980\n",
            "2017-10-31    59.320068\n",
            "2017-11-30     3.130005\n",
            "2017-12-31    17.229980\n",
            "Freq: M, Name: Close, dtype: float64\n",
            "Date\n",
            "2017-01-31         NaN\n",
            "2017-02-28    0.030164\n",
            "2017-03-31    0.003397\n",
            "2017-04-30    0.090493\n",
            "2017-05-31    0.067678\n",
            "2017-06-30   -0.058161\n",
            "2017-07-31    0.017017\n",
            "2017-08-31    0.010301\n",
            "2017-09-30    0.019346\n",
            "2017-10-31    0.060921\n",
            "2017-11-30    0.003030\n",
            "2017-12-31    0.016629\n",
            "Freq: M, Name: Close, dtype: float64\n"
          ]
        }
      ]
    },
    {
      "cell_type": "markdown",
      "metadata": {
        "id": "RaMAOFepM6Io"
      },
      "source": [
        "Notice that we induced a NaN value while calculating percentage changes i.e. returns.\n",
        "\n",
        "When dealing with NaN values, we usually either removing the data point or fill it with a specific value. Here we fill it with 0:"
      ]
    },
    {
      "cell_type": "code",
      "metadata": {
        "id": "-xyLb3A3HW99",
        "colab": {
          "base_uri": "https://localhost:8080/"
        },
        "outputId": "82054df2-17e9-4381-e54a-e6329d02d142"
      },
      "source": [
        "daily_return = last_day.pct_change()\n",
        "print(daily_return.fillna(0))"
      ],
      "execution_count": 193,
      "outputs": [
        {
          "output_type": "stream",
          "name": "stdout",
          "text": [
            "Date\n",
            "2017-01-31    0.000000\n",
            "2017-02-28    0.133778\n",
            "2017-03-31    0.048690\n",
            "2017-04-30   -0.000070\n",
            "2017-05-31    0.067808\n",
            "2017-06-30   -0.057214\n",
            "2017-07-31    0.032703\n",
            "2017-08-31    0.106999\n",
            "2017-09-30   -0.060244\n",
            "2017-10-31    0.096808\n",
            "2017-11-30    0.020278\n",
            "2017-12-31   -0.015246\n",
            "Freq: M, Name: Close, dtype: float64\n"
          ]
        }
      ]
    },
    {
      "cell_type": "code",
      "metadata": {
        "colab": {
          "base_uri": "https://localhost:8080/"
        },
        "id": "Hu0vkXuDalMK",
        "outputId": "7e7ab894-19f0-4b52-fc46-8e68b2e606df"
      },
      "source": [
        "alphabet_daily_return = alphabet_last_day.pct_change()\n",
        "print(alphabet_daily_return.fillna(0))"
      ],
      "execution_count": 194,
      "outputs": [
        {
          "output_type": "stream",
          "name": "stdout",
          "text": [
            "Date\n",
            "2017-01-31    0.000000\n",
            "2017-02-28    0.030164\n",
            "2017-03-31    0.003397\n",
            "2017-04-30    0.090493\n",
            "2017-05-31    0.067678\n",
            "2017-06-30   -0.058161\n",
            "2017-07-31    0.017017\n",
            "2017-08-31    0.010301\n",
            "2017-09-30    0.019346\n",
            "2017-10-31    0.060921\n",
            "2017-11-30    0.003030\n",
            "2017-12-31    0.016629\n",
            "Freq: M, Name: Close, dtype: float64\n"
          ]
        }
      ]
    },
    {
      "cell_type": "markdown",
      "metadata": {
        "id": "BYS10Om1NQVC"
      },
      "source": [
        "Alternatively, we can fill a NaN with the next fitted value. This is called 'backward fill', or 'bfill' in short:"
      ]
    },
    {
      "cell_type": "code",
      "metadata": {
        "id": "J513kHeKHW9-",
        "colab": {
          "base_uri": "https://localhost:8080/"
        },
        "outputId": "0bb71a5d-8fad-425e-a85d-26b008f72c9c"
      },
      "source": [
        "daily_return = last_day.pct_change()\n",
        "print(daily_return.fillna(method = 'bfill'))"
      ],
      "execution_count": 195,
      "outputs": [
        {
          "output_type": "stream",
          "name": "stdout",
          "text": [
            "Date\n",
            "2017-01-31    0.133778\n",
            "2017-02-28    0.133778\n",
            "2017-03-31    0.048690\n",
            "2017-04-30   -0.000070\n",
            "2017-05-31    0.067808\n",
            "2017-06-30   -0.057214\n",
            "2017-07-31    0.032703\n",
            "2017-08-31    0.106999\n",
            "2017-09-30   -0.060244\n",
            "2017-10-31    0.096808\n",
            "2017-11-30    0.020278\n",
            "2017-12-31   -0.015246\n",
            "Freq: M, Name: Close, dtype: float64\n"
          ]
        }
      ]
    },
    {
      "cell_type": "code",
      "metadata": {
        "colab": {
          "base_uri": "https://localhost:8080/"
        },
        "id": "-MIlbsVaazD6",
        "outputId": "61ead0fa-57f9-431a-a4bc-f69c608db43c"
      },
      "source": [
        "# my example\n",
        "alphabet_daily_return = alphabet_last_day.pct_change()\n",
        "print(alphabet_daily_return.fillna(method = 'bfill'))"
      ],
      "execution_count": 196,
      "outputs": [
        {
          "output_type": "stream",
          "name": "stdout",
          "text": [
            "Date\n",
            "2017-01-31    0.030164\n",
            "2017-02-28    0.030164\n",
            "2017-03-31    0.003397\n",
            "2017-04-30    0.090493\n",
            "2017-05-31    0.067678\n",
            "2017-06-30   -0.058161\n",
            "2017-07-31    0.017017\n",
            "2017-08-31    0.010301\n",
            "2017-09-30    0.019346\n",
            "2017-10-31    0.060921\n",
            "2017-11-30    0.003030\n",
            "2017-12-31    0.016629\n",
            "Freq: M, Name: Close, dtype: float64\n"
          ]
        }
      ]
    },
    {
      "cell_type": "markdown",
      "metadata": {
        "id": "bj8QUSgdNepf"
      },
      "source": [
        "As expected, since there is a 'backward fill' method, there must be a 'forward fill' method, or 'ffill' in short. However we can't use it here because the NaN is the first value.\n",
        "\n",
        "We can also simply remove NaN values by **_.dropna()_**"
      ]
    },
    {
      "cell_type": "code",
      "metadata": {
        "id": "WG5ux1lqHW9-",
        "colab": {
          "base_uri": "https://localhost:8080/"
        },
        "outputId": "1ac4efc8-610d-41e4-f06f-6e36336abc1d"
      },
      "source": [
        "daily_return = last_day.pct_change()\n",
        "daily_return.dropna()"
      ],
      "execution_count": 197,
      "outputs": [
        {
          "output_type": "execute_result",
          "data": {
            "text/plain": [
              "Date\n",
              "2017-02-28    0.133778\n",
              "2017-03-31    0.048690\n",
              "2017-04-30   -0.000070\n",
              "2017-05-31    0.067808\n",
              "2017-06-30   -0.057214\n",
              "2017-07-31    0.032703\n",
              "2017-08-31    0.106999\n",
              "2017-09-30   -0.060244\n",
              "2017-10-31    0.096808\n",
              "2017-11-30    0.020278\n",
              "2017-12-31   -0.015246\n",
              "Freq: M, Name: Close, dtype: float64"
            ]
          },
          "metadata": {},
          "execution_count": 197
        }
      ]
    },
    {
      "cell_type": "code",
      "metadata": {
        "colab": {
          "base_uri": "https://localhost:8080/"
        },
        "id": "EAwmzsJ2bADE",
        "outputId": "bd36cfcc-6a4f-46e6-f0be-ae62c9c8d846"
      },
      "source": [
        "alphabet_daily_return = alphabet_last_day.pct_change()\n",
        "alphabet_daily_return.dropna()"
      ],
      "execution_count": 198,
      "outputs": [
        {
          "output_type": "execute_result",
          "data": {
            "text/plain": [
              "Date\n",
              "2017-02-28    0.030164\n",
              "2017-03-31    0.003397\n",
              "2017-04-30    0.090493\n",
              "2017-05-31    0.067678\n",
              "2017-06-30   -0.058161\n",
              "2017-07-31    0.017017\n",
              "2017-08-31    0.010301\n",
              "2017-09-30    0.019346\n",
              "2017-10-31    0.060921\n",
              "2017-11-30    0.003030\n",
              "2017-12-31    0.016629\n",
              "Freq: M, Name: Close, dtype: float64"
            ]
          },
          "metadata": {},
          "execution_count": 198
        }
      ]
    },
    {
      "cell_type": "markdown",
      "metadata": {
        "id": "nQH2eBWkNjdC"
      },
      "source": [
        "# DataFrame\n",
        "The **DataFrame** is the most commonly used data structure in Pandas. It is essentially a table, just like an Excel spreadsheet.\n",
        "\n",
        "More precisely, a DataFrame is a collection of Series objects, each of which may contain different data types. A DataFrame can be created from various data types: dictionary, 2-D numpy.ndarray, a Series or another DataFrame.\n",
        "\n",
        "## Create DataFrames\n",
        "The most common method of creating a DataFrame is passing a dictionary:"
      ]
    },
    {
      "cell_type": "code",
      "metadata": {
        "id": "vd5Wf1ohHW9-",
        "colab": {
          "base_uri": "https://localhost:8080/"
        },
        "outputId": "703c5a03-9951-44d3-b5f7-fe0da5c8af23"
      },
      "source": [
        "import pandas as pd\n",
        "\n",
        "dict = {'AAPL': [143.5, 144.09, 142.73, 144.18, 143.77],'GOOG':[898.7, 911.71, 906.69, 918.59, 926.99],\n",
        "        'IBM':[155.58, 153.67, 152.36, 152.94, 153.49]}\n",
        "data_index = pd.date_range('2017-07-03',periods = 5, freq = 'D')\n",
        "df = pd.DataFrame(dict, index = data_index)\n",
        "print(df)"
      ],
      "execution_count": 199,
      "outputs": [
        {
          "output_type": "stream",
          "name": "stdout",
          "text": [
            "              AAPL    GOOG     IBM\n",
            "2017-07-03  143.50  898.70  155.58\n",
            "2017-07-04  144.09  911.71  153.67\n",
            "2017-07-05  142.73  906.69  152.36\n",
            "2017-07-06  144.18  918.59  152.94\n",
            "2017-07-07  143.77  926.99  153.49\n"
          ]
        }
      ]
    },
    {
      "cell_type": "code",
      "metadata": {
        "colab": {
          "base_uri": "https://localhost:8080/"
        },
        "id": "90uE8BFGblcT",
        "outputId": "9599ffe9-2f44-4825-c8d9-e25fdaaf528c"
      },
      "source": [
        "# my example\n",
        "import pandas as pd\n",
        "\n",
        "my_dict = {'ExA': [1,2,3,4,5],'ExB':[10,15,20,25,30],\n",
        "        'ExC':[200,100,50,25,12.5]}\n",
        "data_index = pd.date_range('2017-07-03',periods = 5, freq = 'D')\n",
        "my_df = pd.DataFrame(my_dict, index = data_index)\n",
        "print(my_df)"
      ],
      "execution_count": 200,
      "outputs": [
        {
          "output_type": "stream",
          "name": "stdout",
          "text": [
            "            ExA  ExB    ExC\n",
            "2017-07-03    1   10  200.0\n",
            "2017-07-04    2   15  100.0\n",
            "2017-07-05    3   20   50.0\n",
            "2017-07-06    4   25   25.0\n",
            "2017-07-07    5   30   12.5\n"
          ]
        }
      ]
    },
    {
      "cell_type": "markdown",
      "metadata": {
        "id": "0uYmLQTgOPnX"
      },
      "source": [
        "## Manipulating DataFrames\n",
        "We can fetch values in a DataFrame by columns and index. Each column in a DataFrame is essentially a Pandas Series. We can fetch a column by square brackets: **df['column_name']**\n",
        "\n",
        "If a column name contains no spaces, then we can also use df.column_name to fetch a column:"
      ]
    },
    {
      "cell_type": "code",
      "metadata": {
        "id": "2pB2f7lBHW9_",
        "colab": {
          "base_uri": "https://localhost:8080/"
        },
        "outputId": "338d5177-fb48-44d0-ed1e-0881209aa676"
      },
      "source": [
        "df = aapl_table\n",
        "print(df.Close.tail(5))\n",
        "print(df['Volume'].tail(5))"
      ],
      "execution_count": 201,
      "outputs": [
        {
          "output_type": "stream",
          "name": "stdout",
          "text": [
            "Date\n",
            "2017-12-22    41.906776\n",
            "2017-12-26    40.843609\n",
            "2017-12-27    40.850788\n",
            "2017-12-28    40.965733\n",
            "2017-12-29    40.522728\n",
            "Name: Close, dtype: float64\n",
            "Date\n",
            "2017-12-22     65397600\n",
            "2017-12-26    132742000\n",
            "2017-12-27     85992800\n",
            "2017-12-28     65920800\n",
            "2017-12-29    103999600\n",
            "Name: Volume, dtype: int64\n"
          ]
        }
      ]
    },
    {
      "cell_type": "code",
      "metadata": {
        "colab": {
          "base_uri": "https://localhost:8080/"
        },
        "id": "2VvSRSHldHXZ",
        "outputId": "76063ec0-3002-4b50-d17b-fb31bacea065"
      },
      "source": [
        "# my example\n",
        "my_df = alphabet_table\n",
        "print(my_df.Close.tail(5))\n",
        "print(my_df['Volume'].tail(5))"
      ],
      "execution_count": 202,
      "outputs": [
        {
          "output_type": "stream",
          "name": "stdout",
          "text": [
            "Date\n",
            "2017-12-22    1068.859985\n",
            "2017-12-26    1065.849976\n",
            "2017-12-27    1060.199951\n",
            "2017-12-28    1055.949951\n",
            "2017-12-29    1053.400024\n",
            "Name: Close, dtype: float64\n",
            "Date\n",
            "2017-12-22     889400\n",
            "2017-12-26     918800\n",
            "2017-12-27    1116200\n",
            "2017-12-28     994200\n",
            "2017-12-29    1180300\n",
            "Name: Volume, dtype: int64\n"
          ]
        }
      ]
    },
    {
      "cell_type": "markdown",
      "metadata": {
        "id": "z0ugOel9O4-P"
      },
      "source": [
        "All the methods we applied to a Series index such as iloc[], loc[] and resampling methods, can also be applied to a DataFrame:"
      ]
    },
    {
      "cell_type": "code",
      "metadata": {
        "id": "_8dfjkedHW9_",
        "colab": {
          "base_uri": "https://localhost:8080/"
        },
        "outputId": "4f829fab-577c-4f2b-fd3b-12f0bb646ff0"
      },
      "source": [
        "aapl_2016 = df['2016']\n",
        "aapl_month = aapl_2016.resample('M').agg(lambda x: x[-1])\n",
        "print(aapl_month)"
      ],
      "execution_count": 203,
      "outputs": [
        {
          "output_type": "stream",
          "name": "stdout",
          "text": [
            "                 Open       High        Low  ...     Volume  Dividends  Stock Splits\n",
            "Date                                         ...                                    \n",
            "2016-01-31  21.852384  22.440247  21.750948  ...  257666000        0.0             0\n",
            "2016-02-29  22.450759  22.768306  22.402084  ...  140865200        0.0             0\n",
            "2016-03-31  25.431518  25.473240  25.236817  ...  103553600        0.0             0\n",
            "2016-04-30  21.785529  21.954734  21.442488  ...  274126000        0.0             0\n",
            "2016-05-31  23.226409  23.412967  23.044516  ...  169228800        0.0             0\n",
            "2016-06-30  22.023112  22.333262  21.990464  ...  143345600        0.0             0\n",
            "2016-07-31  24.296780  24.380731  24.177849  ...  110934800        0.0             0\n",
            "2016-08-31  24.773058  24.986415  24.768367  ...  118649600        0.0             0\n",
            "2016-09-30  26.367386  26.580745  26.212643  ...  145516400        0.0             0\n",
            "2016-10-31  26.646389  26.782376  26.540880  ...  105677600        0.0             0\n",
            "2016-11-30  26.300090  26.441488  25.986656  ...  144649200        0.0             0\n",
            "2016-12-31  27.490195  27.619809  27.202685  ...  122345200        0.0             0\n",
            "\n",
            "[12 rows x 7 columns]\n"
          ]
        }
      ]
    },
    {
      "cell_type": "code",
      "metadata": {
        "colab": {
          "base_uri": "https://localhost:8080/"
        },
        "id": "pg40zeildW2H",
        "outputId": "c397a183-2661-4e59-f582-7a4a32aee9a9"
      },
      "source": [
        "# my example\n",
        "alphabet_2016 = my_df['2016']\n",
        "alphabet_month = alphabet_2016.resample('M').agg(lambda x: x[-1])\n",
        "print(alphabet_month)"
      ],
      "execution_count": 204,
      "outputs": [
        {
          "output_type": "stream",
          "name": "stdout",
          "text": [
            "                  Open        High  ...  Dividends  Stock Splits\n",
            "Date                                ...                         \n",
            "2016-01-31  748.960022  765.109985  ...          0             0\n",
            "2016-02-29  721.000000  730.599976  ...          0             0\n",
            "2016-03-31  768.340027  769.080017  ...          0             0\n",
            "2016-04-30  704.119995  712.109985  ...          0             0\n",
            "2016-05-31  748.760010  753.479980  ...          0             0\n",
            "2016-06-30  697.650024  703.770020  ...          0             0\n",
            "2016-07-31  797.710022  803.940002  ...          0             0\n",
            "2016-08-31  789.599976  791.570007  ...          0             0\n",
            "2016-09-30  803.599976  808.090027  ...          0             0\n",
            "2016-10-31  822.429993  822.630005  ...          0             0\n",
            "2016-11-30  789.099976  791.510010  ...          0             0\n",
            "2016-12-31  803.210022  803.289978  ...          0             0\n",
            "\n",
            "[12 rows x 7 columns]\n"
          ]
        }
      ]
    },
    {
      "cell_type": "markdown",
      "metadata": {
        "id": "CqrbrbFZPTJe"
      },
      "source": [
        "We may select certain columns of a DataFrame using their names:"
      ]
    },
    {
      "cell_type": "code",
      "metadata": {
        "id": "7bQGeyCAHW9_",
        "colab": {
          "base_uri": "https://localhost:8080/"
        },
        "outputId": "d2630e36-9426-440c-83f9-df6a0607512b"
      },
      "source": [
        "aapl_bar = aapl_month[['Open', 'High', 'Low', 'Close']]\n",
        "print(aapl_bar)"
      ],
      "execution_count": 205,
      "outputs": [
        {
          "output_type": "stream",
          "name": "stdout",
          "text": [
            "                 Open       High        Low      Close\n",
            "Date                                                  \n",
            "2016-01-31  21.852384  22.440247  21.750948  22.440247\n",
            "2016-02-29  22.450759  22.768306  22.402084  22.411356\n",
            "2016-03-31  25.431518  25.473240  25.236817  25.262314\n",
            "2016-04-30  21.785529  21.954734  21.442488  21.727583\n",
            "2016-05-31  23.226409  23.412967  23.044516  23.287041\n",
            "2016-06-30  22.023112  22.333262  21.990464  22.293619\n",
            "2016-07-31  24.296780  24.380731  24.177849  24.301443\n",
            "2016-08-31  24.773058  24.986415  24.768367  24.876219\n",
            "2016-09-30  26.367386  26.580745  26.212643  26.505718\n",
            "2016-10-31  26.646389  26.782376  26.540880  26.620598\n",
            "2016-11-30  26.300090  26.441488  25.986656  26.045572\n",
            "2016-12-31  27.490195  27.619809  27.202685  27.294594\n"
          ]
        }
      ]
    },
    {
      "cell_type": "code",
      "metadata": {
        "colab": {
          "base_uri": "https://localhost:8080/"
        },
        "id": "01gC7AAnfJl9",
        "outputId": "2ea50571-ae2b-4782-e24c-b66f011bb8bc"
      },
      "source": [
        "# my example\n",
        "alphabet_bar = alphabet_month[['Open', 'High', 'Low', 'Close']]\n",
        "print(alphabet_bar)"
      ],
      "execution_count": 206,
      "outputs": [
        {
          "output_type": "stream",
          "name": "stdout",
          "text": [
            "                  Open        High         Low       Close\n",
            "Date                                                      \n",
            "2016-01-31  748.960022  765.109985  744.200012  761.349976\n",
            "2016-02-29  721.000000  730.599976  716.840027  717.219971\n",
            "2016-03-31  768.340027  769.080017  758.250000  762.900024\n",
            "2016-04-30  704.119995  712.109985  703.780029  707.880005\n",
            "2016-05-31  748.760010  753.479980  745.570007  748.849976\n",
            "2016-06-30  697.650024  703.770020  694.900024  703.530029\n",
            "2016-07-31  797.710022  803.940002  790.000000  791.340027\n",
            "2016-08-31  789.599976  791.570007  787.200012  789.849976\n",
            "2016-09-30  803.599976  808.090027  801.500000  804.059998\n",
            "2016-10-31  822.429993  822.630005  808.000000  809.900024\n",
            "2016-11-30  789.099976  791.510010  773.150024  775.880005\n",
            "2016-12-31  803.210022  803.289978  789.619995  792.450012\n"
          ]
        }
      ]
    },
    {
      "cell_type": "markdown",
      "metadata": {
        "id": "8CQaZCAQP68O"
      },
      "source": [
        "We can even specify both rows and columns using loc[]. The row indices and column names are separated by a comma:"
      ]
    },
    {
      "cell_type": "code",
      "metadata": {
        "id": "YjWWiHVpHW-A",
        "colab": {
          "base_uri": "https://localhost:8080/"
        },
        "outputId": "f079187b-eb4b-4de0-86fb-7dd742bac02b"
      },
      "source": [
        "print(aapl_month.loc['2016-03':'2016-06',['Open', 'High', 'Low', 'Close']])"
      ],
      "execution_count": 207,
      "outputs": [
        {
          "output_type": "stream",
          "name": "stdout",
          "text": [
            "                 Open       High        Low      Close\n",
            "Date                                                  \n",
            "2016-03-31  25.431518  25.473240  25.236817  25.262314\n",
            "2016-04-30  21.785529  21.954734  21.442488  21.727583\n",
            "2016-05-31  23.226409  23.412967  23.044516  23.287041\n",
            "2016-06-30  22.023112  22.333262  21.990464  22.293619\n"
          ]
        }
      ]
    },
    {
      "cell_type": "code",
      "metadata": {
        "colab": {
          "base_uri": "https://localhost:8080/"
        },
        "id": "oD5Av8rVfVpZ",
        "outputId": "7a48ea8f-64d0-4c7c-99d8-4d92ae2ad35f"
      },
      "source": [
        "# my example\n",
        "print(alphabet_month.loc['2016-03':'2016-06',['Open', 'High', 'Low', 'Close']])"
      ],
      "execution_count": 208,
      "outputs": [
        {
          "output_type": "stream",
          "name": "stdout",
          "text": [
            "                  Open        High         Low       Close\n",
            "Date                                                      \n",
            "2016-03-31  768.340027  769.080017  758.250000  762.900024\n",
            "2016-04-30  704.119995  712.109985  703.780029  707.880005\n",
            "2016-05-31  748.760010  753.479980  745.570007  748.849976\n",
            "2016-06-30  697.650024  703.770020  694.900024  703.530029\n"
          ]
        }
      ]
    },
    {
      "cell_type": "markdown",
      "metadata": {
        "id": "Xcn_pHNLQBEH"
      },
      "source": [
        "The subset methods in DataFrame is quite useful. By writing logical statements in square brackets, we can make customized subsets:"
      ]
    },
    {
      "cell_type": "code",
      "metadata": {
        "id": "RxKg4dObHW-A",
        "colab": {
          "base_uri": "https://localhost:8080/"
        },
        "outputId": "f26d8751-c8a1-4d56-d088-1196a3c26bff"
      },
      "source": [
        "import numpy as np\n",
        "\n",
        "above = aapl_bar[aapl_bar.Close > np.mean(aapl_bar.Close)]\n",
        "print(above)"
      ],
      "execution_count": 209,
      "outputs": [
        {
          "output_type": "stream",
          "name": "stdout",
          "text": [
            "                 Open       High        Low      Close\n",
            "Date                                                  \n",
            "2016-03-31  25.431518  25.473240  25.236817  25.262314\n",
            "2016-08-31  24.773058  24.986415  24.768367  24.876219\n",
            "2016-09-30  26.367386  26.580745  26.212643  26.505718\n",
            "2016-10-31  26.646389  26.782376  26.540880  26.620598\n",
            "2016-11-30  26.300090  26.441488  25.986656  26.045572\n",
            "2016-12-31  27.490195  27.619809  27.202685  27.294594\n"
          ]
        }
      ]
    },
    {
      "cell_type": "code",
      "metadata": {
        "colab": {
          "base_uri": "https://localhost:8080/"
        },
        "id": "ZypJZWPcfhyk",
        "outputId": "598a7d98-c582-4252-8ec5-77ce31634ee8"
      },
      "source": [
        "# my example\n",
        "import numpy as np\n",
        "\n",
        "alphabet_above = alphabet_bar[alphabet_bar.Close > np.mean(alphabet_bar.Close)]\n",
        "print(alphabet_above)"
      ],
      "execution_count": 210,
      "outputs": [
        {
          "output_type": "stream",
          "name": "stdout",
          "text": [
            "                  Open        High         Low       Close\n",
            "Date                                                      \n",
            "2016-07-31  797.710022  803.940002  790.000000  791.340027\n",
            "2016-08-31  789.599976  791.570007  787.200012  789.849976\n",
            "2016-09-30  803.599976  808.090027  801.500000  804.059998\n",
            "2016-10-31  822.429993  822.630005  808.000000  809.900024\n",
            "2016-11-30  789.099976  791.510010  773.150024  775.880005\n",
            "2016-12-31  803.210022  803.289978  789.619995  792.450012\n"
          ]
        }
      ]
    },
    {
      "cell_type": "markdown",
      "metadata": {
        "id": "wcm_UadkQLL5"
      },
      "source": [
        "## Data Validation\n",
        "As mentioned, all methods that apply to a Series can also be applied to a DataFrame. Here we add a new column to an existing DataFrame:"
      ]
    },
    {
      "cell_type": "code",
      "metadata": {
        "id": "jZXFdOVFHW-A",
        "colab": {
          "base_uri": "https://localhost:8080/"
        },
        "outputId": "a99ae8ee-a63a-4955-ae1e-e9c1291aa1bf"
      },
      "source": [
        "aapl_bar['rate_return'] = aapl_bar.Close.pct_change()\n",
        "print(aapl_bar)"
      ],
      "execution_count": 211,
      "outputs": [
        {
          "output_type": "stream",
          "name": "stdout",
          "text": [
            "                 Open       High        Low      Close  rate_return\n",
            "Date                                                               \n",
            "2016-01-31  21.852384  22.440247  21.750948  22.440247          NaN\n",
            "2016-02-29  22.450759  22.768306  22.402084  22.411356    -0.001287\n",
            "2016-03-31  25.431518  25.473240  25.236817  25.262314     0.127210\n",
            "2016-04-30  21.785529  21.954734  21.442488  21.727583    -0.139921\n",
            "2016-05-31  23.226409  23.412967  23.044516  23.287041     0.071773\n",
            "2016-06-30  22.023112  22.333262  21.990464  22.293619    -0.042660\n",
            "2016-07-31  24.296780  24.380731  24.177849  24.301443     0.090063\n",
            "2016-08-31  24.773058  24.986415  24.768367  24.876219     0.023652\n",
            "2016-09-30  26.367386  26.580745  26.212643  26.505718     0.065504\n",
            "2016-10-31  26.646389  26.782376  26.540880  26.620598     0.004334\n",
            "2016-11-30  26.300090  26.441488  25.986656  26.045572    -0.021601\n",
            "2016-12-31  27.490195  27.619809  27.202685  27.294594     0.047955\n"
          ]
        },
        {
          "output_type": "stream",
          "name": "stderr",
          "text": [
            "/usr/local/lib/python3.7/dist-packages/ipykernel_launcher.py:1: SettingWithCopyWarning: \n",
            "A value is trying to be set on a copy of a slice from a DataFrame.\n",
            "Try using .loc[row_indexer,col_indexer] = value instead\n",
            "\n",
            "See the caveats in the documentation: https://pandas.pydata.org/pandas-docs/stable/user_guide/indexing.html#returning-a-view-versus-a-copy\n",
            "  \"\"\"Entry point for launching an IPython kernel.\n"
          ]
        }
      ]
    },
    {
      "cell_type": "code",
      "metadata": {
        "colab": {
          "base_uri": "https://localhost:8080/"
        },
        "id": "BMZbjkfEgAl1",
        "outputId": "ad15fdcb-52c4-4fae-ce82-cce17fb71c3f"
      },
      "source": [
        "# my example\n",
        "alphabet_bar['rate_return'] = alphabet_bar.Close.pct_change()\n",
        "print(alphabet_bar)"
      ],
      "execution_count": 212,
      "outputs": [
        {
          "output_type": "stream",
          "name": "stdout",
          "text": [
            "                  Open        High         Low       Close  rate_return\n",
            "Date                                                                   \n",
            "2016-01-31  748.960022  765.109985  744.200012  761.349976          NaN\n",
            "2016-02-29  721.000000  730.599976  716.840027  717.219971    -0.057963\n",
            "2016-03-31  768.340027  769.080017  758.250000  762.900024     0.063690\n",
            "2016-04-30  704.119995  712.109985  703.780029  707.880005    -0.072120\n",
            "2016-05-31  748.760010  753.479980  745.570007  748.849976     0.057877\n",
            "2016-06-30  697.650024  703.770020  694.900024  703.530029    -0.060519\n",
            "2016-07-31  797.710022  803.940002  790.000000  791.340027     0.124813\n",
            "2016-08-31  789.599976  791.570007  787.200012  789.849976    -0.001883\n",
            "2016-09-30  803.599976  808.090027  801.500000  804.059998     0.017991\n",
            "2016-10-31  822.429993  822.630005  808.000000  809.900024     0.007263\n",
            "2016-11-30  789.099976  791.510010  773.150024  775.880005    -0.042005\n",
            "2016-12-31  803.210022  803.289978  789.619995  792.450012     0.021356\n"
          ]
        },
        {
          "output_type": "stream",
          "name": "stderr",
          "text": [
            "/usr/local/lib/python3.7/dist-packages/ipykernel_launcher.py:2: SettingWithCopyWarning: \n",
            "A value is trying to be set on a copy of a slice from a DataFrame.\n",
            "Try using .loc[row_indexer,col_indexer] = value instead\n",
            "\n",
            "See the caveats in the documentation: https://pandas.pydata.org/pandas-docs/stable/user_guide/indexing.html#returning-a-view-versus-a-copy\n",
            "  \n"
          ]
        }
      ]
    },
    {
      "cell_type": "markdown",
      "metadata": {
        "id": "_or6n5-LQUa-"
      },
      "source": [
        "Here the calculation introduced a NaN value. If the DataFrame is large, we would not be able to observe it. **isnull()** provides a convenient way to check abnormal values."
      ]
    },
    {
      "cell_type": "code",
      "metadata": {
        "id": "V5wgmhIPHW-B",
        "colab": {
          "base_uri": "https://localhost:8080/"
        },
        "outputId": "e949981a-05d0-49ea-9e84-0124e2e9f465"
      },
      "source": [
        "missing = aapl_bar.isnull()\n",
        "print(missing)\n",
        "print('---------------------------------------------')\n",
        "print(missing.describe())"
      ],
      "execution_count": 213,
      "outputs": [
        {
          "output_type": "stream",
          "name": "stdout",
          "text": [
            "             Open   High    Low  Close  rate_return\n",
            "Date                                               \n",
            "2016-01-31  False  False  False  False         True\n",
            "2016-02-29  False  False  False  False        False\n",
            "2016-03-31  False  False  False  False        False\n",
            "2016-04-30  False  False  False  False        False\n",
            "2016-05-31  False  False  False  False        False\n",
            "2016-06-30  False  False  False  False        False\n",
            "2016-07-31  False  False  False  False        False\n",
            "2016-08-31  False  False  False  False        False\n",
            "2016-09-30  False  False  False  False        False\n",
            "2016-10-31  False  False  False  False        False\n",
            "2016-11-30  False  False  False  False        False\n",
            "2016-12-31  False  False  False  False        False\n",
            "---------------------------------------------\n",
            "         Open   High    Low  Close rate_return\n",
            "count      12     12     12     12          12\n",
            "unique      1      1      1      1           2\n",
            "top     False  False  False  False       False\n",
            "freq       12     12     12     12          11\n"
          ]
        }
      ]
    },
    {
      "cell_type": "code",
      "metadata": {
        "colab": {
          "base_uri": "https://localhost:8080/"
        },
        "id": "B6R0J7XygLhC",
        "outputId": "927bc798-ecc1-4654-e7e0-38ffbc3bc455"
      },
      "source": [
        "# my example\n",
        "alphabet_missing = alphabet_bar.isnull()\n",
        "print(alphabet_missing)\n",
        "print('---------------------------------------------')\n",
        "print(alphabet_missing.describe())"
      ],
      "execution_count": 214,
      "outputs": [
        {
          "output_type": "stream",
          "name": "stdout",
          "text": [
            "             Open   High    Low  Close  rate_return\n",
            "Date                                               \n",
            "2016-01-31  False  False  False  False         True\n",
            "2016-02-29  False  False  False  False        False\n",
            "2016-03-31  False  False  False  False        False\n",
            "2016-04-30  False  False  False  False        False\n",
            "2016-05-31  False  False  False  False        False\n",
            "2016-06-30  False  False  False  False        False\n",
            "2016-07-31  False  False  False  False        False\n",
            "2016-08-31  False  False  False  False        False\n",
            "2016-09-30  False  False  False  False        False\n",
            "2016-10-31  False  False  False  False        False\n",
            "2016-11-30  False  False  False  False        False\n",
            "2016-12-31  False  False  False  False        False\n",
            "---------------------------------------------\n",
            "         Open   High    Low  Close rate_return\n",
            "count      12     12     12     12          12\n",
            "unique      1      1      1      1           2\n",
            "top     False  False  False  False       False\n",
            "freq       12     12     12     12          11\n"
          ]
        }
      ]
    },
    {
      "cell_type": "markdown",
      "metadata": {
        "id": "d6KFV4i0QfLW"
      },
      "source": [
        "The row labelled \"unique\" indicates the number of unique values in each column. Since the \"rate_return\" column has 2 unique values, it has at least one missing value.\n",
        "\n",
        "We can deduce the number of missing values by comparing \"count\" with \"freq\". There are 12 counts and 11 False values, so there is one True value which corresponds to the missing value.\n",
        "\n",
        "We can also find the rows with missing values easily:"
      ]
    },
    {
      "cell_type": "code",
      "metadata": {
        "id": "Eo0ZAhCsHW-B",
        "colab": {
          "base_uri": "https://localhost:8080/"
        },
        "outputId": "bd17e9da-332d-4434-b025-4273c13ddab4"
      },
      "source": [
        "print(missing[missing.rate_return == True])"
      ],
      "execution_count": 215,
      "outputs": [
        {
          "output_type": "stream",
          "name": "stdout",
          "text": [
            "             Open   High    Low  Close  rate_return\n",
            "Date                                               \n",
            "2016-01-31  False  False  False  False         True\n"
          ]
        }
      ]
    },
    {
      "cell_type": "code",
      "metadata": {
        "colab": {
          "base_uri": "https://localhost:8080/"
        },
        "id": "ua8onVvXgn-A",
        "outputId": "5a619786-8248-43f1-b565-9be1d0815018"
      },
      "source": [
        "# my example\n",
        "print(alphabet_missing[alphabet_missing.rate_return == True])"
      ],
      "execution_count": 216,
      "outputs": [
        {
          "output_type": "stream",
          "name": "stdout",
          "text": [
            "             Open   High    Low  Close  rate_return\n",
            "Date                                               \n",
            "2016-01-31  False  False  False  False         True\n"
          ]
        }
      ]
    },
    {
      "cell_type": "markdown",
      "metadata": {
        "id": "qgggpD8OQkZX"
      },
      "source": [
        "Usually when dealing with missing data, we either delete the whole row or fill it with some value. As we introduced in the Series chapter, the same method **dropna()** and **fillna()** can be applied to a DataFrame."
      ]
    },
    {
      "cell_type": "code",
      "metadata": {
        "id": "j8PaIokjHW-B",
        "colab": {
          "base_uri": "https://localhost:8080/"
        },
        "outputId": "a539d656-cfc5-485e-f200-a762fdb7589a"
      },
      "source": [
        "drop = aapl_bar.dropna()\n",
        "print(drop)\n",
        "print('\\n--------------------------------------------------\\n')\n",
        "fill = aapl_bar.fillna(0)\n",
        "print(fill)"
      ],
      "execution_count": 217,
      "outputs": [
        {
          "output_type": "stream",
          "name": "stdout",
          "text": [
            "                 Open       High        Low      Close  rate_return\n",
            "Date                                                               \n",
            "2016-02-29  22.450759  22.768306  22.402084  22.411356    -0.001287\n",
            "2016-03-31  25.431518  25.473240  25.236817  25.262314     0.127210\n",
            "2016-04-30  21.785529  21.954734  21.442488  21.727583    -0.139921\n",
            "2016-05-31  23.226409  23.412967  23.044516  23.287041     0.071773\n",
            "2016-06-30  22.023112  22.333262  21.990464  22.293619    -0.042660\n",
            "2016-07-31  24.296780  24.380731  24.177849  24.301443     0.090063\n",
            "2016-08-31  24.773058  24.986415  24.768367  24.876219     0.023652\n",
            "2016-09-30  26.367386  26.580745  26.212643  26.505718     0.065504\n",
            "2016-10-31  26.646389  26.782376  26.540880  26.620598     0.004334\n",
            "2016-11-30  26.300090  26.441488  25.986656  26.045572    -0.021601\n",
            "2016-12-31  27.490195  27.619809  27.202685  27.294594     0.047955\n",
            "\n",
            "--------------------------------------------------\n",
            "\n",
            "                 Open       High        Low      Close  rate_return\n",
            "Date                                                               \n",
            "2016-01-31  21.852384  22.440247  21.750948  22.440247     0.000000\n",
            "2016-02-29  22.450759  22.768306  22.402084  22.411356    -0.001287\n",
            "2016-03-31  25.431518  25.473240  25.236817  25.262314     0.127210\n",
            "2016-04-30  21.785529  21.954734  21.442488  21.727583    -0.139921\n",
            "2016-05-31  23.226409  23.412967  23.044516  23.287041     0.071773\n",
            "2016-06-30  22.023112  22.333262  21.990464  22.293619    -0.042660\n",
            "2016-07-31  24.296780  24.380731  24.177849  24.301443     0.090063\n",
            "2016-08-31  24.773058  24.986415  24.768367  24.876219     0.023652\n",
            "2016-09-30  26.367386  26.580745  26.212643  26.505718     0.065504\n",
            "2016-10-31  26.646389  26.782376  26.540880  26.620598     0.004334\n",
            "2016-11-30  26.300090  26.441488  25.986656  26.045572    -0.021601\n",
            "2016-12-31  27.490195  27.619809  27.202685  27.294594     0.047955\n"
          ]
        }
      ]
    },
    {
      "cell_type": "code",
      "metadata": {
        "colab": {
          "base_uri": "https://localhost:8080/"
        },
        "id": "Wx0BKdQ6hT95",
        "outputId": "4019a7d6-3725-497b-f597-132f9d37b361"
      },
      "source": [
        "# my example\n",
        "alphabet_drop = alphabet_bar.dropna()\n",
        "print(alphabet_drop)\n",
        "print('\\n--------------------------------------------------\\n')\n",
        "alphabet_fill = alphabet_bar.fillna(0)\n",
        "print(alphabet_fill)"
      ],
      "execution_count": 218,
      "outputs": [
        {
          "output_type": "stream",
          "name": "stdout",
          "text": [
            "                  Open        High         Low       Close  rate_return\n",
            "Date                                                                   \n",
            "2016-02-29  721.000000  730.599976  716.840027  717.219971    -0.057963\n",
            "2016-03-31  768.340027  769.080017  758.250000  762.900024     0.063690\n",
            "2016-04-30  704.119995  712.109985  703.780029  707.880005    -0.072120\n",
            "2016-05-31  748.760010  753.479980  745.570007  748.849976     0.057877\n",
            "2016-06-30  697.650024  703.770020  694.900024  703.530029    -0.060519\n",
            "2016-07-31  797.710022  803.940002  790.000000  791.340027     0.124813\n",
            "2016-08-31  789.599976  791.570007  787.200012  789.849976    -0.001883\n",
            "2016-09-30  803.599976  808.090027  801.500000  804.059998     0.017991\n",
            "2016-10-31  822.429993  822.630005  808.000000  809.900024     0.007263\n",
            "2016-11-30  789.099976  791.510010  773.150024  775.880005    -0.042005\n",
            "2016-12-31  803.210022  803.289978  789.619995  792.450012     0.021356\n",
            "\n",
            "--------------------------------------------------\n",
            "\n",
            "                  Open        High         Low       Close  rate_return\n",
            "Date                                                                   \n",
            "2016-01-31  748.960022  765.109985  744.200012  761.349976     0.000000\n",
            "2016-02-29  721.000000  730.599976  716.840027  717.219971    -0.057963\n",
            "2016-03-31  768.340027  769.080017  758.250000  762.900024     0.063690\n",
            "2016-04-30  704.119995  712.109985  703.780029  707.880005    -0.072120\n",
            "2016-05-31  748.760010  753.479980  745.570007  748.849976     0.057877\n",
            "2016-06-30  697.650024  703.770020  694.900024  703.530029    -0.060519\n",
            "2016-07-31  797.710022  803.940002  790.000000  791.340027     0.124813\n",
            "2016-08-31  789.599976  791.570007  787.200012  789.849976    -0.001883\n",
            "2016-09-30  803.599976  808.090027  801.500000  804.059998     0.017991\n",
            "2016-10-31  822.429993  822.630005  808.000000  809.900024     0.007263\n",
            "2016-11-30  789.099976  791.510010  773.150024  775.880005    -0.042005\n",
            "2016-12-31  803.210022  803.289978  789.619995  792.450012     0.021356\n"
          ]
        }
      ]
    },
    {
      "cell_type": "markdown",
      "metadata": {
        "id": "0tvoFlKWQxYG"
      },
      "source": [
        "## DataFrame Concat\n",
        "We have seen how to extract a Series from a dataFrame. Now we need to consider how to merge a Series or a DataFrame into another one.\n",
        "\n",
        "In Pandas, the function **concat()** allows us to merge multiple Series into a DataFrame:"
      ]
    },
    {
      "cell_type": "code",
      "metadata": {
        "id": "uQrmLIWKHW-C",
        "colab": {
          "base_uri": "https://localhost:8080/"
        },
        "outputId": "f65b5f36-9a21-4627-b8e1-97898ac88c20"
      },
      "source": [
        "s1 = pd.Series([143.5, 144.09, 142.73, 144.18, 143.77], name = 'AAPL')\n",
        "s2 = pd.Series([898.7, 911.71, 906.69, 918.59, 926.99], name = 'GOOG')\n",
        "data_frame = pd.concat([s1,s2], axis = 1)\n",
        "print(data_frame)"
      ],
      "execution_count": 219,
      "outputs": [
        {
          "output_type": "stream",
          "name": "stdout",
          "text": [
            "     AAPL    GOOG\n",
            "0  143.50  898.70\n",
            "1  144.09  911.71\n",
            "2  142.73  906.69\n",
            "3  144.18  918.59\n",
            "4  143.77  926.99\n"
          ]
        }
      ]
    },
    {
      "cell_type": "code",
      "metadata": {
        "colab": {
          "base_uri": "https://localhost:8080/"
        },
        "id": "OGHEcQE6h1up",
        "outputId": "89fc7a95-58df-4513-8dab-cbcc284df5cc"
      },
      "source": [
        "# my example\n",
        "my_s1 = pd.Series([1,2,4,8,16], name = 'pot2')\n",
        "my_s2 = pd.Series([1,3,9,27,81], name = 'pot3')\n",
        "my_data_frame = pd.concat([my_s1,my_s2], axis = 1)\n",
        "print(my_data_frame)"
      ],
      "execution_count": 220,
      "outputs": [
        {
          "output_type": "stream",
          "name": "stdout",
          "text": [
            "   pot2  pot3\n",
            "0     1     1\n",
            "1     2     3\n",
            "2     4     9\n",
            "3     8    27\n",
            "4    16    81\n"
          ]
        }
      ]
    },
    {
      "cell_type": "markdown",
      "metadata": {
        "id": "3ojbNYJLR2vv"
      },
      "source": [
        "The \"axis = 1\" parameter will join two DataFrames by columns:"
      ]
    },
    {
      "cell_type": "code",
      "metadata": {
        "id": "DJsaLd-cRoIm",
        "colab": {
          "base_uri": "https://localhost:8080/"
        },
        "outputId": "29c8693c-65c3-4f05-9423-c50fbbcf1bae"
      },
      "source": [
        "log_price = np.log(aapl_bar.Close)\n",
        "log_price.name = 'log_price'\n",
        "print(log_price)\n",
        "print('\\n---------------------- separate line--------------------\\n')\n",
        "concat = pd.concat([aapl_bar, log_price], axis = 1)\n",
        "print(concat)"
      ],
      "execution_count": 221,
      "outputs": [
        {
          "output_type": "stream",
          "name": "stdout",
          "text": [
            "Date\n",
            "2016-01-31    3.110856\n",
            "2016-02-29    3.109568\n",
            "2016-03-31    3.229314\n",
            "2016-04-30    3.078583\n",
            "2016-05-31    3.147897\n",
            "2016-06-30    3.104301\n",
            "2016-07-31    3.190536\n",
            "2016-08-31    3.213912\n",
            "2016-09-30    3.277360\n",
            "2016-10-31    3.281685\n",
            "2016-11-30    3.259848\n",
            "2016-12-31    3.306689\n",
            "Freq: M, Name: log_price, dtype: float64\n",
            "\n",
            "---------------------- separate line--------------------\n",
            "\n",
            "                 Open       High        Low      Close  rate_return  log_price\n",
            "Date                                                                          \n",
            "2016-01-31  21.852384  22.440247  21.750948  22.440247          NaN   3.110856\n",
            "2016-02-29  22.450759  22.768306  22.402084  22.411356    -0.001287   3.109568\n",
            "2016-03-31  25.431518  25.473240  25.236817  25.262314     0.127210   3.229314\n",
            "2016-04-30  21.785529  21.954734  21.442488  21.727583    -0.139921   3.078583\n",
            "2016-05-31  23.226409  23.412967  23.044516  23.287041     0.071773   3.147897\n",
            "2016-06-30  22.023112  22.333262  21.990464  22.293619    -0.042660   3.104301\n",
            "2016-07-31  24.296780  24.380731  24.177849  24.301443     0.090063   3.190536\n",
            "2016-08-31  24.773058  24.986415  24.768367  24.876219     0.023652   3.213912\n",
            "2016-09-30  26.367386  26.580745  26.212643  26.505718     0.065504   3.277360\n",
            "2016-10-31  26.646389  26.782376  26.540880  26.620598     0.004334   3.281685\n",
            "2016-11-30  26.300090  26.441488  25.986656  26.045572    -0.021601   3.259848\n",
            "2016-12-31  27.490195  27.619809  27.202685  27.294594     0.047955   3.306689\n"
          ]
        }
      ]
    },
    {
      "cell_type": "code",
      "metadata": {
        "colab": {
          "base_uri": "https://localhost:8080/"
        },
        "id": "dRKG2RTtjUJt",
        "outputId": "27be1a99-3582-4339-c59b-46b40f1796cf"
      },
      "source": [
        "# my example\n",
        "alphabet_log_price = np.log(alphabet_bar.Close)\n",
        "alphabet_log_price.name = 'log_price'\n",
        "print(alphabet_log_price)\n",
        "print('\\n---------------------- separate line--------------------\\n')\n",
        "alphabet_concat = pd.concat([alphabet_bar, alphabet_log_price], axis = 1)\n",
        "print(alphabet_concat)"
      ],
      "execution_count": 222,
      "outputs": [
        {
          "output_type": "stream",
          "name": "stdout",
          "text": [
            "Date\n",
            "2016-01-31    6.635093\n",
            "2016-02-29    6.575383\n",
            "2016-03-31    6.637127\n",
            "2016-04-30    6.562275\n",
            "2016-05-31    6.618539\n",
            "2016-06-30    6.556111\n",
            "2016-07-31    6.673728\n",
            "2016-08-31    6.671843\n",
            "2016-09-30    6.689674\n",
            "2016-10-31    6.696911\n",
            "2016-11-30    6.653998\n",
            "2016-12-31    6.675129\n",
            "Freq: M, Name: log_price, dtype: float64\n",
            "\n",
            "---------------------- separate line--------------------\n",
            "\n",
            "                  Open        High  ...  rate_return  log_price\n",
            "Date                                ...                        \n",
            "2016-01-31  748.960022  765.109985  ...          NaN   6.635093\n",
            "2016-02-29  721.000000  730.599976  ...    -0.057963   6.575383\n",
            "2016-03-31  768.340027  769.080017  ...     0.063690   6.637127\n",
            "2016-04-30  704.119995  712.109985  ...    -0.072120   6.562275\n",
            "2016-05-31  748.760010  753.479980  ...     0.057877   6.618539\n",
            "2016-06-30  697.650024  703.770020  ...    -0.060519   6.556111\n",
            "2016-07-31  797.710022  803.940002  ...     0.124813   6.673728\n",
            "2016-08-31  789.599976  791.570007  ...    -0.001883   6.671843\n",
            "2016-09-30  803.599976  808.090027  ...     0.017991   6.689674\n",
            "2016-10-31  822.429993  822.630005  ...     0.007263   6.696911\n",
            "2016-11-30  789.099976  791.510010  ...    -0.042005   6.653998\n",
            "2016-12-31  803.210022  803.289978  ...     0.021356   6.675129\n",
            "\n",
            "[12 rows x 6 columns]\n"
          ]
        }
      ]
    },
    {
      "cell_type": "markdown",
      "metadata": {
        "id": "mIZz-FUyR_62"
      },
      "source": [
        "We can also join two DataFrames by rows. Consider these two DataFrames:"
      ]
    },
    {
      "cell_type": "code",
      "metadata": {
        "id": "W7uXZptLHW-C",
        "colab": {
          "base_uri": "https://localhost:8080/"
        },
        "outputId": "097ea615-42ab-42b1-81ab-fc465670448b"
      },
      "source": [
        "df_volume = aapl_table.loc['2016-10':'2017-04',['Volume', 'Stock Splits']].resample('M').agg(lambda x: x[-1])\n",
        "print(df_volume)\n",
        "print('\\n---------------------- separate line--------------------\\n')\n",
        "df_2017 = aapl_table.loc['2016-10':'2017-04',['Open', 'High', 'Low', 'Close']].resample('M').agg(lambda x: x[-1])\n",
        "print(df_2017)"
      ],
      "execution_count": 223,
      "outputs": [
        {
          "output_type": "stream",
          "name": "stdout",
          "text": [
            "               Volume  Stock Splits\n",
            "Date                               \n",
            "2016-10-31  105677600             0\n",
            "2016-11-30  144649200             0\n",
            "2016-12-31  122345200             0\n",
            "2017-01-31  196804000             0\n",
            "2017-02-28   93931600             0\n",
            "2017-03-31   78646800             0\n",
            "2017-04-30   83441600             0\n",
            "\n",
            "---------------------- separate line--------------------\n",
            "\n",
            "                 Open       High        Low      Close\n",
            "Date                                                  \n",
            "2016-10-31  26.646389  26.782376  26.540880  26.620598\n",
            "2016-11-30  26.300090  26.441488  25.986656  26.045572\n",
            "2016-12-31  27.490195  27.619809  27.202685  27.294594\n",
            "2017-01-31  28.550679  28.607238  28.425777  28.597811\n",
            "2017-02-28  32.444862  32.530069  32.354920  32.423561\n",
            "2017-03-31  34.016463  34.146641  33.848414  34.002262\n",
            "2017-04-30  34.104032  34.153737  33.909951  33.999889\n"
          ]
        }
      ]
    },
    {
      "cell_type": "code",
      "metadata": {
        "colab": {
          "base_uri": "https://localhost:8080/"
        },
        "id": "zaNRJ_2vkqXW",
        "outputId": "2c096a1b-5d99-44cc-a5a5-4a076df7ebff"
      },
      "source": [
        "# my example\n",
        "alphabet_df_volume = alphabet_table.loc['2016-10':'2017-04',['Volume', 'Stock Splits']].resample('M').agg(lambda x: x[-1])\n",
        "print(alphabet_df_volume)\n",
        "print('\\n---------------------- separate line--------------------\\n')\n",
        "alphabet_df_2017 = alphabet_table.loc['2016-10':'2017-04',['Open', 'High', 'Low', 'Close']].resample('M').agg(lambda x: x[-1])\n",
        "print(alphabet_df_2017)"
      ],
      "execution_count": 224,
      "outputs": [
        {
          "output_type": "stream",
          "name": "stdout",
          "text": [
            "             Volume  Stock Splits\n",
            "Date                             \n",
            "2016-10-31  2242700             0\n",
            "2016-11-30  2279100             0\n",
            "2016-12-31  1735900             0\n",
            "2017-01-31  2020200             0\n",
            "2017-02-28  1383100             0\n",
            "2017-03-31  1441000             0\n",
            "2017-04-30  3845900             0\n",
            "\n",
            "---------------------- separate line--------------------\n",
            "\n",
            "                  Open        High         Low       Close\n",
            "Date                                                      \n",
            "2016-10-31  822.429993  822.630005  808.000000  809.900024\n",
            "2016-11-30  789.099976  791.510010  773.150024  775.880005\n",
            "2016-12-31  803.210022  803.289978  789.619995  792.450012\n",
            "2017-01-31  819.500000  823.070007  813.400024  820.190002\n",
            "2017-02-28  847.349976  848.830017  841.440002  844.929993\n",
            "2017-03-31  846.830017  849.559998  845.239990  847.799988\n",
            "2017-04-30  929.000000  935.900024  923.219971  924.520020\n"
          ]
        }
      ]
    },
    {
      "cell_type": "markdown",
      "metadata": {
        "id": "iZk_C9aSSLeP"
      },
      "source": [
        "Now we merge the DataFrames with our DataFrame 'aapl_bar'"
      ]
    },
    {
      "cell_type": "code",
      "metadata": {
        "id": "aFqmjokOHW-C",
        "colab": {
          "base_uri": "https://localhost:8080/"
        },
        "outputId": "d4e65d1a-db6e-4ec9-92e2-7ae514dbb7b5"
      },
      "source": [
        "concat = pd.concat([aapl_bar, df_volume], axis = 1)\n",
        "print(concat)"
      ],
      "execution_count": 225,
      "outputs": [
        {
          "output_type": "stream",
          "name": "stdout",
          "text": [
            "                 Open       High  ...       Volume  Stock Splits\n",
            "Date                              ...                           \n",
            "2016-01-31  21.852384  22.440247  ...          NaN           NaN\n",
            "2016-02-29  22.450759  22.768306  ...          NaN           NaN\n",
            "2016-03-31  25.431518  25.473240  ...          NaN           NaN\n",
            "2016-04-30  21.785529  21.954734  ...          NaN           NaN\n",
            "2016-05-31  23.226409  23.412967  ...          NaN           NaN\n",
            "2016-06-30  22.023112  22.333262  ...          NaN           NaN\n",
            "2016-07-31  24.296780  24.380731  ...          NaN           NaN\n",
            "2016-08-31  24.773058  24.986415  ...          NaN           NaN\n",
            "2016-09-30  26.367386  26.580745  ...          NaN           NaN\n",
            "2016-10-31  26.646389  26.782376  ...  105677600.0           0.0\n",
            "2016-11-30  26.300090  26.441488  ...  144649200.0           0.0\n",
            "2016-12-31  27.490195  27.619809  ...  122345200.0           0.0\n",
            "2017-01-31        NaN        NaN  ...  196804000.0           0.0\n",
            "2017-02-28        NaN        NaN  ...   93931600.0           0.0\n",
            "2017-03-31        NaN        NaN  ...   78646800.0           0.0\n",
            "2017-04-30        NaN        NaN  ...   83441600.0           0.0\n",
            "\n",
            "[16 rows x 7 columns]\n"
          ]
        }
      ]
    },
    {
      "cell_type": "code",
      "metadata": {
        "colab": {
          "base_uri": "https://localhost:8080/"
        },
        "id": "oI0rGvRIk5oY",
        "outputId": "ab238222-4c60-4823-81d1-b5d3f2d53327"
      },
      "source": [
        "# my example\n",
        "alphabet_concat = pd.concat([alphabet_bar, alphabet_df_volume], axis = 1)\n",
        "print(alphabet_concat)"
      ],
      "execution_count": 226,
      "outputs": [
        {
          "output_type": "stream",
          "name": "stdout",
          "text": [
            "                  Open        High  ...     Volume  Stock Splits\n",
            "Date                                ...                         \n",
            "2016-01-31  748.960022  765.109985  ...        NaN           NaN\n",
            "2016-02-29  721.000000  730.599976  ...        NaN           NaN\n",
            "2016-03-31  768.340027  769.080017  ...        NaN           NaN\n",
            "2016-04-30  704.119995  712.109985  ...        NaN           NaN\n",
            "2016-05-31  748.760010  753.479980  ...        NaN           NaN\n",
            "2016-06-30  697.650024  703.770020  ...        NaN           NaN\n",
            "2016-07-31  797.710022  803.940002  ...        NaN           NaN\n",
            "2016-08-31  789.599976  791.570007  ...        NaN           NaN\n",
            "2016-09-30  803.599976  808.090027  ...        NaN           NaN\n",
            "2016-10-31  822.429993  822.630005  ...  2242700.0           0.0\n",
            "2016-11-30  789.099976  791.510010  ...  2279100.0           0.0\n",
            "2016-12-31  803.210022  803.289978  ...  1735900.0           0.0\n",
            "2017-01-31         NaN         NaN  ...  2020200.0           0.0\n",
            "2017-02-28         NaN         NaN  ...  1383100.0           0.0\n",
            "2017-03-31         NaN         NaN  ...  1441000.0           0.0\n",
            "2017-04-30         NaN         NaN  ...  3845900.0           0.0\n",
            "\n",
            "[16 rows x 7 columns]\n"
          ]
        }
      ]
    },
    {
      "cell_type": "markdown",
      "metadata": {
        "id": "7yI3tgB4SR4O"
      },
      "source": [
        "By default the DataFrame are joined with all of the data. This default options results in zero information loss. We can also merge them by intersection, this is called 'inner join"
      ]
    },
    {
      "cell_type": "code",
      "metadata": {
        "id": "31QGLyijHW-C",
        "colab": {
          "base_uri": "https://localhost:8080/"
        },
        "outputId": "0a2e4757-b2e3-40f1-fac4-47e99b650bcf"
      },
      "source": [
        "concat = pd.concat([aapl_bar,df_volume],axis = 1, join = 'inner')\n",
        "print(concat)"
      ],
      "execution_count": 227,
      "outputs": [
        {
          "output_type": "stream",
          "name": "stdout",
          "text": [
            "                 Open       High  ...     Volume  Stock Splits\n",
            "Date                              ...                         \n",
            "2016-10-31  26.646389  26.782376  ...  105677600             0\n",
            "2016-11-30  26.300090  26.441488  ...  144649200             0\n",
            "2016-12-31  27.490195  27.619809  ...  122345200             0\n",
            "\n",
            "[3 rows x 7 columns]\n"
          ]
        }
      ]
    },
    {
      "cell_type": "code",
      "metadata": {
        "colab": {
          "base_uri": "https://localhost:8080/"
        },
        "id": "ZB-Q87zRlQde",
        "outputId": "622b98d2-aa17-4582-87f0-f6d71f3b6cf6"
      },
      "source": [
        "# my example\n",
        "alphabet_concat = pd.concat([alphabet_bar,alphabet_df_volume],axis = 1, join = 'inner')\n",
        "print(alphabet_concat)"
      ],
      "execution_count": 228,
      "outputs": [
        {
          "output_type": "stream",
          "name": "stdout",
          "text": [
            "                  Open        High  ...   Volume  Stock Splits\n",
            "Date                                ...                       \n",
            "2016-10-31  822.429993  822.630005  ...  2242700             0\n",
            "2016-11-30  789.099976  791.510010  ...  2279100             0\n",
            "2016-12-31  803.210022  803.289978  ...  1735900             0\n",
            "\n",
            "[3 rows x 7 columns]\n"
          ]
        }
      ]
    },
    {
      "cell_type": "markdown",
      "metadata": {
        "id": "oudcWMm5Sd0u"
      },
      "source": [
        "Only the intersection part was left if use 'inner join' method. Now let's try to append a DataFrame to another one:"
      ]
    },
    {
      "cell_type": "code",
      "metadata": {
        "id": "lgw0qaOsHW-D",
        "colab": {
          "base_uri": "https://localhost:8080/"
        },
        "outputId": "226f7e69-b757-4891-e7c4-48e7f7fec23d"
      },
      "source": [
        "append = aapl_bar.append(df_2017)\n",
        "print(append)"
      ],
      "execution_count": 229,
      "outputs": [
        {
          "output_type": "stream",
          "name": "stdout",
          "text": [
            "                 Open       High        Low      Close  rate_return\n",
            "Date                                                               \n",
            "2016-01-31  21.852384  22.440247  21.750948  22.440247          NaN\n",
            "2016-02-29  22.450759  22.768306  22.402084  22.411356    -0.001287\n",
            "2016-03-31  25.431518  25.473240  25.236817  25.262314     0.127210\n",
            "2016-04-30  21.785529  21.954734  21.442488  21.727583    -0.139921\n",
            "2016-05-31  23.226409  23.412967  23.044516  23.287041     0.071773\n",
            "2016-06-30  22.023112  22.333262  21.990464  22.293619    -0.042660\n",
            "2016-07-31  24.296780  24.380731  24.177849  24.301443     0.090063\n",
            "2016-08-31  24.773058  24.986415  24.768367  24.876219     0.023652\n",
            "2016-09-30  26.367386  26.580745  26.212643  26.505718     0.065504\n",
            "2016-10-31  26.646389  26.782376  26.540880  26.620598     0.004334\n",
            "2016-11-30  26.300090  26.441488  25.986656  26.045572    -0.021601\n",
            "2016-12-31  27.490195  27.619809  27.202685  27.294594     0.047955\n",
            "2016-10-31  26.646389  26.782376  26.540880  26.620598          NaN\n",
            "2016-11-30  26.300090  26.441488  25.986656  26.045572          NaN\n",
            "2016-12-31  27.490195  27.619809  27.202685  27.294594          NaN\n",
            "2017-01-31  28.550679  28.607238  28.425777  28.597811          NaN\n",
            "2017-02-28  32.444862  32.530069  32.354920  32.423561          NaN\n",
            "2017-03-31  34.016463  34.146641  33.848414  34.002262          NaN\n",
            "2017-04-30  34.104032  34.153737  33.909951  33.999889          NaN\n"
          ]
        }
      ]
    },
    {
      "cell_type": "code",
      "metadata": {
        "colab": {
          "base_uri": "https://localhost:8080/"
        },
        "id": "Edq4getnl4SS",
        "outputId": "b552ac7a-f530-43ba-ed2c-5323a6d9d6b0"
      },
      "source": [
        "# my example\n",
        "alphabet_append = alphabet_bar.append(alphabet_df_2017)\n",
        "print(alphabet_append)"
      ],
      "execution_count": 230,
      "outputs": [
        {
          "output_type": "stream",
          "name": "stdout",
          "text": [
            "                  Open        High         Low       Close  rate_return\n",
            "Date                                                                   \n",
            "2016-01-31  748.960022  765.109985  744.200012  761.349976          NaN\n",
            "2016-02-29  721.000000  730.599976  716.840027  717.219971    -0.057963\n",
            "2016-03-31  768.340027  769.080017  758.250000  762.900024     0.063690\n",
            "2016-04-30  704.119995  712.109985  703.780029  707.880005    -0.072120\n",
            "2016-05-31  748.760010  753.479980  745.570007  748.849976     0.057877\n",
            "2016-06-30  697.650024  703.770020  694.900024  703.530029    -0.060519\n",
            "2016-07-31  797.710022  803.940002  790.000000  791.340027     0.124813\n",
            "2016-08-31  789.599976  791.570007  787.200012  789.849976    -0.001883\n",
            "2016-09-30  803.599976  808.090027  801.500000  804.059998     0.017991\n",
            "2016-10-31  822.429993  822.630005  808.000000  809.900024     0.007263\n",
            "2016-11-30  789.099976  791.510010  773.150024  775.880005    -0.042005\n",
            "2016-12-31  803.210022  803.289978  789.619995  792.450012     0.021356\n",
            "2016-10-31  822.429993  822.630005  808.000000  809.900024          NaN\n",
            "2016-11-30  789.099976  791.510010  773.150024  775.880005          NaN\n",
            "2016-12-31  803.210022  803.289978  789.619995  792.450012          NaN\n",
            "2017-01-31  819.500000  823.070007  813.400024  820.190002          NaN\n",
            "2017-02-28  847.349976  848.830017  841.440002  844.929993          NaN\n",
            "2017-03-31  846.830017  849.559998  845.239990  847.799988          NaN\n",
            "2017-04-30  929.000000  935.900024  923.219971  924.520020          NaN\n"
          ]
        }
      ]
    },
    {
      "cell_type": "markdown",
      "metadata": {
        "id": "zXT6cMquSq_P"
      },
      "source": [
        "'Append' is essentially to concat two DataFrames by axis = 0, thus here is an alternative way to append:"
      ]
    },
    {
      "cell_type": "code",
      "metadata": {
        "id": "2EuSaFO9HW-D",
        "colab": {
          "base_uri": "https://localhost:8080/"
        },
        "outputId": "05ce15f4-8749-4cd5-a869-c45e5e72747f"
      },
      "source": [
        "concat = pd.concat([aapl_bar, df_2017], axis = 0)\n",
        "print(concat)"
      ],
      "execution_count": 231,
      "outputs": [
        {
          "output_type": "stream",
          "name": "stdout",
          "text": [
            "                 Open       High        Low      Close  rate_return\n",
            "Date                                                               \n",
            "2016-01-31  21.852384  22.440247  21.750948  22.440247          NaN\n",
            "2016-02-29  22.450759  22.768306  22.402084  22.411356    -0.001287\n",
            "2016-03-31  25.431518  25.473240  25.236817  25.262314     0.127210\n",
            "2016-04-30  21.785529  21.954734  21.442488  21.727583    -0.139921\n",
            "2016-05-31  23.226409  23.412967  23.044516  23.287041     0.071773\n",
            "2016-06-30  22.023112  22.333262  21.990464  22.293619    -0.042660\n",
            "2016-07-31  24.296780  24.380731  24.177849  24.301443     0.090063\n",
            "2016-08-31  24.773058  24.986415  24.768367  24.876219     0.023652\n",
            "2016-09-30  26.367386  26.580745  26.212643  26.505718     0.065504\n",
            "2016-10-31  26.646389  26.782376  26.540880  26.620598     0.004334\n",
            "2016-11-30  26.300090  26.441488  25.986656  26.045572    -0.021601\n",
            "2016-12-31  27.490195  27.619809  27.202685  27.294594     0.047955\n",
            "2016-10-31  26.646389  26.782376  26.540880  26.620598          NaN\n",
            "2016-11-30  26.300090  26.441488  25.986656  26.045572          NaN\n",
            "2016-12-31  27.490195  27.619809  27.202685  27.294594          NaN\n",
            "2017-01-31  28.550679  28.607238  28.425777  28.597811          NaN\n",
            "2017-02-28  32.444862  32.530069  32.354920  32.423561          NaN\n",
            "2017-03-31  34.016463  34.146641  33.848414  34.002262          NaN\n",
            "2017-04-30  34.104032  34.153737  33.909951  33.999889          NaN\n"
          ]
        }
      ]
    },
    {
      "cell_type": "code",
      "metadata": {
        "colab": {
          "base_uri": "https://localhost:8080/"
        },
        "id": "hkBxCjnHmHqj",
        "outputId": "5105c51d-0456-4b33-d806-9636596b7bbb"
      },
      "source": [
        "# my example\n",
        "alphabet_concat = pd.concat([alphabet_bar, alphabet_df_2017], axis = 0)\n",
        "print(alphabet_concat)"
      ],
      "execution_count": 232,
      "outputs": [
        {
          "output_type": "stream",
          "name": "stdout",
          "text": [
            "                  Open        High         Low       Close  rate_return\n",
            "Date                                                                   \n",
            "2016-01-31  748.960022  765.109985  744.200012  761.349976          NaN\n",
            "2016-02-29  721.000000  730.599976  716.840027  717.219971    -0.057963\n",
            "2016-03-31  768.340027  769.080017  758.250000  762.900024     0.063690\n",
            "2016-04-30  704.119995  712.109985  703.780029  707.880005    -0.072120\n",
            "2016-05-31  748.760010  753.479980  745.570007  748.849976     0.057877\n",
            "2016-06-30  697.650024  703.770020  694.900024  703.530029    -0.060519\n",
            "2016-07-31  797.710022  803.940002  790.000000  791.340027     0.124813\n",
            "2016-08-31  789.599976  791.570007  787.200012  789.849976    -0.001883\n",
            "2016-09-30  803.599976  808.090027  801.500000  804.059998     0.017991\n",
            "2016-10-31  822.429993  822.630005  808.000000  809.900024     0.007263\n",
            "2016-11-30  789.099976  791.510010  773.150024  775.880005    -0.042005\n",
            "2016-12-31  803.210022  803.289978  789.619995  792.450012     0.021356\n",
            "2016-10-31  822.429993  822.630005  808.000000  809.900024          NaN\n",
            "2016-11-30  789.099976  791.510010  773.150024  775.880005          NaN\n",
            "2016-12-31  803.210022  803.289978  789.619995  792.450012          NaN\n",
            "2017-01-31  819.500000  823.070007  813.400024  820.190002          NaN\n",
            "2017-02-28  847.349976  848.830017  841.440002  844.929993          NaN\n",
            "2017-03-31  846.830017  849.559998  845.239990  847.799988          NaN\n",
            "2017-04-30  929.000000  935.900024  923.219971  924.520020          NaN\n"
          ]
        }
      ]
    },
    {
      "cell_type": "markdown",
      "metadata": {
        "id": "-YXL7V9ASst9"
      },
      "source": [
        "Please note that if the two DataFrame have some columns with the same column names, these columns are considered to be the same and will be merged. It's very important to have the right column names. If we change a column names here:"
      ]
    },
    {
      "cell_type": "code",
      "metadata": {
        "id": "aT1eoa8mHW-D",
        "colab": {
          "base_uri": "https://localhost:8080/"
        },
        "outputId": "740d5923-1b81-455c-d5bd-de1e57a06ec8"
      },
      "source": [
        "df_2017.columns = ['Change', 'High','Low','Close']\n",
        "concat = pd.concat([aapl_bar, df_2017], axis = 0)\n",
        "print(concat)"
      ],
      "execution_count": 233,
      "outputs": [
        {
          "output_type": "stream",
          "name": "stdout",
          "text": [
            "                 Open       High        Low      Close  rate_return     Change\n",
            "Date                                                                          \n",
            "2016-01-31  21.852384  22.440247  21.750948  22.440247          NaN        NaN\n",
            "2016-02-29  22.450759  22.768306  22.402084  22.411356    -0.001287        NaN\n",
            "2016-03-31  25.431518  25.473240  25.236817  25.262314     0.127210        NaN\n",
            "2016-04-30  21.785529  21.954734  21.442488  21.727583    -0.139921        NaN\n",
            "2016-05-31  23.226409  23.412967  23.044516  23.287041     0.071773        NaN\n",
            "2016-06-30  22.023112  22.333262  21.990464  22.293619    -0.042660        NaN\n",
            "2016-07-31  24.296780  24.380731  24.177849  24.301443     0.090063        NaN\n",
            "2016-08-31  24.773058  24.986415  24.768367  24.876219     0.023652        NaN\n",
            "2016-09-30  26.367386  26.580745  26.212643  26.505718     0.065504        NaN\n",
            "2016-10-31  26.646389  26.782376  26.540880  26.620598     0.004334        NaN\n",
            "2016-11-30  26.300090  26.441488  25.986656  26.045572    -0.021601        NaN\n",
            "2016-12-31  27.490195  27.619809  27.202685  27.294594     0.047955        NaN\n",
            "2016-10-31        NaN  26.782376  26.540880  26.620598          NaN  26.646389\n",
            "2016-11-30        NaN  26.441488  25.986656  26.045572          NaN  26.300090\n",
            "2016-12-31        NaN  27.619809  27.202685  27.294594          NaN  27.490195\n",
            "2017-01-31        NaN  28.607238  28.425777  28.597811          NaN  28.550679\n",
            "2017-02-28        NaN  32.530069  32.354920  32.423561          NaN  32.444862\n",
            "2017-03-31        NaN  34.146641  33.848414  34.002262          NaN  34.016463\n",
            "2017-04-30        NaN  34.153737  33.909951  33.999889          NaN  34.104032\n"
          ]
        }
      ]
    },
    {
      "cell_type": "code",
      "metadata": {
        "colab": {
          "base_uri": "https://localhost:8080/"
        },
        "id": "7YDUL6srmXKz",
        "outputId": "844a99b8-333b-4891-ca99-a6a3ddab1b47"
      },
      "source": [
        "# my example\n",
        "alphabet_df_2017.columns = ['Change', 'High','Low','Close']\n",
        "alphabet_concat = pd.concat([alphabet_bar, alphabet_df_2017], axis = 0)\n",
        "print(alphabet_concat)"
      ],
      "execution_count": 234,
      "outputs": [
        {
          "output_type": "stream",
          "name": "stdout",
          "text": [
            "                  Open        High  ...  rate_return      Change\n",
            "Date                                ...                         \n",
            "2016-01-31  748.960022  765.109985  ...          NaN         NaN\n",
            "2016-02-29  721.000000  730.599976  ...    -0.057963         NaN\n",
            "2016-03-31  768.340027  769.080017  ...     0.063690         NaN\n",
            "2016-04-30  704.119995  712.109985  ...    -0.072120         NaN\n",
            "2016-05-31  748.760010  753.479980  ...     0.057877         NaN\n",
            "2016-06-30  697.650024  703.770020  ...    -0.060519         NaN\n",
            "2016-07-31  797.710022  803.940002  ...     0.124813         NaN\n",
            "2016-08-31  789.599976  791.570007  ...    -0.001883         NaN\n",
            "2016-09-30  803.599976  808.090027  ...     0.017991         NaN\n",
            "2016-10-31  822.429993  822.630005  ...     0.007263         NaN\n",
            "2016-11-30  789.099976  791.510010  ...    -0.042005         NaN\n",
            "2016-12-31  803.210022  803.289978  ...     0.021356         NaN\n",
            "2016-10-31         NaN  822.630005  ...          NaN  822.429993\n",
            "2016-11-30         NaN  791.510010  ...          NaN  789.099976\n",
            "2016-12-31         NaN  803.289978  ...          NaN  803.210022\n",
            "2017-01-31         NaN  823.070007  ...          NaN  819.500000\n",
            "2017-02-28         NaN  848.830017  ...          NaN  847.349976\n",
            "2017-03-31         NaN  849.559998  ...          NaN  846.830017\n",
            "2017-04-30         NaN  935.900024  ...          NaN  929.000000\n",
            "\n",
            "[19 rows x 6 columns]\n"
          ]
        }
      ]
    },
    {
      "cell_type": "markdown",
      "metadata": {
        "id": "shbpOFyyS6uV"
      },
      "source": [
        "Since the column name of 'Open' has been changed, the new DataFrame has an new column named 'Change'.\n",
        "\n",
        "# Summary\n",
        "\n",
        "Hereby we introduced the most import part of python: resampling and DataFrame manipulation. We only introduced the most commonly used method in Financial data analysis. There are also many methods used in data mining, which are also beneficial. You can always check the [Pandas](https://pandas.pydata.org/pandas-docs/stable/index.html) official documentations for help."
      ]
    }
  ]
}